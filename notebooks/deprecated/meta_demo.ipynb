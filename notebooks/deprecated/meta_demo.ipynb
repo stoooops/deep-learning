{
 "cells": [
  {
   "cell_type": "code",
   "execution_count": 1,
   "metadata": {
    "pycharm": {
     "is_executing": false
    }
   },
   "outputs": [
    {
     "data": {
      "text/html": [
       "<style>.container { width:100% !important; }</style>"
      ],
      "text/plain": [
       "<IPython.core.display.HTML object>"
      ]
     },
     "metadata": {},
     "output_type": "display_data"
    },
    {
     "name": "stderr",
     "output_type": "stream",
     "text": [
      "/home/cory/.pyenv/versions/dl-venv/lib/python3.6/site-packages/tensorflow/python/framework/dtypes.py:516: FutureWarning: Passing (type, 1) or '1type' as a synonym of type is deprecated; in a future version of numpy, it will be understood as (type, (1,)) / '(1,)type'.\n",
      "  _np_qint8 = np.dtype([(\"qint8\", np.int8, 1)])\n",
      "/home/cory/.pyenv/versions/dl-venv/lib/python3.6/site-packages/tensorflow/python/framework/dtypes.py:517: FutureWarning: Passing (type, 1) or '1type' as a synonym of type is deprecated; in a future version of numpy, it will be understood as (type, (1,)) / '(1,)type'.\n",
      "  _np_quint8 = np.dtype([(\"quint8\", np.uint8, 1)])\n",
      "/home/cory/.pyenv/versions/dl-venv/lib/python3.6/site-packages/tensorflow/python/framework/dtypes.py:518: FutureWarning: Passing (type, 1) or '1type' as a synonym of type is deprecated; in a future version of numpy, it will be understood as (type, (1,)) / '(1,)type'.\n",
      "  _np_qint16 = np.dtype([(\"qint16\", np.int16, 1)])\n",
      "/home/cory/.pyenv/versions/dl-venv/lib/python3.6/site-packages/tensorflow/python/framework/dtypes.py:519: FutureWarning: Passing (type, 1) or '1type' as a synonym of type is deprecated; in a future version of numpy, it will be understood as (type, (1,)) / '(1,)type'.\n",
      "  _np_quint16 = np.dtype([(\"quint16\", np.uint16, 1)])\n",
      "/home/cory/.pyenv/versions/dl-venv/lib/python3.6/site-packages/tensorflow/python/framework/dtypes.py:520: FutureWarning: Passing (type, 1) or '1type' as a synonym of type is deprecated; in a future version of numpy, it will be understood as (type, (1,)) / '(1,)type'.\n",
      "  _np_qint32 = np.dtype([(\"qint32\", np.int32, 1)])\n",
      "/home/cory/.pyenv/versions/dl-venv/lib/python3.6/site-packages/tensorflow/python/framework/dtypes.py:525: FutureWarning: Passing (type, 1) or '1type' as a synonym of type is deprecated; in a future version of numpy, it will be understood as (type, (1,)) / '(1,)type'.\n",
      "  np_resource = np.dtype([(\"resource\", np.ubyte, 1)])\n"
     ]
    },
    {
     "name": "stdout",
     "output_type": "stream",
     "text": [
      "tensorflow-1.14.0\n"
     ]
    },
    {
     "name": "stderr",
     "output_type": "stream",
     "text": [
      "/home/cory/.pyenv/versions/dl-venv/lib/python3.6/site-packages/tensorboard/compat/tensorflow_stub/dtypes.py:541: FutureWarning: Passing (type, 1) or '1type' as a synonym of type is deprecated; in a future version of numpy, it will be understood as (type, (1,)) / '(1,)type'.\n",
      "  _np_qint8 = np.dtype([(\"qint8\", np.int8, 1)])\n",
      "/home/cory/.pyenv/versions/dl-venv/lib/python3.6/site-packages/tensorboard/compat/tensorflow_stub/dtypes.py:542: FutureWarning: Passing (type, 1) or '1type' as a synonym of type is deprecated; in a future version of numpy, it will be understood as (type, (1,)) / '(1,)type'.\n",
      "  _np_quint8 = np.dtype([(\"quint8\", np.uint8, 1)])\n",
      "/home/cory/.pyenv/versions/dl-venv/lib/python3.6/site-packages/tensorboard/compat/tensorflow_stub/dtypes.py:543: FutureWarning: Passing (type, 1) or '1type' as a synonym of type is deprecated; in a future version of numpy, it will be understood as (type, (1,)) / '(1,)type'.\n",
      "  _np_qint16 = np.dtype([(\"qint16\", np.int16, 1)])\n",
      "/home/cory/.pyenv/versions/dl-venv/lib/python3.6/site-packages/tensorboard/compat/tensorflow_stub/dtypes.py:544: FutureWarning: Passing (type, 1) or '1type' as a synonym of type is deprecated; in a future version of numpy, it will be understood as (type, (1,)) / '(1,)type'.\n",
      "  _np_quint16 = np.dtype([(\"quint16\", np.uint16, 1)])\n",
      "/home/cory/.pyenv/versions/dl-venv/lib/python3.6/site-packages/tensorboard/compat/tensorflow_stub/dtypes.py:545: FutureWarning: Passing (type, 1) or '1type' as a synonym of type is deprecated; in a future version of numpy, it will be understood as (type, (1,)) / '(1,)type'.\n",
      "  _np_qint32 = np.dtype([(\"qint32\", np.int32, 1)])\n",
      "/home/cory/.pyenv/versions/dl-venv/lib/python3.6/site-packages/tensorboard/compat/tensorflow_stub/dtypes.py:550: FutureWarning: Passing (type, 1) or '1type' as a synonym of type is deprecated; in a future version of numpy, it will be understood as (type, (1,)) / '(1,)type'.\n",
      "  np_resource = np.dtype([(\"resource\", np.ubyte, 1)])\n"
     ]
    }
   ],
   "source": [
    "from IPython.core.display import display, HTML\n",
    "display(HTML(\"<style>.container { width:100% !important; }</style>\"))\n",
    "\n",
    "import sys\n",
    "sys.path.append('..')\n",
    "\n",
    "import tensorflow as tf\n",
    "\n",
    "from src.data.cifar100 import CIFAR_100_CLASSES, CIFAR_100_INPUT_SHAPE, load_cifar100_data\n",
    "from src.meta.tensor_apis import TensorApi\n",
    "from src.meta.meta import MetaModel, MetaModelFactory\n",
    "from src.utils.debug_utils import print_list\n",
    "from src.utils.logger import HuliLogging\n",
    "\n",
    "print(tf.__name__, '-', tf.__version__, sep='')"
   ]
  },
  {
   "cell_type": "code",
   "execution_count": 2,
   "metadata": {
    "pycharm": {
     "is_executing": false
    }
   },
   "outputs": [],
   "source": [
    "logger = HuliLogging.get_logger(__name__)\n",
    "HuliLogging.attach_stdout()"
   ]
  },
  {
   "cell_type": "markdown",
   "metadata": {},
   "source": [
    "# Load data"
   ]
  },
  {
   "cell_type": "code",
   "execution_count": 3,
   "metadata": {},
   "outputs": [],
   "source": [
    "%%bash\n",
    "\n",
    "#rm -rf ../models/*\n",
    "#find ../models"
   ]
  },
  {
   "cell_type": "code",
   "execution_count": 4,
   "metadata": {
    "pycharm": {
     "is_executing": false
    }
   },
   "outputs": [],
   "source": [
    "_NAME = 'basic'\n",
    "_EPOCH = 0\n",
    "_ADDITIONAL_EPOCHS = 1\n",
    "_INPUT_SHAPE = CIFAR_100_INPUT_SHAPE\n",
    "_OUTPUT_LEN = len(CIFAR_100_CLASSES)\n",
    "_DO_FIT = True"
   ]
  },
  {
   "cell_type": "code",
   "execution_count": 5,
   "metadata": {
    "pycharm": {
     "is_executing": false
    }
   },
   "outputs": [],
   "source": [
    "(train_images, train_labels), (test_images, test_labels) = load_cifar100_data()"
   ]
  },
  {
   "cell_type": "markdown",
   "metadata": {},
   "source": [
    "# Init as `KERAS` mode"
   ]
  },
  {
   "cell_type": "code",
   "execution_count": 6,
   "metadata": {
    "pycharm": {
     "is_executing": false
    }
   },
   "outputs": [
    {
     "name": "stdout",
     "output_type": "stream",
     "text": [
      "2019-08-09 00:14:54,880 DEBUG [src.meta.meta:165] (MainThread) [basic|0|NONE] Clearing keras session...\n",
      "2019-08-09 00:14:54,892 DEBUG [src.meta.meta:177] (MainThread) [basic|0|NONE] Initializing keras model from factory function...\n"
     ]
    },
    {
     "name": "stderr",
     "output_type": "stream",
     "text": [
      "WARNING: Logging before flag parsing goes to stderr.\n",
      "W0809 00:14:54.902738 139927073476736 deprecation.py:506] From /home/cory/.pyenv/versions/dl-venv/lib/python3.6/site-packages/tensorflow/python/ops/init_ops.py:1251: calling VarianceScaling.__init__ (from tensorflow.python.ops.init_ops) with dtype is deprecated and will be removed in a future version.\n",
      "Instructions for updating:\n",
      "Call initializer instance with the dtype argument instead of passing it to the constructor\n"
     ]
    },
    {
     "name": "stdout",
     "output_type": "stream",
     "text": [
      "2019-08-09 00:14:54,925 DEBUG [src.meta.meta:186] (MainThread) [basic|0|NONE] Skipping loading weights since epoch is 0\n",
      "2019-08-09 00:14:54,926 DEBUG [src.meta.keras:40] (MainThread) [basic|0|KERAS] Setting metadata input names to ['basic0:0']\n",
      "2019-08-09 00:14:54,929 DEBUG [src.meta.keras:48] (MainThread) [basic|0|KERAS] Setting metadata out names to ['basic2/Softmax:0']\n",
      "2019-08-09 00:14:54,931 DEBUG [src.meta.meta:191] (MainThread) [basic|0|NONE] Attaching keras delegate...\n",
      "2019-08-09 00:14:54,937 DEBUG [src.utils.cuda_utils:4] (MainThread) [basic|0|KERAS] Found 1 CUDA device.\n",
      "2019-08-09 00:14:54,938 DEBUG [src.utils.cuda_utils:4] (MainThread) [basic|0|KERAS] [GPU:0] Name: GeForce GTX 750 Ti\n",
      "2019-08-09 00:14:54,938 DEBUG [src.utils.cuda_utils:4] (MainThread) [basic|0|KERAS] [GPU:0] Compute Capability: 5.0\n",
      "2019-08-09 00:14:54,939 DEBUG [src.utils.cuda_utils:4] (MainThread) [basic|0|KERAS] [GPU:0] Multiprocessors: 5\n",
      "2019-08-09 00:14:54,939 DEBUG [src.utils.cuda_utils:4] (MainThread) [basic|0|KERAS] [GPU:0] CUDA Cores: 960\n",
      "2019-08-09 00:14:54,940 DEBUG [src.utils.cuda_utils:4] (MainThread) [basic|0|KERAS] [GPU:0] Concurrent threads: 10240\n",
      "2019-08-09 00:14:54,940 DEBUG [src.utils.cuda_utils:4] (MainThread) [basic|0|KERAS] [GPU:0] GPU clock: 1254.5 MHz\n",
      "2019-08-09 00:14:54,941 DEBUG [src.utils.cuda_utils:4] (MainThread) [basic|0|KERAS] [GPU:0] Memory clock: 2700 MHz\n",
      "2019-08-09 00:14:54,979 DEBUG [src.utils.cuda_utils:4] (MainThread) [basic|0|KERAS] [GPU:0] Total Memory: 1999 MiB\n",
      "2019-08-09 00:14:54,982 DEBUG [src.utils.cuda_utils:4] (MainThread) [basic|0|KERAS] [GPU:0] Free Memory: 1067 MiB\n",
      "2019-08-09 00:14:54,998 DEBUG [src.meta.meta:125] (MainThread) [basic|0|KERAS] mode = KERAS\n",
      "2019-08-09 00:14:54,999 DEBUG [src.meta.metadata:31] (MainThread) [basic|0|KERAS] epoch = 0\n",
      "2019-08-09 00:14:54,999 DEBUG [src.meta.metadata:32] (MainThread) [basic|0|KERAS] inputs = ['basic0:0']\n",
      "2019-08-09 00:14:55,000 DEBUG [src.meta.metadata:33] (MainThread) [basic|0|KERAS] outputs = ['basic2/Softmax:0']\n",
      "2019-08-09 00:14:55,000 DEBUG [src.meta.keras:4] (MainThread) [basic|0|KERAS] Model: \"basic\"\n",
      "2019-08-09 00:14:55,001 DEBUG [src.meta.keras:4] (MainThread) [basic|0|KERAS] _________________________________________________________________\n",
      "2019-08-09 00:14:55,001 DEBUG [src.meta.keras:4] (MainThread) [basic|0|KERAS] Layer (type)                 Output Shape              Param #   \n",
      "2019-08-09 00:14:55,002 DEBUG [src.meta.keras:4] (MainThread) [basic|0|KERAS] =================================================================\n",
      "2019-08-09 00:14:55,002 DEBUG [src.meta.keras:4] (MainThread) [basic|0|KERAS] basic0 (InputLayer)          [(None, 32, 32, 3)]       0         \n",
      "2019-08-09 00:14:55,002 DEBUG [src.meta.keras:4] (MainThread) [basic|0|KERAS] _________________________________________________________________\n",
      "2019-08-09 00:14:55,003 DEBUG [src.meta.keras:4] (MainThread) [basic|0|KERAS] basic1 (Flatten)             (None, 3072)              0         \n",
      "2019-08-09 00:14:55,004 DEBUG [src.meta.keras:4] (MainThread) [basic|0|KERAS] _________________________________________________________________\n",
      "2019-08-09 00:14:55,004 DEBUG [src.meta.keras:4] (MainThread) [basic|0|KERAS] basic2 (Dense)               (None, 100)               307300    \n",
      "2019-08-09 00:14:55,005 DEBUG [src.meta.keras:4] (MainThread) [basic|0|KERAS] =================================================================\n",
      "2019-08-09 00:14:55,005 DEBUG [src.meta.keras:4] (MainThread) [basic|0|KERAS] Total params: 307,300\n",
      "2019-08-09 00:14:55,006 DEBUG [src.meta.keras:4] (MainThread) [basic|0|KERAS] Trainable params: 307,300\n",
      "2019-08-09 00:14:55,008 DEBUG [src.meta.keras:4] (MainThread) [basic|0|KERAS] Non-trainable params: 0\n",
      "2019-08-09 00:14:55,010 DEBUG [src.meta.keras:4] (MainThread) [basic|0|KERAS] _________________________________________________________________\n",
      "2019-08-09 00:14:55,011 DEBUG [src.meta.keras:182] (MainThread) [basic|0|KERAS] Input tensor: Tensor(\"basic0:0\", shape=(?, 32, 32, 3), dtype=float32)\n",
      "2019-08-09 00:14:55,011 DEBUG [src.meta.keras:185] (MainThread) [basic|0|KERAS] Input tensor name: basic0\n",
      "2019-08-09 00:14:55,012 DEBUG [src.meta.keras:188] (MainThread) [basic|0|KERAS] Output tensor: Tensor(\"basic2/Softmax:0\", shape=(?, 100), dtype=float32)\n",
      "2019-08-09 00:14:55,014 DEBUG [src.meta.keras:191] (MainThread) [basic|0|KERAS] Output tensor name: basic2/Softmax\n"
     ]
    },
    {
     "data": {
      "text/plain": [
       "0"
      ]
     },
     "execution_count": 6,
     "metadata": {},
     "output_type": "execute_result"
    }
   ],
   "source": [
    "from src.models import factory\n",
    "\n",
    "f_keras_model_init = factory.get_model_create_func(_NAME, _INPUT_SHAPE, _OUTPUT_LEN)\n",
    "\n",
    "ret, m = MetaModelFactory.from_weights_h5(_NAME, _EPOCH, f_keras_model_init)\n",
    "m.dump()"
   ]
  },
  {
   "cell_type": "code",
   "execution_count": 7,
   "metadata": {
    "pycharm": {
     "is_executing": false
    }
   },
   "outputs": [
    {
     "data": {
      "text/plain": [
       "0"
      ]
     },
     "execution_count": 7,
     "metadata": {},
     "output_type": "execute_result"
    }
   ],
   "source": [
    "m.compile(optimizer='adam', loss='sparse_categorical_crossentropy', metrics=['accuracy'])"
   ]
  },
  {
   "cell_type": "code",
   "execution_count": 8,
   "metadata": {
    "pycharm": {
     "is_executing": false
    }
   },
   "outputs": [
    {
     "data": {
      "text/plain": [
       "0"
      ]
     },
     "execution_count": 8,
     "metadata": {},
     "output_type": "execute_result"
    }
   ],
   "source": [
    "m.metadata.epoch"
   ]
  },
  {
   "cell_type": "code",
   "execution_count": 9,
   "metadata": {
    "pycharm": {
     "is_executing": false
    }
   },
   "outputs": [
    {
     "data": {
      "text/plain": [
       "<TensorApi.KERAS: 'keras'>"
      ]
     },
     "execution_count": 9,
     "metadata": {},
     "output_type": "execute_result"
    }
   ],
   "source": [
    "m.mode"
   ]
  },
  {
   "cell_type": "code",
   "execution_count": 10,
   "metadata": {
    "pycharm": {
     "is_executing": false
    },
    "scrolled": false
   },
   "outputs": [
    {
     "name": "stdout",
     "output_type": "stream",
     "text": [
      "2019-08-09 00:14:55,067 DEBUG [src.meta.meta:69] (MainThread) [basic|0|KERAS] Assuming initial_epoch = 0\n",
      "2019-08-09 00:14:55,068 DEBUG [src.meta.keras:82] (MainThread) [basic|0|KERAS] keras tensorboard callback attached. Visualize by running: \n",
      "2019-08-09 00:14:55,069 DEBUG [src.meta.keras:83] (MainThread) [basic|0|KERAS] > tensorboard --logdir=/home/cory/dev/deep-learning/tmp/tensorboard/20190809-001454_basic\n",
      "2019-08-09 00:14:55,069 DEBUG [src.meta.keras:85] (MainThread) [basic|0|KERAS] keras checkpoint callback attached. Logging to /home/cory/dev/deep-learning/models/basic_{epoch:03d}/basic_{epoch:03d}_checkpoint.h5...\n",
      "2019-08-09 00:14:55,070 INFO  [src.meta.keras:92] (MainThread) [basic|0|KERAS] Creating /home/cory/dev/deep-learning/models/basic_001 (if not already exists)...\n",
      "50000/50000 [==============================] - 3s 60us/sample - loss: 4.4629 - acc: 0.0875\n",
      "2019-08-09 00:14:59,059 DEBUG [src.meta.metadata:27] (MainThread) basic Updating epoch to 1\n"
     ]
    }
   ],
   "source": [
    "if _DO_FIT:\n",
    "    m.fit(train_images, train_labels, epochs=m.metadata.epoch+_ADDITIONAL_EPOCHS)"
   ]
  },
  {
   "cell_type": "code",
   "execution_count": 11,
   "metadata": {
    "pycharm": {
     "is_executing": false
    }
   },
   "outputs": [
    {
     "data": {
      "text/plain": [
       "1"
      ]
     },
     "execution_count": 11,
     "metadata": {},
     "output_type": "execute_result"
    }
   ],
   "source": [
    "m.metadata.epoch"
   ]
  },
  {
   "cell_type": "code",
   "execution_count": 12,
   "metadata": {
    "pycharm": {
     "is_executing": false
    }
   },
   "outputs": [
    {
     "name": "stdout",
     "output_type": "stream",
     "text": [
      "10000/10000 [==============================] - 0s 41us/sample - loss: 4.5387 - acc: 0.0856\n"
     ]
    },
    {
     "data": {
      "text/plain": [
       "(0, [4.538670175933838, 0.0856])"
      ]
     },
     "execution_count": 12,
     "metadata": {},
     "output_type": "execute_result"
    }
   ],
   "source": [
    "m.evaluate(test_images, test_labels)"
   ]
  },
  {
   "cell_type": "code",
   "execution_count": 13,
   "metadata": {
    "pycharm": {
     "is_executing": false
    }
   },
   "outputs": [
    {
     "data": {
      "text/plain": [
       "(0, array([[0.00016293, 0.00070773, 0.0015419 , ..., 0.00029382, 0.00766165,\n",
       "         0.0024273 ],\n",
       "        [0.00138702, 0.00431005, 0.00356867, ..., 0.01096891, 0.01475123,\n",
       "         0.00629726],\n",
       "        [0.00274011, 0.00696408, 0.00198719, ..., 0.00276971, 0.0221224 ,\n",
       "         0.00136906],\n",
       "        ...,\n",
       "        [0.00163624, 0.012209  , 0.00098052, ..., 0.00183567, 0.00820851,\n",
       "         0.00764611],\n",
       "        [0.00727301, 0.00277662, 0.00893436, ..., 0.01431665, 0.03149232,\n",
       "         0.00950685],\n",
       "        [0.03632563, 0.01098239, 0.00873381, ..., 0.00198324, 0.08398718,\n",
       "         0.00058285]], dtype=float32))"
      ]
     },
     "execution_count": 13,
     "metadata": {},
     "output_type": "execute_result"
    }
   ],
   "source": [
    "m.predict(test_images)"
   ]
  },
  {
   "cell_type": "code",
   "execution_count": 14,
   "metadata": {
    "pycharm": {
     "is_executing": false
    }
   },
   "outputs": [
    {
     "name": "stdout",
     "output_type": "stream",
     "text": [
      "2019-08-09 00:14:59,759 DEBUG [src.meta.meta:98] (MainThread) [basic|1|KERAS] Saving keras model to /home/cory/dev/deep-learning/models/basic_001/basic_001.h5...\n",
      "2019-08-09 00:14:59,784 DEBUG [src.meta.meta:106] (MainThread) [basic|1|KERAS] Saving keras model weights to /home/cory/dev/deep-learning/models/basic_001/basic_001_weights.h5...\n",
      "2019-08-09 00:14:59,790 DEBUG [src.meta.meta:114] (MainThread) [basic|1|KERAS] Saving keras model without optimizer to /home/cory/dev/deep-learning/models/basic_001/basic_001_no_optimizer.h5...\n"
     ]
    },
    {
     "data": {
      "text/plain": [
       "0"
      ]
     },
     "execution_count": 14,
     "metadata": {},
     "output_type": "execute_result"
    }
   ],
   "source": [
    "m.save()"
   ]
  },
  {
   "cell_type": "code",
   "execution_count": 15,
   "metadata": {
    "pycharm": {
     "is_executing": false
    }
   },
   "outputs": [
    {
     "name": "stdout",
     "output_type": "stream",
     "text": [
      "2019-08-09 00:14:59,815 DEBUG [src.utils.cuda_utils:4] (MainThread) [basic|1|KERAS] Found 1 CUDA device.\n",
      "2019-08-09 00:14:59,816 DEBUG [src.utils.cuda_utils:4] (MainThread) [basic|1|KERAS] [GPU:0] Name: GeForce GTX 750 Ti\n",
      "2019-08-09 00:14:59,816 DEBUG [src.utils.cuda_utils:4] (MainThread) [basic|1|KERAS] [GPU:0] Compute Capability: 5.0\n",
      "2019-08-09 00:14:59,817 DEBUG [src.utils.cuda_utils:4] (MainThread) [basic|1|KERAS] [GPU:0] Multiprocessors: 5\n",
      "2019-08-09 00:14:59,817 DEBUG [src.utils.cuda_utils:4] (MainThread) [basic|1|KERAS] [GPU:0] CUDA Cores: 960\n",
      "2019-08-09 00:14:59,817 DEBUG [src.utils.cuda_utils:4] (MainThread) [basic|1|KERAS] [GPU:0] Concurrent threads: 10240\n",
      "2019-08-09 00:14:59,818 DEBUG [src.utils.cuda_utils:4] (MainThread) [basic|1|KERAS] [GPU:0] GPU clock: 1254.5 MHz\n",
      "2019-08-09 00:14:59,819 DEBUG [src.utils.cuda_utils:4] (MainThread) [basic|1|KERAS] [GPU:0] Memory clock: 2700 MHz\n",
      "2019-08-09 00:14:59,868 ERROR [src.utils.cuda_utils:4] (MainThread) [basic|1|KERAS] [GPU:0] cuCtxCreate failed with error code 1: invalid argument\n",
      "2019-08-09 00:14:59,869 DEBUG [src.meta.meta:125] (MainThread) [basic|1|KERAS] mode = KERAS\n",
      "2019-08-09 00:14:59,872 DEBUG [src.meta.metadata:31] (MainThread) [basic|1|KERAS] epoch = 1\n",
      "2019-08-09 00:14:59,873 DEBUG [src.meta.metadata:32] (MainThread) [basic|1|KERAS] inputs = ['basic0:0']\n",
      "2019-08-09 00:14:59,873 DEBUG [src.meta.metadata:33] (MainThread) [basic|1|KERAS] outputs = ['basic2/Softmax:0']\n",
      "2019-08-09 00:14:59,876 DEBUG [src.meta.keras:4] (MainThread) [basic|1|KERAS] Model: \"basic\"\n",
      "2019-08-09 00:14:59,876 DEBUG [src.meta.keras:4] (MainThread) [basic|1|KERAS] _________________________________________________________________\n",
      "2019-08-09 00:14:59,876 DEBUG [src.meta.keras:4] (MainThread) [basic|1|KERAS] Layer (type)                 Output Shape              Param #   \n",
      "2019-08-09 00:14:59,877 DEBUG [src.meta.keras:4] (MainThread) [basic|1|KERAS] =================================================================\n",
      "2019-08-09 00:14:59,878 DEBUG [src.meta.keras:4] (MainThread) [basic|1|KERAS] basic0 (InputLayer)          [(None, 32, 32, 3)]       0         \n",
      "2019-08-09 00:14:59,878 DEBUG [src.meta.keras:4] (MainThread) [basic|1|KERAS] _________________________________________________________________\n",
      "2019-08-09 00:14:59,878 DEBUG [src.meta.keras:4] (MainThread) [basic|1|KERAS] basic1 (Flatten)             (None, 3072)              0         \n",
      "2019-08-09 00:14:59,879 DEBUG [src.meta.keras:4] (MainThread) [basic|1|KERAS] _________________________________________________________________\n",
      "2019-08-09 00:14:59,879 DEBUG [src.meta.keras:4] (MainThread) [basic|1|KERAS] basic2 (Dense)               (None, 100)               307300    \n",
      "2019-08-09 00:14:59,879 DEBUG [src.meta.keras:4] (MainThread) [basic|1|KERAS] =================================================================\n",
      "2019-08-09 00:14:59,880 DEBUG [src.meta.keras:4] (MainThread) [basic|1|KERAS] Total params: 307,300\n",
      "2019-08-09 00:14:59,880 DEBUG [src.meta.keras:4] (MainThread) [basic|1|KERAS] Trainable params: 307,300\n",
      "2019-08-09 00:14:59,880 DEBUG [src.meta.keras:4] (MainThread) [basic|1|KERAS] Non-trainable params: 0\n",
      "2019-08-09 00:14:59,881 DEBUG [src.meta.keras:4] (MainThread) [basic|1|KERAS] _________________________________________________________________\n",
      "2019-08-09 00:14:59,881 DEBUG [src.meta.keras:182] (MainThread) [basic|1|KERAS] Input tensor: Tensor(\"basic0:0\", shape=(?, 32, 32, 3), dtype=float32)\n",
      "2019-08-09 00:14:59,881 DEBUG [src.meta.keras:185] (MainThread) [basic|1|KERAS] Input tensor name: basic0\n",
      "2019-08-09 00:14:59,882 DEBUG [src.meta.keras:188] (MainThread) [basic|1|KERAS] Output tensor: Tensor(\"basic2/Softmax:0\", shape=(?, 100), dtype=float32)\n",
      "2019-08-09 00:14:59,886 DEBUG [src.meta.keras:191] (MainThread) [basic|1|KERAS] Output tensor name: basic2/Softmax\n"
     ]
    },
    {
     "data": {
      "text/plain": [
       "0"
      ]
     },
     "execution_count": 15,
     "metadata": {},
     "output_type": "execute_result"
    }
   ],
   "source": [
    "m.dump()"
   ]
  },
  {
   "cell_type": "code",
   "execution_count": 16,
   "metadata": {},
   "outputs": [
    {
     "data": {
      "text/plain": [
       "[<tf.Tensor 'basic0:0' shape=(?, 32, 32, 3) dtype=float32>]"
      ]
     },
     "execution_count": 16,
     "metadata": {},
     "output_type": "execute_result"
    }
   ],
   "source": [
    "m.delegate.keras_model.inputs"
   ]
  },
  {
   "cell_type": "code",
   "execution_count": 17,
   "metadata": {
    "pycharm": {
     "is_executing": false
    }
   },
   "outputs": [
    {
     "name": "stdout",
     "output_type": "stream",
     "text": [
      "2019-08-09 00:14:59,899 DEBUG [src.meta.meta:249] (MainThread) [basic|1|KERAS] Saving mode TF_LITE via mode KERAS...\n"
     ]
    },
    {
     "name": "stderr",
     "output_type": "stream",
     "text": [
      "W0809 00:14:59.899917 139927073476736 deprecation_wrapper.py:119] From ../src/meta/meta.py:329: The name tf.keras.backend.get_session is deprecated. Please use tf.compat.v1.keras.backend.get_session instead.\n",
      "\n",
      "W0809 00:14:59.922835 139927073476736 deprecation.py:323] From /home/cory/.pyenv/versions/dl-venv/lib/python3.6/site-packages/tensorflow/lite/python/util.py:238: convert_variables_to_constants (from tensorflow.python.framework.graph_util_impl) is deprecated and will be removed in a future version.\n",
      "Instructions for updating:\n",
      "Use `tf.compat.v1.graph_util.convert_variables_to_constants`\n",
      "W0809 00:14:59.923518 139927073476736 deprecation.py:323] From /home/cory/.pyenv/versions/dl-venv/lib/python3.6/site-packages/tensorflow/python/framework/graph_util_impl.py:270: extract_sub_graph (from tensorflow.python.framework.graph_util_impl) is deprecated and will be removed in a future version.\n",
      "Instructions for updating:\n",
      "Use `tf.compat.v1.graph_util.extract_sub_graph`\n"
     ]
    },
    {
     "name": "stdout",
     "output_type": "stream",
     "text": [
      "2019-08-09 00:14:59,928 INFO  [src.meta.meta:349] (MainThread) [basic|1|KERAS] Converting to tflite INT8 model...\n",
      "2019-08-09 00:15:01,102 INFO  [src.meta.meta:352] (MainThread) [basic|1|KERAS] Saving tflite model to /home/cory/dev/deep-learning/models/basic_001/basic_001_int8.tflite...\n"
     ]
    },
    {
     "data": {
      "text/plain": [
       "0"
      ]
     },
     "execution_count": 17,
     "metadata": {},
     "output_type": "execute_result"
    }
   ],
   "source": [
    "m.save_to(TensorApi.TF_LITE, representative_data=train_images)"
   ]
  },
  {
   "cell_type": "code",
   "execution_count": 18,
   "metadata": {
    "pycharm": {
     "is_executing": false
    }
   },
   "outputs": [
    {
     "name": "stdout",
     "output_type": "stream",
     "text": [
      "2019-08-09 00:15:01,108 DEBUG [src.meta.meta:98] (MainThread) [basic|1|KERAS] Saving keras model to /home/cory/dev/deep-learning/models/basic_001/basic_001.h5...\n",
      "2019-08-09 00:15:01,135 DEBUG [src.meta.meta:106] (MainThread) [basic|1|KERAS] Saving keras model weights to /home/cory/dev/deep-learning/models/basic_001/basic_001_weights.h5...\n",
      "2019-08-09 00:15:01,147 DEBUG [src.meta.meta:114] (MainThread) [basic|1|KERAS] Saving keras model without optimizer to /home/cory/dev/deep-learning/models/basic_001/basic_001_no_optimizer.h5...\n"
     ]
    },
    {
     "data": {
      "text/plain": [
       "0"
      ]
     },
     "execution_count": 18,
     "metadata": {},
     "output_type": "execute_result"
    }
   ],
   "source": [
    "m.save()"
   ]
  },
  {
   "cell_type": "code",
   "execution_count": 19,
   "metadata": {},
   "outputs": [
    {
     "name": "stdout",
     "output_type": "stream",
     "text": [
      "2019-08-09 00:15:01,174 DEBUG [src.utils.cuda_utils:4] (MainThread) [basic|1|KERAS] Found 1 CUDA device.\n",
      "2019-08-09 00:15:01,175 DEBUG [src.utils.cuda_utils:4] (MainThread) [basic|1|KERAS] [GPU:0] Name: GeForce GTX 750 Ti\n",
      "2019-08-09 00:15:01,175 DEBUG [src.utils.cuda_utils:4] (MainThread) [basic|1|KERAS] [GPU:0] Compute Capability: 5.0\n",
      "2019-08-09 00:15:01,176 DEBUG [src.utils.cuda_utils:4] (MainThread) [basic|1|KERAS] [GPU:0] Multiprocessors: 5\n",
      "2019-08-09 00:15:01,176 DEBUG [src.utils.cuda_utils:4] (MainThread) [basic|1|KERAS] [GPU:0] CUDA Cores: 960\n",
      "2019-08-09 00:15:01,176 DEBUG [src.utils.cuda_utils:4] (MainThread) [basic|1|KERAS] [GPU:0] Concurrent threads: 10240\n",
      "2019-08-09 00:15:01,177 DEBUG [src.utils.cuda_utils:4] (MainThread) [basic|1|KERAS] [GPU:0] GPU clock: 1254.5 MHz\n",
      "2019-08-09 00:15:01,178 DEBUG [src.utils.cuda_utils:4] (MainThread) [basic|1|KERAS] [GPU:0] Memory clock: 2700 MHz\n",
      "2019-08-09 00:15:01,228 ERROR [src.utils.cuda_utils:4] (MainThread) [basic|1|KERAS] [GPU:0] cuCtxCreate failed with error code 1: invalid argument\n",
      "2019-08-09 00:15:01,229 DEBUG [src.meta.meta:125] (MainThread) [basic|1|KERAS] mode = KERAS\n",
      "2019-08-09 00:15:01,229 DEBUG [src.meta.metadata:31] (MainThread) [basic|1|KERAS] epoch = 1\n",
      "2019-08-09 00:15:01,230 DEBUG [src.meta.metadata:32] (MainThread) [basic|1|KERAS] inputs = ['basic0:0']\n",
      "2019-08-09 00:15:01,231 DEBUG [src.meta.metadata:33] (MainThread) [basic|1|KERAS] outputs = ['basic2/Softmax:0']\n",
      "2019-08-09 00:15:01,231 DEBUG [src.meta.keras:4] (MainThread) [basic|1|KERAS] Model: \"basic\"\n",
      "2019-08-09 00:15:01,231 DEBUG [src.meta.keras:4] (MainThread) [basic|1|KERAS] _________________________________________________________________\n",
      "2019-08-09 00:15:01,232 DEBUG [src.meta.keras:4] (MainThread) [basic|1|KERAS] Layer (type)                 Output Shape              Param #   \n",
      "2019-08-09 00:15:01,232 DEBUG [src.meta.keras:4] (MainThread) [basic|1|KERAS] =================================================================\n",
      "2019-08-09 00:15:01,232 DEBUG [src.meta.keras:4] (MainThread) [basic|1|KERAS] basic0 (InputLayer)          [(None, 32, 32, 3)]       0         \n",
      "2019-08-09 00:15:01,233 DEBUG [src.meta.keras:4] (MainThread) [basic|1|KERAS] _________________________________________________________________\n",
      "2019-08-09 00:15:01,233 DEBUG [src.meta.keras:4] (MainThread) [basic|1|KERAS] basic1 (Flatten)             (None, 3072)              0         \n",
      "2019-08-09 00:15:01,233 DEBUG [src.meta.keras:4] (MainThread) [basic|1|KERAS] _________________________________________________________________\n",
      "2019-08-09 00:15:01,233 DEBUG [src.meta.keras:4] (MainThread) [basic|1|KERAS] basic2 (Dense)               (None, 100)               307300    \n",
      "2019-08-09 00:15:01,234 DEBUG [src.meta.keras:4] (MainThread) [basic|1|KERAS] =================================================================\n",
      "2019-08-09 00:15:01,234 DEBUG [src.meta.keras:4] (MainThread) [basic|1|KERAS] Total params: 307,300\n",
      "2019-08-09 00:15:01,234 DEBUG [src.meta.keras:4] (MainThread) [basic|1|KERAS] Trainable params: 307,300\n",
      "2019-08-09 00:15:01,235 DEBUG [src.meta.keras:4] (MainThread) [basic|1|KERAS] Non-trainable params: 0\n",
      "2019-08-09 00:15:01,235 DEBUG [src.meta.keras:4] (MainThread) [basic|1|KERAS] _________________________________________________________________\n",
      "2019-08-09 00:15:01,235 DEBUG [src.meta.keras:182] (MainThread) [basic|1|KERAS] Input tensor: Tensor(\"basic0:0\", shape=(1, 32, 32, 3), dtype=float32)\n",
      "2019-08-09 00:15:01,236 DEBUG [src.meta.keras:185] (MainThread) [basic|1|KERAS] Input tensor name: basic0\n",
      "2019-08-09 00:15:01,236 DEBUG [src.meta.keras:188] (MainThread) [basic|1|KERAS] Output tensor: Tensor(\"basic2/Softmax:0\", shape=(?, 100), dtype=float32)\n",
      "2019-08-09 00:15:01,237 DEBUG [src.meta.keras:191] (MainThread) [basic|1|KERAS] Output tensor name: basic2/Softmax\n"
     ]
    },
    {
     "data": {
      "text/plain": [
       "0"
      ]
     },
     "execution_count": 19,
     "metadata": {},
     "output_type": "execute_result"
    }
   ],
   "source": [
    "m.dump()"
   ]
  },
  {
   "cell_type": "code",
   "execution_count": 20,
   "metadata": {},
   "outputs": [
    {
     "name": "stdout",
     "output_type": "stream",
     "text": [
      "['basic0:0']\n",
      "['basic0:0']\n",
      "2019-08-09 00:15:01,242 DEBUG [src.utils.cuda_utils:4] (MainThread) [basic|1|KERAS] Found 1 CUDA device.\n",
      "2019-08-09 00:15:01,243 DEBUG [src.utils.cuda_utils:4] (MainThread) [basic|1|KERAS] [GPU:0] Name: GeForce GTX 750 Ti\n",
      "2019-08-09 00:15:01,244 DEBUG [src.utils.cuda_utils:4] (MainThread) [basic|1|KERAS] [GPU:0] Compute Capability: 5.0\n",
      "2019-08-09 00:15:01,245 DEBUG [src.utils.cuda_utils:4] (MainThread) [basic|1|KERAS] [GPU:0] Multiprocessors: 5\n",
      "2019-08-09 00:15:01,245 DEBUG [src.utils.cuda_utils:4] (MainThread) [basic|1|KERAS] [GPU:0] CUDA Cores: 960\n",
      "2019-08-09 00:15:01,246 DEBUG [src.utils.cuda_utils:4] (MainThread) [basic|1|KERAS] [GPU:0] Concurrent threads: 10240\n",
      "2019-08-09 00:15:01,246 DEBUG [src.utils.cuda_utils:4] (MainThread) [basic|1|KERAS] [GPU:0] GPU clock: 1254.5 MHz\n",
      "2019-08-09 00:15:01,247 DEBUG [src.utils.cuda_utils:4] (MainThread) [basic|1|KERAS] [GPU:0] Memory clock: 2700 MHz\n",
      "2019-08-09 00:15:01,296 ERROR [src.utils.cuda_utils:4] (MainThread) [basic|1|KERAS] [GPU:0] cuCtxCreate failed with error code 1: invalid argument\n",
      "2019-08-09 00:15:01,297 DEBUG [src.meta.meta:125] (MainThread) [basic|1|KERAS] mode = KERAS\n",
      "2019-08-09 00:15:01,297 DEBUG [src.meta.metadata:31] (MainThread) [basic|1|KERAS] epoch = 1\n",
      "2019-08-09 00:15:01,297 DEBUG [src.meta.metadata:32] (MainThread) [basic|1|KERAS] inputs = ['basic0:0']\n",
      "2019-08-09 00:15:01,298 DEBUG [src.meta.metadata:33] (MainThread) [basic|1|KERAS] outputs = ['basic2/Softmax:0']\n",
      "2019-08-09 00:15:01,298 DEBUG [src.meta.keras:4] (MainThread) [basic|1|KERAS] Model: \"basic\"\n",
      "2019-08-09 00:15:01,298 DEBUG [src.meta.keras:4] (MainThread) [basic|1|KERAS] _________________________________________________________________\n",
      "2019-08-09 00:15:01,299 DEBUG [src.meta.keras:4] (MainThread) [basic|1|KERAS] Layer (type)                 Output Shape              Param #   \n",
      "2019-08-09 00:15:01,299 DEBUG [src.meta.keras:4] (MainThread) [basic|1|KERAS] =================================================================\n",
      "2019-08-09 00:15:01,299 DEBUG [src.meta.keras:4] (MainThread) [basic|1|KERAS] basic0 (InputLayer)          [(None, 32, 32, 3)]       0         \n",
      "2019-08-09 00:15:01,300 DEBUG [src.meta.keras:4] (MainThread) [basic|1|KERAS] _________________________________________________________________\n",
      "2019-08-09 00:15:01,300 DEBUG [src.meta.keras:4] (MainThread) [basic|1|KERAS] basic1 (Flatten)             (None, 3072)              0         \n",
      "2019-08-09 00:15:01,301 DEBUG [src.meta.keras:4] (MainThread) [basic|1|KERAS] _________________________________________________________________\n",
      "2019-08-09 00:15:01,301 DEBUG [src.meta.keras:4] (MainThread) [basic|1|KERAS] basic2 (Dense)               (None, 100)               307300    \n",
      "2019-08-09 00:15:01,302 DEBUG [src.meta.keras:4] (MainThread) [basic|1|KERAS] =================================================================\n",
      "2019-08-09 00:15:01,302 DEBUG [src.meta.keras:4] (MainThread) [basic|1|KERAS] Total params: 307,300\n",
      "2019-08-09 00:15:01,302 DEBUG [src.meta.keras:4] (MainThread) [basic|1|KERAS] Trainable params: 307,300\n",
      "2019-08-09 00:15:01,303 DEBUG [src.meta.keras:4] (MainThread) [basic|1|KERAS] Non-trainable params: 0\n",
      "2019-08-09 00:15:01,303 DEBUG [src.meta.keras:4] (MainThread) [basic|1|KERAS] _________________________________________________________________\n",
      "2019-08-09 00:15:01,303 DEBUG [src.meta.keras:182] (MainThread) [basic|1|KERAS] Input tensor: Tensor(\"basic0:0\", shape=(1, 32, 32, 3), dtype=float32)\n",
      "2019-08-09 00:15:01,304 DEBUG [src.meta.keras:185] (MainThread) [basic|1|KERAS] Input tensor name: basic0\n",
      "2019-08-09 00:15:01,305 DEBUG [src.meta.keras:188] (MainThread) [basic|1|KERAS] Output tensor: Tensor(\"basic2/Softmax:0\", shape=(?, 100), dtype=float32)\n",
      "2019-08-09 00:15:01,305 DEBUG [src.meta.keras:191] (MainThread) [basic|1|KERAS] Output tensor name: basic2/Softmax\n"
     ]
    },
    {
     "data": {
      "text/plain": [
       "0"
      ]
     },
     "execution_count": 20,
     "metadata": {},
     "output_type": "execute_result"
    }
   ],
   "source": [
    "print([op.name for op in m.delegate.keras_model.inputs])\n",
    "print(m.metadata.input_names)\n",
    "m.dump()"
   ]
  },
  {
   "cell_type": "code",
   "execution_count": 21,
   "metadata": {
    "pycharm": {
     "is_executing": false
    }
   },
   "outputs": [
    {
     "name": "stdout",
     "output_type": "stream",
     "text": [
      "2019-08-09 00:15:01,311 INFO  [src.meta.keras:266] (MainThread) [basic|1|KERAS] Bug Workaround: Restarting session...\n",
      "2019-08-09 00:15:01,312 DEBUG [src.meta.keras:217] (MainThread) [basic|1|KERAS] Saving h5 file so we can restart and reload session...\n",
      "2019-08-09 00:15:01,328 DEBUG [src.meta.keras:224] (MainThread) [basic|1|KERAS] Saving weights h5 file so we can restart and reload session...\n",
      "2019-08-09 00:15:01,340 WARN  [src.meta.keras:233] (MainThread) [basic|1|KERAS] Bug Workaround: Clearing session...\n",
      "2019-08-09 00:15:01,343 WARN  [src.meta.keras:238] (MainThread) [basic|1|KERAS] Bug Workaround: Setting learning phase to 0...\n",
      "2019-08-09 00:15:01,370 DEBUG [src.meta.keras:200] (MainThread) [basic|1|KERAS] Loading keras model weights from /home/cory/dev/deep-learning/models/basic_001/basic_001_weights.h5...\n",
      "2019-08-09 00:15:01,410 DEBUG [src.meta.keras:278] (MainThread) [basic|1|KERAS] Frozen graph has var names: ['basic2/kernel', 'basic2/bias']\n"
     ]
    },
    {
     "name": "stderr",
     "output_type": "stream",
     "text": [
      "W0809 00:15:01.411509 139927073476736 deprecation_wrapper.py:119] From ../src/meta/keras.py:281: The name tf.global_variables is deprecated. Please use tf.compat.v1.global_variables instead.\n",
      "\n"
     ]
    },
    {
     "name": "stdout",
     "output_type": "stream",
     "text": [
      "2019-08-09 00:15:01,412 DEBUG [src.meta.keras:282] (MainThread) [basic|1|KERAS] Frozen graph has output names: ['basic2/Softmax', 'basic2/kernel', 'basic2/bias']\n",
      "2019-08-09 00:15:01,418 DEBUG [src.meta.keras:296] (MainThread) [basic|1|KERAS] Saving frozen graph to /home/cory/dev/deep-learning/models/basic_001/basic_001.pb...\n",
      "2019-08-09 00:15:01,423 INFO  [src.meta.keras:306] (MainThread) [basic|1|KERAS] Bug Workaround: Restarting session...\n",
      "2019-08-09 00:15:01,423 DEBUG [src.meta.keras:217] (MainThread) [basic|1|KERAS] Saving h5 file so we can restart and reload session...\n",
      "2019-08-09 00:15:01,431 DEBUG [src.meta.keras:224] (MainThread) [basic|1|KERAS] Saving weights h5 file so we can restart and reload session...\n",
      "2019-08-09 00:15:01,443 WARN  [src.meta.keras:233] (MainThread) [basic|1|KERAS] Bug Workaround: Clearing session...\n",
      "2019-08-09 00:15:01,473 DEBUG [src.meta.keras:200] (MainThread) [basic|1|KERAS] Loading keras model weights from /home/cory/dev/deep-learning/models/basic_001/basic_001_weights.h5...\n"
     ]
    },
    {
     "data": {
      "text/plain": [
       "0"
      ]
     },
     "execution_count": 21,
     "metadata": {},
     "output_type": "execute_result"
    }
   ],
   "source": [
    "m.freeze_session()"
   ]
  },
  {
   "cell_type": "code",
   "execution_count": 22,
   "metadata": {
    "pycharm": {
     "is_executing": false
    }
   },
   "outputs": [
    {
     "name": "stdout",
     "output_type": "stream",
     "text": [
      "2019-08-09 00:15:01,509 DEBUG [src.meta.meta:98] (MainThread) [basic|1|KERAS] Saving keras model to /home/cory/dev/deep-learning/models/basic_001/basic_001.h5...\n",
      "2019-08-09 00:15:01,520 DEBUG [src.meta.meta:106] (MainThread) [basic|1|KERAS] Saving keras model weights to /home/cory/dev/deep-learning/models/basic_001/basic_001_weights.h5...\n",
      "2019-08-09 00:15:01,527 DEBUG [src.meta.meta:114] (MainThread) [basic|1|KERAS] Saving keras model without optimizer to /home/cory/dev/deep-learning/models/basic_001/basic_001_no_optimizer.h5...\n"
     ]
    },
    {
     "data": {
      "text/plain": [
       "0"
      ]
     },
     "execution_count": 22,
     "metadata": {},
     "output_type": "execute_result"
    }
   ],
   "source": [
    "m.save()"
   ]
  },
  {
   "cell_type": "code",
   "execution_count": 23,
   "metadata": {
    "pycharm": {
     "is_executing": false
    }
   },
   "outputs": [
    {
     "name": "stdout",
     "output_type": "stream",
     "text": [
      "2019-08-09 00:15:01,544 DEBUG [src.meta.meta:98] (MainThread) [basic|1|KERAS] Saving keras model to /home/cory/dev/deep-learning/models/basic_001/basic_001.h5...\n",
      "2019-08-09 00:15:01,559 DEBUG [src.meta.meta:106] (MainThread) [basic|1|KERAS] Saving keras model weights to /home/cory/dev/deep-learning/models/basic_001/basic_001_weights.h5...\n",
      "2019-08-09 00:15:01,567 DEBUG [src.meta.meta:114] (MainThread) [basic|1|KERAS] Saving keras model without optimizer to /home/cory/dev/deep-learning/models/basic_001/basic_001_no_optimizer.h5...\n",
      "2019-08-09 00:15:01,576 DEBUG [src.meta.meta:249] (MainThread) [basic|1|KERAS] Saving mode TENSORFLOW via mode KERAS...\n",
      "2019-08-09 00:15:01,577 INFO  [src.meta.keras:266] (MainThread) [basic|1|KERAS] Bug Workaround: Restarting session...\n",
      "2019-08-09 00:15:01,577 DEBUG [src.meta.keras:217] (MainThread) [basic|1|KERAS] Saving h5 file so we can restart and reload session...\n",
      "2019-08-09 00:15:01,583 DEBUG [src.meta.keras:224] (MainThread) [basic|1|KERAS] Saving weights h5 file so we can restart and reload session...\n",
      "2019-08-09 00:15:01,589 WARN  [src.meta.keras:233] (MainThread) [basic|1|KERAS] Bug Workaround: Clearing session...\n",
      "2019-08-09 00:15:01,592 WARN  [src.meta.keras:238] (MainThread) [basic|1|KERAS] Bug Workaround: Setting learning phase to 0...\n",
      "2019-08-09 00:15:01,616 DEBUG [src.meta.keras:200] (MainThread) [basic|1|KERAS] Loading keras model weights from /home/cory/dev/deep-learning/models/basic_001/basic_001_weights.h5...\n",
      "2019-08-09 00:15:01,647 DEBUG [src.meta.keras:278] (MainThread) [basic|1|KERAS] Frozen graph has var names: ['basic2/kernel', 'basic2/bias']\n",
      "2019-08-09 00:15:01,648 DEBUG [src.meta.keras:282] (MainThread) [basic|1|KERAS] Frozen graph has output names: ['basic2/Softmax', 'basic2/kernel', 'basic2/bias']\n",
      "2019-08-09 00:15:01,659 DEBUG [src.meta.keras:296] (MainThread) [basic|1|KERAS] Saving frozen graph to /home/cory/dev/deep-learning/models/basic_001/basic_001.pb...\n",
      "2019-08-09 00:15:01,664 INFO  [src.meta.keras:306] (MainThread) [basic|1|KERAS] Bug Workaround: Restarting session...\n",
      "2019-08-09 00:15:01,665 DEBUG [src.meta.keras:217] (MainThread) [basic|1|KERAS] Saving h5 file so we can restart and reload session...\n",
      "2019-08-09 00:15:01,677 DEBUG [src.meta.keras:224] (MainThread) [basic|1|KERAS] Saving weights h5 file so we can restart and reload session...\n",
      "2019-08-09 00:15:01,685 WARN  [src.meta.keras:233] (MainThread) [basic|1|KERAS] Bug Workaround: Clearing session...\n",
      "2019-08-09 00:15:01,716 DEBUG [src.meta.keras:200] (MainThread) [basic|1|KERAS] Loading keras model weights from /home/cory/dev/deep-learning/models/basic_001/basic_001_weights.h5...\n",
      "2019-08-09 00:15:01,750 DEBUG [src.meta.meta:249] (MainThread) [basic|1|KERAS] Saving mode TF_LITE via mode KERAS...\n",
      "2019-08-09 00:15:01,767 INFO  [src.meta.meta:349] (MainThread) [basic|1|KERAS] Converting to tflite INT8 model...\n",
      "2019-08-09 00:15:02,910 INFO  [src.meta.meta:352] (MainThread) [basic|1|KERAS] Saving tflite model to /home/cory/dev/deep-learning/models/basic_001/basic_001_int8.tflite...\n"
     ]
    },
    {
     "data": {
      "text/plain": [
       "0"
      ]
     },
     "execution_count": 23,
     "metadata": {},
     "output_type": "execute_result"
    }
   ],
   "source": [
    "m.save_all(representative_data=train_images)"
   ]
  },
  {
   "cell_type": "code",
   "execution_count": 24,
   "metadata": {},
   "outputs": [
    {
     "name": "stdout",
     "output_type": "stream",
     "text": [
      "['basic0:0']\n",
      "['basic0:0']\n",
      "2019-08-09 00:15:02,918 DEBUG [src.utils.cuda_utils:4] (MainThread) [basic|1|KERAS] Found 1 CUDA device.\n",
      "2019-08-09 00:15:02,920 DEBUG [src.utils.cuda_utils:4] (MainThread) [basic|1|KERAS] [GPU:0] Name: GeForce GTX 750 Ti\n",
      "2019-08-09 00:15:02,921 DEBUG [src.utils.cuda_utils:4] (MainThread) [basic|1|KERAS] [GPU:0] Compute Capability: 5.0\n",
      "2019-08-09 00:15:02,923 DEBUG [src.utils.cuda_utils:4] (MainThread) [basic|1|KERAS] [GPU:0] Multiprocessors: 5\n",
      "2019-08-09 00:15:02,923 DEBUG [src.utils.cuda_utils:4] (MainThread) [basic|1|KERAS] [GPU:0] CUDA Cores: 960\n",
      "2019-08-09 00:15:02,924 DEBUG [src.utils.cuda_utils:4] (MainThread) [basic|1|KERAS] [GPU:0] Concurrent threads: 10240\n",
      "2019-08-09 00:15:02,925 DEBUG [src.utils.cuda_utils:4] (MainThread) [basic|1|KERAS] [GPU:0] GPU clock: 1254.5 MHz\n",
      "2019-08-09 00:15:02,926 DEBUG [src.utils.cuda_utils:4] (MainThread) [basic|1|KERAS] [GPU:0] Memory clock: 2700 MHz\n",
      "2019-08-09 00:15:02,979 ERROR [src.utils.cuda_utils:4] (MainThread) [basic|1|KERAS] [GPU:0] cuCtxCreate failed with error code 1: invalid argument\n",
      "2019-08-09 00:15:02,980 DEBUG [src.meta.meta:125] (MainThread) [basic|1|KERAS] mode = KERAS\n",
      "2019-08-09 00:15:02,980 DEBUG [src.meta.metadata:31] (MainThread) [basic|1|KERAS] epoch = 1\n",
      "2019-08-09 00:15:02,981 DEBUG [src.meta.metadata:32] (MainThread) [basic|1|KERAS] inputs = ['basic0:0']\n",
      "2019-08-09 00:15:02,981 DEBUG [src.meta.metadata:33] (MainThread) [basic|1|KERAS] outputs = ['basic2/Softmax:0']\n",
      "2019-08-09 00:15:02,982 DEBUG [src.meta.keras:4] (MainThread) [basic|1|KERAS] Model: \"basic\"\n",
      "2019-08-09 00:15:02,982 DEBUG [src.meta.keras:4] (MainThread) [basic|1|KERAS] _________________________________________________________________\n",
      "2019-08-09 00:15:02,982 DEBUG [src.meta.keras:4] (MainThread) [basic|1|KERAS] Layer (type)                 Output Shape              Param #   \n",
      "2019-08-09 00:15:02,982 DEBUG [src.meta.keras:4] (MainThread) [basic|1|KERAS] =================================================================\n",
      "2019-08-09 00:15:02,983 DEBUG [src.meta.keras:4] (MainThread) [basic|1|KERAS] basic0 (InputLayer)          [(None, 32, 32, 3)]       0         \n",
      "2019-08-09 00:15:02,983 DEBUG [src.meta.keras:4] (MainThread) [basic|1|KERAS] _________________________________________________________________\n",
      "2019-08-09 00:15:02,983 DEBUG [src.meta.keras:4] (MainThread) [basic|1|KERAS] basic1 (Flatten)             (None, 3072)              0         \n",
      "2019-08-09 00:15:02,985 DEBUG [src.meta.keras:4] (MainThread) [basic|1|KERAS] _________________________________________________________________\n",
      "2019-08-09 00:15:02,985 DEBUG [src.meta.keras:4] (MainThread) [basic|1|KERAS] basic2 (Dense)               (None, 100)               307300    \n",
      "2019-08-09 00:15:02,985 DEBUG [src.meta.keras:4] (MainThread) [basic|1|KERAS] =================================================================\n",
      "2019-08-09 00:15:02,986 DEBUG [src.meta.keras:4] (MainThread) [basic|1|KERAS] Total params: 307,300\n",
      "2019-08-09 00:15:02,986 DEBUG [src.meta.keras:4] (MainThread) [basic|1|KERAS] Trainable params: 307,300\n",
      "2019-08-09 00:15:02,986 DEBUG [src.meta.keras:4] (MainThread) [basic|1|KERAS] Non-trainable params: 0\n",
      "2019-08-09 00:15:02,987 DEBUG [src.meta.keras:4] (MainThread) [basic|1|KERAS] _________________________________________________________________\n",
      "2019-08-09 00:15:02,987 DEBUG [src.meta.keras:182] (MainThread) [basic|1|KERAS] Input tensor: Tensor(\"basic0:0\", shape=(1, 32, 32, 3), dtype=float32)\n",
      "2019-08-09 00:15:02,988 DEBUG [src.meta.keras:185] (MainThread) [basic|1|KERAS] Input tensor name: basic0\n",
      "2019-08-09 00:15:02,988 DEBUG [src.meta.keras:188] (MainThread) [basic|1|KERAS] Output tensor: Tensor(\"basic2/Softmax:0\", shape=(?, 100), dtype=float32)\n",
      "2019-08-09 00:15:02,988 DEBUG [src.meta.keras:191] (MainThread) [basic|1|KERAS] Output tensor name: basic2/Softmax\n"
     ]
    },
    {
     "data": {
      "text/plain": [
       "0"
      ]
     },
     "execution_count": 24,
     "metadata": {},
     "output_type": "execute_result"
    }
   ],
   "source": [
    "print([op.name for op in m.delegate.keras_model.inputs])\n",
    "print(m.metadata.input_names)\n",
    "m.dump()"
   ]
  },
  {
   "cell_type": "markdown",
   "metadata": {},
   "source": [
    "# Convert to `TF_LITE` mode"
   ]
  },
  {
   "cell_type": "code",
   "execution_count": 25,
   "metadata": {
    "pycharm": {
     "is_executing": false
    }
   },
   "outputs": [
    {
     "name": "stdout",
     "output_type": "stream",
     "text": [
      "2019-08-09 00:15:02,993 DEBUG [src.meta.tflite:83] (MainThread) basic Loading tflite interpreter from /home/cory/dev/deep-learning/models/basic_001/basic_001_int8.tflite...\n"
     ]
    },
    {
     "data": {
      "text/plain": [
       "0"
      ]
     },
     "execution_count": 25,
     "metadata": {},
     "output_type": "execute_result"
    }
   ],
   "source": [
    "m.change_mode(TensorApi.TF_LITE)"
   ]
  },
  {
   "cell_type": "code",
   "execution_count": 26,
   "metadata": {
    "pycharm": {
     "is_executing": false
    }
   },
   "outputs": [
    {
     "data": {
      "text/plain": [
       "<TensorApi.TF_LITE: 'tf.lite'>"
      ]
     },
     "execution_count": 26,
     "metadata": {},
     "output_type": "execute_result"
    }
   ],
   "source": [
    "m.mode"
   ]
  },
  {
   "cell_type": "code",
   "execution_count": 27,
   "metadata": {
    "pycharm": {
     "is_executing": false
    }
   },
   "outputs": [
    {
     "name": "stdout",
     "output_type": "stream",
     "text": [
      "2019-08-09 00:15:03,011 DEBUG [src.utils.cuda_utils:4] (MainThread) [basic|1|TF_LITE] Found 1 CUDA device.\n",
      "2019-08-09 00:15:03,012 DEBUG [src.utils.cuda_utils:4] (MainThread) [basic|1|TF_LITE] [GPU:0] Name: GeForce GTX 750 Ti\n",
      "2019-08-09 00:15:03,013 DEBUG [src.utils.cuda_utils:4] (MainThread) [basic|1|TF_LITE] [GPU:0] Compute Capability: 5.0\n",
      "2019-08-09 00:15:03,013 DEBUG [src.utils.cuda_utils:4] (MainThread) [basic|1|TF_LITE] [GPU:0] Multiprocessors: 5\n",
      "2019-08-09 00:15:03,014 DEBUG [src.utils.cuda_utils:4] (MainThread) [basic|1|TF_LITE] [GPU:0] CUDA Cores: 960\n",
      "2019-08-09 00:15:03,014 DEBUG [src.utils.cuda_utils:4] (MainThread) [basic|1|TF_LITE] [GPU:0] Concurrent threads: 10240\n",
      "2019-08-09 00:15:03,015 DEBUG [src.utils.cuda_utils:4] (MainThread) [basic|1|TF_LITE] [GPU:0] GPU clock: 1254.5 MHz\n",
      "2019-08-09 00:15:03,016 DEBUG [src.utils.cuda_utils:4] (MainThread) [basic|1|TF_LITE] [GPU:0] Memory clock: 2700 MHz\n",
      "2019-08-09 00:15:03,065 ERROR [src.utils.cuda_utils:4] (MainThread) [basic|1|TF_LITE] [GPU:0] cuCtxCreate failed with error code 1: invalid argument\n",
      "2019-08-09 00:15:03,066 DEBUG [src.meta.meta:125] (MainThread) [basic|1|TF_LITE] mode = TF_LITE\n",
      "2019-08-09 00:15:03,066 DEBUG [src.meta.metadata:31] (MainThread) [basic|1|TF_LITE] epoch = 1\n",
      "2019-08-09 00:15:03,067 DEBUG [src.meta.metadata:32] (MainThread) [basic|1|TF_LITE] inputs = ['basic0:0']\n",
      "2019-08-09 00:15:03,067 DEBUG [src.meta.metadata:33] (MainThread) [basic|1|TF_LITE] outputs = ['basic2/Softmax:0']\n",
      "2019-08-09 00:15:03,068 DEBUG [src.meta.tflite:68] (MainThread) [basic|1|TF_LITE] Input mean, std, index: 0, 0.003921568859368563, 5\n",
      "2019-08-09 00:15:03,068 DEBUG [src.meta.tflite:73] (MainThread) [basic|1|TF_LITE] Output mean, std, index: 0, 0.00390625, 6\n"
     ]
    },
    {
     "data": {
      "text/plain": [
       "0"
      ]
     },
     "execution_count": 27,
     "metadata": {},
     "output_type": "execute_result"
    }
   ],
   "source": [
    "m.dump()"
   ]
  },
  {
   "cell_type": "code",
   "execution_count": 28,
   "metadata": {
    "pycharm": {
     "is_executing": false
    }
   },
   "outputs": [
    {
     "data": {
      "text/plain": [
       "(0, array([[[0.        , 0.        , 0.        , ..., 0.        ,\n",
       "          0.0078125 , 0.00390625]],\n",
       " \n",
       "        [[0.        , 0.00390625, 0.00390625, ..., 0.01171875,\n",
       "          0.015625  , 0.0078125 ]],\n",
       " \n",
       "        [[0.00390625, 0.0078125 , 0.00390625, ..., 0.00390625,\n",
       "          0.0234375 , 0.        ]],\n",
       " \n",
       "        ...,\n",
       " \n",
       "        [[0.        , 0.01171875, 0.        , ..., 0.        ,\n",
       "          0.0078125 , 0.0078125 ]],\n",
       " \n",
       "        [[0.0078125 , 0.00390625, 0.0078125 , ..., 0.015625  ,\n",
       "          0.03125   , 0.01171875]],\n",
       " \n",
       "        [[0.03515625, 0.01171875, 0.0078125 , ..., 0.00390625,\n",
       "          0.0859375 , 0.        ]]], dtype=float32))"
      ]
     },
     "execution_count": 28,
     "metadata": {},
     "output_type": "execute_result"
    }
   ],
   "source": [
    "m.predict(test_images)"
   ]
  },
  {
   "cell_type": "markdown",
   "metadata": {},
   "source": [
    "# Convert back to `KERAS` mode"
   ]
  },
  {
   "cell_type": "code",
   "execution_count": 29,
   "metadata": {
    "pycharm": {
     "is_executing": false
    }
   },
   "outputs": [
    {
     "name": "stdout",
     "output_type": "stream",
     "text": [
      "2019-08-09 00:15:04,989 DEBUG [src.meta.meta:165] (MainThread) [basic|1|NONE] Clearing keras session...\n",
      "2019-08-09 00:15:04,994 DEBUG [src.meta.meta:177] (MainThread) [basic|1|NONE] Initializing keras model from factory function...\n",
      "2019-08-09 00:15:05,028 DEBUG [src.meta.meta:183] (MainThread) [basic|1|NONE] Loading keras model weights from /home/cory/dev/deep-learning/models/basic_001/basic_001_weights.h5...\n",
      "2019-08-09 00:15:05,074 DEBUG [src.meta.keras:40] (MainThread) [basic|1|KERAS] Setting metadata input names to ['basic0:0']\n",
      "2019-08-09 00:15:05,075 DEBUG [src.meta.keras:48] (MainThread) [basic|1|KERAS] Setting metadata out names to ['basic2/Softmax:0']\n",
      "2019-08-09 00:15:05,076 DEBUG [src.meta.meta:191] (MainThread) [basic|1|NONE] Attaching keras delegate...\n"
     ]
    },
    {
     "data": {
      "text/plain": [
       "0"
      ]
     },
     "execution_count": 29,
     "metadata": {},
     "output_type": "execute_result"
    }
   ],
   "source": [
    "m.change_mode(TensorApi.KERAS)"
   ]
  },
  {
   "cell_type": "code",
   "execution_count": 30,
   "metadata": {},
   "outputs": [
    {
     "name": "stdout",
     "output_type": "stream",
     "text": [
      "['basic0:0']\n",
      "['basic0:0']\n",
      "2019-08-09 00:15:05,086 DEBUG [src.utils.cuda_utils:4] (MainThread) [basic|1|KERAS] Found 1 CUDA device.\n",
      "2019-08-09 00:15:05,087 DEBUG [src.utils.cuda_utils:4] (MainThread) [basic|1|KERAS] [GPU:0] Name: GeForce GTX 750 Ti\n",
      "2019-08-09 00:15:05,087 DEBUG [src.utils.cuda_utils:4] (MainThread) [basic|1|KERAS] [GPU:0] Compute Capability: 5.0\n",
      "2019-08-09 00:15:05,088 DEBUG [src.utils.cuda_utils:4] (MainThread) [basic|1|KERAS] [GPU:0] Multiprocessors: 5\n",
      "2019-08-09 00:15:05,088 DEBUG [src.utils.cuda_utils:4] (MainThread) [basic|1|KERAS] [GPU:0] CUDA Cores: 960\n",
      "2019-08-09 00:15:05,089 DEBUG [src.utils.cuda_utils:4] (MainThread) [basic|1|KERAS] [GPU:0] Concurrent threads: 10240\n",
      "2019-08-09 00:15:05,089 DEBUG [src.utils.cuda_utils:4] (MainThread) [basic|1|KERAS] [GPU:0] GPU clock: 1254.5 MHz\n",
      "2019-08-09 00:15:05,090 DEBUG [src.utils.cuda_utils:4] (MainThread) [basic|1|KERAS] [GPU:0] Memory clock: 2700 MHz\n",
      "2019-08-09 00:15:05,149 ERROR [src.utils.cuda_utils:4] (MainThread) [basic|1|KERAS] [GPU:0] cuCtxCreate failed with error code 1: invalid argument\n",
      "2019-08-09 00:15:05,150 DEBUG [src.meta.meta:125] (MainThread) [basic|1|KERAS] mode = KERAS\n",
      "2019-08-09 00:15:05,151 DEBUG [src.meta.metadata:31] (MainThread) [basic|1|KERAS] epoch = 1\n",
      "2019-08-09 00:15:05,151 DEBUG [src.meta.metadata:32] (MainThread) [basic|1|KERAS] inputs = ['basic0:0']\n",
      "2019-08-09 00:15:05,152 DEBUG [src.meta.metadata:33] (MainThread) [basic|1|KERAS] outputs = ['basic2/Softmax:0']\n",
      "2019-08-09 00:15:05,152 DEBUG [src.meta.keras:4] (MainThread) [basic|1|KERAS] Model: \"basic\"\n",
      "2019-08-09 00:15:05,153 DEBUG [src.meta.keras:4] (MainThread) [basic|1|KERAS] _________________________________________________________________\n",
      "2019-08-09 00:15:05,153 DEBUG [src.meta.keras:4] (MainThread) [basic|1|KERAS] Layer (type)                 Output Shape              Param #   \n",
      "2019-08-09 00:15:05,153 DEBUG [src.meta.keras:4] (MainThread) [basic|1|KERAS] =================================================================\n",
      "2019-08-09 00:15:05,154 DEBUG [src.meta.keras:4] (MainThread) [basic|1|KERAS] basic0 (InputLayer)          [(None, 32, 32, 3)]       0         \n",
      "2019-08-09 00:15:05,154 DEBUG [src.meta.keras:4] (MainThread) [basic|1|KERAS] _________________________________________________________________\n",
      "2019-08-09 00:15:05,154 DEBUG [src.meta.keras:4] (MainThread) [basic|1|KERAS] basic1 (Flatten)             (None, 3072)              0         \n",
      "2019-08-09 00:15:05,155 DEBUG [src.meta.keras:4] (MainThread) [basic|1|KERAS] _________________________________________________________________\n",
      "2019-08-09 00:15:05,155 DEBUG [src.meta.keras:4] (MainThread) [basic|1|KERAS] basic2 (Dense)               (None, 100)               307300    \n",
      "2019-08-09 00:15:05,157 DEBUG [src.meta.keras:4] (MainThread) [basic|1|KERAS] =================================================================\n",
      "2019-08-09 00:15:05,158 DEBUG [src.meta.keras:4] (MainThread) [basic|1|KERAS] Total params: 307,300\n",
      "2019-08-09 00:15:05,159 DEBUG [src.meta.keras:4] (MainThread) [basic|1|KERAS] Trainable params: 307,300\n",
      "2019-08-09 00:15:05,162 DEBUG [src.meta.keras:4] (MainThread) [basic|1|KERAS] Non-trainable params: 0\n",
      "2019-08-09 00:15:05,164 DEBUG [src.meta.keras:4] (MainThread) [basic|1|KERAS] _________________________________________________________________\n",
      "2019-08-09 00:15:05,164 DEBUG [src.meta.keras:182] (MainThread) [basic|1|KERAS] Input tensor: Tensor(\"basic0:0\", shape=(?, 32, 32, 3), dtype=float32)\n",
      "2019-08-09 00:15:05,165 DEBUG [src.meta.keras:185] (MainThread) [basic|1|KERAS] Input tensor name: basic0\n",
      "2019-08-09 00:15:05,166 DEBUG [src.meta.keras:188] (MainThread) [basic|1|KERAS] Output tensor: Tensor(\"basic2/Softmax:0\", shape=(?, 100), dtype=float32)\n",
      "2019-08-09 00:15:05,166 DEBUG [src.meta.keras:191] (MainThread) [basic|1|KERAS] Output tensor name: basic2/Softmax\n"
     ]
    },
    {
     "data": {
      "text/plain": [
       "0"
      ]
     },
     "execution_count": 30,
     "metadata": {},
     "output_type": "execute_result"
    }
   ],
   "source": [
    "print([op.name for op in m.delegate.keras_model.inputs])\n",
    "print(m.metadata.input_names)\n",
    "m.dump()"
   ]
  },
  {
   "cell_type": "code",
   "execution_count": 31,
   "metadata": {},
   "outputs": [
    {
     "data": {
      "text/plain": [
       "0"
      ]
     },
     "execution_count": 31,
     "metadata": {},
     "output_type": "execute_result"
    }
   ],
   "source": [
    "m.compile(optimizer='adam', loss='sparse_categorical_crossentropy', metrics=['accuracy'])"
   ]
  },
  {
   "cell_type": "code",
   "execution_count": 32,
   "metadata": {
    "pycharm": {
     "is_executing": false
    }
   },
   "outputs": [
    {
     "name": "stdout",
     "output_type": "stream",
     "text": [
      "2019-08-09 00:15:05,218 DEBUG [src.meta.meta:69] (MainThread) [basic|1|KERAS] Assuming initial_epoch = 1\n",
      "2019-08-09 00:15:05,219 DEBUG [src.meta.keras:82] (MainThread) [basic|1|KERAS] keras tensorboard callback attached. Visualize by running: \n",
      "2019-08-09 00:15:05,220 DEBUG [src.meta.keras:83] (MainThread) [basic|1|KERAS] > tensorboard --logdir=/home/cory/dev/deep-learning/tmp/tensorboard/20190809-001505_basic\n",
      "2019-08-09 00:15:05,220 DEBUG [src.meta.keras:85] (MainThread) [basic|1|KERAS] keras checkpoint callback attached. Logging to /home/cory/dev/deep-learning/models/basic_{epoch:03d}/basic_{epoch:03d}_checkpoint.h5...\n",
      "2019-08-09 00:15:05,221 INFO  [src.meta.keras:92] (MainThread) [basic|1|KERAS] Creating /home/cory/dev/deep-learning/models/basic_002 (if not already exists)...\n",
      "Epoch 2/2\n",
      "50000/50000 [==============================] - 3s 62us/sample - loss: 4.2188 - acc: 0.1274\n",
      "2019-08-09 00:15:08,439 DEBUG [src.meta.metadata:27] (MainThread) basic Updating epoch to 2\n"
     ]
    }
   ],
   "source": [
    "if _DO_FIT:\n",
    "    m.fit(train_images, train_labels, epochs=m.metadata.epoch + 1)"
   ]
  },
  {
   "cell_type": "code",
   "execution_count": 33,
   "metadata": {
    "pycharm": {
     "is_executing": false
    }
   },
   "outputs": [
    {
     "data": {
      "text/plain": [
       "2"
      ]
     },
     "execution_count": 33,
     "metadata": {},
     "output_type": "execute_result"
    }
   ],
   "source": [
    "m.metadata.epoch"
   ]
  },
  {
   "cell_type": "code",
   "execution_count": 34,
   "metadata": {
    "pycharm": {
     "is_executing": false
    }
   },
   "outputs": [
    {
     "name": "stdout",
     "output_type": "stream",
     "text": [
      "10000/10000 [==============================] - 0s 40us/sample - loss: 4.3388 - acc: 0.1182\n"
     ]
    },
    {
     "data": {
      "text/plain": [
       "(0, [4.338752352142334, 0.1182])"
      ]
     },
     "execution_count": 34,
     "metadata": {},
     "output_type": "execute_result"
    }
   ],
   "source": [
    "m.evaluate(test_images, test_labels)"
   ]
  },
  {
   "cell_type": "code",
   "execution_count": 35,
   "metadata": {
    "pycharm": {
     "is_executing": false
    }
   },
   "outputs": [
    {
     "data": {
      "text/plain": [
       "(0, array([[1.8532090e-06, 8.0942249e-07, 6.6690787e-05, ..., 3.0287259e-04,\n",
       "         2.6165450e-03, 1.4006285e-02],\n",
       "        [1.8085045e-04, 2.4790232e-04, 2.3348068e-03, ..., 1.3707530e-02,\n",
       "         7.5240526e-03, 2.3561250e-02],\n",
       "        [3.1084221e-04, 2.1818941e-04, 9.3504105e-04, ..., 2.6087691e-03,\n",
       "         1.7414201e-02, 3.9230841e-03],\n",
       "        ...,\n",
       "        [9.0782193e-04, 9.0989831e-04, 3.9666856e-04, ..., 4.8283124e-03,\n",
       "         3.8672481e-03, 3.1207088e-02],\n",
       "        [1.2410061e-03, 2.0972689e-04, 6.3584312e-03, ..., 1.3245582e-02,\n",
       "         1.0044586e-02, 3.4148537e-02],\n",
       "        [2.9858798e-03, 1.3546768e-03, 9.6797319e-03, ..., 4.7484273e-03,\n",
       "         4.1265037e-02, 1.3406161e-03]], dtype=float32))"
      ]
     },
     "execution_count": 35,
     "metadata": {},
     "output_type": "execute_result"
    }
   ],
   "source": [
    "m.predict(test_images)"
   ]
  },
  {
   "cell_type": "code",
   "execution_count": 36,
   "metadata": {
    "pycharm": {
     "is_executing": false
    }
   },
   "outputs": [
    {
     "name": "stdout",
     "output_type": "stream",
     "text": [
      "2019-08-09 00:15:09,119 DEBUG [src.meta.meta:98] (MainThread) [basic|2|KERAS] Saving keras model to /home/cory/dev/deep-learning/models/basic_002/basic_002.h5...\n",
      "2019-08-09 00:15:09,152 DEBUG [src.meta.meta:106] (MainThread) [basic|2|KERAS] Saving keras model weights to /home/cory/dev/deep-learning/models/basic_002/basic_002_weights.h5...\n",
      "2019-08-09 00:15:09,158 DEBUG [src.meta.meta:114] (MainThread) [basic|2|KERAS] Saving keras model without optimizer to /home/cory/dev/deep-learning/models/basic_002/basic_002_no_optimizer.h5...\n",
      "2019-08-09 00:15:09,179 DEBUG [src.meta.meta:249] (MainThread) [basic|2|KERAS] Saving mode TENSORFLOW via mode KERAS...\n",
      "2019-08-09 00:15:09,180 INFO  [src.meta.keras:266] (MainThread) [basic|2|KERAS] Bug Workaround: Restarting session...\n",
      "2019-08-09 00:15:09,181 DEBUG [src.meta.keras:217] (MainThread) [basic|2|KERAS] Saving h5 file so we can restart and reload session...\n",
      "2019-08-09 00:15:09,203 DEBUG [src.meta.keras:224] (MainThread) [basic|2|KERAS] Saving weights h5 file so we can restart and reload session...\n",
      "2019-08-09 00:15:09,212 WARN  [src.meta.keras:233] (MainThread) [basic|2|KERAS] Bug Workaround: Clearing session...\n",
      "2019-08-09 00:15:09,215 WARN  [src.meta.keras:238] (MainThread) [basic|2|KERAS] Bug Workaround: Setting learning phase to 0...\n",
      "2019-08-09 00:15:09,239 DEBUG [src.meta.keras:200] (MainThread) [basic|2|KERAS] Loading keras model weights from /home/cory/dev/deep-learning/models/basic_002/basic_002_weights.h5...\n",
      "2019-08-09 00:15:09,275 DEBUG [src.meta.keras:278] (MainThread) [basic|2|KERAS] Frozen graph has var names: ['basic2/kernel', 'basic2/bias']\n",
      "2019-08-09 00:15:09,276 DEBUG [src.meta.keras:282] (MainThread) [basic|2|KERAS] Frozen graph has output names: ['basic2/Softmax', 'basic2/kernel', 'basic2/bias']\n",
      "2019-08-09 00:15:09,283 DEBUG [src.meta.keras:296] (MainThread) [basic|2|KERAS] Saving frozen graph to /home/cory/dev/deep-learning/models/basic_002/basic_002.pb...\n",
      "2019-08-09 00:15:09,287 INFO  [src.meta.keras:306] (MainThread) [basic|2|KERAS] Bug Workaround: Restarting session...\n",
      "2019-08-09 00:15:09,291 DEBUG [src.meta.keras:217] (MainThread) [basic|2|KERAS] Saving h5 file so we can restart and reload session...\n",
      "2019-08-09 00:15:09,302 DEBUG [src.meta.keras:224] (MainThread) [basic|2|KERAS] Saving weights h5 file so we can restart and reload session...\n",
      "2019-08-09 00:15:09,309 WARN  [src.meta.keras:233] (MainThread) [basic|2|KERAS] Bug Workaround: Clearing session...\n",
      "2019-08-09 00:15:09,333 DEBUG [src.meta.keras:200] (MainThread) [basic|2|KERAS] Loading keras model weights from /home/cory/dev/deep-learning/models/basic_002/basic_002_weights.h5...\n",
      "2019-08-09 00:15:09,373 DEBUG [src.meta.meta:249] (MainThread) [basic|2|KERAS] Saving mode TF_LITE via mode KERAS...\n",
      "2019-08-09 00:15:09,395 INFO  [src.meta.meta:349] (MainThread) [basic|2|KERAS] Converting to tflite INT8 model...\n",
      "2019-08-09 00:15:10,737 INFO  [src.meta.meta:352] (MainThread) [basic|2|KERAS] Saving tflite model to /home/cory/dev/deep-learning/models/basic_002/basic_002_int8.tflite...\n"
     ]
    },
    {
     "data": {
      "text/plain": [
       "0"
      ]
     },
     "execution_count": 36,
     "metadata": {},
     "output_type": "execute_result"
    }
   ],
   "source": [
    "m.save_all(representative_data=train_images)"
   ]
  },
  {
   "cell_type": "code",
   "execution_count": 37,
   "metadata": {},
   "outputs": [
    {
     "name": "stdout",
     "output_type": "stream",
     "text": [
      "['basic0:0']\n",
      "['basic0:0']\n",
      "2019-08-09 00:15:10,744 DEBUG [src.utils.cuda_utils:4] (MainThread) [basic|2|KERAS] Found 1 CUDA device.\n",
      "2019-08-09 00:15:10,745 DEBUG [src.utils.cuda_utils:4] (MainThread) [basic|2|KERAS] [GPU:0] Name: GeForce GTX 750 Ti\n",
      "2019-08-09 00:15:10,745 DEBUG [src.utils.cuda_utils:4] (MainThread) [basic|2|KERAS] [GPU:0] Compute Capability: 5.0\n",
      "2019-08-09 00:15:10,746 DEBUG [src.utils.cuda_utils:4] (MainThread) [basic|2|KERAS] [GPU:0] Multiprocessors: 5\n",
      "2019-08-09 00:15:10,746 DEBUG [src.utils.cuda_utils:4] (MainThread) [basic|2|KERAS] [GPU:0] CUDA Cores: 960\n",
      "2019-08-09 00:15:10,747 DEBUG [src.utils.cuda_utils:4] (MainThread) [basic|2|KERAS] [GPU:0] Concurrent threads: 10240\n",
      "2019-08-09 00:15:10,747 DEBUG [src.utils.cuda_utils:4] (MainThread) [basic|2|KERAS] [GPU:0] GPU clock: 1254.5 MHz\n",
      "2019-08-09 00:15:10,748 DEBUG [src.utils.cuda_utils:4] (MainThread) [basic|2|KERAS] [GPU:0] Memory clock: 2700 MHz\n",
      "2019-08-09 00:15:10,799 ERROR [src.utils.cuda_utils:4] (MainThread) [basic|2|KERAS] [GPU:0] cuCtxCreate failed with error code 1: invalid argument\n",
      "2019-08-09 00:15:10,800 DEBUG [src.meta.meta:125] (MainThread) [basic|2|KERAS] mode = KERAS\n",
      "2019-08-09 00:15:10,800 DEBUG [src.meta.metadata:31] (MainThread) [basic|2|KERAS] epoch = 2\n",
      "2019-08-09 00:15:10,801 DEBUG [src.meta.metadata:32] (MainThread) [basic|2|KERAS] inputs = ['basic0:0']\n",
      "2019-08-09 00:15:10,801 DEBUG [src.meta.metadata:33] (MainThread) [basic|2|KERAS] outputs = ['basic2/Softmax:0']\n",
      "2019-08-09 00:15:10,801 DEBUG [src.meta.keras:4] (MainThread) [basic|2|KERAS] Model: \"basic\"\n",
      "2019-08-09 00:15:10,802 DEBUG [src.meta.keras:4] (MainThread) [basic|2|KERAS] _________________________________________________________________\n",
      "2019-08-09 00:15:10,802 DEBUG [src.meta.keras:4] (MainThread) [basic|2|KERAS] Layer (type)                 Output Shape              Param #   \n",
      "2019-08-09 00:15:10,803 DEBUG [src.meta.keras:4] (MainThread) [basic|2|KERAS] =================================================================\n",
      "2019-08-09 00:15:10,803 DEBUG [src.meta.keras:4] (MainThread) [basic|2|KERAS] basic0 (InputLayer)          [(None, 32, 32, 3)]       0         \n",
      "2019-08-09 00:15:10,803 DEBUG [src.meta.keras:4] (MainThread) [basic|2|KERAS] _________________________________________________________________\n",
      "2019-08-09 00:15:10,804 DEBUG [src.meta.keras:4] (MainThread) [basic|2|KERAS] basic1 (Flatten)             (None, 3072)              0         \n",
      "2019-08-09 00:15:10,804 DEBUG [src.meta.keras:4] (MainThread) [basic|2|KERAS] _________________________________________________________________\n",
      "2019-08-09 00:15:10,804 DEBUG [src.meta.keras:4] (MainThread) [basic|2|KERAS] basic2 (Dense)               (None, 100)               307300    \n",
      "2019-08-09 00:15:10,805 DEBUG [src.meta.keras:4] (MainThread) [basic|2|KERAS] =================================================================\n",
      "2019-08-09 00:15:10,805 DEBUG [src.meta.keras:4] (MainThread) [basic|2|KERAS] Total params: 307,300\n",
      "2019-08-09 00:15:10,806 DEBUG [src.meta.keras:4] (MainThread) [basic|2|KERAS] Trainable params: 307,300\n",
      "2019-08-09 00:15:10,806 DEBUG [src.meta.keras:4] (MainThread) [basic|2|KERAS] Non-trainable params: 0\n",
      "2019-08-09 00:15:10,806 DEBUG [src.meta.keras:4] (MainThread) [basic|2|KERAS] _________________________________________________________________\n",
      "2019-08-09 00:15:10,806 DEBUG [src.meta.keras:182] (MainThread) [basic|2|KERAS] Input tensor: Tensor(\"basic0:0\", shape=(1, 32, 32, 3), dtype=float32)\n",
      "2019-08-09 00:15:10,807 DEBUG [src.meta.keras:185] (MainThread) [basic|2|KERAS] Input tensor name: basic0\n",
      "2019-08-09 00:15:10,807 DEBUG [src.meta.keras:188] (MainThread) [basic|2|KERAS] Output tensor: Tensor(\"basic2/Softmax:0\", shape=(?, 100), dtype=float32)\n",
      "2019-08-09 00:15:10,807 DEBUG [src.meta.keras:191] (MainThread) [basic|2|KERAS] Output tensor name: basic2/Softmax\n"
     ]
    },
    {
     "data": {
      "text/plain": [
       "0"
      ]
     },
     "execution_count": 37,
     "metadata": {},
     "output_type": "execute_result"
    }
   ],
   "source": [
    "print([op.name for op in m.delegate.keras_model.inputs])\n",
    "print(m.metadata.input_names)\n",
    "m.dump()"
   ]
  },
  {
   "cell_type": "markdown",
   "metadata": {},
   "source": [
    "# Load `.tflite` from scratch"
   ]
  },
  {
   "cell_type": "code",
   "execution_count": 38,
   "metadata": {
    "pycharm": {
     "is_executing": true
    }
   },
   "outputs": [
    {
     "name": "stdout",
     "output_type": "stream",
     "text": [
      "2019-08-09 00:15:10,813 DEBUG [src.meta.tflite:83] (MainThread) basic Loading tflite interpreter from /home/cory/dev/deep-learning/models/basic_002/basic_002_int8.tflite...\n",
      "0 <src.meta.meta.MetaModel object at 0x7f421c4069b0>\n"
     ]
    }
   ],
   "source": [
    "ret, m2 = MetaModelFactory.from_tflite(_NAME, m.metadata.epoch)\n",
    "print(ret, m2)"
   ]
  },
  {
   "cell_type": "code",
   "execution_count": 39,
   "metadata": {
    "pycharm": {
     "is_executing": false
    }
   },
   "outputs": [
    {
     "data": {
      "text/plain": [
       "src.meta.meta.MetaModel"
      ]
     },
     "execution_count": 39,
     "metadata": {},
     "output_type": "execute_result"
    }
   ],
   "source": [
    "type(m2)"
   ]
  },
  {
   "cell_type": "code",
   "execution_count": 40,
   "metadata": {
    "pycharm": {
     "is_executing": false
    }
   },
   "outputs": [
    {
     "name": "stdout",
     "output_type": "stream",
     "text": [
      "2019-08-09 00:15:10,829 DEBUG [src.utils.cuda_utils:4] (MainThread) [basic|2|TF_LITE] Found 1 CUDA device.\n",
      "2019-08-09 00:15:10,831 DEBUG [src.utils.cuda_utils:4] (MainThread) [basic|2|TF_LITE] [GPU:0] Name: GeForce GTX 750 Ti\n",
      "2019-08-09 00:15:10,832 DEBUG [src.utils.cuda_utils:4] (MainThread) [basic|2|TF_LITE] [GPU:0] Compute Capability: 5.0\n",
      "2019-08-09 00:15:10,832 DEBUG [src.utils.cuda_utils:4] (MainThread) [basic|2|TF_LITE] [GPU:0] Multiprocessors: 5\n",
      "2019-08-09 00:15:10,832 DEBUG [src.utils.cuda_utils:4] (MainThread) [basic|2|TF_LITE] [GPU:0] CUDA Cores: 960\n",
      "2019-08-09 00:15:10,833 DEBUG [src.utils.cuda_utils:4] (MainThread) [basic|2|TF_LITE] [GPU:0] Concurrent threads: 10240\n",
      "2019-08-09 00:15:10,834 DEBUG [src.utils.cuda_utils:4] (MainThread) [basic|2|TF_LITE] [GPU:0] GPU clock: 1254.5 MHz\n",
      "2019-08-09 00:15:10,834 DEBUG [src.utils.cuda_utils:4] (MainThread) [basic|2|TF_LITE] [GPU:0] Memory clock: 2700 MHz\n",
      "2019-08-09 00:15:10,883 ERROR [src.utils.cuda_utils:4] (MainThread) [basic|2|TF_LITE] [GPU:0] cuCtxCreate failed with error code 1: invalid argument\n",
      "2019-08-09 00:15:10,884 DEBUG [src.meta.meta:125] (MainThread) [basic|2|TF_LITE] mode = TF_LITE\n",
      "2019-08-09 00:15:10,885 DEBUG [src.meta.metadata:31] (MainThread) [basic|2|TF_LITE] epoch = 2\n",
      "2019-08-09 00:15:10,885 DEBUG [src.meta.metadata:32] (MainThread) [basic|2|TF_LITE] inputs = None\n",
      "2019-08-09 00:15:10,886 DEBUG [src.meta.metadata:33] (MainThread) [basic|2|TF_LITE] outputs = None\n",
      "2019-08-09 00:15:10,886 DEBUG [src.meta.tflite:68] (MainThread) [basic|2|TF_LITE] Input mean, std, index: 0, 0.003921568859368563, 5\n",
      "2019-08-09 00:15:10,886 DEBUG [src.meta.tflite:73] (MainThread) [basic|2|TF_LITE] Output mean, std, index: 0, 0.00390625, 6\n"
     ]
    },
    {
     "data": {
      "text/plain": [
       "0"
      ]
     },
     "execution_count": 40,
     "metadata": {},
     "output_type": "execute_result"
    }
   ],
   "source": [
    "m2.dump()"
   ]
  },
  {
   "cell_type": "code",
   "execution_count": 41,
   "metadata": {
    "pycharm": {
     "is_executing": false
    }
   },
   "outputs": [
    {
     "data": {
      "text/plain": [
       "(0, array([[[0.        , 0.        , 0.        , ..., 0.        ,\n",
       "          0.00390625, 0.015625  ]],\n",
       " \n",
       "        [[0.        , 0.        , 0.00390625, ..., 0.01171875,\n",
       "          0.0078125 , 0.0234375 ]],\n",
       " \n",
       "        [[0.        , 0.        , 0.        , ..., 0.00390625,\n",
       "          0.01953125, 0.00390625]],\n",
       " \n",
       "        ...,\n",
       " \n",
       "        [[0.        , 0.        , 0.        , ..., 0.00390625,\n",
       "          0.00390625, 0.03125   ]],\n",
       " \n",
       "        [[0.        , 0.        , 0.0078125 , ..., 0.015625  ,\n",
       "          0.01171875, 0.03515625]],\n",
       " \n",
       "        [[0.00390625, 0.        , 0.0078125 , ..., 0.00390625,\n",
       "          0.04296875, 0.        ]]], dtype=float32))"
      ]
     },
     "execution_count": 41,
     "metadata": {},
     "output_type": "execute_result"
    }
   ],
   "source": [
    "m2.predict(test_images)"
   ]
  },
  {
   "cell_type": "code",
   "execution_count": 42,
   "metadata": {
    "pycharm": {
     "is_executing": false
    }
   },
   "outputs": [],
   "source": [
    "del m2"
   ]
  },
  {
   "cell_type": "markdown",
   "metadata": {},
   "source": [
    "# Load `.pb` from scratch"
   ]
  },
  {
   "cell_type": "code",
   "execution_count": 43,
   "metadata": {
    "pycharm": {
     "is_executing": false
    },
    "scrolled": false
   },
   "outputs": [
    {
     "name": "stdout",
     "output_type": "stream",
     "text": [
      "2019-08-09 00:15:12,807 DEBUG [src.meta.tensorflow:99] (MainThread) basic Loading frozen graph model from /home/cory/dev/deep-learning/models/basic_002/basic_002.pb...\n"
     ]
    },
    {
     "name": "stderr",
     "output_type": "stream",
     "text": [
      "W0809 00:15:12.809632 139927073476736 deprecation_wrapper.py:119] From ../src/meta/tensorflow.py:101: The name tf.reset_default_graph is deprecated. Please use tf.compat.v1.reset_default_graph instead.\n",
      "\n",
      "W0809 00:15:12.810659 139927073476736 deprecation_wrapper.py:119] From ../src/meta/tensorflow.py:104: The name tf.Session is deprecated. Please use tf.compat.v1.Session instead.\n",
      "\n",
      "W0809 00:15:12.815709 139927073476736 deprecation_wrapper.py:119] From ../src/meta/tensorflow.py:105: The name tf.gfile.GFile is deprecated. Please use tf.io.gfile.GFile instead.\n",
      "\n",
      "W0809 00:15:12.816832 139927073476736 deprecation_wrapper.py:119] From ../src/meta/tensorflow.py:106: The name tf.GraphDef is deprecated. Please use tf.compat.v1.GraphDef instead.\n",
      "\n",
      "W0809 00:15:12.826137 139927073476736 deprecation_wrapper.py:119] From ../src/meta/tensorflow.py:114: The name tf.summary.FileWriter is deprecated. Please use tf.compat.v1.summary.FileWriter instead.\n",
      "\n"
     ]
    },
    {
     "name": "stdout",
     "output_type": "stream",
     "text": [
      "2019-08-09 00:15:12,834 DEBUG [src.meta.tensorflow:118] (MainThread) basic pb model imported into tensorboard. Visualize by running: \n",
      "2019-08-09 00:15:12,835 DEBUG [src.meta.tensorflow:119] (MainThread) > tensorboard --logdir=/home/cory/dev/deep-learning/tmp/tensorboard/20190809-001512_basic\n",
      "0 <src.meta.meta.MetaModel object at 0x7f421c3ae4e0>\n"
     ]
    }
   ],
   "source": [
    "ret, m2 = MetaModelFactory.from_pb(_NAME, m.metadata)\n",
    "print(ret, m2)"
   ]
  },
  {
   "cell_type": "code",
   "execution_count": 44,
   "metadata": {
    "pycharm": {
     "is_executing": false
    }
   },
   "outputs": [
    {
     "name": "stdout",
     "output_type": "stream",
     "text": [
      "2019-08-09 00:15:12,840 DEBUG [src.utils.cuda_utils:4] (MainThread) [basic|2|TENSORFLOW] Found 1 CUDA device.\n",
      "2019-08-09 00:15:12,844 DEBUG [src.utils.cuda_utils:4] (MainThread) [basic|2|TENSORFLOW] [GPU:0] Name: GeForce GTX 750 Ti\n",
      "2019-08-09 00:15:12,848 DEBUG [src.utils.cuda_utils:4] (MainThread) [basic|2|TENSORFLOW] [GPU:0] Compute Capability: 5.0\n",
      "2019-08-09 00:15:12,850 DEBUG [src.utils.cuda_utils:4] (MainThread) [basic|2|TENSORFLOW] [GPU:0] Multiprocessors: 5\n",
      "2019-08-09 00:15:12,851 DEBUG [src.utils.cuda_utils:4] (MainThread) [basic|2|TENSORFLOW] [GPU:0] CUDA Cores: 960\n",
      "2019-08-09 00:15:12,853 DEBUG [src.utils.cuda_utils:4] (MainThread) [basic|2|TENSORFLOW] [GPU:0] Concurrent threads: 10240\n",
      "2019-08-09 00:15:12,854 DEBUG [src.utils.cuda_utils:4] (MainThread) [basic|2|TENSORFLOW] [GPU:0] GPU clock: 1254.5 MHz\n",
      "2019-08-09 00:15:12,855 DEBUG [src.utils.cuda_utils:4] (MainThread) [basic|2|TENSORFLOW] [GPU:0] Memory clock: 2700 MHz\n",
      "2019-08-09 00:15:12,906 ERROR [src.utils.cuda_utils:4] (MainThread) [basic|2|TENSORFLOW] [GPU:0] cuCtxCreate failed with error code 1: invalid argument\n",
      "2019-08-09 00:15:12,907 DEBUG [src.meta.meta:125] (MainThread) [basic|2|TENSORFLOW] mode = TENSORFLOW\n",
      "2019-08-09 00:15:12,907 DEBUG [src.meta.metadata:31] (MainThread) [basic|2|TENSORFLOW] epoch = 2\n",
      "2019-08-09 00:15:12,907 DEBUG [src.meta.metadata:32] (MainThread) [basic|2|TENSORFLOW] inputs = ['basic0:0']\n",
      "2019-08-09 00:15:12,908 DEBUG [src.meta.metadata:33] (MainThread) [basic|2|TENSORFLOW] outputs = ['basic2/Softmax:0']\n",
      "2019-08-09 00:15:12,908 DEBUG [src.meta.tensorflow:86] (MainThread) [basic|2|TENSORFLOW] graph_def.node names: ['basic0', 'basic1/Shape', 'basic1/strided_slice/stack', 'basic1/strided_slice/stack_1', 'basic1/strided_slice/stack_2', 'basic1/strided_slice', 'basic1/Reshape/shape/1', 'basic1/Reshape/shape', 'basic1/Reshape', 'basic2/kernel', 'basic2/bias', 'basic2/MatMul/ReadVariableOp', 'basic2/MatMul', 'basic2/BiasAdd/ReadVariableOp', 'basic2/BiasAdd', 'basic2/Softmax']\n",
      "2019-08-09 00:15:12,909 DEBUG [src.meta.tensorflow:89] (MainThread) [basic|2|TENSORFLOW] graph.get_operations(): [16] ['basic/basic0', 'basic/basic1/Shape', 'basic/basic1/strided_slice/stack', 'basic/basic1/strided_slice/stack_1', 'basic/basic1/strided_slice/stack_2', 'basic/basic1/strided_slice', 'basic/basic1/Reshape/shape/1', 'basic/basic1/Reshape/shape', 'basic/basic1/Reshape', 'basic/basic2/kernel', 'basic/basic2/bias', 'basic/basic2/MatMul/ReadVariableOp', 'basic/basic2/MatMul', 'basic/basic2/BiasAdd/ReadVariableOp', 'basic/basic2/BiasAdd', 'basic/basic2/Softmax']\n"
     ]
    },
    {
     "data": {
      "text/plain": [
       "0"
      ]
     },
     "execution_count": 44,
     "metadata": {},
     "output_type": "execute_result"
    }
   ],
   "source": [
    "m2.dump()"
   ]
  },
  {
   "cell_type": "markdown",
   "metadata": {},
   "source": [
    "# DEBUG"
   ]
  },
  {
   "cell_type": "code",
   "execution_count": null,
   "metadata": {},
   "outputs": [],
   "source": []
  },
  {
   "cell_type": "code",
   "execution_count": null,
   "metadata": {},
   "outputs": [],
   "source": []
  },
  {
   "cell_type": "code",
   "execution_count": null,
   "metadata": {},
   "outputs": [],
   "source": []
  },
  {
   "cell_type": "code",
   "execution_count": null,
   "metadata": {},
   "outputs": [],
   "source": []
  },
  {
   "cell_type": "code",
   "execution_count": null,
   "metadata": {},
   "outputs": [],
   "source": []
  }
 ],
 "metadata": {
  "kernelspec": {
   "display_name": "Python 3",
   "language": "python",
   "name": "python3"
  },
  "language_info": {
   "codemirror_mode": {
    "name": "ipython",
    "version": 3
   },
   "file_extension": ".py",
   "mimetype": "text/x-python",
   "name": "python",
   "nbconvert_exporter": "python",
   "pygments_lexer": "ipython3",
   "version": "3.6.8"
  }
 },
 "nbformat": 4,
 "nbformat_minor": 2
}
