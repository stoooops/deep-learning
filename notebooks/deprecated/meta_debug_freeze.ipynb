{
 "cells": [
  {
   "cell_type": "code",
   "execution_count": 1,
   "metadata": {
    "pycharm": {
     "is_executing": false
    }
   },
   "outputs": [
    {
     "name": "stderr",
     "output_type": "stream",
     "text": [
      "/home/maka/.pyenv/versions/3.6.8/envs/deep-learning/lib/python3.6/site-packages/tensorflow/python/framework/dtypes.py:516: FutureWarning: Passing (type, 1) or '1type' as a synonym of type is deprecated; in a future version of numpy, it will be understood as (type, (1,)) / '(1,)type'.\n",
      "  _np_qint8 = np.dtype([(\"qint8\", np.int8, 1)])\n",
      "/home/maka/.pyenv/versions/3.6.8/envs/deep-learning/lib/python3.6/site-packages/tensorflow/python/framework/dtypes.py:517: FutureWarning: Passing (type, 1) or '1type' as a synonym of type is deprecated; in a future version of numpy, it will be understood as (type, (1,)) / '(1,)type'.\n",
      "  _np_quint8 = np.dtype([(\"quint8\", np.uint8, 1)])\n",
      "/home/maka/.pyenv/versions/3.6.8/envs/deep-learning/lib/python3.6/site-packages/tensorflow/python/framework/dtypes.py:518: FutureWarning: Passing (type, 1) or '1type' as a synonym of type is deprecated; in a future version of numpy, it will be understood as (type, (1,)) / '(1,)type'.\n",
      "  _np_qint16 = np.dtype([(\"qint16\", np.int16, 1)])\n",
      "/home/maka/.pyenv/versions/3.6.8/envs/deep-learning/lib/python3.6/site-packages/tensorflow/python/framework/dtypes.py:519: FutureWarning: Passing (type, 1) or '1type' as a synonym of type is deprecated; in a future version of numpy, it will be understood as (type, (1,)) / '(1,)type'.\n",
      "  _np_quint16 = np.dtype([(\"quint16\", np.uint16, 1)])\n",
      "/home/maka/.pyenv/versions/3.6.8/envs/deep-learning/lib/python3.6/site-packages/tensorflow/python/framework/dtypes.py:520: FutureWarning: Passing (type, 1) or '1type' as a synonym of type is deprecated; in a future version of numpy, it will be understood as (type, (1,)) / '(1,)type'.\n",
      "  _np_qint32 = np.dtype([(\"qint32\", np.int32, 1)])\n",
      "/home/maka/.pyenv/versions/3.6.8/envs/deep-learning/lib/python3.6/site-packages/tensorflow/python/framework/dtypes.py:525: FutureWarning: Passing (type, 1) or '1type' as a synonym of type is deprecated; in a future version of numpy, it will be understood as (type, (1,)) / '(1,)type'.\n",
      "  np_resource = np.dtype([(\"resource\", np.ubyte, 1)])\n"
     ]
    },
    {
     "name": "stdout",
     "output_type": "stream",
     "text": [
      "1.14.0\n"
     ]
    },
    {
     "name": "stderr",
     "output_type": "stream",
     "text": [
      "/home/maka/.pyenv/versions/3.6.8/envs/deep-learning/lib/python3.6/site-packages/tensorboard/compat/tensorflow_stub/dtypes.py:541: FutureWarning: Passing (type, 1) or '1type' as a synonym of type is deprecated; in a future version of numpy, it will be understood as (type, (1,)) / '(1,)type'.\n",
      "  _np_qint8 = np.dtype([(\"qint8\", np.int8, 1)])\n",
      "/home/maka/.pyenv/versions/3.6.8/envs/deep-learning/lib/python3.6/site-packages/tensorboard/compat/tensorflow_stub/dtypes.py:542: FutureWarning: Passing (type, 1) or '1type' as a synonym of type is deprecated; in a future version of numpy, it will be understood as (type, (1,)) / '(1,)type'.\n",
      "  _np_quint8 = np.dtype([(\"quint8\", np.uint8, 1)])\n",
      "/home/maka/.pyenv/versions/3.6.8/envs/deep-learning/lib/python3.6/site-packages/tensorboard/compat/tensorflow_stub/dtypes.py:543: FutureWarning: Passing (type, 1) or '1type' as a synonym of type is deprecated; in a future version of numpy, it will be understood as (type, (1,)) / '(1,)type'.\n",
      "  _np_qint16 = np.dtype([(\"qint16\", np.int16, 1)])\n",
      "/home/maka/.pyenv/versions/3.6.8/envs/deep-learning/lib/python3.6/site-packages/tensorboard/compat/tensorflow_stub/dtypes.py:544: FutureWarning: Passing (type, 1) or '1type' as a synonym of type is deprecated; in a future version of numpy, it will be understood as (type, (1,)) / '(1,)type'.\n",
      "  _np_quint16 = np.dtype([(\"quint16\", np.uint16, 1)])\n",
      "/home/maka/.pyenv/versions/3.6.8/envs/deep-learning/lib/python3.6/site-packages/tensorboard/compat/tensorflow_stub/dtypes.py:545: FutureWarning: Passing (type, 1) or '1type' as a synonym of type is deprecated; in a future version of numpy, it will be understood as (type, (1,)) / '(1,)type'.\n",
      "  _np_qint32 = np.dtype([(\"qint32\", np.int32, 1)])\n",
      "/home/maka/.pyenv/versions/3.6.8/envs/deep-learning/lib/python3.6/site-packages/tensorboard/compat/tensorflow_stub/dtypes.py:550: FutureWarning: Passing (type, 1) or '1type' as a synonym of type is deprecated; in a future version of numpy, it will be understood as (type, (1,)) / '(1,)type'.\n",
      "  np_resource = np.dtype([(\"resource\", np.ubyte, 1)])\n"
     ]
    }
   ],
   "source": [
    "from IPython.core.display import display, HTML\n",
    "#display(HTML(\"<style>.container { width:100% !important; }</style>\"))\n",
    "\n",
    "import sys\n",
    "sys.path.append('..')\n",
    "\n",
    "import tensorflow as tf\n",
    "\n",
    "from src.data.cifar100 import CIFAR_100_CLASSES, load_cifar100_data\n",
    "from src.meta.tensor_apis import TensorApi\n",
    "from src.meta.meta import MetaModel, MetaModelFactory\n",
    "from src.utils.debug_utils import print_list\n",
    "from src.utils.logger import HuliLogging\n",
    "\n",
    "print(tf.__version__)"
   ]
  },
  {
   "cell_type": "code",
   "execution_count": 2,
   "metadata": {
    "pycharm": {
     "is_executing": false
    }
   },
   "outputs": [],
   "source": [
    "logger = HuliLogging.get_logger(__name__)\n",
    "HuliLogging.attach_stdout()"
   ]
  },
  {
   "cell_type": "markdown",
   "metadata": {},
   "source": [
    "# Load data"
   ]
  },
  {
   "cell_type": "code",
   "execution_count": 3,
   "metadata": {},
   "outputs": [
    {
     "name": "stdout",
     "output_type": "stream",
     "text": [
      "../models/conv_001/conv_001_checkpoint.h5\n",
      "../models/conv_001/conv_001.h5\n",
      "../models/conv_001/conv_001_int8.tflite\n",
      "../models/conv_001/conv_001_no_optimizer.h5\n",
      "../models/conv_001/conv_001_weights.h5\n",
      "../models/conv_002/conv_002_checkpoint.h5\n",
      "../models/conv_002/conv_002.h5\n",
      "../models/conv_002/conv_002_no_optimizer.h5\n",
      "../models/conv_002/conv_002.pb\n",
      "../models/conv_003/conv_003_checkpoint.h5\n",
      "../models/conv_003/conv_003.h5\n",
      "../models/conv_003/conv_003_int8.tflite\n",
      "../models/conv_003/conv_003_no_optimizer.h5\n",
      "../models/conv_003/conv_003.pb\n",
      "../models/conv_003/conv_003_weights.h5\n",
      "../models/conv_004/conv_004_checkpoint.h5\n",
      "../models/conv_004/conv_004.h5\n",
      "../models/conv_004/conv_004_no_optimizer.h5\n",
      "../models/conv_004/conv_004.pb\n",
      "../models/conv_005/conv_005_checkpoint.h5\n",
      "../models/conv_005/conv_005.h5\n",
      "../models/conv_005/conv_005_no_optimizer.h5\n",
      "../models/conv_005/conv_005.pb\n",
      "../models/conv_006/conv_006_checkpoint.h5\n",
      "../models/conv_006/conv_006.h5\n",
      "../models/conv_006/conv_006_no_optimizer.h5\n",
      "../models/conv_006/conv_006.pb\n",
      "../models/conv_007/conv_007_checkpoint.h5\n",
      "../models/conv_007/conv_007.h5\n",
      "../models/conv_007/conv_007_no_optimizer.h5\n",
      "../models/conv_007/conv_007.pb\n",
      "../models/conv_008/conv_008_checkpoint.h5\n",
      "../models/conv_008/conv_008.h5\n",
      "../models/conv_008/conv_008_no_optimizer.h5\n",
      "../models/conv_008/conv_008.pb\n",
      "../models/conv_009/conv_009_checkpoint.h5\n",
      "../models/conv_009/conv_009.h5\n",
      "../models/conv_009/conv_009_no_optimizer.h5\n",
      "../models/conv_009/conv_009.pb\n",
      "../models/conv_010/conv_010_checkpoint.h5\n",
      "../models/conv_010/conv_010.h5\n",
      "../models/conv_010/conv_010_no_optimizer.h5\n",
      "../models/conv_010/conv_010.pb\n",
      "../models/conv_011/conv_011_checkpoint.h5\n",
      "../models/conv_011/conv_011.h5\n",
      "../models/conv_011/conv_011_int8.tflite\n",
      "../models/conv_011/conv_011_no_optimizer.h5\n",
      "../models/conv_011/conv_011.pb\n",
      "../models/conv_011/conv_011_weights.h5\n",
      "../models/conv_012/conv_012_checkpoint.h5\n",
      "../models/conv_013/conv_013_checkpoint.h5\n",
      "../models/conv_014/conv_014_checkpoint.h5\n",
      "../models/conv_015/conv_015_checkpoint.h5\n",
      "../models/conv_016/conv_016_checkpoint.h5\n",
      "../models/conv_017/conv_017_checkpoint.h5\n",
      "../models/conv_018/conv_018_checkpoint.h5\n",
      "../models/conv_019/conv_019_checkpoint.h5\n",
      "../models/conv_020/conv_020_checkpoint.h5\n",
      "../models/conv_021/conv_021_checkpoint.h5\n"
     ]
    }
   ],
   "source": [
    "%%bash\n",
    "\n",
    "find ../models -type f | sort | grep conv"
   ]
  },
  {
   "cell_type": "code",
   "execution_count": 4,
   "metadata": {
    "pycharm": {
     "is_executing": false
    }
   },
   "outputs": [],
   "source": [
    "_NAME = 'conv'\n",
    "_EPOCH = 1\n",
    "_ADDITIONAL_EPOCHS = 10\n",
    "_DO_FIT = True"
   ]
  },
  {
   "cell_type": "code",
   "execution_count": 5,
   "metadata": {
    "pycharm": {
     "is_executing": false
    }
   },
   "outputs": [],
   "source": [
    "(train_images, train_labels), (test_images, test_labels) = load_cifar100_data()"
   ]
  },
  {
   "cell_type": "markdown",
   "metadata": {},
   "source": [
    "# Init as `KERAS` mode"
   ]
  },
  {
   "cell_type": "code",
   "execution_count": 6,
   "metadata": {
    "pycharm": {
     "is_executing": false
    }
   },
   "outputs": [
    {
     "name": "stdout",
     "output_type": "stream",
     "text": [
      "2019-08-08 17:36:44,979 DEBUG [src.meta.keras:276] (MainThread) conv Loading keras model from /space/code/deep-learning/models/conv_001/conv_001.h5...\n"
     ]
    },
    {
     "name": "stderr",
     "output_type": "stream",
     "text": [
      "WARNING: Logging before flag parsing goes to stderr.\n",
      "W0808 17:36:45.001389 140100827197568 deprecation.py:506] From /home/maka/.pyenv/versions/3.6.8/envs/deep-learning/lib/python3.6/site-packages/tensorflow/python/ops/init_ops.py:97: calling GlorotUniform.__init__ (from tensorflow.python.ops.init_ops) with dtype is deprecated and will be removed in a future version.\n",
      "Instructions for updating:\n",
      "Call initializer instance with the dtype argument instead of passing it to the constructor\n",
      "W0808 17:36:45.002273 140100827197568 deprecation.py:506] From /home/maka/.pyenv/versions/3.6.8/envs/deep-learning/lib/python3.6/site-packages/tensorflow/python/ops/init_ops.py:1251: calling VarianceScaling.__init__ (from tensorflow.python.ops.init_ops) with dtype is deprecated and will be removed in a future version.\n",
      "Instructions for updating:\n",
      "Call initializer instance with the dtype argument instead of passing it to the constructor\n",
      "W0808 17:36:45.003095 140100827197568 deprecation.py:506] From /home/maka/.pyenv/versions/3.6.8/envs/deep-learning/lib/python3.6/site-packages/tensorflow/python/ops/init_ops.py:97: calling Zeros.__init__ (from tensorflow.python.ops.init_ops) with dtype is deprecated and will be removed in a future version.\n",
      "Instructions for updating:\n",
      "Call initializer instance with the dtype argument instead of passing it to the constructor\n",
      "W0808 17:36:45.007340 140100827197568 deprecation.py:506] From /home/maka/.pyenv/versions/3.6.8/envs/deep-learning/lib/python3.6/site-packages/tensorflow/python/ops/init_ops.py:97: calling Ones.__init__ (from tensorflow.python.ops.init_ops) with dtype is deprecated and will be removed in a future version.\n",
      "Instructions for updating:\n",
      "Call initializer instance with the dtype argument instead of passing it to the constructor\n"
     ]
    },
    {
     "name": "stdout",
     "output_type": "stream",
     "text": [
      "<class 'src.meta.meta.MetaModel'>\n"
     ]
    }
   ],
   "source": [
    "ret, model = MetaModelFactory.from_h5(_NAME, _EPOCH)\n",
    "m = model\n",
    "print(type(m))"
   ]
  },
  {
   "cell_type": "code",
   "execution_count": 7,
   "metadata": {
    "pycharm": {
     "is_executing": false
    }
   },
   "outputs": [
    {
     "data": {
      "text/plain": [
       "0"
      ]
     },
     "execution_count": 7,
     "metadata": {},
     "output_type": "execute_result"
    }
   ],
   "source": [
    "m.compile(optimizer='adam', loss='sparse_categorical_crossentropy', metrics=['accuracy'])"
   ]
  },
  {
   "cell_type": "code",
   "execution_count": 8,
   "metadata": {
    "pycharm": {
     "is_executing": false
    }
   },
   "outputs": [
    {
     "data": {
      "text/plain": [
       "1"
      ]
     },
     "execution_count": 8,
     "metadata": {},
     "output_type": "execute_result"
    }
   ],
   "source": [
    "m.epoch"
   ]
  },
  {
   "cell_type": "code",
   "execution_count": 9,
   "metadata": {
    "pycharm": {
     "is_executing": false
    }
   },
   "outputs": [
    {
     "data": {
      "text/plain": [
       "<TensorApi.KERAS: 'keras'>"
      ]
     },
     "execution_count": 9,
     "metadata": {},
     "output_type": "execute_result"
    }
   ],
   "source": [
    "m.mode"
   ]
  },
  {
   "cell_type": "code",
   "execution_count": 10,
   "metadata": {
    "pycharm": {
     "is_executing": false
    },
    "scrolled": false
   },
   "outputs": [
    {
     "name": "stdout",
     "output_type": "stream",
     "text": [
      "2019-08-08 17:36:46,507 DEBUG [src.meta.keras:63] (MainThread) conv keras tensorboard callback attached. Visualize by running: \n",
      "2019-08-08 17:36:46,508 DEBUG [src.meta.keras:64] (MainThread) > tensorboard --logdir=/space/code/deep-learning/tmp/tensorboard/20190808-173646_conv\n",
      "2019-08-08 17:36:46,509 DEBUG [src.meta.keras:66] (MainThread) conv keras checkpoint callback attached. Logging to /space/code/deep-learning/models/conv_{epoch:03d}/conv_{epoch:03d}_checkpoint.h5...\n",
      "2019-08-08 17:36:46,509 INFO  [src.meta.keras:73] (MainThread) Creating /space/code/deep-learning/models/conv_002 (if not already exists)...\n",
      "Epoch 2/2\n",
      "50000/50000 [==============================] - 10s 193us/sample - loss: 3.0967 - acc: 0.2534\n",
      "2019-08-08 17:36:56,781 WARN  [src.meta.keras:190] (MainThread) conv Bug Workaround: Saving h5 file to ensure it can be loaded...\n",
      "2019-08-08 17:36:56,806 WARN  [src.meta.keras:193] (MainThread) conv Bug Workaround: Saving h5 file without optimizer to ensure it can be loaded...\n",
      "2019-08-08 17:36:56,821 WARN  [src.meta.keras:197] (MainThread) conv Bug Workaround: Clearing session...\n",
      "2019-08-08 17:36:56,823 WARN  [src.meta.keras:201] (MainThread) conv Bug Workaround: Setting learning phase to 0...\n",
      "2019-08-08 17:36:56,824 WARN  [src.meta.keras:204] (MainThread) conv Bug Workaround: Reloading keras model...\n"
     ]
    },
    {
     "name": "stderr",
     "output_type": "stream",
     "text": [
      "W0808 17:36:57.038231 140100827197568 hdf5_format.py:221] No training configuration found in save file: the model was *not* compiled. Compile it manually.\n",
      "W0808 17:36:57.039471 140100827197568 deprecation_wrapper.py:119] From ../src/meta/keras.py:213: The name tf.keras.backend.get_session is deprecated. Please use tf.compat.v1.keras.backend.get_session instead.\n",
      "\n",
      "W0808 17:36:57.040187 140100827197568 deprecation_wrapper.py:119] From ../src/meta/keras.py:216: The name tf.global_variables is deprecated. Please use tf.compat.v1.global_variables instead.\n",
      "\n"
     ]
    },
    {
     "name": "stdout",
     "output_type": "stream",
     "text": [
      "2019-08-08 17:36:57,040 INFO  [src.meta.keras:217] (MainThread) conv freeze_var_names = ['conv2d/bias', 'conv2d_1/kernel', 'batch_normalization_2/beta', 'fc100/bias', 'batch_normalization_1/beta', 'conv2d_2/kernel', 'batch_normalization/moving_variance', 'batch_normalization_2/gamma', 'batch_normalization/moving_mean', 'batch_normalization_1/moving_variance', 'conv2d_1/bias', 'batch_normalization_2/moving_variance', 'batch_normalization/beta', 'batch_normalization_1/moving_mean', 'batch_normalization_2/moving_mean', 'fc100/kernel', 'batch_normalization_1/gamma', 'conv2d_2/bias', 'batch_normalization/gamma', 'conv2d/kernel']\n",
      "2019-08-08 17:36:57,042 INFO  [src.meta.keras:221] (MainThread) conv output_names = ['fc100/Softmax', 'conv2d/kernel', 'conv2d/bias', 'batch_normalization/gamma', 'batch_normalization/beta', 'batch_normalization/moving_mean', 'batch_normalization/moving_variance', 'conv2d_1/kernel', 'conv2d_1/bias', 'batch_normalization_1/gamma', 'batch_normalization_1/beta', 'batch_normalization_1/moving_mean', 'batch_normalization_1/moving_variance', 'conv2d_2/kernel', 'conv2d_2/bias', 'batch_normalization_2/gamma', 'batch_normalization_2/beta', 'batch_normalization_2/moving_mean', 'batch_normalization_2/moving_variance', 'fc100/kernel', 'fc100/bias']\n",
      "2019-08-08 17:36:57,044 INFO  [src.meta.keras:228] (MainThread) conv convert_variables_to_constants...\n"
     ]
    },
    {
     "name": "stderr",
     "output_type": "stream",
     "text": [
      "W0808 17:36:57.045196 140100827197568 deprecation.py:323] From ../src/meta/keras.py:231: convert_variables_to_constants (from tensorflow.python.framework.graph_util_impl) is deprecated and will be removed in a future version.\n",
      "Instructions for updating:\n",
      "Use `tf.compat.v1.graph_util.convert_variables_to_constants`\n",
      "W0808 17:36:57.045760 140100827197568 deprecation.py:323] From /home/maka/.pyenv/versions/3.6.8/envs/deep-learning/lib/python3.6/site-packages/tensorflow/python/framework/graph_util_impl.py:270: extract_sub_graph (from tensorflow.python.framework.graph_util_impl) is deprecated and will be removed in a future version.\n",
      "Instructions for updating:\n",
      "Use `tf.compat.v1.graph_util.extract_sub_graph`\n"
     ]
    },
    {
     "name": "stdout",
     "output_type": "stream",
     "text": [
      "2019-08-08 17:36:57,068 INFO  [src.meta.keras:236] (MainThread) conv Saving frozen graph to /space/code/deep-learning/models/conv_002/conv_002.pb...\n"
     ]
    },
    {
     "name": "stderr",
     "output_type": "stream",
     "text": [
      "W0808 17:36:57.069043 140100827197568 deprecation_wrapper.py:119] From ../src/meta/keras.py:238: The name tf.train.write_graph is deprecated. Please use tf.io.write_graph instead.\n",
      "\n"
     ]
    },
    {
     "name": "stdout",
     "output_type": "stream",
     "text": [
      "2019-08-08 17:36:57,071 WARN  [src.meta.keras:246] (MainThread) conv Bug Workaround: Clearing session...\n",
      "2019-08-08 17:36:57,073 WARN  [src.meta.keras:250] (MainThread) conv Bug Workaround: NOTTTTTTTTT Setting learning phase to 1...\n",
      "2019-08-08 17:36:57,073 WARN  [src.meta.keras:253] (MainThread) conv Bug Workaround: Reloading keras model...\n",
      "2019-08-08 17:36:57,820 DEBUG [src.meta.keras:63] (MainThread) conv keras tensorboard callback attached. Visualize by running: \n",
      "2019-08-08 17:36:57,821 DEBUG [src.meta.keras:64] (MainThread) > tensorboard --logdir=/space/code/deep-learning/tmp/tensorboard/20190808-173646_conv\n",
      "2019-08-08 17:36:57,822 DEBUG [src.meta.keras:66] (MainThread) conv keras checkpoint callback attached. Logging to /space/code/deep-learning/models/conv_{epoch:03d}/conv_{epoch:03d}_checkpoint.h5...\n",
      "2019-08-08 17:36:57,823 INFO  [src.meta.keras:73] (MainThread) Creating /space/code/deep-learning/models/conv_003 (if not already exists)...\n",
      "Epoch 3/3\n",
      "50000/50000 [==============================] - 7s 147us/sample - loss: 2.8916 - acc: 0.2926\n",
      "2019-08-08 17:37:05,242 WARN  [src.meta.keras:190] (MainThread) conv Bug Workaround: Saving h5 file to ensure it can be loaded...\n",
      "2019-08-08 17:37:05,271 WARN  [src.meta.keras:193] (MainThread) conv Bug Workaround: Saving h5 file without optimizer to ensure it can be loaded...\n",
      "2019-08-08 17:37:05,287 WARN  [src.meta.keras:197] (MainThread) conv Bug Workaround: Clearing session...\n",
      "2019-08-08 17:37:05,289 WARN  [src.meta.keras:201] (MainThread) conv Bug Workaround: Setting learning phase to 0...\n",
      "2019-08-08 17:37:05,290 WARN  [src.meta.keras:204] (MainThread) conv Bug Workaround: Reloading keras model...\n"
     ]
    },
    {
     "name": "stderr",
     "output_type": "stream",
     "text": [
      "W0808 17:37:05.505887 140100827197568 hdf5_format.py:221] No training configuration found in save file: the model was *not* compiled. Compile it manually.\n"
     ]
    },
    {
     "name": "stdout",
     "output_type": "stream",
     "text": [
      "2019-08-08 17:37:05,507 INFO  [src.meta.keras:217] (MainThread) conv freeze_var_names = ['conv2d/bias', 'conv2d_1/kernel', 'batch_normalization_2/beta', 'fc100/bias', 'batch_normalization_1/beta', 'conv2d_2/kernel', 'batch_normalization/moving_variance', 'batch_normalization_2/gamma', 'batch_normalization/moving_mean', 'batch_normalization_1/moving_variance', 'conv2d_1/bias', 'batch_normalization_2/moving_variance', 'batch_normalization/beta', 'batch_normalization_1/moving_mean', 'batch_normalization_2/moving_mean', 'fc100/kernel', 'batch_normalization_1/gamma', 'conv2d_2/bias', 'batch_normalization/gamma', 'conv2d/kernel']\n",
      "2019-08-08 17:37:05,508 INFO  [src.meta.keras:221] (MainThread) conv output_names = ['fc100/Softmax', 'conv2d/kernel', 'conv2d/bias', 'batch_normalization/gamma', 'batch_normalization/beta', 'batch_normalization/moving_mean', 'batch_normalization/moving_variance', 'conv2d_1/kernel', 'conv2d_1/bias', 'batch_normalization_1/gamma', 'batch_normalization_1/beta', 'batch_normalization_1/moving_mean', 'batch_normalization_1/moving_variance', 'conv2d_2/kernel', 'conv2d_2/bias', 'batch_normalization_2/gamma', 'batch_normalization_2/beta', 'batch_normalization_2/moving_mean', 'batch_normalization_2/moving_variance', 'fc100/kernel', 'fc100/bias']\n",
      "2019-08-08 17:37:05,511 INFO  [src.meta.keras:228] (MainThread) conv convert_variables_to_constants...\n",
      "2019-08-08 17:37:05,536 INFO  [src.meta.keras:236] (MainThread) conv Saving frozen graph to /space/code/deep-learning/models/conv_003/conv_003.pb...\n",
      "2019-08-08 17:37:05,538 WARN  [src.meta.keras:246] (MainThread) conv Bug Workaround: Clearing session...\n",
      "2019-08-08 17:37:05,541 WARN  [src.meta.keras:250] (MainThread) conv Bug Workaround: NOTTTTTTTTT Setting learning phase to 1...\n",
      "2019-08-08 17:37:05,542 WARN  [src.meta.keras:253] (MainThread) conv Bug Workaround: Reloading keras model...\n",
      "2019-08-08 17:37:06,340 DEBUG [src.meta.keras:63] (MainThread) conv keras tensorboard callback attached. Visualize by running: \n",
      "2019-08-08 17:37:06,341 DEBUG [src.meta.keras:64] (MainThread) > tensorboard --logdir=/space/code/deep-learning/tmp/tensorboard/20190808-173646_conv\n",
      "2019-08-08 17:37:06,342 DEBUG [src.meta.keras:66] (MainThread) conv keras checkpoint callback attached. Logging to /space/code/deep-learning/models/conv_{epoch:03d}/conv_{epoch:03d}_checkpoint.h5...\n",
      "2019-08-08 17:37:06,342 INFO  [src.meta.keras:73] (MainThread) Creating /space/code/deep-learning/models/conv_004 (if not already exists)...\n",
      "Epoch 4/4\n",
      "50000/50000 [==============================] - 7s 145us/sample - loss: 2.7464 - acc: 0.3238\n",
      "2019-08-08 17:37:13,711 WARN  [src.meta.keras:190] (MainThread) conv Bug Workaround: Saving h5 file to ensure it can be loaded...\n",
      "2019-08-08 17:37:13,736 WARN  [src.meta.keras:193] (MainThread) conv Bug Workaround: Saving h5 file without optimizer to ensure it can be loaded...\n",
      "2019-08-08 17:37:13,751 WARN  [src.meta.keras:197] (MainThread) conv Bug Workaround: Clearing session...\n",
      "2019-08-08 17:37:13,753 WARN  [src.meta.keras:201] (MainThread) conv Bug Workaround: Setting learning phase to 0...\n",
      "2019-08-08 17:37:13,754 WARN  [src.meta.keras:204] (MainThread) conv Bug Workaround: Reloading keras model...\n"
     ]
    },
    {
     "name": "stderr",
     "output_type": "stream",
     "text": [
      "W0808 17:37:13.965202 140100827197568 hdf5_format.py:221] No training configuration found in save file: the model was *not* compiled. Compile it manually.\n"
     ]
    },
    {
     "name": "stdout",
     "output_type": "stream",
     "text": [
      "2019-08-08 17:37:13,966 INFO  [src.meta.keras:217] (MainThread) conv freeze_var_names = ['conv2d/bias', 'conv2d_1/kernel', 'batch_normalization_2/beta', 'fc100/bias', 'batch_normalization_1/beta', 'conv2d_2/kernel', 'batch_normalization/moving_variance', 'batch_normalization_2/gamma', 'batch_normalization/moving_mean', 'batch_normalization_1/moving_variance', 'conv2d_1/bias', 'batch_normalization_2/moving_variance', 'batch_normalization/beta', 'batch_normalization_1/moving_mean', 'batch_normalization_2/moving_mean', 'fc100/kernel', 'batch_normalization_1/gamma', 'conv2d_2/bias', 'batch_normalization/gamma', 'conv2d/kernel']\n",
      "2019-08-08 17:37:13,967 INFO  [src.meta.keras:221] (MainThread) conv output_names = ['fc100/Softmax', 'conv2d/kernel', 'conv2d/bias', 'batch_normalization/gamma', 'batch_normalization/beta', 'batch_normalization/moving_mean', 'batch_normalization/moving_variance', 'conv2d_1/kernel', 'conv2d_1/bias', 'batch_normalization_1/gamma', 'batch_normalization_1/beta', 'batch_normalization_1/moving_mean', 'batch_normalization_1/moving_variance', 'conv2d_2/kernel', 'conv2d_2/bias', 'batch_normalization_2/gamma', 'batch_normalization_2/beta', 'batch_normalization_2/moving_mean', 'batch_normalization_2/moving_variance', 'fc100/kernel', 'fc100/bias']\n",
      "2019-08-08 17:37:13,970 INFO  [src.meta.keras:228] (MainThread) conv convert_variables_to_constants...\n",
      "2019-08-08 17:37:13,990 INFO  [src.meta.keras:236] (MainThread) conv Saving frozen graph to /space/code/deep-learning/models/conv_004/conv_004.pb...\n",
      "2019-08-08 17:37:13,992 WARN  [src.meta.keras:246] (MainThread) conv Bug Workaround: Clearing session...\n",
      "2019-08-08 17:37:13,994 WARN  [src.meta.keras:250] (MainThread) conv Bug Workaround: NOTTTTTTTTT Setting learning phase to 1...\n",
      "2019-08-08 17:37:13,995 WARN  [src.meta.keras:253] (MainThread) conv Bug Workaround: Reloading keras model...\n",
      "2019-08-08 17:37:14,755 DEBUG [src.meta.keras:63] (MainThread) conv keras tensorboard callback attached. Visualize by running: \n",
      "2019-08-08 17:37:14,756 DEBUG [src.meta.keras:64] (MainThread) > tensorboard --logdir=/space/code/deep-learning/tmp/tensorboard/20190808-173646_conv\n",
      "2019-08-08 17:37:14,757 DEBUG [src.meta.keras:66] (MainThread) conv keras checkpoint callback attached. Logging to /space/code/deep-learning/models/conv_{epoch:03d}/conv_{epoch:03d}_checkpoint.h5...\n",
      "2019-08-08 17:37:14,758 INFO  [src.meta.keras:73] (MainThread) Creating /space/code/deep-learning/models/conv_005 (if not already exists)...\n",
      "Epoch 5/5\n",
      "50000/50000 [==============================] - 7s 145us/sample - loss: 2.6469 - acc: 0.3425\n",
      "2019-08-08 17:37:22,126 WARN  [src.meta.keras:190] (MainThread) conv Bug Workaround: Saving h5 file to ensure it can be loaded...\n",
      "2019-08-08 17:37:22,152 WARN  [src.meta.keras:193] (MainThread) conv Bug Workaround: Saving h5 file without optimizer to ensure it can be loaded...\n",
      "2019-08-08 17:37:22,166 WARN  [src.meta.keras:197] (MainThread) conv Bug Workaround: Clearing session...\n",
      "2019-08-08 17:37:22,169 WARN  [src.meta.keras:201] (MainThread) conv Bug Workaround: Setting learning phase to 0...\n",
      "2019-08-08 17:37:22,169 WARN  [src.meta.keras:204] (MainThread) conv Bug Workaround: Reloading keras model...\n"
     ]
    },
    {
     "name": "stderr",
     "output_type": "stream",
     "text": [
      "W0808 17:37:22.379362 140100827197568 hdf5_format.py:221] No training configuration found in save file: the model was *not* compiled. Compile it manually.\n"
     ]
    },
    {
     "name": "stdout",
     "output_type": "stream",
     "text": [
      "2019-08-08 17:37:22,380 INFO  [src.meta.keras:217] (MainThread) conv freeze_var_names = ['conv2d/bias', 'conv2d_1/kernel', 'batch_normalization_2/beta', 'fc100/bias', 'batch_normalization_1/beta', 'conv2d_2/kernel', 'batch_normalization/moving_variance', 'batch_normalization_2/gamma', 'batch_normalization/moving_mean', 'batch_normalization_1/moving_variance', 'conv2d_1/bias', 'batch_normalization_2/moving_variance', 'batch_normalization/beta', 'batch_normalization_1/moving_mean', 'batch_normalization_2/moving_mean', 'fc100/kernel', 'batch_normalization_1/gamma', 'conv2d_2/bias', 'batch_normalization/gamma', 'conv2d/kernel']\n",
      "2019-08-08 17:37:22,381 INFO  [src.meta.keras:221] (MainThread) conv output_names = ['fc100/Softmax', 'conv2d/kernel', 'conv2d/bias', 'batch_normalization/gamma', 'batch_normalization/beta', 'batch_normalization/moving_mean', 'batch_normalization/moving_variance', 'conv2d_1/kernel', 'conv2d_1/bias', 'batch_normalization_1/gamma', 'batch_normalization_1/beta', 'batch_normalization_1/moving_mean', 'batch_normalization_1/moving_variance', 'conv2d_2/kernel', 'conv2d_2/bias', 'batch_normalization_2/gamma', 'batch_normalization_2/beta', 'batch_normalization_2/moving_mean', 'batch_normalization_2/moving_variance', 'fc100/kernel', 'fc100/bias']\n",
      "2019-08-08 17:37:22,385 INFO  [src.meta.keras:228] (MainThread) conv convert_variables_to_constants...\n",
      "2019-08-08 17:37:22,407 INFO  [src.meta.keras:236] (MainThread) conv Saving frozen graph to /space/code/deep-learning/models/conv_005/conv_005.pb...\n",
      "2019-08-08 17:37:22,409 WARN  [src.meta.keras:246] (MainThread) conv Bug Workaround: Clearing session...\n",
      "2019-08-08 17:37:22,411 WARN  [src.meta.keras:250] (MainThread) conv Bug Workaround: NOTTTTTTTTT Setting learning phase to 1...\n",
      "2019-08-08 17:37:22,412 WARN  [src.meta.keras:253] (MainThread) conv Bug Workaround: Reloading keras model...\n",
      "2019-08-08 17:37:23,194 DEBUG [src.meta.keras:63] (MainThread) conv keras tensorboard callback attached. Visualize by running: \n",
      "2019-08-08 17:37:23,195 DEBUG [src.meta.keras:64] (MainThread) > tensorboard --logdir=/space/code/deep-learning/tmp/tensorboard/20190808-173646_conv\n",
      "2019-08-08 17:37:23,196 DEBUG [src.meta.keras:66] (MainThread) conv keras checkpoint callback attached. Logging to /space/code/deep-learning/models/conv_{epoch:03d}/conv_{epoch:03d}_checkpoint.h5...\n",
      "2019-08-08 17:37:23,197 INFO  [src.meta.keras:73] (MainThread) Creating /space/code/deep-learning/models/conv_006 (if not already exists)...\n",
      "Epoch 6/6\n",
      "50000/50000 [==============================] - 7s 139us/sample - loss: 2.5736 - acc: 0.3592\n",
      "2019-08-08 17:37:30,238 WARN  [src.meta.keras:190] (MainThread) conv Bug Workaround: Saving h5 file to ensure it can be loaded...\n",
      "2019-08-08 17:37:30,263 WARN  [src.meta.keras:193] (MainThread) conv Bug Workaround: Saving h5 file without optimizer to ensure it can be loaded...\n",
      "2019-08-08 17:37:30,277 WARN  [src.meta.keras:197] (MainThread) conv Bug Workaround: Clearing session...\n",
      "2019-08-08 17:37:30,280 WARN  [src.meta.keras:201] (MainThread) conv Bug Workaround: Setting learning phase to 0...\n",
      "2019-08-08 17:37:30,280 WARN  [src.meta.keras:204] (MainThread) conv Bug Workaround: Reloading keras model...\n"
     ]
    },
    {
     "name": "stderr",
     "output_type": "stream",
     "text": [
      "W0808 17:37:30.496871 140100827197568 hdf5_format.py:221] No training configuration found in save file: the model was *not* compiled. Compile it manually.\n"
     ]
    },
    {
     "name": "stdout",
     "output_type": "stream",
     "text": [
      "2019-08-08 17:37:30,498 INFO  [src.meta.keras:217] (MainThread) conv freeze_var_names = ['conv2d/bias', 'conv2d_1/kernel', 'batch_normalization_2/beta', 'fc100/bias', 'batch_normalization_1/beta', 'conv2d_2/kernel', 'batch_normalization/moving_variance', 'batch_normalization_2/gamma', 'batch_normalization/moving_mean', 'batch_normalization_1/moving_variance', 'conv2d_1/bias', 'batch_normalization_2/moving_variance', 'batch_normalization/beta', 'batch_normalization_1/moving_mean', 'batch_normalization_2/moving_mean', 'fc100/kernel', 'batch_normalization_1/gamma', 'conv2d_2/bias', 'batch_normalization/gamma', 'conv2d/kernel']\n",
      "2019-08-08 17:37:30,499 INFO  [src.meta.keras:221] (MainThread) conv output_names = ['fc100/Softmax', 'conv2d/kernel', 'conv2d/bias', 'batch_normalization/gamma', 'batch_normalization/beta', 'batch_normalization/moving_mean', 'batch_normalization/moving_variance', 'conv2d_1/kernel', 'conv2d_1/bias', 'batch_normalization_1/gamma', 'batch_normalization_1/beta', 'batch_normalization_1/moving_mean', 'batch_normalization_1/moving_variance', 'conv2d_2/kernel', 'conv2d_2/bias', 'batch_normalization_2/gamma', 'batch_normalization_2/beta', 'batch_normalization_2/moving_mean', 'batch_normalization_2/moving_variance', 'fc100/kernel', 'fc100/bias']\n",
      "2019-08-08 17:37:30,501 INFO  [src.meta.keras:228] (MainThread) conv convert_variables_to_constants...\n",
      "2019-08-08 17:37:30,525 INFO  [src.meta.keras:236] (MainThread) conv Saving frozen graph to /space/code/deep-learning/models/conv_006/conv_006.pb...\n",
      "2019-08-08 17:37:30,527 WARN  [src.meta.keras:246] (MainThread) conv Bug Workaround: Clearing session...\n",
      "2019-08-08 17:37:30,529 WARN  [src.meta.keras:250] (MainThread) conv Bug Workaround: NOTTTTTTTTT Setting learning phase to 1...\n",
      "2019-08-08 17:37:30,530 WARN  [src.meta.keras:253] (MainThread) conv Bug Workaround: Reloading keras model...\n",
      "2019-08-08 17:37:31,296 DEBUG [src.meta.keras:63] (MainThread) conv keras tensorboard callback attached. Visualize by running: \n",
      "2019-08-08 17:37:31,297 DEBUG [src.meta.keras:64] (MainThread) > tensorboard --logdir=/space/code/deep-learning/tmp/tensorboard/20190808-173646_conv\n",
      "2019-08-08 17:37:31,298 DEBUG [src.meta.keras:66] (MainThread) conv keras checkpoint callback attached. Logging to /space/code/deep-learning/models/conv_{epoch:03d}/conv_{epoch:03d}_checkpoint.h5...\n",
      "2019-08-08 17:37:31,299 INFO  [src.meta.keras:73] (MainThread) Creating /space/code/deep-learning/models/conv_007 (if not already exists)...\n",
      "Epoch 7/7\n",
      "50000/50000 [==============================] - 7s 149us/sample - loss: 2.5121 - acc: 0.3713\n",
      "2019-08-08 17:37:38,823 WARN  [src.meta.keras:190] (MainThread) conv Bug Workaround: Saving h5 file to ensure it can be loaded...\n",
      "2019-08-08 17:37:38,849 WARN  [src.meta.keras:193] (MainThread) conv Bug Workaround: Saving h5 file without optimizer to ensure it can be loaded...\n",
      "2019-08-08 17:37:38,864 WARN  [src.meta.keras:197] (MainThread) conv Bug Workaround: Clearing session...\n",
      "2019-08-08 17:37:38,867 WARN  [src.meta.keras:201] (MainThread) conv Bug Workaround: Setting learning phase to 0...\n",
      "2019-08-08 17:37:38,868 WARN  [src.meta.keras:204] (MainThread) conv Bug Workaround: Reloading keras model...\n"
     ]
    },
    {
     "name": "stderr",
     "output_type": "stream",
     "text": [
      "W0808 17:37:39.081767 140100827197568 hdf5_format.py:221] No training configuration found in save file: the model was *not* compiled. Compile it manually.\n"
     ]
    },
    {
     "name": "stdout",
     "output_type": "stream",
     "text": [
      "2019-08-08 17:37:39,083 INFO  [src.meta.keras:217] (MainThread) conv freeze_var_names = ['conv2d/bias', 'conv2d_1/kernel', 'batch_normalization_2/beta', 'fc100/bias', 'batch_normalization_1/beta', 'conv2d_2/kernel', 'batch_normalization/moving_variance', 'batch_normalization_2/gamma', 'batch_normalization/moving_mean', 'batch_normalization_1/moving_variance', 'conv2d_1/bias', 'batch_normalization_2/moving_variance', 'batch_normalization/beta', 'batch_normalization_1/moving_mean', 'batch_normalization_2/moving_mean', 'fc100/kernel', 'batch_normalization_1/gamma', 'conv2d_2/bias', 'batch_normalization/gamma', 'conv2d/kernel']\n",
      "2019-08-08 17:37:39,084 INFO  [src.meta.keras:221] (MainThread) conv output_names = ['fc100/Softmax', 'conv2d/kernel', 'conv2d/bias', 'batch_normalization/gamma', 'batch_normalization/beta', 'batch_normalization/moving_mean', 'batch_normalization/moving_variance', 'conv2d_1/kernel', 'conv2d_1/bias', 'batch_normalization_1/gamma', 'batch_normalization_1/beta', 'batch_normalization_1/moving_mean', 'batch_normalization_1/moving_variance', 'conv2d_2/kernel', 'conv2d_2/bias', 'batch_normalization_2/gamma', 'batch_normalization_2/beta', 'batch_normalization_2/moving_mean', 'batch_normalization_2/moving_variance', 'fc100/kernel', 'fc100/bias']\n",
      "2019-08-08 17:37:39,087 INFO  [src.meta.keras:228] (MainThread) conv convert_variables_to_constants...\n",
      "2019-08-08 17:37:39,110 INFO  [src.meta.keras:236] (MainThread) conv Saving frozen graph to /space/code/deep-learning/models/conv_007/conv_007.pb...\n",
      "2019-08-08 17:37:39,112 WARN  [src.meta.keras:246] (MainThread) conv Bug Workaround: Clearing session...\n",
      "2019-08-08 17:37:39,115 WARN  [src.meta.keras:250] (MainThread) conv Bug Workaround: NOTTTTTTTTT Setting learning phase to 1...\n",
      "2019-08-08 17:37:39,116 WARN  [src.meta.keras:253] (MainThread) conv Bug Workaround: Reloading keras model...\n",
      "2019-08-08 17:37:39,884 DEBUG [src.meta.keras:63] (MainThread) conv keras tensorboard callback attached. Visualize by running: \n",
      "2019-08-08 17:37:39,885 DEBUG [src.meta.keras:64] (MainThread) > tensorboard --logdir=/space/code/deep-learning/tmp/tensorboard/20190808-173646_conv\n",
      "2019-08-08 17:37:39,886 DEBUG [src.meta.keras:66] (MainThread) conv keras checkpoint callback attached. Logging to /space/code/deep-learning/models/conv_{epoch:03d}/conv_{epoch:03d}_checkpoint.h5...\n",
      "2019-08-08 17:37:39,887 INFO  [src.meta.keras:73] (MainThread) Creating /space/code/deep-learning/models/conv_008 (if not already exists)...\n",
      "Epoch 8/8\n",
      "50000/50000 [==============================] - 7s 143us/sample - loss: 2.4684 - acc: 0.3823\n",
      "2019-08-08 17:37:47,114 WARN  [src.meta.keras:190] (MainThread) conv Bug Workaround: Saving h5 file to ensure it can be loaded...\n",
      "2019-08-08 17:37:47,140 WARN  [src.meta.keras:193] (MainThread) conv Bug Workaround: Saving h5 file without optimizer to ensure it can be loaded...\n",
      "2019-08-08 17:37:47,159 WARN  [src.meta.keras:197] (MainThread) conv Bug Workaround: Clearing session...\n",
      "2019-08-08 17:37:47,162 WARN  [src.meta.keras:201] (MainThread) conv Bug Workaround: Setting learning phase to 0...\n",
      "2019-08-08 17:37:47,163 WARN  [src.meta.keras:204] (MainThread) conv Bug Workaround: Reloading keras model...\n"
     ]
    },
    {
     "name": "stderr",
     "output_type": "stream",
     "text": [
      "W0808 17:37:47.377732 140100827197568 hdf5_format.py:221] No training configuration found in save file: the model was *not* compiled. Compile it manually.\n"
     ]
    },
    {
     "name": "stdout",
     "output_type": "stream",
     "text": [
      "2019-08-08 17:37:47,379 INFO  [src.meta.keras:217] (MainThread) conv freeze_var_names = ['conv2d/bias', 'conv2d_1/kernel', 'batch_normalization_2/beta', 'fc100/bias', 'batch_normalization_1/beta', 'conv2d_2/kernel', 'batch_normalization/moving_variance', 'batch_normalization_2/gamma', 'batch_normalization/moving_mean', 'batch_normalization_1/moving_variance', 'conv2d_1/bias', 'batch_normalization_2/moving_variance', 'batch_normalization/beta', 'batch_normalization_1/moving_mean', 'batch_normalization_2/moving_mean', 'fc100/kernel', 'batch_normalization_1/gamma', 'conv2d_2/bias', 'batch_normalization/gamma', 'conv2d/kernel']\n",
      "2019-08-08 17:37:47,380 INFO  [src.meta.keras:221] (MainThread) conv output_names = ['fc100/Softmax', 'conv2d/kernel', 'conv2d/bias', 'batch_normalization/gamma', 'batch_normalization/beta', 'batch_normalization/moving_mean', 'batch_normalization/moving_variance', 'conv2d_1/kernel', 'conv2d_1/bias', 'batch_normalization_1/gamma', 'batch_normalization_1/beta', 'batch_normalization_1/moving_mean', 'batch_normalization_1/moving_variance', 'conv2d_2/kernel', 'conv2d_2/bias', 'batch_normalization_2/gamma', 'batch_normalization_2/beta', 'batch_normalization_2/moving_mean', 'batch_normalization_2/moving_variance', 'fc100/kernel', 'fc100/bias']\n",
      "2019-08-08 17:37:47,382 INFO  [src.meta.keras:228] (MainThread) conv convert_variables_to_constants...\n",
      "2019-08-08 17:37:47,402 INFO  [src.meta.keras:236] (MainThread) conv Saving frozen graph to /space/code/deep-learning/models/conv_008/conv_008.pb...\n",
      "2019-08-08 17:37:47,404 WARN  [src.meta.keras:246] (MainThread) conv Bug Workaround: Clearing session...\n",
      "2019-08-08 17:37:47,406 WARN  [src.meta.keras:250] (MainThread) conv Bug Workaround: NOTTTTTTTTT Setting learning phase to 1...\n",
      "2019-08-08 17:37:47,406 WARN  [src.meta.keras:253] (MainThread) conv Bug Workaround: Reloading keras model...\n",
      "2019-08-08 17:37:48,181 DEBUG [src.meta.keras:63] (MainThread) conv keras tensorboard callback attached. Visualize by running: \n",
      "2019-08-08 17:37:48,182 DEBUG [src.meta.keras:64] (MainThread) > tensorboard --logdir=/space/code/deep-learning/tmp/tensorboard/20190808-173646_conv\n",
      "2019-08-08 17:37:48,182 DEBUG [src.meta.keras:66] (MainThread) conv keras checkpoint callback attached. Logging to /space/code/deep-learning/models/conv_{epoch:03d}/conv_{epoch:03d}_checkpoint.h5...\n",
      "2019-08-08 17:37:48,183 INFO  [src.meta.keras:73] (MainThread) Creating /space/code/deep-learning/models/conv_009 (if not already exists)...\n",
      "Epoch 9/9\n",
      "50000/50000 [==============================] - 7s 142us/sample - loss: 2.4262 - acc: 0.3901\n",
      "2019-08-08 17:37:55,392 WARN  [src.meta.keras:190] (MainThread) conv Bug Workaround: Saving h5 file to ensure it can be loaded...\n",
      "2019-08-08 17:37:55,423 WARN  [src.meta.keras:193] (MainThread) conv Bug Workaround: Saving h5 file without optimizer to ensure it can be loaded...\n",
      "2019-08-08 17:37:55,440 WARN  [src.meta.keras:197] (MainThread) conv Bug Workaround: Clearing session...\n",
      "2019-08-08 17:37:55,443 WARN  [src.meta.keras:201] (MainThread) conv Bug Workaround: Setting learning phase to 0...\n",
      "2019-08-08 17:37:55,443 WARN  [src.meta.keras:204] (MainThread) conv Bug Workaround: Reloading keras model...\n"
     ]
    },
    {
     "name": "stderr",
     "output_type": "stream",
     "text": [
      "W0808 17:37:55.659028 140100827197568 hdf5_format.py:221] No training configuration found in save file: the model was *not* compiled. Compile it manually.\n"
     ]
    },
    {
     "name": "stdout",
     "output_type": "stream",
     "text": [
      "2019-08-08 17:37:55,660 INFO  [src.meta.keras:217] (MainThread) conv freeze_var_names = ['conv2d/bias', 'conv2d_1/kernel', 'batch_normalization_2/beta', 'fc100/bias', 'batch_normalization_1/beta', 'conv2d_2/kernel', 'batch_normalization/moving_variance', 'batch_normalization_2/gamma', 'batch_normalization/moving_mean', 'batch_normalization_1/moving_variance', 'conv2d_1/bias', 'batch_normalization_2/moving_variance', 'batch_normalization/beta', 'batch_normalization_1/moving_mean', 'batch_normalization_2/moving_mean', 'fc100/kernel', 'batch_normalization_1/gamma', 'conv2d_2/bias', 'batch_normalization/gamma', 'conv2d/kernel']\n",
      "2019-08-08 17:37:55,661 INFO  [src.meta.keras:221] (MainThread) conv output_names = ['fc100/Softmax', 'conv2d/kernel', 'conv2d/bias', 'batch_normalization/gamma', 'batch_normalization/beta', 'batch_normalization/moving_mean', 'batch_normalization/moving_variance', 'conv2d_1/kernel', 'conv2d_1/bias', 'batch_normalization_1/gamma', 'batch_normalization_1/beta', 'batch_normalization_1/moving_mean', 'batch_normalization_1/moving_variance', 'conv2d_2/kernel', 'conv2d_2/bias', 'batch_normalization_2/gamma', 'batch_normalization_2/beta', 'batch_normalization_2/moving_mean', 'batch_normalization_2/moving_variance', 'fc100/kernel', 'fc100/bias']\n",
      "2019-08-08 17:37:55,663 INFO  [src.meta.keras:228] (MainThread) conv convert_variables_to_constants...\n",
      "2019-08-08 17:37:55,686 INFO  [src.meta.keras:236] (MainThread) conv Saving frozen graph to /space/code/deep-learning/models/conv_009/conv_009.pb...\n",
      "2019-08-08 17:37:55,688 WARN  [src.meta.keras:246] (MainThread) conv Bug Workaround: Clearing session...\n",
      "2019-08-08 17:37:55,690 WARN  [src.meta.keras:250] (MainThread) conv Bug Workaround: NOTTTTTTTTT Setting learning phase to 1...\n",
      "2019-08-08 17:37:55,690 WARN  [src.meta.keras:253] (MainThread) conv Bug Workaround: Reloading keras model...\n",
      "2019-08-08 17:37:56,465 DEBUG [src.meta.keras:63] (MainThread) conv keras tensorboard callback attached. Visualize by running: \n",
      "2019-08-08 17:37:56,466 DEBUG [src.meta.keras:64] (MainThread) > tensorboard --logdir=/space/code/deep-learning/tmp/tensorboard/20190808-173646_conv\n",
      "2019-08-08 17:37:56,467 DEBUG [src.meta.keras:66] (MainThread) conv keras checkpoint callback attached. Logging to /space/code/deep-learning/models/conv_{epoch:03d}/conv_{epoch:03d}_checkpoint.h5...\n",
      "2019-08-08 17:37:56,467 INFO  [src.meta.keras:73] (MainThread) Creating /space/code/deep-learning/models/conv_010 (if not already exists)...\n",
      "Epoch 10/10\n",
      "50000/50000 [==============================] - 7s 139us/sample - loss: 2.3918 - acc: 0.3979\n",
      "2019-08-08 17:38:03,538 WARN  [src.meta.keras:190] (MainThread) conv Bug Workaround: Saving h5 file to ensure it can be loaded...\n",
      "2019-08-08 17:38:03,571 WARN  [src.meta.keras:193] (MainThread) conv Bug Workaround: Saving h5 file without optimizer to ensure it can be loaded...\n",
      "2019-08-08 17:38:03,587 WARN  [src.meta.keras:197] (MainThread) conv Bug Workaround: Clearing session...\n",
      "2019-08-08 17:38:03,589 WARN  [src.meta.keras:201] (MainThread) conv Bug Workaround: Setting learning phase to 0...\n",
      "2019-08-08 17:38:03,590 WARN  [src.meta.keras:204] (MainThread) conv Bug Workaround: Reloading keras model...\n"
     ]
    },
    {
     "name": "stderr",
     "output_type": "stream",
     "text": [
      "W0808 17:38:03.801507 140100827197568 hdf5_format.py:221] No training configuration found in save file: the model was *not* compiled. Compile it manually.\n"
     ]
    },
    {
     "name": "stdout",
     "output_type": "stream",
     "text": [
      "2019-08-08 17:38:03,802 INFO  [src.meta.keras:217] (MainThread) conv freeze_var_names = ['conv2d/bias', 'conv2d_1/kernel', 'batch_normalization_2/beta', 'fc100/bias', 'batch_normalization_1/beta', 'conv2d_2/kernel', 'batch_normalization/moving_variance', 'batch_normalization_2/gamma', 'batch_normalization/moving_mean', 'batch_normalization_1/moving_variance', 'conv2d_1/bias', 'batch_normalization_2/moving_variance', 'batch_normalization/beta', 'batch_normalization_1/moving_mean', 'batch_normalization_2/moving_mean', 'fc100/kernel', 'batch_normalization_1/gamma', 'conv2d_2/bias', 'batch_normalization/gamma', 'conv2d/kernel']\n",
      "2019-08-08 17:38:03,803 INFO  [src.meta.keras:221] (MainThread) conv output_names = ['fc100/Softmax', 'conv2d/kernel', 'conv2d/bias', 'batch_normalization/gamma', 'batch_normalization/beta', 'batch_normalization/moving_mean', 'batch_normalization/moving_variance', 'conv2d_1/kernel', 'conv2d_1/bias', 'batch_normalization_1/gamma', 'batch_normalization_1/beta', 'batch_normalization_1/moving_mean', 'batch_normalization_1/moving_variance', 'conv2d_2/kernel', 'conv2d_2/bias', 'batch_normalization_2/gamma', 'batch_normalization_2/beta', 'batch_normalization_2/moving_mean', 'batch_normalization_2/moving_variance', 'fc100/kernel', 'fc100/bias']\n",
      "2019-08-08 17:38:03,807 INFO  [src.meta.keras:228] (MainThread) conv convert_variables_to_constants...\n",
      "2019-08-08 17:38:03,829 INFO  [src.meta.keras:236] (MainThread) conv Saving frozen graph to /space/code/deep-learning/models/conv_010/conv_010.pb...\n",
      "2019-08-08 17:38:03,831 WARN  [src.meta.keras:246] (MainThread) conv Bug Workaround: Clearing session...\n",
      "2019-08-08 17:38:03,833 WARN  [src.meta.keras:250] (MainThread) conv Bug Workaround: NOTTTTTTTTT Setting learning phase to 1...\n",
      "2019-08-08 17:38:03,834 WARN  [src.meta.keras:253] (MainThread) conv Bug Workaround: Reloading keras model...\n",
      "2019-08-08 17:38:04,608 DEBUG [src.meta.keras:63] (MainThread) conv keras tensorboard callback attached. Visualize by running: \n",
      "2019-08-08 17:38:04,608 DEBUG [src.meta.keras:64] (MainThread) > tensorboard --logdir=/space/code/deep-learning/tmp/tensorboard/20190808-173646_conv\n",
      "2019-08-08 17:38:04,609 DEBUG [src.meta.keras:66] (MainThread) conv keras checkpoint callback attached. Logging to /space/code/deep-learning/models/conv_{epoch:03d}/conv_{epoch:03d}_checkpoint.h5...\n",
      "2019-08-08 17:38:04,610 INFO  [src.meta.keras:73] (MainThread) Creating /space/code/deep-learning/models/conv_011 (if not already exists)...\n",
      "Epoch 11/11\n",
      "50000/50000 [==============================] - 7s 139us/sample - loss: 2.3624 - acc: 0.4025\n",
      "2019-08-08 17:38:11,655 WARN  [src.meta.keras:190] (MainThread) conv Bug Workaround: Saving h5 file to ensure it can be loaded...\n",
      "2019-08-08 17:38:11,682 WARN  [src.meta.keras:193] (MainThread) conv Bug Workaround: Saving h5 file without optimizer to ensure it can be loaded...\n",
      "2019-08-08 17:38:11,698 WARN  [src.meta.keras:197] (MainThread) conv Bug Workaround: Clearing session...\n",
      "2019-08-08 17:38:11,700 WARN  [src.meta.keras:201] (MainThread) conv Bug Workaround: Setting learning phase to 0...\n",
      "2019-08-08 17:38:11,702 WARN  [src.meta.keras:204] (MainThread) conv Bug Workaround: Reloading keras model...\n"
     ]
    },
    {
     "name": "stderr",
     "output_type": "stream",
     "text": [
      "W0808 17:38:11.919552 140100827197568 hdf5_format.py:221] No training configuration found in save file: the model was *not* compiled. Compile it manually.\n"
     ]
    },
    {
     "name": "stdout",
     "output_type": "stream",
     "text": [
      "2019-08-08 17:38:11,921 INFO  [src.meta.keras:217] (MainThread) conv freeze_var_names = ['conv2d/bias', 'conv2d_1/kernel', 'batch_normalization_2/beta', 'fc100/bias', 'batch_normalization_1/beta', 'conv2d_2/kernel', 'batch_normalization/moving_variance', 'batch_normalization_2/gamma', 'batch_normalization/moving_mean', 'batch_normalization_1/moving_variance', 'conv2d_1/bias', 'batch_normalization_2/moving_variance', 'batch_normalization/beta', 'batch_normalization_1/moving_mean', 'batch_normalization_2/moving_mean', 'fc100/kernel', 'batch_normalization_1/gamma', 'conv2d_2/bias', 'batch_normalization/gamma', 'conv2d/kernel']\n",
      "2019-08-08 17:38:11,922 INFO  [src.meta.keras:221] (MainThread) conv output_names = ['fc100/Softmax', 'conv2d/kernel', 'conv2d/bias', 'batch_normalization/gamma', 'batch_normalization/beta', 'batch_normalization/moving_mean', 'batch_normalization/moving_variance', 'conv2d_1/kernel', 'conv2d_1/bias', 'batch_normalization_1/gamma', 'batch_normalization_1/beta', 'batch_normalization_1/moving_mean', 'batch_normalization_1/moving_variance', 'conv2d_2/kernel', 'conv2d_2/bias', 'batch_normalization_2/gamma', 'batch_normalization_2/beta', 'batch_normalization_2/moving_mean', 'batch_normalization_2/moving_variance', 'fc100/kernel', 'fc100/bias']\n",
      "2019-08-08 17:38:11,925 INFO  [src.meta.keras:228] (MainThread) conv convert_variables_to_constants...\n",
      "2019-08-08 17:38:11,946 INFO  [src.meta.keras:236] (MainThread) conv Saving frozen graph to /space/code/deep-learning/models/conv_011/conv_011.pb...\n",
      "2019-08-08 17:38:11,948 WARN  [src.meta.keras:246] (MainThread) conv Bug Workaround: Clearing session...\n",
      "2019-08-08 17:38:11,951 WARN  [src.meta.keras:250] (MainThread) conv Bug Workaround: NOTTTTTTTTT Setting learning phase to 1...\n",
      "2019-08-08 17:38:11,952 WARN  [src.meta.keras:253] (MainThread) conv Bug Workaround: Reloading keras model...\n"
     ]
    }
   ],
   "source": [
    "if _DO_FIT:\n",
    "    for i in range(m.epoch, m.epoch+_ADDITIONAL_EPOCHS):\n",
    "        model.fit(train_images, train_labels, epochs=i+1, initial_epoch=i)\n",
    "        model.freeze_session()"
   ]
  },
  {
   "cell_type": "code",
   "execution_count": 11,
   "metadata": {
    "pycharm": {
     "is_executing": false
    }
   },
   "outputs": [
    {
     "data": {
      "text/plain": [
       "11"
      ]
     },
     "execution_count": 11,
     "metadata": {},
     "output_type": "execute_result"
    }
   ],
   "source": [
    "m.epoch"
   ]
  },
  {
   "cell_type": "code",
   "execution_count": 12,
   "metadata": {
    "pycharm": {
     "is_executing": false
    }
   },
   "outputs": [
    {
     "name": "stdout",
     "output_type": "stream",
     "text": [
      "10000/10000 [==============================] - 1s 75us/sample - loss: 2.9487 - acc: 0.2976\n"
     ]
    },
    {
     "data": {
      "text/plain": [
       "(0, [2.9487046257019043, 0.2976])"
      ]
     },
     "execution_count": 12,
     "metadata": {},
     "output_type": "execute_result"
    }
   ],
   "source": [
    "m.evaluate(test_images, test_labels)"
   ]
  },
  {
   "cell_type": "code",
   "execution_count": 13,
   "metadata": {
    "pycharm": {
     "is_executing": false
    }
   },
   "outputs": [
    {
     "data": {
      "text/plain": [
       "(0, array([[4.6424012e-07, 5.2555533e-06, 1.8432918e-03, ..., 8.7425396e-05,\n",
       "         9.7608194e-04, 4.9521662e-03],\n",
       "        [5.8053475e-04, 5.2950671e-04, 3.9766874e-04, ..., 3.1172194e-02,\n",
       "         1.3336734e-04, 3.3685015e-04],\n",
       "        [2.1916981e-07, 2.5617783e-05, 1.9058911e-04, ..., 6.3236867e-04,\n",
       "         6.7025080e-04, 2.5662789e-04],\n",
       "        ...,\n",
       "        [8.6767471e-04, 9.6610643e-04, 1.1260538e-05, ..., 3.3607276e-03,\n",
       "         2.0753562e-06, 2.4659007e-03],\n",
       "        [9.6667281e-06, 4.5603465e-06, 2.2463712e-03, ..., 3.6006138e-02,\n",
       "         1.3520994e-04, 7.7307485e-03],\n",
       "        [8.8536966e-04, 9.9568488e-03, 2.4203486e-03, ..., 3.6148288e-07,\n",
       "         2.6467685e-03, 2.2725342e-04]], dtype=float32))"
      ]
     },
     "execution_count": 13,
     "metadata": {},
     "output_type": "execute_result"
    }
   ],
   "source": [
    "m.predict(test_images)"
   ]
  },
  {
   "cell_type": "code",
   "execution_count": 14,
   "metadata": {
    "pycharm": {
     "is_executing": false
    }
   },
   "outputs": [
    {
     "name": "stdout",
     "output_type": "stream",
     "text": [
      "2019-08-08 17:38:14,120 DEBUG [src.meta.meta:96] (MainThread) conv Saving keras model to /space/code/deep-learning/models/conv_011/conv_011.h5...\n",
      "2019-08-08 17:38:14,241 DEBUG [src.meta.meta:104] (MainThread) conv Saving keras model weights to /space/code/deep-learning/models/conv_011/conv_011_weights.h5...\n",
      "2019-08-08 17:38:14,255 DEBUG [src.meta.meta:112] (MainThread) conv Saving keras model without optimizer to /space/code/deep-learning/models/conv_011/conv_011_no_optimizer.h5...\n"
     ]
    },
    {
     "data": {
      "text/plain": [
       "0"
      ]
     },
     "execution_count": 14,
     "metadata": {},
     "output_type": "execute_result"
    }
   ],
   "source": [
    "m.save()"
   ]
  },
  {
   "cell_type": "code",
   "execution_count": 15,
   "metadata": {
    "pycharm": {
     "is_executing": false
    }
   },
   "outputs": [
    {
     "name": "stdout",
     "output_type": "stream",
     "text": [
      "2019-08-08 17:38:14,285 DEBUG [src.utils.cuda_utils:72] (MainThread) Found 1 CUDA device.\n",
      "2019-08-08 17:38:14,286 DEBUG [src.utils.cuda_utils:83] (MainThread) [GPU:0] Name: GeForce RTX 2080 Ti\n",
      "2019-08-08 17:38:14,287 DEBUG [src.utils.cuda_utils:86] (MainThread) [GPU:0] Compute Capability: 7.5\n",
      "2019-08-08 17:38:14,287 DEBUG [src.utils.cuda_utils:90] (MainThread) [GPU:0] Multiprocessors: 68\n",
      "2019-08-08 17:38:14,288 DEBUG [src.utils.cuda_utils:91] (MainThread) [GPU:0] CUDA Cores: 13056\n",
      "2019-08-08 17:38:14,288 DEBUG [src.utils.cuda_utils:95] (MainThread) [GPU:0] Concurrent threads: 69632\n",
      "2019-08-08 17:38:14,289 DEBUG [src.utils.cuda_utils:99] (MainThread) [GPU:0] GPU clock: 1635 MHz\n",
      "2019-08-08 17:38:14,290 DEBUG [src.utils.cuda_utils:103] (MainThread) [GPU:0] Memory clock: 7000 MHz\n",
      "2019-08-08 17:38:14,371 ERROR [src.utils.cuda_utils:108] (MainThread) [GPU:0] cuCtxCreate failed with error code 2: out of memory\n",
      "2019-08-08 17:38:14,371 DEBUG [src.meta.meta:123] (MainThread) conv mode = KERAS\n",
      "2019-08-08 17:38:14,372 DEBUG [src.meta.meta:124] (MainThread) conv epoch = 11\n",
      "2019-08-08 17:38:14,372 DEBUG [src.meta.keras:161] (MainThread) Model: \"conv\"\n",
      "2019-08-08 17:38:14,373 DEBUG [src.meta.keras:162] (MainThread) _________________________________________________________________\n",
      "2019-08-08 17:38:14,373 DEBUG [src.meta.keras:159] (MainThread) Layer (type)                 Output Shape              Param #   \n",
      "2019-08-08 17:38:14,374 DEBUG [src.meta.keras:164] (MainThread) =================================================================\n",
      "2019-08-08 17:38:14,374 DEBUG [src.meta.keras:159] (MainThread) input_1 (InputLayer)         [(None, 32, 32, 3)]       0         \n",
      "2019-08-08 17:38:14,375 DEBUG [src.meta.keras:228] (MainThread) _________________________________________________________________\n",
      "2019-08-08 17:38:14,375 DEBUG [src.meta.keras:159] (MainThread) conv2d (Conv2D)              (None, 32, 32, 16)        448       \n",
      "2019-08-08 17:38:14,376 DEBUG [src.meta.keras:228] (MainThread) _________________________________________________________________\n",
      "2019-08-08 17:38:14,376 DEBUG [src.meta.keras:159] (MainThread) batch_normalization (BatchNo (None, 32, 32, 16)        64        \n",
      "2019-08-08 17:38:14,377 DEBUG [src.meta.keras:228] (MainThread) _________________________________________________________________\n",
      "2019-08-08 17:38:14,377 DEBUG [src.meta.keras:159] (MainThread) activation (Activation)      (None, 32, 32, 16)        0         \n",
      "2019-08-08 17:38:14,378 DEBUG [src.meta.keras:228] (MainThread) _________________________________________________________________\n",
      "2019-08-08 17:38:14,380 DEBUG [src.meta.keras:159] (MainThread) max_pooling2d (MaxPooling2D) (None, 16, 16, 16)        0         \n",
      "2019-08-08 17:38:14,381 DEBUG [src.meta.keras:228] (MainThread) _________________________________________________________________\n",
      "2019-08-08 17:38:14,382 DEBUG [src.meta.keras:159] (MainThread) conv2d_1 (Conv2D)            (None, 16, 16, 8)         1160      \n",
      "2019-08-08 17:38:14,382 DEBUG [src.meta.keras:228] (MainThread) _________________________________________________________________\n",
      "2019-08-08 17:38:14,383 DEBUG [src.meta.keras:159] (MainThread) batch_normalization_1 (Batch (None, 16, 16, 8)         32        \n",
      "2019-08-08 17:38:14,383 DEBUG [src.meta.keras:228] (MainThread) _________________________________________________________________\n",
      "2019-08-08 17:38:14,384 DEBUG [src.meta.keras:159] (MainThread) activation_1 (Activation)    (None, 16, 16, 8)         0         \n",
      "2019-08-08 17:38:14,384 DEBUG [src.meta.keras:228] (MainThread) _________________________________________________________________\n",
      "2019-08-08 17:38:14,385 DEBUG [src.meta.keras:159] (MainThread) max_pooling2d_1 (MaxPooling2 (None, 8, 8, 8)           0         \n",
      "2019-08-08 17:38:14,386 DEBUG [src.meta.keras:228] (MainThread) _________________________________________________________________\n",
      "2019-08-08 17:38:14,386 DEBUG [src.meta.keras:159] (MainThread) conv2d_2 (Conv2D)            (None, 8, 8, 8)           584       \n",
      "2019-08-08 17:38:14,387 DEBUG [src.meta.keras:228] (MainThread) _________________________________________________________________\n",
      "2019-08-08 17:38:14,387 DEBUG [src.meta.keras:159] (MainThread) batch_normalization_2 (Batch (None, 8, 8, 8)           32        \n",
      "2019-08-08 17:38:14,388 DEBUG [src.meta.keras:228] (MainThread) _________________________________________________________________\n",
      "2019-08-08 17:38:14,388 DEBUG [src.meta.keras:159] (MainThread) activation_2 (Activation)    (None, 8, 8, 8)           0         \n",
      "2019-08-08 17:38:14,389 DEBUG [src.meta.keras:228] (MainThread) _________________________________________________________________\n",
      "2019-08-08 17:38:14,390 DEBUG [src.meta.keras:159] (MainThread) flatten (Flatten)            (None, 512)               0         \n",
      "2019-08-08 17:38:14,391 DEBUG [src.meta.keras:228] (MainThread) _________________________________________________________________\n",
      "2019-08-08 17:38:14,391 DEBUG [src.meta.keras:159] (MainThread) fc100 (Dense)                (None, 100)               51300     \n",
      "2019-08-08 17:38:14,392 DEBUG [src.meta.keras:226] (MainThread) =================================================================\n",
      "2019-08-08 17:38:14,394 DEBUG [src.meta.keras:238] (MainThread) Total params: 53,620\n",
      "2019-08-08 17:38:14,394 DEBUG [src.meta.keras:239] (MainThread) Trainable params: 53,556\n",
      "2019-08-08 17:38:14,395 DEBUG [src.meta.keras:240] (MainThread) Non-trainable params: 64\n",
      "2019-08-08 17:38:14,396 DEBUG [src.meta.keras:241] (MainThread) _________________________________________________________________\n",
      "2019-08-08 17:38:14,396 DEBUG [src.meta.keras:162] (MainThread) conv Input tensor: Tensor(\"input_1:0\", shape=(?, 32, 32, 3), dtype=float32)\n",
      "2019-08-08 17:38:14,398 DEBUG [src.meta.keras:165] (MainThread) conv Input tensor name: input_1\n",
      "2019-08-08 17:38:14,398 DEBUG [src.meta.keras:168] (MainThread) conv Output tensor: Tensor(\"fc100/Softmax:0\", shape=(?, 100), dtype=float32)\n",
      "2019-08-08 17:38:14,399 DEBUG [src.meta.keras:171] (MainThread) conv Output tensor name: fc100/Softmax\n"
     ]
    },
    {
     "data": {
      "text/plain": [
       "0"
      ]
     },
     "execution_count": 15,
     "metadata": {},
     "output_type": "execute_result"
    }
   ],
   "source": [
    "m.dump()"
   ]
  },
  {
   "cell_type": "code",
   "execution_count": 16,
   "metadata": {
    "pycharm": {
     "is_executing": false
    }
   },
   "outputs": [
    {
     "name": "stdout",
     "output_type": "stream",
     "text": [
      "2019-08-08 17:38:14,406 DEBUG [src.meta.meta:222] (MainThread) conv Saving mode TF_LITE via mode KERAS...\n",
      "2019-08-08 17:38:15,131 DEBUG [src.meta.meta:143] (MainThread) conv Deleting existing delegate...\n",
      "2019-08-08 17:38:15,132 DEBUG [src.meta.keras:276] (MainThread) conv Loading keras model from /space/code/deep-learning/models/conv_011/conv_011.h5...\n",
      "2019-08-08 17:38:16,020 INFO  [src.meta.meta:315] (MainThread) conv Converting to tflite INT8 model...\n",
      "2019-08-08 17:38:17,796 INFO  [src.meta.meta:318] (MainThread) conv Saving tflite model to /space/code/deep-learning/models/conv_011/conv_011_int8.tflite...\n"
     ]
    },
    {
     "data": {
      "text/plain": [
       "0"
      ]
     },
     "execution_count": 16,
     "metadata": {},
     "output_type": "execute_result"
    }
   ],
   "source": [
    "m.save_to(TensorApi.TF_LITE, representative_data=train_images)"
   ]
  },
  {
   "cell_type": "code",
   "execution_count": 17,
   "metadata": {
    "pycharm": {
     "is_executing": false
    }
   },
   "outputs": [
    {
     "name": "stdout",
     "output_type": "stream",
     "text": [
      "2019-08-08 17:38:17,805 DEBUG [src.meta.meta:96] (MainThread) conv Saving keras model to /space/code/deep-learning/models/conv_011/conv_011.h5...\n",
      "2019-08-08 17:38:17,996 DEBUG [src.meta.meta:104] (MainThread) conv Saving keras model weights to /space/code/deep-learning/models/conv_011/conv_011_weights.h5...\n",
      "2019-08-08 17:38:18,010 DEBUG [src.meta.meta:112] (MainThread) conv Saving keras model without optimizer to /space/code/deep-learning/models/conv_011/conv_011_no_optimizer.h5...\n"
     ]
    },
    {
     "data": {
      "text/plain": [
       "0"
      ]
     },
     "execution_count": 17,
     "metadata": {},
     "output_type": "execute_result"
    }
   ],
   "source": [
    "m.save()"
   ]
  },
  {
   "cell_type": "markdown",
   "metadata": {},
   "source": [
    "# Freeze"
   ]
  },
  {
   "cell_type": "code",
   "execution_count": 18,
   "metadata": {
    "pycharm": {
     "is_executing": false
    }
   },
   "outputs": [
    {
     "name": "stdout",
     "output_type": "stream",
     "text": [
      "2019-08-08 17:38:18,046 WARN  [src.meta.keras:190] (MainThread) conv Bug Workaround: Saving h5 file to ensure it can be loaded...\n",
      "2019-08-08 17:38:18,081 WARN  [src.meta.keras:193] (MainThread) conv Bug Workaround: Saving h5 file without optimizer to ensure it can be loaded...\n",
      "2019-08-08 17:38:18,097 WARN  [src.meta.keras:197] (MainThread) conv Bug Workaround: Clearing session...\n",
      "2019-08-08 17:38:18,114 WARN  [src.meta.keras:201] (MainThread) conv Bug Workaround: Setting learning phase to 0...\n",
      "2019-08-08 17:38:18,115 WARN  [src.meta.keras:204] (MainThread) conv Bug Workaround: Reloading keras model...\n"
     ]
    },
    {
     "name": "stderr",
     "output_type": "stream",
     "text": [
      "W0808 17:38:18.332382 140100827197568 hdf5_format.py:221] No training configuration found in save file: the model was *not* compiled. Compile it manually.\n"
     ]
    },
    {
     "name": "stdout",
     "output_type": "stream",
     "text": [
      "2019-08-08 17:38:18,333 INFO  [src.meta.keras:217] (MainThread) conv freeze_var_names = ['conv2d/bias', 'conv2d_1/kernel', 'batch_normalization_2/beta', 'fc100/bias', 'batch_normalization_1/beta', 'conv2d_2/kernel', 'batch_normalization/moving_variance', 'batch_normalization_2/gamma', 'batch_normalization/moving_mean', 'batch_normalization_1/moving_variance', 'conv2d_1/bias', 'batch_normalization_2/moving_variance', 'batch_normalization/beta', 'batch_normalization_1/moving_mean', 'batch_normalization_2/moving_mean', 'fc100/kernel', 'batch_normalization_1/gamma', 'conv2d_2/bias', 'batch_normalization/gamma', 'conv2d/kernel']\n",
      "2019-08-08 17:38:18,335 INFO  [src.meta.keras:221] (MainThread) conv output_names = ['fc100/Softmax', 'conv2d/kernel', 'conv2d/bias', 'batch_normalization/gamma', 'batch_normalization/beta', 'batch_normalization/moving_mean', 'batch_normalization/moving_variance', 'conv2d_1/kernel', 'conv2d_1/bias', 'batch_normalization_1/gamma', 'batch_normalization_1/beta', 'batch_normalization_1/moving_mean', 'batch_normalization_1/moving_variance', 'conv2d_2/kernel', 'conv2d_2/bias', 'batch_normalization_2/gamma', 'batch_normalization_2/beta', 'batch_normalization_2/moving_mean', 'batch_normalization_2/moving_variance', 'fc100/kernel', 'fc100/bias']\n",
      "2019-08-08 17:38:18,339 INFO  [src.meta.keras:228] (MainThread) conv convert_variables_to_constants...\n",
      "2019-08-08 17:38:18,365 INFO  [src.meta.keras:236] (MainThread) conv Saving frozen graph to /space/code/deep-learning/models/conv_011/conv_011.pb...\n",
      "2019-08-08 17:38:18,367 WARN  [src.meta.keras:246] (MainThread) conv Bug Workaround: Clearing session...\n",
      "2019-08-08 17:38:18,369 WARN  [src.meta.keras:250] (MainThread) conv Bug Workaround: NOTTTTTTTTT Setting learning phase to 1...\n",
      "2019-08-08 17:38:18,369 WARN  [src.meta.keras:253] (MainThread) conv Bug Workaround: Reloading keras model...\n"
     ]
    },
    {
     "data": {
      "text/plain": [
       "0"
      ]
     },
     "execution_count": 18,
     "metadata": {},
     "output_type": "execute_result"
    }
   ],
   "source": [
    "m.freeze_session()"
   ]
  },
  {
   "cell_type": "code",
   "execution_count": 19,
   "metadata": {
    "pycharm": {
     "is_executing": false
    }
   },
   "outputs": [
    {
     "name": "stdout",
     "output_type": "stream",
     "text": [
      "2019-08-08 17:38:19,139 DEBUG [src.meta.meta:96] (MainThread) conv Saving keras model to /space/code/deep-learning/models/conv_011/conv_011.h5...\n",
      "2019-08-08 17:38:19,263 DEBUG [src.meta.meta:104] (MainThread) conv Saving keras model weights to /space/code/deep-learning/models/conv_011/conv_011_weights.h5...\n",
      "2019-08-08 17:38:19,276 DEBUG [src.meta.meta:112] (MainThread) conv Saving keras model without optimizer to /space/code/deep-learning/models/conv_011/conv_011_no_optimizer.h5...\n"
     ]
    },
    {
     "data": {
      "text/plain": [
       "0"
      ]
     },
     "execution_count": 19,
     "metadata": {},
     "output_type": "execute_result"
    }
   ],
   "source": [
    "m.save()"
   ]
  },
  {
   "cell_type": "code",
   "execution_count": 20,
   "metadata": {
    "pycharm": {
     "is_executing": false
    }
   },
   "outputs": [
    {
     "name": "stdout",
     "output_type": "stream",
     "text": [
      "2019-08-08 17:38:19,307 DEBUG [src.meta.meta:96] (MainThread) conv Saving keras model to /space/code/deep-learning/models/conv_011/conv_011.h5...\n",
      "2019-08-08 17:38:19,334 DEBUG [src.meta.meta:104] (MainThread) conv Saving keras model weights to /space/code/deep-learning/models/conv_011/conv_011_weights.h5...\n",
      "2019-08-08 17:38:19,348 DEBUG [src.meta.meta:112] (MainThread) conv Saving keras model without optimizer to /space/code/deep-learning/models/conv_011/conv_011_no_optimizer.h5...\n",
      "2019-08-08 17:38:19,377 DEBUG [src.meta.meta:222] (MainThread) conv Saving mode TENSOR_FLOW via mode KERAS...\n",
      "2019-08-08 17:38:19,377 WARN  [src.meta.keras:190] (MainThread) conv Bug Workaround: Saving h5 file to ensure it can be loaded...\n",
      "2019-08-08 17:38:19,403 WARN  [src.meta.keras:193] (MainThread) conv Bug Workaround: Saving h5 file without optimizer to ensure it can be loaded...\n",
      "2019-08-08 17:38:19,422 WARN  [src.meta.keras:197] (MainThread) conv Bug Workaround: Clearing session...\n",
      "2019-08-08 17:38:19,432 WARN  [src.meta.keras:201] (MainThread) conv Bug Workaround: Setting learning phase to 0...\n",
      "2019-08-08 17:38:19,433 WARN  [src.meta.keras:204] (MainThread) conv Bug Workaround: Reloading keras model...\n"
     ]
    },
    {
     "name": "stderr",
     "output_type": "stream",
     "text": [
      "W0808 17:38:19.650109 140100827197568 hdf5_format.py:221] No training configuration found in save file: the model was *not* compiled. Compile it manually.\n"
     ]
    },
    {
     "name": "stdout",
     "output_type": "stream",
     "text": [
      "2019-08-08 17:38:19,651 INFO  [src.meta.keras:217] (MainThread) conv freeze_var_names = ['conv2d/bias', 'conv2d_1/kernel', 'batch_normalization_2/beta', 'fc100/bias', 'batch_normalization_1/beta', 'conv2d_2/kernel', 'batch_normalization/moving_variance', 'batch_normalization_2/gamma', 'batch_normalization/moving_mean', 'batch_normalization_1/moving_variance', 'conv2d_1/bias', 'batch_normalization_2/moving_variance', 'batch_normalization/beta', 'batch_normalization_1/moving_mean', 'batch_normalization_2/moving_mean', 'fc100/kernel', 'batch_normalization_1/gamma', 'conv2d_2/bias', 'batch_normalization/gamma', 'conv2d/kernel']\n",
      "2019-08-08 17:38:19,652 INFO  [src.meta.keras:221] (MainThread) conv output_names = ['fc100/Softmax', 'conv2d/kernel', 'conv2d/bias', 'batch_normalization/gamma', 'batch_normalization/beta', 'batch_normalization/moving_mean', 'batch_normalization/moving_variance', 'conv2d_1/kernel', 'conv2d_1/bias', 'batch_normalization_1/gamma', 'batch_normalization_1/beta', 'batch_normalization_1/moving_mean', 'batch_normalization_1/moving_variance', 'conv2d_2/kernel', 'conv2d_2/bias', 'batch_normalization_2/gamma', 'batch_normalization_2/beta', 'batch_normalization_2/moving_mean', 'batch_normalization_2/moving_variance', 'fc100/kernel', 'fc100/bias']\n",
      "2019-08-08 17:38:19,654 INFO  [src.meta.keras:228] (MainThread) conv convert_variables_to_constants...\n",
      "2019-08-08 17:38:19,675 INFO  [src.meta.keras:236] (MainThread) conv Saving frozen graph to /space/code/deep-learning/models/conv_011/conv_011.pb...\n",
      "2019-08-08 17:38:19,676 WARN  [src.meta.keras:246] (MainThread) conv Bug Workaround: Clearing session...\n",
      "2019-08-08 17:38:19,678 WARN  [src.meta.keras:250] (MainThread) conv Bug Workaround: NOTTTTTTTTT Setting learning phase to 1...\n",
      "2019-08-08 17:38:19,679 WARN  [src.meta.keras:253] (MainThread) conv Bug Workaround: Reloading keras model...\n",
      "2019-08-08 17:38:20,432 DEBUG [src.meta.meta:222] (MainThread) conv Saving mode TF_LITE via mode KERAS...\n",
      "2019-08-08 17:38:21,247 DEBUG [src.meta.meta:143] (MainThread) conv Deleting existing delegate...\n",
      "2019-08-08 17:38:21,248 DEBUG [src.meta.keras:276] (MainThread) conv Loading keras model from /space/code/deep-learning/models/conv_011/conv_011.h5...\n",
      "2019-08-08 17:38:21,993 INFO  [src.meta.meta:315] (MainThread) conv Converting to tflite INT8 model...\n",
      "2019-08-08 17:38:23,709 INFO  [src.meta.meta:318] (MainThread) conv Saving tflite model to /space/code/deep-learning/models/conv_011/conv_011_int8.tflite...\n"
     ]
    },
    {
     "data": {
      "text/plain": [
       "0"
      ]
     },
     "execution_count": 20,
     "metadata": {},
     "output_type": "execute_result"
    }
   ],
   "source": [
    "m.save_all(representative_data=train_images)"
   ]
  },
  {
   "cell_type": "code",
   "execution_count": 21,
   "metadata": {
    "pycharm": {
     "is_executing": false
    }
   },
   "outputs": [
    {
     "name": "stdout",
     "output_type": "stream",
     "text": [
      "../models/conv_001/conv_001_checkpoint.h5\n",
      "../models/conv_001/conv_001.h5\n",
      "../models/conv_001/conv_001_int8.tflite\n",
      "../models/conv_001/conv_001_no_optimizer.h5\n",
      "../models/conv_001/conv_001_weights.h5\n",
      "../models/conv_002/conv_002_checkpoint.h5\n",
      "../models/conv_002/conv_002.h5\n",
      "../models/conv_002/conv_002_no_optimizer.h5\n",
      "../models/conv_002/conv_002.pb\n",
      "../models/conv_003/conv_003_checkpoint.h5\n",
      "../models/conv_003/conv_003.h5\n",
      "../models/conv_003/conv_003_int8.tflite\n",
      "../models/conv_003/conv_003_no_optimizer.h5\n",
      "../models/conv_003/conv_003.pb\n",
      "../models/conv_003/conv_003_weights.h5\n",
      "../models/conv_004/conv_004_checkpoint.h5\n",
      "../models/conv_004/conv_004.h5\n",
      "../models/conv_004/conv_004_no_optimizer.h5\n",
      "../models/conv_004/conv_004.pb\n",
      "../models/conv_005/conv_005_checkpoint.h5\n",
      "../models/conv_005/conv_005.h5\n",
      "../models/conv_005/conv_005_no_optimizer.h5\n",
      "../models/conv_005/conv_005.pb\n",
      "../models/conv_006/conv_006_checkpoint.h5\n",
      "../models/conv_006/conv_006.h5\n",
      "../models/conv_006/conv_006_no_optimizer.h5\n",
      "../models/conv_006/conv_006.pb\n",
      "../models/conv_007/conv_007_checkpoint.h5\n",
      "../models/conv_007/conv_007.h5\n",
      "../models/conv_007/conv_007_no_optimizer.h5\n",
      "../models/conv_007/conv_007.pb\n",
      "../models/conv_008/conv_008_checkpoint.h5\n",
      "../models/conv_008/conv_008.h5\n",
      "../models/conv_008/conv_008_no_optimizer.h5\n",
      "../models/conv_008/conv_008.pb\n",
      "../models/conv_009/conv_009_checkpoint.h5\n",
      "../models/conv_009/conv_009.h5\n",
      "../models/conv_009/conv_009_no_optimizer.h5\n",
      "../models/conv_009/conv_009.pb\n",
      "../models/conv_010/conv_010_checkpoint.h5\n",
      "../models/conv_010/conv_010.h5\n",
      "../models/conv_010/conv_010_no_optimizer.h5\n",
      "../models/conv_010/conv_010.pb\n",
      "../models/conv_011/conv_011_checkpoint.h5\n",
      "../models/conv_011/conv_011.h5\n",
      "../models/conv_011/conv_011_int8.tflite\n",
      "../models/conv_011/conv_011_no_optimizer.h5\n",
      "../models/conv_011/conv_011.pb\n",
      "../models/conv_011/conv_011_weights.h5\n",
      "../models/conv_012/conv_012_checkpoint.h5\n",
      "../models/conv_013/conv_013_checkpoint.h5\n",
      "../models/conv_014/conv_014_checkpoint.h5\n",
      "../models/conv_015/conv_015_checkpoint.h5\n",
      "../models/conv_016/conv_016_checkpoint.h5\n",
      "../models/conv_017/conv_017_checkpoint.h5\n",
      "../models/conv_018/conv_018_checkpoint.h5\n",
      "../models/conv_019/conv_019_checkpoint.h5\n",
      "../models/conv_020/conv_020_checkpoint.h5\n",
      "../models/conv_021/conv_021_checkpoint.h5\n"
     ]
    }
   ],
   "source": [
    "%%bash\n",
    "\n",
    "find ../models -type f | sort | grep conv"
   ]
  },
  {
   "cell_type": "code",
   "execution_count": 22,
   "metadata": {},
   "outputs": [
    {
     "name": "stdout",
     "output_type": "stream",
     "text": [
      "2019-08-08 17:38:23,790 DEBUG [src.meta.keras:63] (MainThread) conv keras tensorboard callback attached. Visualize by running: \n",
      "2019-08-08 17:38:23,791 DEBUG [src.meta.keras:64] (MainThread) > tensorboard --logdir=/space/code/deep-learning/tmp/tensorboard/20190808-173821_conv\n",
      "2019-08-08 17:38:23,792 DEBUG [src.meta.keras:66] (MainThread) conv keras checkpoint callback attached. Logging to /space/code/deep-learning/models/conv_{epoch:03d}/conv_{epoch:03d}_checkpoint.h5...\n",
      "2019-08-08 17:38:23,793 INFO  [src.meta.keras:73] (MainThread) Creating /space/code/deep-learning/models/conv_012 (if not already exists)...\n",
      "2019-08-08 17:38:23,794 INFO  [src.meta.keras:73] (MainThread) Creating /space/code/deep-learning/models/conv_013 (if not already exists)...\n",
      "2019-08-08 17:38:23,795 INFO  [src.meta.keras:73] (MainThread) Creating /space/code/deep-learning/models/conv_014 (if not already exists)...\n",
      "2019-08-08 17:38:23,795 INFO  [src.meta.keras:73] (MainThread) Creating /space/code/deep-learning/models/conv_015 (if not already exists)...\n",
      "2019-08-08 17:38:23,797 INFO  [src.meta.keras:73] (MainThread) Creating /space/code/deep-learning/models/conv_016 (if not already exists)...\n",
      "2019-08-08 17:38:23,797 INFO  [src.meta.keras:73] (MainThread) Creating /space/code/deep-learning/models/conv_017 (if not already exists)...\n",
      "2019-08-08 17:38:23,798 INFO  [src.meta.keras:73] (MainThread) Creating /space/code/deep-learning/models/conv_018 (if not already exists)...\n",
      "2019-08-08 17:38:23,799 INFO  [src.meta.keras:73] (MainThread) Creating /space/code/deep-learning/models/conv_019 (if not already exists)...\n",
      "2019-08-08 17:38:23,799 INFO  [src.meta.keras:73] (MainThread) Creating /space/code/deep-learning/models/conv_020 (if not already exists)...\n",
      "2019-08-08 17:38:23,800 INFO  [src.meta.keras:73] (MainThread) Creating /space/code/deep-learning/models/conv_021 (if not already exists)...\n",
      "Epoch 12/21\n",
      "50000/50000 [==============================] - 7s 147us/sample - loss: 2.3343 - acc: 0.4079\n",
      "Epoch 13/21\n",
      "50000/50000 [==============================] - 7s 150us/sample - loss: 2.3138 - acc: 0.4137\n",
      "Epoch 14/21\n",
      "50000/50000 [==============================] - 7s 144us/sample - loss: 2.2922 - acc: 0.4189\n",
      "Epoch 15/21\n",
      "50000/50000 [==============================] - 7s 140us/sample - loss: 2.2754 - acc: 0.4208\n",
      "Epoch 16/21\n",
      "50000/50000 [==============================] - 7s 140us/sample - loss: 2.2603 - acc: 0.4253\n",
      "Epoch 17/21\n",
      "50000/50000 [==============================] - 7s 141us/sample - loss: 2.2408 - acc: 0.4297\n",
      "Epoch 18/21\n",
      "50000/50000 [==============================] - 7s 140us/sample - loss: 2.2241 - acc: 0.4337\n",
      "Epoch 19/21\n",
      "50000/50000 [==============================] - 7s 135us/sample - loss: 2.2122 - acc: 0.4371\n",
      "Epoch 20/21\n",
      "50000/50000 [==============================] - 7s 136us/sample - loss: 2.2021 - acc: 0.4364\n",
      "Epoch 21/21\n",
      "50000/50000 [==============================] - 7s 146us/sample - loss: 2.1891 - acc: 0.4386\n"
     ]
    }
   ],
   "source": [
    "if _DO_FIT:\n",
    "    model.fit(train_images, train_labels, epochs=m.epoch+_ADDITIONAL_EPOCHS, initial_epoch=m.epoch)"
   ]
  },
  {
   "cell_type": "code",
   "execution_count": 23,
   "metadata": {
    "pycharm": {
     "is_executing": false
    }
   },
   "outputs": [
    {
     "name": "stdout",
     "output_type": "stream",
     "text": [
      "10000/10000 [==============================] - 1s 82us/sample - loss: 2.9784 - acc: 0.3040\n"
     ]
    },
    {
     "data": {
      "text/plain": [
       "(0, [2.9784226978302004, 0.304])"
      ]
     },
     "execution_count": 23,
     "metadata": {},
     "output_type": "execute_result"
    }
   ],
   "source": [
    "m.evaluate(test_images, test_labels)"
   ]
  },
  {
   "cell_type": "code",
   "execution_count": 24,
   "metadata": {},
   "outputs": [
    {
     "data": {
      "text/plain": [
       "(0, array([[9.92868718e-06, 3.12536977e-05, 9.01231449e-03, ...,\n",
       "         1.46093778e-04, 2.97978427e-03, 6.92509161e-03],\n",
       "        [2.81557022e-03, 2.24044570e-03, 2.89230444e-03, ...,\n",
       "         2.16873474e-02, 1.26208016e-03, 2.02555908e-03],\n",
       "        [2.40125996e-06, 1.05552375e-04, 5.70255506e-04, ...,\n",
       "         4.00366727e-04, 4.26928792e-03, 6.80071942e-04],\n",
       "        ...,\n",
       "        [3.61690596e-02, 9.54690669e-03, 1.95732544e-04, ...,\n",
       "         3.23741836e-03, 3.86979482e-05, 3.05418693e-03],\n",
       "        [3.80086800e-04, 1.49936590e-04, 5.42628765e-02, ...,\n",
       "         4.62245941e-02, 1.79184938e-03, 2.39915140e-02],\n",
       "        [2.34272634e-03, 2.82269879e-03, 1.81688418e-04, ...,\n",
       "         2.86076363e-09, 1.57820963e-04, 5.37552341e-06]], dtype=float32))"
      ]
     },
     "execution_count": 24,
     "metadata": {},
     "output_type": "execute_result"
    }
   ],
   "source": [
    "m.predict(test_images)"
   ]
  },
  {
   "cell_type": "code",
   "execution_count": 25,
   "metadata": {},
   "outputs": [
    {
     "name": "stdout",
     "output_type": "stream",
     "text": [
      "../models/conv_001/conv_001_checkpoint.h5\n",
      "../models/conv_001/conv_001.h5\n",
      "../models/conv_001/conv_001_int8.tflite\n",
      "../models/conv_001/conv_001_no_optimizer.h5\n",
      "../models/conv_001/conv_001_weights.h5\n",
      "../models/conv_002/conv_002_checkpoint.h5\n",
      "../models/conv_002/conv_002.h5\n",
      "../models/conv_002/conv_002_no_optimizer.h5\n",
      "../models/conv_002/conv_002.pb\n",
      "../models/conv_003/conv_003_checkpoint.h5\n",
      "../models/conv_003/conv_003.h5\n",
      "../models/conv_003/conv_003_int8.tflite\n",
      "../models/conv_003/conv_003_no_optimizer.h5\n",
      "../models/conv_003/conv_003.pb\n",
      "../models/conv_003/conv_003_weights.h5\n",
      "../models/conv_004/conv_004_checkpoint.h5\n",
      "../models/conv_004/conv_004.h5\n",
      "../models/conv_004/conv_004_no_optimizer.h5\n",
      "../models/conv_004/conv_004.pb\n",
      "../models/conv_005/conv_005_checkpoint.h5\n",
      "../models/conv_005/conv_005.h5\n",
      "../models/conv_005/conv_005_no_optimizer.h5\n",
      "../models/conv_005/conv_005.pb\n",
      "../models/conv_006/conv_006_checkpoint.h5\n",
      "../models/conv_006/conv_006.h5\n",
      "../models/conv_006/conv_006_no_optimizer.h5\n",
      "../models/conv_006/conv_006.pb\n",
      "../models/conv_007/conv_007_checkpoint.h5\n",
      "../models/conv_007/conv_007.h5\n",
      "../models/conv_007/conv_007_no_optimizer.h5\n",
      "../models/conv_007/conv_007.pb\n",
      "../models/conv_008/conv_008_checkpoint.h5\n",
      "../models/conv_008/conv_008.h5\n",
      "../models/conv_008/conv_008_no_optimizer.h5\n",
      "../models/conv_008/conv_008.pb\n",
      "../models/conv_009/conv_009_checkpoint.h5\n",
      "../models/conv_009/conv_009.h5\n",
      "../models/conv_009/conv_009_no_optimizer.h5\n",
      "../models/conv_009/conv_009.pb\n",
      "../models/conv_010/conv_010_checkpoint.h5\n",
      "../models/conv_010/conv_010.h5\n",
      "../models/conv_010/conv_010_no_optimizer.h5\n",
      "../models/conv_010/conv_010.pb\n",
      "../models/conv_011/conv_011_checkpoint.h5\n",
      "../models/conv_011/conv_011.h5\n",
      "../models/conv_011/conv_011_int8.tflite\n",
      "../models/conv_011/conv_011_no_optimizer.h5\n",
      "../models/conv_011/conv_011.pb\n",
      "../models/conv_011/conv_011_weights.h5\n",
      "../models/conv_012/conv_012_checkpoint.h5\n",
      "../models/conv_013/conv_013_checkpoint.h5\n",
      "../models/conv_014/conv_014_checkpoint.h5\n",
      "../models/conv_015/conv_015_checkpoint.h5\n",
      "../models/conv_016/conv_016_checkpoint.h5\n",
      "../models/conv_017/conv_017_checkpoint.h5\n",
      "../models/conv_018/conv_018_checkpoint.h5\n",
      "../models/conv_019/conv_019_checkpoint.h5\n",
      "../models/conv_020/conv_020_checkpoint.h5\n",
      "../models/conv_021/conv_021_checkpoint.h5\n"
     ]
    }
   ],
   "source": [
    "%%bash\n",
    "\n",
    "find ../models -type f | sort | grep conv"
   ]
  },
  {
   "cell_type": "code",
   "execution_count": null,
   "metadata": {},
   "outputs": [],
   "source": []
  },
  {
   "cell_type": "code",
   "execution_count": null,
   "metadata": {},
   "outputs": [],
   "source": []
  },
  {
   "cell_type": "code",
   "execution_count": null,
   "metadata": {},
   "outputs": [],
   "source": []
  },
  {
   "cell_type": "code",
   "execution_count": null,
   "metadata": {},
   "outputs": [],
   "source": []
  },
  {
   "cell_type": "code",
   "execution_count": null,
   "metadata": {},
   "outputs": [],
   "source": []
  },
  {
   "cell_type": "code",
   "execution_count": null,
   "metadata": {},
   "outputs": [],
   "source": []
  },
  {
   "cell_type": "code",
   "execution_count": null,
   "metadata": {},
   "outputs": [],
   "source": []
  },
  {
   "cell_type": "code",
   "execution_count": null,
   "metadata": {},
   "outputs": [],
   "source": []
  },
  {
   "cell_type": "code",
   "execution_count": null,
   "metadata": {},
   "outputs": [],
   "source": []
  },
  {
   "cell_type": "code",
   "execution_count": null,
   "metadata": {},
   "outputs": [],
   "source": []
  },
  {
   "cell_type": "code",
   "execution_count": null,
   "metadata": {},
   "outputs": [],
   "source": []
  },
  {
   "cell_type": "code",
   "execution_count": null,
   "metadata": {},
   "outputs": [],
   "source": []
  },
  {
   "cell_type": "code",
   "execution_count": null,
   "metadata": {},
   "outputs": [],
   "source": []
  },
  {
   "cell_type": "code",
   "execution_count": null,
   "metadata": {},
   "outputs": [],
   "source": []
  },
  {
   "cell_type": "code",
   "execution_count": null,
   "metadata": {},
   "outputs": [],
   "source": []
  },
  {
   "cell_type": "code",
   "execution_count": null,
   "metadata": {},
   "outputs": [],
   "source": []
  },
  {
   "cell_type": "code",
   "execution_count": null,
   "metadata": {},
   "outputs": [],
   "source": []
  },
  {
   "cell_type": "code",
   "execution_count": null,
   "metadata": {},
   "outputs": [],
   "source": []
  },
  {
   "cell_type": "code",
   "execution_count": null,
   "metadata": {},
   "outputs": [],
   "source": []
  },
  {
   "cell_type": "code",
   "execution_count": null,
   "metadata": {},
   "outputs": [],
   "source": []
  },
  {
   "cell_type": "code",
   "execution_count": null,
   "metadata": {},
   "outputs": [],
   "source": []
  },
  {
   "cell_type": "code",
   "execution_count": null,
   "metadata": {},
   "outputs": [],
   "source": []
  },
  {
   "cell_type": "code",
   "execution_count": null,
   "metadata": {},
   "outputs": [],
   "source": []
  }
 ],
 "metadata": {
  "kernelspec": {
   "display_name": "Python 3",
   "language": "python",
   "name": "python3"
  },
  "language_info": {
   "codemirror_mode": {
    "name": "ipython",
    "version": 3
   },
   "file_extension": ".py",
   "mimetype": "text/x-python",
   "name": "python",
   "nbconvert_exporter": "python",
   "pygments_lexer": "ipython3",
   "version": "3.6.8"
  }
 },
 "nbformat": 4,
 "nbformat_minor": 2
}
