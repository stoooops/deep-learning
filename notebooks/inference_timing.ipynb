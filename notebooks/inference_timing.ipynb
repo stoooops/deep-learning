{
 "cells": [
  {
   "cell_type": "code",
   "execution_count": 1,
   "metadata": {},
   "outputs": [
    {
     "data": {
      "text/html": [
       "<style>.container { min-width:1500px !important; }</style>"
      ],
      "text/plain": [
       "<IPython.core.display.HTML object>"
      ]
     },
     "metadata": {},
     "output_type": "display_data"
    },
    {
     "name": "stderr",
     "output_type": "stream",
     "text": [
      "WARNING: Logging before flag parsing goes to stderr.\n",
      "W0813 16:57:49.135205 140036826816640 __init__.py:689] \n",
      "\n",
      "  TensorFlow's `tf-nightly` package will soon be updated to TensorFlow 2.0.\n",
      "\n",
      "  Please upgrade your code to TensorFlow 2.0:\n",
      "    * https://www.tensorflow.org/beta/guide/migration_guide\n",
      "\n",
      "  Or install the latest stable TensorFlow 1.X release:\n",
      "    * `pip install -U \"tensorflow==1.*\"`\n",
      "\n",
      "  Otherwise your code may be broken by the change.\n",
      "\n",
      "  \n"
     ]
    },
    {
     "name": "stdout",
     "output_type": "stream",
     "text": [
      "2019-08-13 16:57:49   tensorflow-1.15.0-dev20190813\n"
     ]
    }
   ],
   "source": [
    "from IPython.core.display import display, HTML\n",
    "display(HTML(\"<style>.container { min-width:1500px !important; }</style>\"))\n",
    "\n",
    "import os\n",
    "import sys\n",
    "sys.path.append('..')\n",
    "\n",
    "import time\n",
    "import datetime\n",
    "\n",
    "import importlib\n",
    "\n",
    "import tensorflow as tf\n",
    "from tensorflow import keras\n",
    "\n",
    "import src\n",
    "from src.data import cifar100\n",
    "from src.models import basic, factory\n",
    "from src.meta.meta import Metadata\n",
    "from src.utils import debug_utils, file_utils, io_utils\n",
    "\n",
    "print(datetime.datetime.now().strftime('%Y-%m-%d %H:%M:%S   '), tf.__name__, '-', tf.__version__, sep='')"
   ]
  },
  {
   "cell_type": "code",
   "execution_count": 2,
   "metadata": {},
   "outputs": [],
   "source": [
    "from src.utils.logger import Logging\n",
    "logger = Logging.get_logger(__name__)\n",
    "Logging.attach_stdout()"
   ]
  },
  {
   "cell_type": "markdown",
   "metadata": {},
   "source": [
    "# Setup"
   ]
  },
  {
   "cell_type": "code",
   "execution_count": 3,
   "metadata": {},
   "outputs": [
    {
     "name": "stdout",
     "output_type": "stream",
     "text": [
      "filepath_md:             /space/code/deep-learning/models/basic/010/basic_010.md\n",
      "filepath_pb:             /space/code/deep-learning/models/basic/010/basic_010.pb\n",
      "filepath_weights_h5:     /space/code/deep-learning/models/basic/010/basic_010_weights.h5\n",
      "filepath_tflite:         /space/code/deep-learning/models/basic/010/basic_010_int8.tflite\n",
      "filepath_edgetpu_tflite: /space/code/deep-learning/models/basic/010/basic_010_int8_edgetpu.tflite\n",
      "output_data_file:        tmp/test_data_2019-08-13-16:57:49.csv\n"
     ]
    }
   ],
   "source": [
    "_NAME = basic.NAME\n",
    "_EPOCH = 10\n",
    "\n",
    "filepath_md = file_utils.model_filepath_md(_NAME, _EPOCH)\n",
    "print('filepath_md:            ', filepath_md)\n",
    "filepath_pb = file_utils.model_filepath_pb(_NAME, _EPOCH)\n",
    "print('filepath_pb:            ', filepath_pb)\n",
    "filepath_weights_h5 = file_utils.model_filepath_weights_h5(_NAME, _EPOCH)\n",
    "print('filepath_weights_h5:    ', filepath_weights_h5)\n",
    "filepath_tflite = file_utils.model_filepath_tflite(_NAME, _EPOCH)\n",
    "print('filepath_tflite:        ', filepath_tflite)\n",
    "filepath_edgetpu_tflite = file_utils.model_filepath_edgetpu_tflite(_NAME, _EPOCH)\n",
    "print('filepath_edgetpu_tflite:', filepath_edgetpu_tflite)\n",
    "\n",
    "output_data_file = 'tmp/test_data_%s.csv' % datetime.datetime.now().strftime('%Y-%m-%d-%H:%M:%S')\n",
    "print('output_data_file:       ', output_data_file)\n",
    "\n",
    "TRIALS = 10\n",
    "TEST_SIZES = [1, 10, 100, 1000]\n",
    "REPEAT = 2"
   ]
  },
  {
   "cell_type": "code",
   "execution_count": 4,
   "metadata": {},
   "outputs": [
    {
     "name": "stdout",
     "output_type": "stream",
     "text": [
      "../models/basic/009\n",
      "../models/basic/009/basic_009_checkpoint.h5\n",
      "../models/basic/009/basic_009.h5\n",
      "../models/basic/009/basic_009.md\n",
      "../models/basic/009/basic_009_weights.h5\n",
      "../models/basic/010\n",
      "../models/basic/010/basic_010_checkpoint.h5\n",
      "../models/basic/010/basic_010.h5\n",
      "../models/basic/010/basic_010_int8_edgetpu.log\n",
      "../models/basic/010/basic_010_int8_edgetpu.tflite\n",
      "../models/basic/010/basic_010_int8.tflite\n",
      "../models/basic/010/basic_010.md\n",
      "../models/basic/010/basic_010.pb\n",
      "../models/basic/010/basic_010_weights.h5\n"
     ]
    }
   ],
   "source": [
    "%%bash\n",
    "\n",
    "find ../models | grep basic | grep -E '(010|009)' | sort"
   ]
  },
  {
   "cell_type": "markdown",
   "metadata": {},
   "source": [
    "# Data"
   ]
  },
  {
   "cell_type": "code",
   "execution_count": 5,
   "metadata": {},
   "outputs": [],
   "source": [
    "from src.data import cifar100"
   ]
  },
  {
   "cell_type": "code",
   "execution_count": 6,
   "metadata": {},
   "outputs": [],
   "source": [
    "(TRAIN_X, TRAIN_Y), (TEST_X, TEST_Y) = cifar100.load_data(normalize=True)"
   ]
  },
  {
   "cell_type": "markdown",
   "metadata": {},
   "source": [
    "# Inference Timing Funcs"
   ]
  },
  {
   "cell_type": "code",
   "execution_count": 7,
   "metadata": {},
   "outputs": [],
   "source": [
    "class Row:\n",
    "    def __init__(self, tag, trials, repeat_index, input_size, total_time, mean_time):\n",
    "        self.tag = tag\n",
    "        self.trials = trials\n",
    "        self.repeat_index = repeat_index\n",
    "        self.input_size = input_size\n",
    "        self.total_time = total_time\n",
    "        self.mean_time = mean_time\n",
    "        \n",
    "    def to_header(self):\n",
    "        return ','.join(['model', 'dataset', 'trials', 'tag', 'input_size', 'repeat_index', 'total_time', 'mean_time'])\n",
    "    \n",
    "    def to_csv(self):\n",
    "        return ','.join([str(s) for s in [_NAME, cifar100.NAME, self.trials, self.tag, self.input_size, self.repeat_index, self.total_time, self.mean_time]])\n",
    "\n",
    "    \n",
    "    \n",
    "def write_data_row(row):\n",
    "    if not os.path.exists(output_data_file):\n",
    "        with open(output_data_file, 'w') as f:\n",
    "            f.write(row.to_header() + '\\n')\n",
    "        \n",
    "    with open(output_data_file, 'a') as f:\n",
    "        f.write(row.to_csv() + '\\n')\n",
    "    \n",
    "\n",
    "\n",
    "def predict(tag, model, test_images, trials, repeat_index, log_first=0, log_last=0, emit=False):\n",
    "    start = time.time()\n",
    "    longest_line = 0\n",
    "    timings = []\n",
    "    for i in range(0, trials):\n",
    "        now = time.time()\n",
    "        ret, y = model.predict(test_images)\n",
    "        if ret != 0:\n",
    "            logger.error('Failed predicting with error %d', ret)\n",
    "            return ret, None\n",
    "        elapsed = 1000 * (time.time() - now)\n",
    "        running_avg = (time.time() - start) / (i + 1)\n",
    "\n",
    "        trials_format = '%d'\n",
    "        log = (trials_format + ': %.3fms') % (i + 1, elapsed)\n",
    "        if i < log_first or i > trials - log_last:\n",
    "            print(log)\n",
    "        else:\n",
    "            if i + 1 != trials:\n",
    "                log += ' ['\n",
    "                log += '=' * i\n",
    "                log += '>'\n",
    "                log += '.' * (trials - i - 1)\n",
    "                log += ']'\n",
    "                remaining_time = running_avg * (trials - i - 1)\n",
    "                log += ' ETA: %.3fs' % remaining_time\n",
    "            longest_line = max(len(log), longest_line)\n",
    "            if len(log) < longest_line:\n",
    "                log += ' ' * (longest_line - len(log))\n",
    "            print('\\r%s' % log, end='\\r')\n",
    "        \n",
    "        timings.append(elapsed)\n",
    "    \n",
    "    row = Row(tag=tag, trials=trials, repeat_index=repeat_index, input_size=len(test_images), total_time=sum(timings), mean_time=sum(timings)/len(timings))\n",
    "    if emit:\n",
    "        write_data_row(row)\n",
    "    return 0, row\n",
    "\n",
    "def warm_up(tag, model, test_images, trials, repeat):\n",
    "    assert tag is not None and isinstance(tag, str)\n",
    "    logger.info('%s Warming up on %d images for %d iterations...' % (model.name, len(test_images), trials))\n",
    "    timings = []\n",
    "    for i in range(repeat):\n",
    "        ret, row = predict(tag, model, test_images, trials, i + 1)\n",
    "        if ret != 0:\n",
    "            return ret\n",
    "        log_images_size = ('%d' % row.input_size).ljust(5)\n",
    "        log_prefix_ = ('[%03dx%s %s]') % (row.trials, log_images_size, tag)\n",
    "        logger.info('%s Warm up = %.5fs (avg = %.3fms)' % (log_prefix_, row.total_time / 1000, row.mean_time))\n",
    "\n",
    "    return 0\n",
    "\n",
    "\n",
    "def test(tag, model, test_images, trials, repeat):\n",
    "    assert tag is not None and isinstance(tag, str)\n",
    "    if len(test_images) == 1:\n",
    "        phrase = 'single image'\n",
    "    else:\n",
    "        phrase = 'batch of %d images' % len(test_images)\n",
    "    logger.info('%s Repeat %dx timing on %s for %d iterations...', model.name, repeat, phrase, trials)\n",
    "    for i in range(repeat):\n",
    "        ret, row = predict(tag, model, test_images, trials, i + 1, emit=True)\n",
    "        if ret != 0:\n",
    "            return ret\n",
    "        log_images_size = ('%d' % row.input_size).ljust(5)\n",
    "        log_prefix_ = ('[%03dx%s %s]') % (row.trials, log_images_size, tag)\n",
    "        logger.info('%s Test =    %.5fs (avg = %.3fms)' % (log_prefix_, row.total_time / 1000, row.mean_time))\n",
    "\n",
    "    return 0"
   ]
  },
  {
   "cell_type": "markdown",
   "metadata": {},
   "source": [
    "# Edge TPU"
   ]
  },
  {
   "cell_type": "code",
   "execution_count": 8,
   "metadata": {},
   "outputs": [],
   "source": [
    "from src.tflite.model import TfLiteModel\n",
    "importlib.reload(src.tflite.model)\n",
    "from src.tflite.model import TfLiteModel"
   ]
  },
  {
   "cell_type": "code",
   "execution_count": 9,
   "metadata": {},
   "outputs": [
    {
     "name": "stdout",
     "output_type": "stream",
     "text": [
      "2019-08-13 16:57:49,996 DEBUG [src.tflite.model:75] (MainThread) Loading metadata from /space/code/deep-learning/models/basic/010/basic_010.md...\n",
      "2019-08-13 16:57:49,998 DEBUG [src.tflite.model:80] (MainThread) basic Loading tflite interpreter from /space/code/deep-learning/models/basic/010/basic_010_int8_edgetpu.tflite...\n",
      "2019-08-13 16:57:50,000 INFO  [src.tflite.model:86] (MainThread) Using experimental library libedgetpu.so.1.0...\n",
      "2019-08-13 16:57:52,706 DEBUG [src.tflite.model:57] (MainThread) Input mean, std, index: 0, 0.003921568859368563, 0\n",
      "2019-08-13 16:57:52,706 DEBUG [src.tflite.model:62] (MainThread) Output mean, std, index: 0, 0.00390625, 1\n"
     ]
    },
    {
     "data": {
      "text/plain": [
       "0"
      ]
     },
     "execution_count": 9,
     "metadata": {},
     "output_type": "execute_result"
    }
   ],
   "source": [
    "ret, tpu_model = TfLiteModel.from_tflite(filepath_md, filepath_edgetpu_tflite)\n",
    "assert ret == 0\n",
    "tpu_model.dump()"
   ]
  },
  {
   "cell_type": "code",
   "execution_count": 10,
   "metadata": {},
   "outputs": [],
   "source": [
    "ret, y_tflite = tpu_model.predict(TEST_X)\n",
    "assert ret == 0"
   ]
  },
  {
   "cell_type": "code",
   "execution_count": 11,
   "metadata": {},
   "outputs": [
    {
     "name": "stdout",
     "output_type": "stream",
     "text": [
      "2019-08-13 16:57:55,183 INFO  [__main__:68] (MainThread) basic Warming up on 1 images for 10 iterations...\n",
      "2019-08-13 16:57:55,188 INFO  [__main__:76] (MainThread) [010x1     edgetpu] Warm up = 0.00436s (avg = 0.436ms)\n",
      "2019-08-13 16:57:55,189 INFO  [__main__:87] (MainThread) basic Repeat 2x timing on single image for 10 iterations...\n",
      "2019-08-13 16:57:55,195 INFO  [__main__:94] (MainThread) [010x1     edgetpu] Test =    0.00380s (avg = 0.380ms)\n",
      "2019-08-13 16:57:55,199 INFO  [__main__:94] (MainThread) [010x1     edgetpu] Test =    0.00341s (avg = 0.341ms)\n",
      "2019-08-13 16:57:55,200 INFO  [__main__:68] (MainThread) basic Warming up on 10 images for 10 iterations...\n",
      "2019-08-13 16:57:55,226 INFO  [__main__:76] (MainThread) [010x10    edgetpu] Warm up = 0.02478s (avg = 2.478ms)\n",
      "2019-08-13 16:57:55,227 INFO  [__main__:87] (MainThread) basic Repeat 2x timing on batch of 10 images for 10 iterations...\n",
      "2019-08-13 16:57:55,254 INFO  [__main__:94] (MainThread) [010x10    edgetpu] Test =    0.02647s (avg = 2.647ms)\n",
      "2019-08-13 16:57:55,281 INFO  [__main__:94] (MainThread) [010x10    edgetpu] Test =    0.02604s (avg = 2.604ms)\n",
      "2019-08-13 16:57:55,282 INFO  [__main__:68] (MainThread) basic Warming up on 100 images for 10 iterations...\n",
      "2019-08-13 16:57:55,517 INFO  [__main__:76] (MainThread) [010x100   edgetpu] Warm up = 0.23444s (avg = 23.444ms)\n",
      "2019-08-13 16:57:55,518 INFO  [__main__:87] (MainThread) basic Repeat 2x timing on batch of 100 images for 10 iterations...\n",
      "2019-08-13 16:57:55,754 INFO  [__main__:94] (MainThread) [010x100   edgetpu] Test =    0.23406s (avg = 23.406ms)\n",
      "2019-08-13 16:57:55,996 INFO  [__main__:94] (MainThread) [010x100   edgetpu] Test =    0.24079s (avg = 24.079ms)\n",
      "2019-08-13 16:57:55,997 INFO  [__main__:68] (MainThread) basic Warming up on 1000 images for 10 iterations...\n",
      "2019-08-13 16:57:58,411 INFO  [__main__:76] (MainThread) [010x1000  edgetpu] Warm up = 2.41269s (avg = 241.269ms)\n",
      "2019-08-13 16:57:58,412 INFO  [__main__:87] (MainThread) basic Repeat 2x timing on batch of 1000 images for 10 iterations...\n",
      "2019-08-13 16:58:00,825 INFO  [__main__:94] (MainThread) [010x1000  edgetpu] Test =    2.41120s (avg = 241.120ms)\n",
      "2019-08-13 16:58:03,366 INFO  [__main__:94] (MainThread) [010x1000  edgetpu] Test =    2.53980s (avg = 253.980ms)\n"
     ]
    }
   ],
   "source": [
    "for i in TEST_SIZES:\n",
    "    warm_up('edgetpu', tpu_model, TEST_X[:i], TRIALS, 1)\n",
    "    test('edgetpu', tpu_model, TEST_X[:i], TRIALS, REPEAT)"
   ]
  },
  {
   "cell_type": "code",
   "execution_count": 12,
   "metadata": {},
   "outputs": [],
   "source": [
    "del tpu_model"
   ]
  },
  {
   "cell_type": "markdown",
   "metadata": {},
   "source": [
    "# Keras"
   ]
  },
  {
   "cell_type": "code",
   "execution_count": 13,
   "metadata": {},
   "outputs": [],
   "source": [
    "from src.keras.model import KerasModel\n",
    "importlib.reload(src.keras.model)\n",
    "from src.keras.model import KerasModel"
   ]
  },
  {
   "cell_type": "code",
   "execution_count": 14,
   "metadata": {},
   "outputs": [
    {
     "name": "stdout",
     "output_type": "stream",
     "text": [
      "2019-08-13 16:58:03,419 DEBUG [src.keras.model:90] (MainThread) [basic|10] Constructing keras model from factory function...\n"
     ]
    },
    {
     "name": "stderr",
     "output_type": "stream",
     "text": [
      "W0813 16:58:03.440439 140036826816640 deprecation.py:506] From /home/maka/.pyenv/versions/3.6.8/envs/deep-learning_nightly/lib/python3.6/site-packages/tensorflow_core/python/ops/resource_variable_ops.py:1633: calling BaseResourceVariable.__init__ (from tensorflow.python.ops.resource_variable_ops) with constraint is deprecated and will be removed in a future version.\n",
      "Instructions for updating:\n",
      "If using Keras pass *_constraint arguments to layers.\n"
     ]
    },
    {
     "name": "stdout",
     "output_type": "stream",
     "text": [
      "2019-08-13 16:58:03,449 DEBUG [src.keras.model:95] (MainThread) [basic|10] Loading keras model weights from /space/code/deep-learning/models/basic/010/basic_010_weights.h5...\n",
      "2019-08-13 16:58:04,027 DEBUG [src.keras.model:39] (MainThread) [basic|10|keras] Setting metadata input names to ['basic0:0']\n",
      "2019-08-13 16:58:04,028 DEBUG [src.keras.model:47] (MainThread) [basic|10|keras] Setting metadata out names to ['basic2/Softmax:0']\n"
     ]
    }
   ],
   "source": [
    "f_construct_keras_model = factory.get_model_create_func(_NAME, cifar100.INPUT_SHAPE, len(cifar100.CLASSES))\n",
    "ret, keras_model = KerasModel.from_weights_h5(filepath_md, f_construct_keras_model, filepath_weights_h5)\n",
    "assert ret == 0"
   ]
  },
  {
   "cell_type": "code",
   "execution_count": 15,
   "metadata": {},
   "outputs": [
    {
     "name": "stdout",
     "output_type": "stream",
     "text": [
      "2019-08-13 16:58:04,513 DEBUG [src.meta.metadata:62] (MainThread) [basic|10|keras] epoch = 10\n",
      "2019-08-13 16:58:04,514 DEBUG [src.meta.metadata:63] (MainThread) [basic|10|keras] inputs = ['basic0:0']\n",
      "2019-08-13 16:58:04,515 DEBUG [src.meta.metadata:64] (MainThread) [basic|10|keras] outputs = ['basic2/Softmax:0']\n"
     ]
    }
   ],
   "source": [
    "ret, y_keras = keras_model.predict(TEST_X)\n",
    "assert ret == 0\n",
    "keras_model.dump()"
   ]
  },
  {
   "cell_type": "code",
   "execution_count": 16,
   "metadata": {},
   "outputs": [
    {
     "name": "stdout",
     "output_type": "stream",
     "text": [
      "2019-08-13 16:58:04,521 INFO  [__main__:87] (MainThread) basic Repeat 2x timing on single image for 10 iterations...\n",
      "2019-08-13 16:58:04,538 INFO  [__main__:94] (MainThread) [010x1     keras] Test =    0.01515s (avg = 1.515ms)\n",
      "2019-08-13 16:58:04,555 INFO  [__main__:94] (MainThread) [010x1     keras] Test =    0.01410s (avg = 1.410ms)\n",
      "2019-08-13 16:58:04,555 INFO  [__main__:87] (MainThread) basic Repeat 2x timing on batch of 10 images for 10 iterations...\n",
      "2019-08-13 16:58:04,574 INFO  [__main__:94] (MainThread) [010x10    keras] Test =    0.01740s (avg = 1.740ms)\n",
      "2019-08-13 16:58:04,593 INFO  [__main__:94] (MainThread) [010x10    keras] Test =    0.01670s (avg = 1.670ms)\n",
      "2019-08-13 16:58:04,593 INFO  [__main__:87] (MainThread) basic Repeat 2x timing on batch of 100 images for 10 iterations...\n",
      "2019-08-13 16:58:04,649 INFO  [__main__:94] (MainThread) [010x100   keras] Test =    0.05347s (avg = 5.347ms)\n",
      "2019-08-13 16:58:04,700 INFO  [__main__:94] (MainThread) [010x100   keras] Test =    0.04915s (avg = 4.915ms)\n",
      "2019-08-13 16:58:04,701 INFO  [__main__:87] (MainThread) basic Repeat 2x timing on batch of 1000 images for 10 iterations...\n",
      "2019-08-13 16:58:05,036 INFO  [__main__:94] (MainThread) [010x1000  keras] Test =    0.33255s (avg = 33.255ms)\n",
      "2019-08-13 16:58:05,380 INFO  [__main__:94] (MainThread) [010x1000  keras] Test =    0.34183s (avg = 34.183ms)\n"
     ]
    }
   ],
   "source": [
    "for i in TEST_SIZES:\n",
    "    test('keras', keras_model, TEST_X[:i], TRIALS, REPEAT)"
   ]
  },
  {
   "cell_type": "code",
   "execution_count": 17,
   "metadata": {},
   "outputs": [
    {
     "name": "stdout",
     "output_type": "stream",
     "text": [
      "2019-08-13 16:58:05,385 INFO  [src.keras.model:63] (MainThread) basic Closing session...\n"
     ]
    }
   ],
   "source": [
    "del keras_model"
   ]
  },
  {
   "cell_type": "markdown",
   "metadata": {},
   "source": [
    "# tensorflow"
   ]
  },
  {
   "cell_type": "code",
   "execution_count": 18,
   "metadata": {},
   "outputs": [],
   "source": [
    "from src.tf.model import TensorFlowModel\n",
    "importlib.reload(src.tf.model)\n",
    "from src.tf.model import TensorFlowModel"
   ]
  },
  {
   "cell_type": "code",
   "execution_count": 19,
   "metadata": {},
   "outputs": [
    {
     "name": "stdout",
     "output_type": "stream",
     "text": [
      "2019-08-13 16:58:05,399 DEBUG [src.tf.model:96] (MainThread) Loading metadata from /space/code/deep-learning/models/basic/010/basic_010.md...\n",
      "2019-08-13 16:58:05,400 DEBUG [src.tf.model:101] (MainThread) basic Loading frozen graph model from /space/code/deep-learning/models/basic/010/basic_010.pb...\n"
     ]
    },
    {
     "name": "stderr",
     "output_type": "stream",
     "text": [
      "W0813 16:58:05.401313 140036826816640 module_wrapper.py:137] From ../src/tf/model.py:102: The name tf.reset_default_graph is deprecated. Please use tf.compat.v1.reset_default_graph instead.\n",
      "\n",
      "W0813 16:58:05.404999 140036826816640 module_wrapper.py:137] From ../src/tf/model.py:106: The name tf.gfile.GFile is deprecated. Please use tf.io.gfile.GFile instead.\n",
      "\n",
      "W0813 16:58:05.420995 140036826816640 module_wrapper.py:137] From ../src/tf/model.py:114: The name tf.summary.FileWriter is deprecated. Please use tf.compat.v1.summary.FileWriter instead.\n",
      "\n"
     ]
    },
    {
     "name": "stdout",
     "output_type": "stream",
     "text": [
      "2019-08-13 16:58:05,430 DEBUG [src.tf.model:118] (MainThread) basic pb model imported into tensorboard. Visualize by running: \n",
      "2019-08-13 16:58:05,431 DEBUG [src.tf.model:119] (MainThread) > tensorboard --logdir=/space/code/deep-learning/tmp/logs/tensorboard/basic/20190813-165805\n",
      "Device mapping:\n",
      "/job:localhost/replica:0/task:0/device:XLA_CPU:0 -> device: XLA_CPU device\n",
      "/job:localhost/replica:0/task:0/device:XLA_GPU:0 -> device: XLA_GPU device\n",
      "/job:localhost/replica:0/task:0/device:GPU:0 -> device: 0, name: GeForce RTX 2080 Ti, pci bus id: 0000:0b:00.0, compute capability: 7.5\n",
      "\n"
     ]
    }
   ],
   "source": [
    "ret, tf_model = TensorFlowModel.from_pb(filepath_md, filepath_pb)\n",
    "assert ret == 0"
   ]
  },
  {
   "cell_type": "code",
   "execution_count": 20,
   "metadata": {},
   "outputs": [
    {
     "name": "stdout",
     "output_type": "stream",
     "text": [
      "2019-08-13 16:58:05,610 DEBUG [src.tf.model:82] (MainThread) basic graph_def.node names: ['basic0', 'basic1/Shape', 'basic1/strided_slice/stack', 'basic1/strided_slice/stack_1', 'basic1/strided_slice/stack_2', 'basic1/strided_slice', 'basic1/Reshape/shape/1', 'basic1/Reshape/shape', 'basic1/Reshape', 'basic2/kernel', 'basic2/bias', 'basic2/MatMul/ReadVariableOp', 'basic2/MatMul', 'basic2/BiasAdd/ReadVariableOp', 'basic2/BiasAdd', 'basic2/Softmax', 'Adam/iter', 'Adam/beta_1', 'Adam/beta_2', 'Adam/decay', 'Adam/learning_rate', 'Adam/basic2/kernel/m', 'Adam/basic2/bias/m', 'Adam/basic2/kernel/v', 'Adam/basic2/bias/v']\n",
      "2019-08-13 16:58:05,611 DEBUG [src.tf.model:85] (MainThread) basic graph.get_operations(): [25] ['basic/basic0', 'basic/basic1/Shape', 'basic/basic1/strided_slice/stack', 'basic/basic1/strided_slice/stack_1', 'basic/basic1/strided_slice/stack_2', 'basic/basic1/strided_slice', 'basic/basic1/Reshape/shape/1', 'basic/basic1/Reshape/shape', 'basic/basic1/Reshape', 'basic/basic2/kernel', 'basic/basic2/bias', 'basic/basic2/MatMul/ReadVariableOp', 'basic/basic2/MatMul', 'basic/basic2/BiasAdd/ReadVariableOp', 'basic/basic2/BiasAdd', 'basic/basic2/Softmax', 'basic/Adam/iter', 'basic/Adam/beta_1', 'basic/Adam/beta_2', 'basic/Adam/decay', 'basic/Adam/learning_rate', 'basic/Adam/basic2/kernel/m', 'basic/Adam/basic2/bias/m', 'basic/Adam/basic2/kernel/v', 'basic/Adam/basic2/bias/v']\n"
     ]
    },
    {
     "data": {
      "text/plain": [
       "0"
      ]
     },
     "execution_count": 20,
     "metadata": {},
     "output_type": "execute_result"
    }
   ],
   "source": [
    "ret, y_tf = tf_model.predict(TEST_X)\n",
    "assert ret == 0\n",
    "tf_model.dump()"
   ]
  },
  {
   "cell_type": "code",
   "execution_count": 21,
   "metadata": {},
   "outputs": [
    {
     "name": "stdout",
     "output_type": "stream",
     "text": [
      "2019-08-13 16:58:05,619 INFO  [__main__:87] (MainThread) basic Repeat 2x timing on single image for 10 iterations...\n",
      "2019-08-13 16:58:05,628 INFO  [__main__:94] (MainThread) [010x1     tensorflow] Test =    0.00775s (avg = 0.775ms)\n",
      "2019-08-13 16:58:05,636 INFO  [__main__:94] (MainThread) [010x1     tensorflow] Test =    0.00694s (avg = 0.694ms)\n",
      "2019-08-13 16:58:05,637 INFO  [__main__:87] (MainThread) basic Repeat 2x timing on batch of 10 images for 10 iterations...\n",
      "2019-08-13 16:58:05,648 INFO  [__main__:94] (MainThread) [010x10    tensorflow] Test =    0.00973s (avg = 0.973ms)\n",
      "2019-08-13 16:58:05,658 INFO  [__main__:94] (MainThread) [010x10    tensorflow] Test =    0.00862s (avg = 0.862ms)\n",
      "2019-08-13 16:58:05,659 INFO  [__main__:87] (MainThread) basic Repeat 2x timing on batch of 100 images for 10 iterations...\n",
      "2019-08-13 16:58:05,682 INFO  [__main__:94] (MainThread) [010x100   tensorflow] Test =    0.02087s (avg = 2.087ms)\n",
      "2019-08-13 16:58:05,706 INFO  [__main__:94] (MainThread) [010x100   tensorflow] Test =    0.02118s (avg = 2.118ms)\n",
      "2019-08-13 16:58:05,707 INFO  [__main__:87] (MainThread) basic Repeat 2x timing on batch of 1000 images for 10 iterations...\n",
      "2019-08-13 16:58:05,825 INFO  [__main__:94] (MainThread) [010x1000  tensorflow] Test =    0.11607s (avg = 11.607ms)\n",
      "2019-08-13 16:58:05,936 INFO  [__main__:94] (MainThread) [010x1000  tensorflow] Test =    0.10793s (avg = 10.793ms)\n"
     ]
    }
   ],
   "source": [
    "for i in TEST_SIZES:\n",
    "    test('tensorflow', tf_model, TEST_X[:i], TRIALS, REPEAT)"
   ]
  },
  {
   "cell_type": "code",
   "execution_count": 22,
   "metadata": {},
   "outputs": [
    {
     "name": "stdout",
     "output_type": "stream",
     "text": [
      "2019-08-13 16:58:05,941 INFO  [src.tf.model:53] (MainThread) basic Closing session...\n"
     ]
    }
   ],
   "source": [
    "del tf_model"
   ]
  },
  {
   "cell_type": "markdown",
   "metadata": {},
   "source": [
    "# tf.lite"
   ]
  },
  {
   "cell_type": "code",
   "execution_count": 23,
   "metadata": {},
   "outputs": [],
   "source": [
    "from src.tflite.model import TfLiteModel\n",
    "importlib.reload(src.tflite.model)\n",
    "from src.tflite.model import TfLiteModel"
   ]
  },
  {
   "cell_type": "code",
   "execution_count": 24,
   "metadata": {},
   "outputs": [
    {
     "name": "stdout",
     "output_type": "stream",
     "text": [
      "2019-08-13 16:58:05,955 DEBUG [src.tflite.model:75] (MainThread) Loading metadata from /space/code/deep-learning/models/basic/010/basic_010.md...\n",
      "2019-08-13 16:58:05,956 DEBUG [src.tflite.model:80] (MainThread) basic Loading tflite interpreter from /space/code/deep-learning/models/basic/010/basic_010_int8.tflite...\n",
      "2019-08-13 16:58:05,957 DEBUG [src.tflite.model:57] (MainThread) Input mean, std, index: 0, 0.003921568859368563, 5\n",
      "2019-08-13 16:58:05,958 DEBUG [src.tflite.model:62] (MainThread) Output mean, std, index: 0, 0.00390625, 6\n"
     ]
    },
    {
     "data": {
      "text/plain": [
       "0"
      ]
     },
     "execution_count": 24,
     "metadata": {},
     "output_type": "execute_result"
    }
   ],
   "source": [
    "ret, tflite_model = TfLiteModel.from_tflite(filepath_md, filepath_tflite)\n",
    "assert ret == 0\n",
    "tflite_model.dump()"
   ]
  },
  {
   "cell_type": "code",
   "execution_count": 25,
   "metadata": {},
   "outputs": [],
   "source": [
    "ret, y_tflite = tflite_model.predict(TEST_X)\n",
    "assert ret == 0"
   ]
  },
  {
   "cell_type": "code",
   "execution_count": 26,
   "metadata": {},
   "outputs": [
    {
     "name": "stdout",
     "output_type": "stream",
     "text": [
      "2019-08-13 16:58:07,060 INFO  [__main__:87] (MainThread) basic Repeat 2x timing on single image for 10 iterations...\n",
      "2019-08-13 16:58:07,065 INFO  [__main__:94] (MainThread) [010x1     tflite] Test =    0.00272s (avg = 0.272ms)\n",
      "2019-08-13 16:58:07,069 INFO  [__main__:94] (MainThread) [010x1     tflite] Test =    0.00313s (avg = 0.313ms)\n",
      "2019-08-13 16:58:07,070 INFO  [__main__:87] (MainThread) basic Repeat 2x timing on batch of 10 images for 10 iterations...\n",
      "2019-08-13 16:58:07,087 INFO  [__main__:94] (MainThread) [010x10    tflite] Test =    0.01625s (avg = 1.625ms)\n",
      "2019-08-13 16:58:07,100 INFO  [__main__:94] (MainThread) [010x10    tflite] Test =    0.01231s (avg = 1.231ms)\n",
      "2019-08-13 16:58:07,101 INFO  [__main__:87] (MainThread) basic Repeat 2x timing on batch of 100 images for 10 iterations...\n",
      "2019-08-13 16:58:07,205 INFO  [__main__:94] (MainThread) [010x100   tflite] Test =    0.10240s (avg = 10.240ms)\n",
      "2019-08-13 16:58:07,316 INFO  [__main__:94] (MainThread) [010x100   tflite] Test =    0.10982s (avg = 10.982ms)\n",
      "2019-08-13 16:58:07,317 INFO  [__main__:87] (MainThread) basic Repeat 2x timing on batch of 1000 images for 10 iterations...\n",
      "2019-08-13 16:58:08,382 INFO  [__main__:94] (MainThread) [010x1000  tflite] Test =    1.06254s (avg = 106.254ms)\n",
      "2019-08-13 16:58:09,456 INFO  [__main__:94] (MainThread) [010x1000  tflite] Test =    1.07194s (avg = 107.194ms)\n"
     ]
    }
   ],
   "source": [
    "for i in TEST_SIZES:\n",
    "    test('tflite', tflite_model, TEST_X[:i], TRIALS, REPEAT)"
   ]
  },
  {
   "cell_type": "code",
   "execution_count": 27,
   "metadata": {},
   "outputs": [],
   "source": [
    "del tflite_model"
   ]
  },
  {
   "cell_type": "markdown",
   "metadata": {},
   "source": [
    "# Results"
   ]
  },
  {
   "cell_type": "code",
   "execution_count": 35,
   "metadata": {},
   "outputs": [
    {
     "name": "stdout",
     "output_type": "stream",
     "text": [
      "tmp/test_data_2019-08-13-16:26:01.csv\n",
      "tmp/test_data_2019-08-13-16:30:16.csv\n",
      "tmp/test_data_2019-08-13-16:36:19.csv\n",
      "tmp/test_data_2019-08-13-16:46:03.csv\n",
      "tmp/test_data_2019-08-13-16:57:00.csv\n",
      "tmp/test_data_2019-08-13-16:57:49.csv\n"
     ]
    }
   ],
   "source": [
    "%%bash\n",
    "\n",
    "find tmp -type f | sort"
   ]
  },
  {
   "cell_type": "code",
   "execution_count": 36,
   "metadata": {},
   "outputs": [
    {
     "name": "stdout",
     "output_type": "stream",
     "text": [
      "model,dataset,trials,tag,input_size,repeat_index,total_time,mean_time\n",
      "basic,cifar100,10,edgetpu,1,1,3.8008689880371094,0.38008689880371094\n",
      "basic,cifar100,10,edgetpu,1,2,3.408193588256836,0.3408193588256836\n",
      "basic,cifar100,10,edgetpu,10,1,26.46613121032715,2.646613121032715\n",
      "basic,cifar100,10,edgetpu,10,2,26.03602409362793,2.603602409362793\n",
      "basic,cifar100,10,edgetpu,100,1,234.06457901000977,23.406457901000977\n",
      "basic,cifar100,10,edgetpu,100,2,240.79036712646484,24.079036712646484\n",
      "basic,cifar100,10,edgetpu,1000,1,2411.196708679199,241.11967086791992\n",
      "basic,cifar100,10,edgetpu,1000,2,2539.804697036743,253.98046970367432\n",
      "basic,cifar100,10,keras,1,1,15.152692794799805,1.5152692794799805\n",
      "basic,cifar100,10,keras,1,2,14.095067977905273,1.4095067977905273\n",
      "basic,cifar100,10,keras,10,1,17.39811897277832,1.739811897277832\n",
      "basic,cifar100,10,keras,10,2,16.704559326171875,1.6704559326171875\n",
      "basic,cifar100,10,keras,100,1,53.47180366516113,5.347180366516113\n",
      "basic,cifar100,10,keras,100,2,49.1485595703125,4.91485595703125\n",
      "basic,cifar100,10,keras,1000,1,332.55481719970703,33.2554817199707\n",
      "basic,cifar100,10,keras,1000,2,341.83311462402344,34.183311462402344\n",
      "basic,cifar100,10,tensorflow,1,1,7.750749588012695,0.7750749588012695\n",
      "basic,cifar100,10,tensorflow,1,2,6.942510604858398,0.6942510604858398\n",
      "basic,cifar100,10,tensorflow,10,1,9.730339050292969,0.9730339050292969\n",
      "basic,cifar100,10,tensorflow,10,2,8.620738983154297,0.8620738983154297\n",
      "basic,cifar100,10,tensorflow,100,1,20.86806297302246,2.086806297302246\n",
      "basic,cifar100,10,tensorflow,100,2,21.18086814880371,2.118086814880371\n",
      "basic,cifar100,10,tensorflow,1000,1,116.0731315612793,11.60731315612793\n",
      "basic,cifar100,10,tensorflow,1000,2,107.93352127075195,10.793352127075195\n",
      "basic,cifar100,10,tflite,1,1,2.7208328247070312,0.2720832824707031\n",
      "basic,cifar100,10,tflite,1,2,3.1266212463378906,0.31266212463378906\n",
      "basic,cifar100,10,tflite,10,1,16.24774932861328,1.6247749328613281\n",
      "basic,cifar100,10,tflite,10,2,12.314081192016602,1.2314081192016602\n",
      "basic,cifar100,10,tflite,100,1,102.40435600280762,10.240435600280762\n",
      "basic,cifar100,10,tflite,100,2,109.82346534729004,10.982346534729004\n",
      "basic,cifar100,10,tflite,1000,1,1062.535285949707,106.2535285949707\n",
      "basic,cifar100,10,tflite,1000,2,1071.9411373138428,107.19411373138428\n"
     ]
    }
   ],
   "source": [
    "%%bash\n",
    "find tmp -type f | sort | tail -1 | xargs cat"
   ]
  },
  {
   "cell_type": "markdown",
   "metadata": {},
   "source": [
    "# Debug"
   ]
  },
  {
   "cell_type": "code",
   "execution_count": 29,
   "metadata": {},
   "outputs": [
    {
     "data": {
      "text/plain": [
       "<module 'src.tf.utils' from '../src/tf/utils.py'>"
      ]
     },
     "execution_count": 29,
     "metadata": {},
     "output_type": "execute_result"
    }
   ],
   "source": [
    "from src.tf import utils\n",
    "importlib.reload(src.tf.utils)"
   ]
  },
  {
   "cell_type": "code",
   "execution_count": 30,
   "metadata": {
    "scrolled": true
   },
   "outputs": [
    {
     "name": "stdout",
     "output_type": "stream",
     "text": [
      "Help on module src.tf.utils in src.tf:\n",
      "\n",
      "NAME\n",
      "    src.tf.utils\n",
      "\n",
      "FUNCTIONS\n",
      "    devices()\n",
      "    \n",
      "    get_available_gpus()\n",
      "    \n",
      "    gpu_device_name()\n",
      "    \n",
      "    is_gpu_available()\n",
      "\n",
      "FILE\n",
      "    /space/code/deep-learning/src/tf/utils.py\n",
      "\n",
      "\n"
     ]
    }
   ],
   "source": [
    "help(utils)"
   ]
  },
  {
   "cell_type": "code",
   "execution_count": 31,
   "metadata": {},
   "outputs": [
    {
     "data": {
      "text/plain": [
       "[name: \"/device:CPU:0\"\n",
       " device_type: \"CPU\"\n",
       " memory_limit: 268435456\n",
       " locality {\n",
       " }\n",
       " incarnation: 7577985376503766366, name: \"/device:XLA_CPU:0\"\n",
       " device_type: \"XLA_CPU\"\n",
       " memory_limit: 17179869184\n",
       " locality {\n",
       " }\n",
       " incarnation: 2387845424754494257\n",
       " physical_device_desc: \"device: XLA_CPU device\", name: \"/device:XLA_GPU:0\"\n",
       " device_type: \"XLA_GPU\"\n",
       " memory_limit: 17179869184\n",
       " locality {\n",
       " }\n",
       " incarnation: 6535275900652677817\n",
       " physical_device_desc: \"device: XLA_GPU device\", name: \"/device:GPU:0\"\n",
       " device_type: \"GPU\"\n",
       " memory_limit: 10691896935\n",
       " locality {\n",
       "   bus_id: 1\n",
       "   links {\n",
       "   }\n",
       " }\n",
       " incarnation: 14143381435286180763\n",
       " physical_device_desc: \"device: 0, name: GeForce RTX 2080 Ti, pci bus id: 0000:0b:00.0, compute capability: 7.5\"]"
      ]
     },
     "execution_count": 31,
     "metadata": {},
     "output_type": "execute_result"
    }
   ],
   "source": [
    "utils.devices()"
   ]
  },
  {
   "cell_type": "code",
   "execution_count": 32,
   "metadata": {},
   "outputs": [
    {
     "data": {
      "text/plain": [
       "['/device:GPU:0']"
      ]
     },
     "execution_count": 32,
     "metadata": {},
     "output_type": "execute_result"
    }
   ],
   "source": [
    "utils.get_available_gpus()"
   ]
  },
  {
   "cell_type": "code",
   "execution_count": 33,
   "metadata": {},
   "outputs": [
    {
     "data": {
      "text/plain": [
       "True"
      ]
     },
     "execution_count": 33,
     "metadata": {},
     "output_type": "execute_result"
    }
   ],
   "source": [
    "utils.is_gpu_available()\n"
   ]
  },
  {
   "cell_type": "code",
   "execution_count": 34,
   "metadata": {},
   "outputs": [
    {
     "data": {
      "text/plain": [
       "'/device:GPU:0'"
      ]
     },
     "execution_count": 34,
     "metadata": {},
     "output_type": "execute_result"
    }
   ],
   "source": [
    "utils.gpu_device_name()\n"
   ]
  },
  {
   "cell_type": "code",
   "execution_count": null,
   "metadata": {},
   "outputs": [],
   "source": []
  },
  {
   "cell_type": "code",
   "execution_count": null,
   "metadata": {},
   "outputs": [],
   "source": []
  },
  {
   "cell_type": "code",
   "execution_count": null,
   "metadata": {},
   "outputs": [],
   "source": []
  },
  {
   "cell_type": "code",
   "execution_count": null,
   "metadata": {},
   "outputs": [],
   "source": []
  }
 ],
 "metadata": {
  "kernelspec": {
   "display_name": "Python 3",
   "language": "python",
   "name": "python3"
  },
  "language_info": {
   "codemirror_mode": {
    "name": "ipython",
    "version": 3
   },
   "file_extension": ".py",
   "mimetype": "text/x-python",
   "name": "python",
   "nbconvert_exporter": "python",
   "pygments_lexer": "ipython3",
   "version": "3.6.8"
  }
 },
 "nbformat": 4,
 "nbformat_minor": 2
}
