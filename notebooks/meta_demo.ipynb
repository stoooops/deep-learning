{
 "cells": [
  {
   "cell_type": "code",
   "execution_count": 1,
   "metadata": {},
   "outputs": [
    {
     "data": {
      "text/html": [
       "<style>.container { width:100% !important; }</style>"
      ],
      "text/plain": [
       "<IPython.core.display.HTML object>"
      ]
     },
     "metadata": {},
     "output_type": "display_data"
    },
    {
     "name": "stderr",
     "output_type": "stream",
     "text": [
      "/home/cory/.pyenv/versions/dl-venv/lib/python3.6/site-packages/tensorflow/python/framework/dtypes.py:516: FutureWarning: Passing (type, 1) or '1type' as a synonym of type is deprecated; in a future version of numpy, it will be understood as (type, (1,)) / '(1,)type'.\n",
      "  _np_qint8 = np.dtype([(\"qint8\", np.int8, 1)])\n",
      "/home/cory/.pyenv/versions/dl-venv/lib/python3.6/site-packages/tensorflow/python/framework/dtypes.py:517: FutureWarning: Passing (type, 1) or '1type' as a synonym of type is deprecated; in a future version of numpy, it will be understood as (type, (1,)) / '(1,)type'.\n",
      "  _np_quint8 = np.dtype([(\"quint8\", np.uint8, 1)])\n",
      "/home/cory/.pyenv/versions/dl-venv/lib/python3.6/site-packages/tensorflow/python/framework/dtypes.py:518: FutureWarning: Passing (type, 1) or '1type' as a synonym of type is deprecated; in a future version of numpy, it will be understood as (type, (1,)) / '(1,)type'.\n",
      "  _np_qint16 = np.dtype([(\"qint16\", np.int16, 1)])\n",
      "/home/cory/.pyenv/versions/dl-venv/lib/python3.6/site-packages/tensorflow/python/framework/dtypes.py:519: FutureWarning: Passing (type, 1) or '1type' as a synonym of type is deprecated; in a future version of numpy, it will be understood as (type, (1,)) / '(1,)type'.\n",
      "  _np_quint16 = np.dtype([(\"quint16\", np.uint16, 1)])\n",
      "/home/cory/.pyenv/versions/dl-venv/lib/python3.6/site-packages/tensorflow/python/framework/dtypes.py:520: FutureWarning: Passing (type, 1) or '1type' as a synonym of type is deprecated; in a future version of numpy, it will be understood as (type, (1,)) / '(1,)type'.\n",
      "  _np_qint32 = np.dtype([(\"qint32\", np.int32, 1)])\n",
      "/home/cory/.pyenv/versions/dl-venv/lib/python3.6/site-packages/tensorflow/python/framework/dtypes.py:525: FutureWarning: Passing (type, 1) or '1type' as a synonym of type is deprecated; in a future version of numpy, it will be understood as (type, (1,)) / '(1,)type'.\n",
      "  np_resource = np.dtype([(\"resource\", np.ubyte, 1)])\n",
      "/home/cory/.pyenv/versions/dl-venv/lib/python3.6/site-packages/tensorboard/compat/tensorflow_stub/dtypes.py:541: FutureWarning: Passing (type, 1) or '1type' as a synonym of type is deprecated; in a future version of numpy, it will be understood as (type, (1,)) / '(1,)type'.\n",
      "  _np_qint8 = np.dtype([(\"qint8\", np.int8, 1)])\n",
      "/home/cory/.pyenv/versions/dl-venv/lib/python3.6/site-packages/tensorboard/compat/tensorflow_stub/dtypes.py:542: FutureWarning: Passing (type, 1) or '1type' as a synonym of type is deprecated; in a future version of numpy, it will be understood as (type, (1,)) / '(1,)type'.\n",
      "  _np_quint8 = np.dtype([(\"quint8\", np.uint8, 1)])\n",
      "/home/cory/.pyenv/versions/dl-venv/lib/python3.6/site-packages/tensorboard/compat/tensorflow_stub/dtypes.py:543: FutureWarning: Passing (type, 1) or '1type' as a synonym of type is deprecated; in a future version of numpy, it will be understood as (type, (1,)) / '(1,)type'.\n",
      "  _np_qint16 = np.dtype([(\"qint16\", np.int16, 1)])\n",
      "/home/cory/.pyenv/versions/dl-venv/lib/python3.6/site-packages/tensorboard/compat/tensorflow_stub/dtypes.py:544: FutureWarning: Passing (type, 1) or '1type' as a synonym of type is deprecated; in a future version of numpy, it will be understood as (type, (1,)) / '(1,)type'.\n",
      "  _np_quint16 = np.dtype([(\"quint16\", np.uint16, 1)])\n",
      "/home/cory/.pyenv/versions/dl-venv/lib/python3.6/site-packages/tensorboard/compat/tensorflow_stub/dtypes.py:545: FutureWarning: Passing (type, 1) or '1type' as a synonym of type is deprecated; in a future version of numpy, it will be understood as (type, (1,)) / '(1,)type'.\n",
      "  _np_qint32 = np.dtype([(\"qint32\", np.int32, 1)])\n",
      "/home/cory/.pyenv/versions/dl-venv/lib/python3.6/site-packages/tensorboard/compat/tensorflow_stub/dtypes.py:550: FutureWarning: Passing (type, 1) or '1type' as a synonym of type is deprecated; in a future version of numpy, it will be understood as (type, (1,)) / '(1,)type'.\n",
      "  np_resource = np.dtype([(\"resource\", np.ubyte, 1)])\n"
     ]
    }
   ],
   "source": [
    "from IPython.core.display import display, HTML\n",
    "display(HTML(\"<style>.container { width:100% !important; }</style>\"))\n",
    "\n",
    "import sys\n",
    "sys.path.append('..')\n",
    "\n",
    "\n",
    "from src.data.cifar100 import CIFAR_100_CLASSES, load_cifar100_data\n",
    "from src.meta.tensor_apis import TensorApi\n",
    "from src.meta.meta import MetaModel, MetaModelFactory\n",
    "from src.utils.debug_utils import print_list\n",
    "from src.utils.logger import HuliLogging"
   ]
  },
  {
   "cell_type": "code",
   "execution_count": 2,
   "metadata": {},
   "outputs": [],
   "source": [
    "logger = HuliLogging.get_logger(__name__)\n",
    "HuliLogging.attach_stdout()"
   ]
  },
  {
   "cell_type": "markdown",
   "metadata": {},
   "source": [
    "# Load data"
   ]
  },
  {
   "cell_type": "code",
   "execution_count": 3,
   "metadata": {},
   "outputs": [],
   "source": [
    "_NAME = 'conv'\n",
    "_EPOCH = 1\n",
    "_DO_FIT = True"
   ]
  },
  {
   "cell_type": "code",
   "execution_count": 4,
   "metadata": {},
   "outputs": [],
   "source": [
    "(train_images, train_labels), (test_images, test_labels) = load_cifar100_data()"
   ]
  },
  {
   "cell_type": "markdown",
   "metadata": {},
   "source": [
    "# Init as `KERAS` mode"
   ]
  },
  {
   "cell_type": "code",
   "execution_count": 5,
   "metadata": {},
   "outputs": [
    {
     "name": "stdout",
     "output_type": "stream",
     "text": [
      "2019-08-08 02:15:35,693 DEBUG [src.meta.keras:183] (MainThread) basic Loading keras model from /home/cory/dev/deep-learning/models/basic_001.h5...\n"
     ]
    },
    {
     "name": "stderr",
     "output_type": "stream",
     "text": [
      "WARNING: Logging before flag parsing goes to stderr.\n",
      "W0808 02:15:35.720493 140266688409728 deprecation.py:506] From /home/cory/.pyenv/versions/dl-venv/lib/python3.6/site-packages/tensorflow/python/ops/init_ops.py:97: calling GlorotUniform.__init__ (from tensorflow.python.ops.init_ops) with dtype is deprecated and will be removed in a future version.\n",
      "Instructions for updating:\n",
      "Call initializer instance with the dtype argument instead of passing it to the constructor\n",
      "W0808 02:15:35.721472 140266688409728 deprecation.py:506] From /home/cory/.pyenv/versions/dl-venv/lib/python3.6/site-packages/tensorflow/python/ops/init_ops.py:1251: calling VarianceScaling.__init__ (from tensorflow.python.ops.init_ops) with dtype is deprecated and will be removed in a future version.\n",
      "Instructions for updating:\n",
      "Call initializer instance with the dtype argument instead of passing it to the constructor\n",
      "W0808 02:15:35.722532 140266688409728 deprecation.py:506] From /home/cory/.pyenv/versions/dl-venv/lib/python3.6/site-packages/tensorflow/python/ops/init_ops.py:97: calling Zeros.__init__ (from tensorflow.python.ops.init_ops) with dtype is deprecated and will be removed in a future version.\n",
      "Instructions for updating:\n",
      "Call initializer instance with the dtype argument instead of passing it to the constructor\n"
     ]
    },
    {
     "name": "stdout",
     "output_type": "stream",
     "text": [
      "<class 'src.meta.meta.MetaModel'>\n"
     ]
    }
   ],
   "source": [
    "ret, model = MetaModelFactory.from_h5(_NAME, _EPOCH)\n",
    "m = model\n",
    "print(type(m))"
   ]
  },
  {
   "cell_type": "code",
   "execution_count": 6,
   "metadata": {},
   "outputs": [
    {
     "data": {
      "text/plain": [
       "0"
      ]
     },
     "execution_count": 6,
     "metadata": {},
     "output_type": "execute_result"
    }
   ],
   "source": [
    "m.compile(optimizer='adam', loss='sparse_categorical_crossentropy', metrics=['accuracy'])"
   ]
  },
  {
   "cell_type": "code",
   "execution_count": 7,
   "metadata": {},
   "outputs": [
    {
     "data": {
      "text/plain": [
       "1"
      ]
     },
     "execution_count": 7,
     "metadata": {},
     "output_type": "execute_result"
    }
   ],
   "source": [
    "m.epoch"
   ]
  },
  {
   "cell_type": "code",
   "execution_count": 8,
   "metadata": {},
   "outputs": [
    {
     "data": {
      "text/plain": [
       "<TensorApi.KERAS: 'keras'>"
      ]
     },
     "execution_count": 8,
     "metadata": {},
     "output_type": "execute_result"
    }
   ],
   "source": [
    "m.mode"
   ]
  },
  {
   "cell_type": "code",
   "execution_count": 9,
   "metadata": {},
   "outputs": [
    {
     "name": "stdout",
     "output_type": "stream",
     "text": [
      "2019-08-08 02:15:37,121 DEBUG [src.meta.keras:56] (MainThread) basic keras callback attached to tensorboard. Visualize by running: \n",
      "2019-08-08 02:15:37,121 DEBUG [src.meta.keras:57] (MainThread) > tensorboard --logdir=/home/cory/dev/deep-learning/tmp/tensorboard/20190808-021537_basic\n",
      "Epoch 2/3\n",
      "50000/50000 [==============================] - 4s 71us/sample - loss: 4.2751 - acc: 0.0360\n",
      "Epoch 3/3\n",
      "50000/50000 [==============================] - 3s 61us/sample - loss: 4.2539 - acc: 0.0380\n"
     ]
    }
   ],
   "source": [
    "if _DO_FIT:\n",
    "    model.fit(train_images, train_labels, epochs=m.epoch+2, initial_epoch=m.epoch)"
   ]
  },
  {
   "cell_type": "code",
   "execution_count": 10,
   "metadata": {},
   "outputs": [
    {
     "data": {
      "text/plain": [
       "3"
      ]
     },
     "execution_count": 10,
     "metadata": {},
     "output_type": "execute_result"
    }
   ],
   "source": [
    "m.epoch"
   ]
  },
  {
   "cell_type": "code",
   "execution_count": 11,
   "metadata": {},
   "outputs": [
    {
     "name": "stdout",
     "output_type": "stream",
     "text": [
      "10000/10000 [==============================] - 0s 46us/sample - loss: 4.2497 - acc: 0.0399\n"
     ]
    },
    {
     "data": {
      "text/plain": [
       "(0, [4.249735636138916, 0.0399])"
      ]
     },
     "execution_count": 11,
     "metadata": {},
     "output_type": "execute_result"
    }
   ],
   "source": [
    "m.evaluate(test_images, test_labels)"
   ]
  },
  {
   "cell_type": "code",
   "execution_count": 12,
   "metadata": {},
   "outputs": [
    {
     "data": {
      "text/plain": [
       "(0, array([[0.00055413, 0.00151285, 0.00332317, ..., 0.00680973, 0.00309475,\n",
       "         0.01521831],\n",
       "        [0.00590484, 0.00919509, 0.01215797, ..., 0.01249991, 0.01229205,\n",
       "         0.0131434 ],\n",
       "        [0.00171074, 0.0048933 , 0.0063945 , ..., 0.0103859 , 0.00605913,\n",
       "         0.01451097],\n",
       "        ...,\n",
       "        [0.00599584, 0.01396994, 0.01202423, ..., 0.01346704, 0.0118587 ,\n",
       "         0.01146432],\n",
       "        [0.01725745, 0.01464236, 0.0178417 , ..., 0.01107204, 0.01932267,\n",
       "         0.00802198],\n",
       "        [0.05030892, 0.01189299, 0.01529285, ..., 0.00368495, 0.01895645,\n",
       "         0.00151017]], dtype=float32))"
      ]
     },
     "execution_count": 12,
     "metadata": {},
     "output_type": "execute_result"
    }
   ],
   "source": [
    "m.predict(test_images)"
   ]
  },
  {
   "cell_type": "code",
   "execution_count": 13,
   "metadata": {},
   "outputs": [
    {
     "name": "stdout",
     "output_type": "stream",
     "text": [
      "2019-08-08 02:15:44,776 INFO  [src.meta.keras:105] (MainThread) basic Saving keras model to /home/cory/dev/deep-learning/models/basic_003.h5...\n"
     ]
    },
    {
     "data": {
      "text/plain": [
       "0"
      ]
     },
     "execution_count": 13,
     "metadata": {},
     "output_type": "execute_result"
    }
   ],
   "source": [
    "m.save()"
   ]
  },
  {
   "cell_type": "code",
   "execution_count": 14,
   "metadata": {},
   "outputs": [
    {
     "name": "stdout",
     "output_type": "stream",
     "text": [
      "2019-08-08 02:15:44,853 DEBUG [src.meta.meta:97] (MainThread) basic mode = TensorApi.KERAS\n",
      "2019-08-08 02:15:44,854 DEBUG [src.meta.meta:98] (MainThread) basic epoch = 3\n",
      "2019-08-08 02:15:44,855 DEBUG [src.meta.keras:161] (MainThread) Model: \"basic\"\n",
      "2019-08-08 02:15:44,855 DEBUG [src.meta.keras:162] (MainThread) _________________________________________________________________\n",
      "2019-08-08 02:15:44,858 DEBUG [src.meta.keras:159] (MainThread) Layer (type)                 Output Shape              Param #   \n",
      "2019-08-08 02:15:44,859 DEBUG [src.meta.keras:164] (MainThread) =================================================================\n",
      "2019-08-08 02:15:44,861 DEBUG [src.meta.keras:159] (MainThread) basic0 (Flatten)             (None, 3072)              0         \n",
      "2019-08-08 02:15:44,862 DEBUG [src.meta.keras:228] (MainThread) _________________________________________________________________\n",
      "2019-08-08 02:15:44,863 DEBUG [src.meta.keras:159] (MainThread) basic1 (Dense)               (None, 128)               393344    \n",
      "2019-08-08 02:15:44,863 DEBUG [src.meta.keras:228] (MainThread) _________________________________________________________________\n",
      "2019-08-08 02:15:44,864 DEBUG [src.meta.keras:159] (MainThread) basic2 (Dense)               (None, 100)               12900     \n",
      "2019-08-08 02:15:44,864 DEBUG [src.meta.keras:226] (MainThread) =================================================================\n",
      "2019-08-08 02:15:44,864 DEBUG [src.meta.keras:238] (MainThread) Total params: 406,244\n",
      "2019-08-08 02:15:44,865 DEBUG [src.meta.keras:239] (MainThread) Trainable params: 406,244\n",
      "2019-08-08 02:15:44,865 DEBUG [src.meta.keras:240] (MainThread) Non-trainable params: 0\n",
      "2019-08-08 02:15:44,866 DEBUG [src.meta.keras:241] (MainThread) _________________________________________________________________\n",
      "2019-08-08 02:15:44,866 DEBUG [src.meta.keras:133] (MainThread) basic Input tensor: Tensor(\"basic0_input:0\", shape=(?, 32, 32, 3), dtype=float32)\n",
      "2019-08-08 02:15:44,866 DEBUG [src.meta.keras:136] (MainThread) basic Input tensor name: basic0_input\n",
      "2019-08-08 02:15:44,867 DEBUG [src.meta.keras:139] (MainThread) basic Output tensor: Tensor(\"basic2/Softmax:0\", shape=(?, 100), dtype=float32)\n",
      "2019-08-08 02:15:44,868 DEBUG [src.meta.keras:142] (MainThread) basic Output tensor name: basic2/Softmax\n"
     ]
    },
    {
     "data": {
      "text/plain": [
       "0"
      ]
     },
     "execution_count": 14,
     "metadata": {},
     "output_type": "execute_result"
    }
   ],
   "source": [
    "m.dump()"
   ]
  },
  {
   "cell_type": "code",
   "execution_count": 15,
   "metadata": {},
   "outputs": [
    {
     "name": "stdout",
     "output_type": "stream",
     "text": [
      "2019-08-08 02:15:44,872 DEBUG [src.meta.meta:195] (MainThread) basic Saving mode TensorApi.TF_LITE via mode TensorApi.KERAS...\n"
     ]
    },
    {
     "name": "stderr",
     "output_type": "stream",
     "text": [
      "W0808 02:15:45.171072 140266688409728 deprecation.py:323] From /home/cory/.pyenv/versions/dl-venv/lib/python3.6/site-packages/tensorflow/lite/python/util.py:238: convert_variables_to_constants (from tensorflow.python.framework.graph_util_impl) is deprecated and will be removed in a future version.\n",
      "Instructions for updating:\n",
      "Use `tf.compat.v1.graph_util.convert_variables_to_constants`\n",
      "W0808 02:15:45.171596 140266688409728 deprecation.py:323] From /home/cory/.pyenv/versions/dl-venv/lib/python3.6/site-packages/tensorflow/python/framework/graph_util_impl.py:270: extract_sub_graph (from tensorflow.python.framework.graph_util_impl) is deprecated and will be removed in a future version.\n",
      "Instructions for updating:\n",
      "Use `tf.compat.v1.graph_util.extract_sub_graph`\n"
     ]
    },
    {
     "name": "stdout",
     "output_type": "stream",
     "text": [
      "2019-08-08 02:15:45,182 DEBUG [src.meta.meta:116] (MainThread) basic Deleting existing delegate...\n",
      "2019-08-08 02:15:45,183 DEBUG [src.meta.keras:183] (MainThread) basic Loading keras model from /home/cory/dev/deep-learning/models/basic_003.h5...\n",
      "2019-08-08 02:15:45,484 INFO  [src.meta.meta:288] (MainThread) basic Converting to tflite INT8 model...\n",
      "2019-08-08 02:15:46,661 INFO  [src.meta.meta:291] (MainThread) basic Saving tflite model to /home/cory/dev/deep-learning/models/basic_003_int8.tflite...\n"
     ]
    },
    {
     "data": {
      "text/plain": [
       "0"
      ]
     },
     "execution_count": 15,
     "metadata": {},
     "output_type": "execute_result"
    }
   ],
   "source": [
    "m.save_to(TensorApi.TF_LITE, representative_data=train_images)"
   ]
  },
  {
   "cell_type": "code",
   "execution_count": 16,
   "metadata": {},
   "outputs": [
    {
     "name": "stdout",
     "output_type": "stream",
     "text": [
      "2019-08-08 02:15:46,668 INFO  [src.meta.keras:105] (MainThread) basic Saving keras model to /home/cory/dev/deep-learning/models/basic_003.h5...\n"
     ]
    },
    {
     "data": {
      "text/plain": [
       "0"
      ]
     },
     "execution_count": 16,
     "metadata": {},
     "output_type": "execute_result"
    }
   ],
   "source": [
    "m.save()"
   ]
  },
  {
   "cell_type": "code",
   "execution_count": 17,
   "metadata": {},
   "outputs": [
    {
     "name": "stderr",
     "output_type": "stream",
     "text": [
      "W0808 02:15:46.742147 140266688409728 deprecation_wrapper.py:119] From ../src/meta/keras.py:161: The name tf.keras.backend.get_session is deprecated. Please use tf.compat.v1.keras.backend.get_session instead.\n",
      "\n",
      "W0808 02:15:46.743941 140266688409728 deprecation_wrapper.py:119] From ../src/meta/keras.py:164: The name tf.global_variables is deprecated. Please use tf.compat.v1.global_variables instead.\n",
      "\n"
     ]
    },
    {
     "name": "stdout",
     "output_type": "stream",
     "text": [
      "2019-08-08 02:15:46,788 INFO  [src.meta.keras:176] (MainThread) basic Saving frozen graph to /home/cory/dev/deep-learning/models/basic_003.pb...\n"
     ]
    },
    {
     "name": "stderr",
     "output_type": "stream",
     "text": [
      "W0808 02:15:46.789188 140266688409728 deprecation_wrapper.py:119] From ../src/meta/keras.py:177: The name tf.train.write_graph is deprecated. Please use tf.io.write_graph instead.\n",
      "\n"
     ]
    },
    {
     "data": {
      "text/plain": [
       "0"
      ]
     },
     "execution_count": 17,
     "metadata": {},
     "output_type": "execute_result"
    }
   ],
   "source": [
    "m.freeze_session()"
   ]
  },
  {
   "cell_type": "code",
   "execution_count": 18,
   "metadata": {},
   "outputs": [
    {
     "name": "stdout",
     "output_type": "stream",
     "text": [
      "2019-08-08 02:15:46,823 INFO  [src.meta.keras:105] (MainThread) basic Saving keras model to /home/cory/dev/deep-learning/models/basic_003.h5...\n"
     ]
    },
    {
     "data": {
      "text/plain": [
       "0"
      ]
     },
     "execution_count": 18,
     "metadata": {},
     "output_type": "execute_result"
    }
   ],
   "source": [
    "m.save()"
   ]
  },
  {
   "cell_type": "code",
   "execution_count": 19,
   "metadata": {},
   "outputs": [
    {
     "name": "stdout",
     "output_type": "stream",
     "text": [
      "2019-08-08 02:15:46,856 INFO  [src.meta.keras:105] (MainThread) basic Saving keras model to /home/cory/dev/deep-learning/models/basic_003.h5...\n",
      "2019-08-08 02:15:46,875 DEBUG [src.meta.meta:195] (MainThread) basic Saving mode TensorApi.TENSOR_FLOW via mode TensorApi.KERAS...\n",
      "2019-08-08 02:15:46,962 INFO  [src.meta.keras:176] (MainThread) basic Saving frozen graph to /home/cory/dev/deep-learning/models/basic_003.pb...\n",
      "2019-08-08 02:15:46,985 DEBUG [src.meta.meta:195] (MainThread) basic Saving mode TensorApi.TF_LITE via mode TensorApi.KERAS...\n",
      "2019-08-08 02:15:47,296 DEBUG [src.meta.meta:116] (MainThread) basic Deleting existing delegate...\n",
      "2019-08-08 02:15:47,296 DEBUG [src.meta.keras:183] (MainThread) basic Loading keras model from /home/cory/dev/deep-learning/models/basic_003.h5...\n",
      "2019-08-08 02:15:47,598 INFO  [src.meta.meta:288] (MainThread) basic Converting to tflite INT8 model...\n",
      "2019-08-08 02:15:48,809 INFO  [src.meta.meta:291] (MainThread) basic Saving tflite model to /home/cory/dev/deep-learning/models/basic_003_int8.tflite...\n"
     ]
    },
    {
     "data": {
      "text/plain": [
       "0"
      ]
     },
     "execution_count": 19,
     "metadata": {},
     "output_type": "execute_result"
    }
   ],
   "source": [
    "m.save_all(representative_data=train_images)"
   ]
  },
  {
   "cell_type": "markdown",
   "metadata": {},
   "source": [
    "# Convert to `TF_LITE` mode"
   ]
  },
  {
   "cell_type": "code",
   "execution_count": 20,
   "metadata": {},
   "outputs": [
    {
     "name": "stdout",
     "output_type": "stream",
     "text": [
      "2019-08-08 02:15:48,816 DEBUG [src.meta.tflite:83] (MainThread) basic Loading tflite interpreter from /home/cory/dev/deep-learning/models/basic_003_int8.tflite...\n"
     ]
    },
    {
     "data": {
      "text/plain": [
       "0"
      ]
     },
     "execution_count": 20,
     "metadata": {},
     "output_type": "execute_result"
    }
   ],
   "source": [
    "m.change_mode(TensorApi.TF_LITE)"
   ]
  },
  {
   "cell_type": "code",
   "execution_count": 21,
   "metadata": {},
   "outputs": [
    {
     "data": {
      "text/plain": [
       "<TensorApi.TF_LITE: 'tf.lite'>"
      ]
     },
     "execution_count": 21,
     "metadata": {},
     "output_type": "execute_result"
    }
   ],
   "source": [
    "m.mode"
   ]
  },
  {
   "cell_type": "code",
   "execution_count": 22,
   "metadata": {},
   "outputs": [
    {
     "name": "stdout",
     "output_type": "stream",
     "text": [
      "2019-08-08 02:15:48,842 DEBUG [src.meta.meta:97] (MainThread) basic mode = TensorApi.TF_LITE\n",
      "2019-08-08 02:15:48,843 DEBUG [src.meta.meta:98] (MainThread) basic epoch = 3\n",
      "2019-08-08 02:15:48,843 DEBUG [src.meta.tflite:72] (MainThread) basic Input mean, std, index: 0, 0.003921568859368563, 8\n",
      "2019-08-08 02:15:48,844 DEBUG [src.meta.tflite:77] (MainThread) basic Output mean, std, index: 0, 0.00390625, 9\n"
     ]
    },
    {
     "data": {
      "text/plain": [
       "0"
      ]
     },
     "execution_count": 22,
     "metadata": {},
     "output_type": "execute_result"
    }
   ],
   "source": [
    "m.dump()"
   ]
  },
  {
   "cell_type": "code",
   "execution_count": 23,
   "metadata": {},
   "outputs": [
    {
     "data": {
      "text/plain": [
       "(0, array([[[0.        , 0.        , 0.00390625, ..., 0.0078125 ,\n",
       "          0.00390625, 0.015625  ]],\n",
       " \n",
       "        [[0.00390625, 0.0078125 , 0.01171875, ..., 0.01171875,\n",
       "          0.01171875, 0.01171875]],\n",
       " \n",
       "        [[0.        , 0.00390625, 0.0078125 , ..., 0.01171875,\n",
       "          0.0078125 , 0.015625  ]],\n",
       " \n",
       "        ...,\n",
       " \n",
       "        [[0.00390625, 0.015625  , 0.01171875, ..., 0.01171875,\n",
       "          0.01171875, 0.01171875]],\n",
       " \n",
       "        [[0.01953125, 0.015625  , 0.01953125, ..., 0.01171875,\n",
       "          0.01953125, 0.0078125 ]],\n",
       " \n",
       "        [[0.046875  , 0.01171875, 0.015625  , ..., 0.00390625,\n",
       "          0.01953125, 0.        ]]], dtype=float32))"
      ]
     },
     "execution_count": 23,
     "metadata": {},
     "output_type": "execute_result"
    }
   ],
   "source": [
    "m.predict(test_images)"
   ]
  },
  {
   "cell_type": "markdown",
   "metadata": {},
   "source": [
    "# Convert back to `KERAS` mode"
   ]
  },
  {
   "cell_type": "code",
   "execution_count": 24,
   "metadata": {},
   "outputs": [
    {
     "name": "stdout",
     "output_type": "stream",
     "text": [
      "2019-08-08 02:15:51,318 DEBUG [src.meta.keras:183] (MainThread) basic Loading keras model from /home/cory/dev/deep-learning/models/basic_003.h5...\n"
     ]
    },
    {
     "data": {
      "text/plain": [
       "0"
      ]
     },
     "execution_count": 24,
     "metadata": {},
     "output_type": "execute_result"
    }
   ],
   "source": [
    "m.change_mode(TensorApi.KERAS)"
   ]
  },
  {
   "cell_type": "code",
   "execution_count": 25,
   "metadata": {},
   "outputs": [
    {
     "name": "stdout",
     "output_type": "stream",
     "text": [
      "2019-08-08 02:15:51,660 DEBUG [src.meta.keras:56] (MainThread) basic keras callback attached to tensorboard. Visualize by running: \n",
      "2019-08-08 02:15:51,664 DEBUG [src.meta.keras:57] (MainThread) > tensorboard --logdir=/home/cory/dev/deep-learning/tmp/tensorboard/20190808-021551_basic\n",
      "Epoch 4/4\n",
      "50000/50000 [==============================] - 3s 66us/sample - loss: 4.2426 - acc: 0.0403\n"
     ]
    }
   ],
   "source": [
    "if _DO_FIT:\n",
    "    model.fit(train_images, train_labels, epochs=m.epoch+1, initial_epoch=m.epoch)"
   ]
  },
  {
   "cell_type": "code",
   "execution_count": 26,
   "metadata": {},
   "outputs": [
    {
     "data": {
      "text/plain": [
       "4"
      ]
     },
     "execution_count": 26,
     "metadata": {},
     "output_type": "execute_result"
    }
   ],
   "source": [
    "m.epoch"
   ]
  },
  {
   "cell_type": "code",
   "execution_count": 27,
   "metadata": {},
   "outputs": [
    {
     "name": "stdout",
     "output_type": "stream",
     "text": [
      "10000/10000 [==============================] - 0s 36us/sample - loss: 4.2367 - acc: 0.0431\n"
     ]
    },
    {
     "data": {
      "text/plain": [
       "(0, [4.236690658569336, 0.0431])"
      ]
     },
     "execution_count": 27,
     "metadata": {},
     "output_type": "execute_result"
    }
   ],
   "source": [
    "m.evaluate(test_images, test_labels)"
   ]
  },
  {
   "cell_type": "code",
   "execution_count": 28,
   "metadata": {},
   "outputs": [
    {
     "data": {
      "text/plain": [
       "(0, array([[0.00019596, 0.00074894, 0.00193743, ..., 0.00498686, 0.00247065,\n",
       "         0.01423894],\n",
       "        [0.00384642, 0.00770806, 0.01019524, ..., 0.01250312, 0.01273851,\n",
       "         0.0145235 ],\n",
       "        [0.00097027, 0.003737  , 0.00506813, ..., 0.00959801, 0.00584039,\n",
       "         0.01493793],\n",
       "        ...,\n",
       "        [0.00385611, 0.01299421, 0.0103324 , ..., 0.01386879, 0.01115096,\n",
       "         0.01233761],\n",
       "        [0.01295568, 0.01322832, 0.01555877, ..., 0.01165816, 0.02083416,\n",
       "         0.00918318],\n",
       "        [0.04336666, 0.01093456, 0.01295323, ..., 0.00394277, 0.02081962,\n",
       "         0.00175832]], dtype=float32))"
      ]
     },
     "execution_count": 28,
     "metadata": {},
     "output_type": "execute_result"
    }
   ],
   "source": [
    "m.predict(test_images)"
   ]
  },
  {
   "cell_type": "code",
   "execution_count": 29,
   "metadata": {},
   "outputs": [
    {
     "name": "stdout",
     "output_type": "stream",
     "text": [
      "2019-08-08 02:15:55,731 INFO  [src.meta.keras:105] (MainThread) basic Saving keras model to /home/cory/dev/deep-learning/models/basic_004.h5...\n",
      "2019-08-08 02:15:55,797 DEBUG [src.meta.meta:195] (MainThread) basic Saving mode TensorApi.TENSOR_FLOW via mode TensorApi.KERAS...\n",
      "2019-08-08 02:15:55,855 INFO  [src.meta.keras:176] (MainThread) basic Saving frozen graph to /home/cory/dev/deep-learning/models/basic_004.pb...\n",
      "2019-08-08 02:15:55,892 DEBUG [src.meta.meta:195] (MainThread) basic Saving mode TensorApi.TF_LITE via mode TensorApi.KERAS...\n",
      "2019-08-08 02:15:56,240 DEBUG [src.meta.meta:116] (MainThread) basic Deleting existing delegate...\n",
      "2019-08-08 02:15:56,241 DEBUG [src.meta.keras:183] (MainThread) basic Loading keras model from /home/cory/dev/deep-learning/models/basic_004.h5...\n",
      "2019-08-08 02:15:56,516 INFO  [src.meta.meta:288] (MainThread) basic Converting to tflite INT8 model...\n",
      "2019-08-08 02:15:57,725 INFO  [src.meta.meta:291] (MainThread) basic Saving tflite model to /home/cory/dev/deep-learning/models/basic_004_int8.tflite...\n"
     ]
    },
    {
     "data": {
      "text/plain": [
       "0"
      ]
     },
     "execution_count": 29,
     "metadata": {},
     "output_type": "execute_result"
    }
   ],
   "source": [
    "m.save_all(representative_data=train_images)"
   ]
  },
  {
   "cell_type": "markdown",
   "metadata": {},
   "source": [
    "# Load `.tflite` from scratch"
   ]
  },
  {
   "cell_type": "code",
   "execution_count": 30,
   "metadata": {},
   "outputs": [
    {
     "name": "stdout",
     "output_type": "stream",
     "text": [
      "2019-08-08 02:15:57,732 DEBUG [src.meta.tflite:83] (MainThread) basic Loading tflite interpreter from /home/cory/dev/deep-learning/models/basic_001_int8.tflite...\n"
     ]
    }
   ],
   "source": [
    "ret, m2 = MetaModelFactory.from_tflite(_NAME, _EPOCH)"
   ]
  },
  {
   "cell_type": "code",
   "execution_count": 31,
   "metadata": {},
   "outputs": [
    {
     "data": {
      "text/plain": [
       "src.meta.meta.MetaModel"
      ]
     },
     "execution_count": 31,
     "metadata": {},
     "output_type": "execute_result"
    }
   ],
   "source": [
    "type(m2)"
   ]
  },
  {
   "cell_type": "code",
   "execution_count": 32,
   "metadata": {},
   "outputs": [
    {
     "name": "stdout",
     "output_type": "stream",
     "text": [
      "2019-08-08 02:15:57,753 DEBUG [src.meta.meta:97] (MainThread) basic mode = TensorApi.TF_LITE\n",
      "2019-08-08 02:15:57,754 DEBUG [src.meta.meta:98] (MainThread) basic epoch = 1\n",
      "2019-08-08 02:15:57,754 DEBUG [src.meta.tflite:72] (MainThread) basic Input mean, std, index: 0, 0.003921568859368563, 8\n",
      "2019-08-08 02:15:57,755 DEBUG [src.meta.tflite:77] (MainThread) basic Output mean, std, index: 0, 0.00390625, 9\n"
     ]
    },
    {
     "data": {
      "text/plain": [
       "0"
      ]
     },
     "execution_count": 32,
     "metadata": {},
     "output_type": "execute_result"
    }
   ],
   "source": [
    "m2.dump()"
   ]
  },
  {
   "cell_type": "code",
   "execution_count": 33,
   "metadata": {},
   "outputs": [
    {
     "data": {
      "text/plain": [
       "(0, array([[[0.        , 0.        , 0.00390625, ..., 0.00390625,\n",
       "          0.        , 0.01171875]],\n",
       " \n",
       "        [[0.00390625, 0.0078125 , 0.01171875, ..., 0.01171875,\n",
       "          0.0078125 , 0.01171875]],\n",
       " \n",
       "        [[0.        , 0.00390625, 0.00390625, ..., 0.0078125 ,\n",
       "          0.00390625, 0.01171875]],\n",
       " \n",
       "        ...,\n",
       " \n",
       "        [[0.00390625, 0.01171875, 0.01171875, ..., 0.01171875,\n",
       "          0.0078125 , 0.01171875]],\n",
       " \n",
       "        [[0.015625  , 0.01171875, 0.015625  , ..., 0.01171875,\n",
       "          0.015625  , 0.0078125 ]],\n",
       " \n",
       "        [[0.04296875, 0.0078125 , 0.01171875, ..., 0.00390625,\n",
       "          0.015625  , 0.00390625]]], dtype=float32))"
      ]
     },
     "execution_count": 33,
     "metadata": {},
     "output_type": "execute_result"
    }
   ],
   "source": [
    "m2.predict(test_images)"
   ]
  },
  {
   "cell_type": "code",
   "execution_count": 34,
   "metadata": {},
   "outputs": [],
   "source": [
    "del m2"
   ]
  },
  {
   "cell_type": "markdown",
   "metadata": {},
   "source": [
    "# Load `.pb` from scratch"
   ]
  },
  {
   "cell_type": "code",
   "execution_count": 35,
   "metadata": {
    "scrolled": false
   },
   "outputs": [
    {
     "name": "stdout",
     "output_type": "stream",
     "text": [
      "2019-08-08 02:16:00,185 DEBUG [src.meta.tensorflow:68] (MainThread) basic Loading frozen graph model from /home/cory/dev/deep-learning/models/basic_001.pb...\n"
     ]
    },
    {
     "name": "stderr",
     "output_type": "stream",
     "text": [
      "W0808 02:16:00.186399 140266688409728 deprecation_wrapper.py:119] From ../src/meta/tensorflow.py:70: The name tf.reset_default_graph is deprecated. Please use tf.compat.v1.reset_default_graph instead.\n",
      "\n",
      "W0808 02:16:00.187189 140266688409728 deprecation_wrapper.py:119] From ../src/meta/tensorflow.py:73: The name tf.Session is deprecated. Please use tf.compat.v1.Session instead.\n",
      "\n",
      "W0808 02:16:00.192239 140266688409728 deprecation_wrapper.py:119] From ../src/meta/tensorflow.py:74: The name tf.gfile.GFile is deprecated. Please use tf.io.gfile.GFile instead.\n",
      "\n",
      "W0808 02:16:00.197066 140266688409728 deprecation_wrapper.py:119] From ../src/meta/tensorflow.py:75: The name tf.GraphDef is deprecated. Please use tf.compat.v1.GraphDef instead.\n",
      "\n",
      "W0808 02:16:00.217341 140266688409728 deprecation_wrapper.py:119] From ../src/meta/tensorflow.py:83: The name tf.summary.FileWriter is deprecated. Please use tf.compat.v1.summary.FileWriter instead.\n",
      "\n"
     ]
    },
    {
     "name": "stdout",
     "output_type": "stream",
     "text": [
      "2019-08-08 02:16:00,229 DEBUG [src.meta.tensorflow:85] (MainThread) basic pb model imported into tensorboard. Visualize by running: \n",
      "2019-08-08 02:16:00,241 DEBUG [src.meta.tensorflow:86] (MainThread) > tensorboard --logdir=/home/cory/dev/deep-learning/tmp/tensorboard/20190808-021600_basic\n"
     ]
    }
   ],
   "source": [
    "ret, m2 = MetaModelFactory.from_pb(_NAME, _EPOCH)"
   ]
  },
  {
   "cell_type": "code",
   "execution_count": 36,
   "metadata": {},
   "outputs": [
    {
     "name": "stdout",
     "output_type": "stream",
     "text": [
      "2019-08-08 02:16:00,245 DEBUG [src.meta.meta:97] (MainThread) basic mode = TensorApi.TENSOR_FLOW\n",
      "2019-08-08 02:16:00,248 DEBUG [src.meta.meta:98] (MainThread) basic epoch = 1\n",
      "2019-08-08 02:16:00,249 DEBUG [src.meta.tensorflow:58] (MainThread) basic graph_def.node names: ['basic0_input', 'basic0/Shape', 'basic0/strided_slice/stack', 'basic0/strided_slice/stack_1', 'basic0/strided_slice/stack_2', 'basic0/strided_slice', 'basic0/Reshape/shape/1', 'basic0/Reshape/shape', 'basic0/Reshape', 'basic1/kernel', 'basic1/bias', 'basic1/MatMul/ReadVariableOp', 'basic1/MatMul', 'basic1/BiasAdd/ReadVariableOp', 'basic1/BiasAdd', 'basic1/Relu', 'basic2/kernel', 'basic2/bias', 'basic2/MatMul/ReadVariableOp', 'basic2/MatMul', 'basic2/BiasAdd/ReadVariableOp', 'basic2/BiasAdd', 'basic2/Softmax', 'Adam/iter', 'Adam/beta_1', 'Adam/beta_2', 'Adam/decay', 'Adam/learning_rate', 'Adam/basic1/kernel/m', 'Adam/basic1/bias/m', 'Adam/basic2/kernel/m', 'Adam/basic2/bias/m', 'Adam/basic1/kernel/v', 'Adam/basic1/bias/v', 'Adam/basic2/kernel/v', 'Adam/basic2/bias/v']\n",
      "2019-08-08 02:16:00,249 DEBUG [src.meta.tensorflow:61] (MainThread) basic graph.get_operations(): [36] ['basic/basic0_input', 'basic/basic0/Shape', 'basic/basic0/strided_slice/stack', 'basic/basic0/strided_slice/stack_1', 'basic/basic0/strided_slice/stack_2', 'basic/basic0/strided_slice', 'basic/basic0/Reshape/shape/1', 'basic/basic0/Reshape/shape', 'basic/basic0/Reshape', 'basic/basic1/kernel', 'basic/basic1/bias', 'basic/basic1/MatMul/ReadVariableOp', 'basic/basic1/MatMul', 'basic/basic1/BiasAdd/ReadVariableOp', 'basic/basic1/BiasAdd', 'basic/basic1/Relu', 'basic/basic2/kernel', 'basic/basic2/bias', 'basic/basic2/MatMul/ReadVariableOp', 'basic/basic2/MatMul', 'basic/basic2/BiasAdd/ReadVariableOp', 'basic/basic2/BiasAdd', 'basic/basic2/Softmax', 'basic/Adam/iter', 'basic/Adam/beta_1', 'basic/Adam/beta_2', 'basic/Adam/decay', 'basic/Adam/learning_rate', 'basic/Adam/basic1/kernel/m', 'basic/Adam/basic1/bias/m', 'basic/Adam/basic2/kernel/m', 'basic/Adam/basic2/bias/m', 'basic/Adam/basic1/kernel/v', 'basic/Adam/basic1/bias/v', 'basic/Adam/basic2/kernel/v', 'basic/Adam/basic2/bias/v']\n"
     ]
    },
    {
     "data": {
      "text/plain": [
       "0"
      ]
     },
     "execution_count": 36,
     "metadata": {},
     "output_type": "execute_result"
    }
   ],
   "source": [
    "m2.dump()"
   ]
  },
  {
   "cell_type": "markdown",
   "metadata": {},
   "source": [
    "# Reverse Engineer the Tensor names..."
   ]
  },
  {
   "cell_type": "code",
   "execution_count": null,
   "metadata": {},
   "outputs": [],
   "source": []
  },
  {
   "cell_type": "code",
   "execution_count": null,
   "metadata": {},
   "outputs": [],
   "source": []
  },
  {
   "cell_type": "code",
   "execution_count": null,
   "metadata": {},
   "outputs": [],
   "source": []
  },
  {
   "cell_type": "code",
   "execution_count": null,
   "metadata": {},
   "outputs": [],
   "source": []
  },
  {
   "cell_type": "markdown",
   "metadata": {},
   "source": [
    "# DEBUG"
   ]
  },
  {
   "cell_type": "code",
   "execution_count": 37,
   "metadata": {},
   "outputs": [],
   "source": [
    "g = m2.delegate.graph"
   ]
  },
  {
   "cell_type": "code",
   "execution_count": 38,
   "metadata": {},
   "outputs": [
    {
     "name": "stdout",
     "output_type": "stream",
     "text": [
      "36\n"
     ]
    }
   ],
   "source": [
    "ops = g.get_operations()\n",
    "print(len(ops))"
   ]
  },
  {
   "cell_type": "code",
   "execution_count": 39,
   "metadata": {},
   "outputs": [],
   "source": [
    "def dump_op(op):\n",
    "    print(op.name)\n",
    "    print(op.inputs)\n",
    "    print(op.outputs[0])\n",
    "    print(op.outputs[0].name)\n",
    "    print(op.outputs[0].shape)\n",
    "    print(op.outputs[0].dtype.name)\n",
    "    print(op.type)\n",
    "    print()\n",
    "    \n",
    "#for op in ops:\n",
    "#    dump_op(op)\n",
    "op = ops[0]"
   ]
  },
  {
   "cell_type": "code",
   "execution_count": 40,
   "metadata": {},
   "outputs": [
    {
     "name": "stdout",
     "output_type": "stream",
     "text": [
      "basic/basic0_input\n"
     ]
    }
   ],
   "source": [
    "print(op.name)"
   ]
  },
  {
   "cell_type": "code",
   "execution_count": 41,
   "metadata": {},
   "outputs": [
    {
     "data": {
      "text/plain": [
       "[<tf.Tensor 'basic/basic0_input:0' shape=(?, 32, 32, 3) dtype=float32>]"
      ]
     },
     "execution_count": 41,
     "metadata": {},
     "output_type": "execute_result"
    }
   ],
   "source": [
    "op.outputs"
   ]
  },
  {
   "cell_type": "code",
   "execution_count": 42,
   "metadata": {},
   "outputs": [
    {
     "data": {
      "text/plain": [
       "'Placeholder'"
      ]
     },
     "execution_count": 42,
     "metadata": {},
     "output_type": "execute_result"
    }
   ],
   "source": [
    "op.type"
   ]
  },
  {
   "cell_type": "code",
   "execution_count": null,
   "metadata": {},
   "outputs": [],
   "source": []
  },
  {
   "cell_type": "code",
   "execution_count": null,
   "metadata": {},
   "outputs": [],
   "source": []
  },
  {
   "cell_type": "code",
   "execution_count": 43,
   "metadata": {},
   "outputs": [
    {
     "ename": "SyntaxError",
     "evalue": "invalid syntax (<ipython-input-43-be52333e2a52>, line 1)",
     "output_type": "error",
     "traceback": [
      "\u001b[0;36m  File \u001b[0;32m\"<ipython-input-43-be52333e2a52>\"\u001b[0;36m, line \u001b[0;32m1\u001b[0m\n\u001b[0;31m    g.\u001b[0m\n\u001b[0m      ^\u001b[0m\n\u001b[0;31mSyntaxError\u001b[0m\u001b[0;31m:\u001b[0m invalid syntax\n"
     ]
    }
   ],
   "source": [
    "g."
   ]
  }
 ],
 "metadata": {
  "kernelspec": {
   "display_name": "Python 3",
   "language": "python",
   "name": "python3"
  },
  "language_info": {
   "codemirror_mode": {
    "name": "ipython",
    "version": 3
   },
   "file_extension": ".py",
   "mimetype": "text/x-python",
   "name": "python",
   "nbconvert_exporter": "python",
   "pygments_lexer": "ipython3",
   "version": "3.6.8"
  }
 },
 "nbformat": 4,
 "nbformat_minor": 2
}
