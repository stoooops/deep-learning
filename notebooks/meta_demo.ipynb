{
 "cells": [
  {
   "cell_type": "code",
   "execution_count": 1,
   "metadata": {},
   "outputs": [
    {
     "name": "stderr",
     "output_type": "stream",
     "text": [
      "/home/cory/.pyenv/versions/dl-venv/lib/python3.6/site-packages/tensorflow/python/framework/dtypes.py:516: FutureWarning: Passing (type, 1) or '1type' as a synonym of type is deprecated; in a future version of numpy, it will be understood as (type, (1,)) / '(1,)type'.\n",
      "  _np_qint8 = np.dtype([(\"qint8\", np.int8, 1)])\n",
      "/home/cory/.pyenv/versions/dl-venv/lib/python3.6/site-packages/tensorflow/python/framework/dtypes.py:517: FutureWarning: Passing (type, 1) or '1type' as a synonym of type is deprecated; in a future version of numpy, it will be understood as (type, (1,)) / '(1,)type'.\n",
      "  _np_quint8 = np.dtype([(\"quint8\", np.uint8, 1)])\n",
      "/home/cory/.pyenv/versions/dl-venv/lib/python3.6/site-packages/tensorflow/python/framework/dtypes.py:518: FutureWarning: Passing (type, 1) or '1type' as a synonym of type is deprecated; in a future version of numpy, it will be understood as (type, (1,)) / '(1,)type'.\n",
      "  _np_qint16 = np.dtype([(\"qint16\", np.int16, 1)])\n",
      "/home/cory/.pyenv/versions/dl-venv/lib/python3.6/site-packages/tensorflow/python/framework/dtypes.py:519: FutureWarning: Passing (type, 1) or '1type' as a synonym of type is deprecated; in a future version of numpy, it will be understood as (type, (1,)) / '(1,)type'.\n",
      "  _np_quint16 = np.dtype([(\"quint16\", np.uint16, 1)])\n",
      "/home/cory/.pyenv/versions/dl-venv/lib/python3.6/site-packages/tensorflow/python/framework/dtypes.py:520: FutureWarning: Passing (type, 1) or '1type' as a synonym of type is deprecated; in a future version of numpy, it will be understood as (type, (1,)) / '(1,)type'.\n",
      "  _np_qint32 = np.dtype([(\"qint32\", np.int32, 1)])\n",
      "/home/cory/.pyenv/versions/dl-venv/lib/python3.6/site-packages/tensorflow/python/framework/dtypes.py:525: FutureWarning: Passing (type, 1) or '1type' as a synonym of type is deprecated; in a future version of numpy, it will be understood as (type, (1,)) / '(1,)type'.\n",
      "  np_resource = np.dtype([(\"resource\", np.ubyte, 1)])\n",
      "/home/cory/.pyenv/versions/dl-venv/lib/python3.6/site-packages/tensorboard/compat/tensorflow_stub/dtypes.py:541: FutureWarning: Passing (type, 1) or '1type' as a synonym of type is deprecated; in a future version of numpy, it will be understood as (type, (1,)) / '(1,)type'.\n",
      "  _np_qint8 = np.dtype([(\"qint8\", np.int8, 1)])\n",
      "/home/cory/.pyenv/versions/dl-venv/lib/python3.6/site-packages/tensorboard/compat/tensorflow_stub/dtypes.py:542: FutureWarning: Passing (type, 1) or '1type' as a synonym of type is deprecated; in a future version of numpy, it will be understood as (type, (1,)) / '(1,)type'.\n",
      "  _np_quint8 = np.dtype([(\"quint8\", np.uint8, 1)])\n",
      "/home/cory/.pyenv/versions/dl-venv/lib/python3.6/site-packages/tensorboard/compat/tensorflow_stub/dtypes.py:543: FutureWarning: Passing (type, 1) or '1type' as a synonym of type is deprecated; in a future version of numpy, it will be understood as (type, (1,)) / '(1,)type'.\n",
      "  _np_qint16 = np.dtype([(\"qint16\", np.int16, 1)])\n",
      "/home/cory/.pyenv/versions/dl-venv/lib/python3.6/site-packages/tensorboard/compat/tensorflow_stub/dtypes.py:544: FutureWarning: Passing (type, 1) or '1type' as a synonym of type is deprecated; in a future version of numpy, it will be understood as (type, (1,)) / '(1,)type'.\n",
      "  _np_quint16 = np.dtype([(\"quint16\", np.uint16, 1)])\n",
      "/home/cory/.pyenv/versions/dl-venv/lib/python3.6/site-packages/tensorboard/compat/tensorflow_stub/dtypes.py:545: FutureWarning: Passing (type, 1) or '1type' as a synonym of type is deprecated; in a future version of numpy, it will be understood as (type, (1,)) / '(1,)type'.\n",
      "  _np_qint32 = np.dtype([(\"qint32\", np.int32, 1)])\n",
      "/home/cory/.pyenv/versions/dl-venv/lib/python3.6/site-packages/tensorboard/compat/tensorflow_stub/dtypes.py:550: FutureWarning: Passing (type, 1) or '1type' as a synonym of type is deprecated; in a future version of numpy, it will be understood as (type, (1,)) / '(1,)type'.\n",
      "  np_resource = np.dtype([(\"resource\", np.ubyte, 1)])\n"
     ]
    }
   ],
   "source": [
    "from IPython.core.display import display, HTML\n",
    "display(HTML(\"<style>.container { width:100% !important; }</style>\"))\n",
    "\n",
    "import sys\n",
    "sys.path.append('..')\n",
    "\n",
    "\n",
    "from src.data.cifar100 import CIFAR_100_CLASSES, load_cifar100_data\n",
    "from src.meta.tensor_apis import TensorApi\n",
    "from src.meta.meta import MetaModel, MetaModelFactory\n",
    "from src.utils.debug_utils import print_list\n",
    "from src.utils.logger import HuliLogging"
   ]
  },
  {
   "cell_type": "code",
   "execution_count": 2,
   "metadata": {},
   "outputs": [],
   "source": [
    "logger = HuliLogging.get_logger(__name__)\n",
    "HuliLogging.attach_stdout()"
   ]
  },
  {
   "cell_type": "markdown",
   "metadata": {},
   "source": [
    "# Load data"
   ]
  },
  {
   "cell_type": "code",
   "execution_count": 3,
   "metadata": {},
   "outputs": [],
   "source": [
    "_NAME = 'basic'\n",
    "_EPOCH = 1\n",
    "(train_images, train_labels), (test_images, test_labels) = load_cifar100_data()"
   ]
  },
  {
   "cell_type": "markdown",
   "metadata": {},
   "source": [
    "# Init as `KERAS` mode"
   ]
  },
  {
   "cell_type": "code",
   "execution_count": 4,
   "metadata": {},
   "outputs": [
    {
     "name": "stdout",
     "output_type": "stream",
     "text": [
      "2019-08-08 00:34:49,149 DEBUG [src.meta.keras:181] (MainThread) basic Loading keras model from /home/cory/dev/deep-learning/models/basic_001.h5...\n"
     ]
    },
    {
     "name": "stderr",
     "output_type": "stream",
     "text": [
      "WARNING: Logging before flag parsing goes to stderr.\n",
      "W0808 00:34:49.171267 140620409094272 deprecation.py:506] From /home/cory/.pyenv/versions/dl-venv/lib/python3.6/site-packages/tensorflow/python/ops/init_ops.py:97: calling GlorotUniform.__init__ (from tensorflow.python.ops.init_ops) with dtype is deprecated and will be removed in a future version.\n",
      "Instructions for updating:\n",
      "Call initializer instance with the dtype argument instead of passing it to the constructor\n",
      "W0808 00:34:49.171784 140620409094272 deprecation.py:506] From /home/cory/.pyenv/versions/dl-venv/lib/python3.6/site-packages/tensorflow/python/ops/init_ops.py:1251: calling VarianceScaling.__init__ (from tensorflow.python.ops.init_ops) with dtype is deprecated and will be removed in a future version.\n",
      "Instructions for updating:\n",
      "Call initializer instance with the dtype argument instead of passing it to the constructor\n",
      "W0808 00:34:49.173119 140620409094272 deprecation.py:506] From /home/cory/.pyenv/versions/dl-venv/lib/python3.6/site-packages/tensorflow/python/ops/init_ops.py:97: calling Zeros.__init__ (from tensorflow.python.ops.init_ops) with dtype is deprecated and will be removed in a future version.\n",
      "Instructions for updating:\n",
      "Call initializer instance with the dtype argument instead of passing it to the constructor\n"
     ]
    }
   ],
   "source": [
    "ret, model = MetaModelFactory.from_h5(_NAME, _EPOCH)\n",
    "m = model"
   ]
  },
  {
   "cell_type": "code",
   "execution_count": 5,
   "metadata": {},
   "outputs": [
    {
     "name": "stdout",
     "output_type": "stream",
     "text": [
      "<class 'src.meta.meta.MetaModel'>\n"
     ]
    }
   ],
   "source": [
    "print(type(m))\n",
    "#print_list(sorted(dir(model)))"
   ]
  },
  {
   "cell_type": "code",
   "execution_count": 6,
   "metadata": {},
   "outputs": [
    {
     "data": {
      "text/plain": [
       "0"
      ]
     },
     "execution_count": 6,
     "metadata": {},
     "output_type": "execute_result"
    }
   ],
   "source": [
    "m.compile(optimizer='adam', loss='sparse_categorical_crossentropy', metrics=['accuracy'])"
   ]
  },
  {
   "cell_type": "code",
   "execution_count": 7,
   "metadata": {},
   "outputs": [
    {
     "data": {
      "text/plain": [
       "1"
      ]
     },
     "execution_count": 7,
     "metadata": {},
     "output_type": "execute_result"
    }
   ],
   "source": [
    "m.epoch"
   ]
  },
  {
   "cell_type": "code",
   "execution_count": 8,
   "metadata": {},
   "outputs": [
    {
     "name": "stdout",
     "output_type": "stream",
     "text": [
      "Epoch 2/3\n",
      "50000/50000 [==============================] - 3s 67us/sample - loss: 4.2930 - acc: 0.0398\n",
      "Epoch 3/3\n",
      "50000/50000 [==============================] - 3s 58us/sample - loss: 4.2453 - acc: 0.0444\n"
     ]
    },
    {
     "data": {
      "text/plain": [
       "(0, <tensorflow.python.keras.callbacks.History at 0x7fe433f154e0>)"
      ]
     },
     "execution_count": 8,
     "metadata": {},
     "output_type": "execute_result"
    }
   ],
   "source": [
    "model.fit(train_images, train_labels, epochs=m.epoch+2, initial_epoch=m.epoch)"
   ]
  },
  {
   "cell_type": "code",
   "execution_count": 9,
   "metadata": {},
   "outputs": [
    {
     "data": {
      "text/plain": [
       "3"
      ]
     },
     "execution_count": 9,
     "metadata": {},
     "output_type": "execute_result"
    }
   ],
   "source": [
    "m.epoch"
   ]
  },
  {
   "cell_type": "code",
   "execution_count": 10,
   "metadata": {},
   "outputs": [
    {
     "name": "stdout",
     "output_type": "stream",
     "text": [
      "10000/10000 [==============================] - 0s 41us/sample - loss: 4.2357 - acc: 0.0432\n"
     ]
    },
    {
     "data": {
      "text/plain": [
       "(0, [4.235695259094238, 0.0432])"
      ]
     },
     "execution_count": 10,
     "metadata": {},
     "output_type": "execute_result"
    }
   ],
   "source": [
    "m.evaluate(test_images, test_labels)"
   ]
  },
  {
   "cell_type": "code",
   "execution_count": 11,
   "metadata": {},
   "outputs": [
    {
     "data": {
      "text/plain": [
       "(0, array([[0.00069154, 0.00744419, 0.00813507, ..., 0.01389374, 0.0045544 ,\n",
       "         0.01607787],\n",
       "        [0.00780167, 0.01350149, 0.0136073 , ..., 0.01362403, 0.01275124,\n",
       "         0.01260427],\n",
       "        [0.00273062, 0.00586723, 0.00686488, ..., 0.00999983, 0.00654102,\n",
       "         0.01115442],\n",
       "        ...,\n",
       "        [0.01001328, 0.00921631, 0.00986031, ..., 0.00998438, 0.01159112,\n",
       "         0.00945696],\n",
       "        [0.01858608, 0.0155149 , 0.01435521, ..., 0.01031471, 0.01603903,\n",
       "         0.00820975],\n",
       "        [0.0421178 , 0.0321334 , 0.02042232, ..., 0.00623626, 0.01903555,\n",
       "         0.00320222]], dtype=float32))"
      ]
     },
     "execution_count": 11,
     "metadata": {},
     "output_type": "execute_result"
    }
   ],
   "source": [
    "m.predict(test_images)"
   ]
  },
  {
   "cell_type": "code",
   "execution_count": 12,
   "metadata": {},
   "outputs": [
    {
     "name": "stdout",
     "output_type": "stream",
     "text": [
      "2019-08-08 00:34:57,571 INFO  [src.meta.keras:103] (MainThread) basic Saving keras model to /home/cory/dev/deep-learning/models/basic_003.h5...\n"
     ]
    },
    {
     "data": {
      "text/plain": [
       "0"
      ]
     },
     "execution_count": 12,
     "metadata": {},
     "output_type": "execute_result"
    }
   ],
   "source": [
    "m.save()"
   ]
  },
  {
   "cell_type": "code",
   "execution_count": 13,
   "metadata": {},
   "outputs": [
    {
     "name": "stdout",
     "output_type": "stream",
     "text": [
      "2019-08-08 00:34:57,645 DEBUG [src.meta.meta:94] (MainThread) basic mode = TensorApi.KERAS\n",
      "2019-08-08 00:34:57,651 DEBUG [src.meta.meta:95] (MainThread) basic epoch = 3\n",
      "2019-08-08 00:34:57,652 DEBUG [src.meta.keras:161] (MainThread) Model: \"sequential\"\n",
      "2019-08-08 00:34:57,662 DEBUG [src.meta.keras:162] (MainThread) _________________________________________________________________\n",
      "2019-08-08 00:34:57,663 DEBUG [src.meta.keras:159] (MainThread) Layer (type)                 Output Shape              Param #   \n",
      "2019-08-08 00:34:57,663 DEBUG [src.meta.keras:164] (MainThread) =================================================================\n",
      "2019-08-08 00:34:57,664 DEBUG [src.meta.keras:159] (MainThread) flatten (Flatten)            (None, 3072)              0         \n",
      "2019-08-08 00:34:57,664 DEBUG [src.meta.keras:228] (MainThread) _________________________________________________________________\n",
      "2019-08-08 00:34:57,665 DEBUG [src.meta.keras:159] (MainThread) dense (Dense)                (None, 128)               393344    \n",
      "2019-08-08 00:34:57,665 DEBUG [src.meta.keras:228] (MainThread) _________________________________________________________________\n",
      "2019-08-08 00:34:57,665 DEBUG [src.meta.keras:159] (MainThread) dense_1 (Dense)              (None, 100)               12900     \n",
      "2019-08-08 00:34:57,666 DEBUG [src.meta.keras:226] (MainThread) =================================================================\n",
      "2019-08-08 00:34:57,666 DEBUG [src.meta.keras:238] (MainThread) Total params: 406,244\n",
      "2019-08-08 00:34:57,666 DEBUG [src.meta.keras:239] (MainThread) Trainable params: 406,244\n",
      "2019-08-08 00:34:57,667 DEBUG [src.meta.keras:240] (MainThread) Non-trainable params: 0\n",
      "2019-08-08 00:34:57,667 DEBUG [src.meta.keras:241] (MainThread) _________________________________________________________________\n",
      "2019-08-08 00:34:57,667 DEBUG [src.meta.keras:131] (MainThread) basic Input tensor: Tensor(\"flatten_input:0\", shape=(?, 32, 32, 3), dtype=float32)\n",
      "2019-08-08 00:34:57,668 DEBUG [src.meta.keras:134] (MainThread) basic Input tensor name: flatten_input\n",
      "2019-08-08 00:34:57,668 DEBUG [src.meta.keras:137] (MainThread) basic Output tensor: Tensor(\"dense_1/Softmax:0\", shape=(?, 100), dtype=float32)\n",
      "2019-08-08 00:34:57,668 DEBUG [src.meta.keras:140] (MainThread) basic Output tensor name: dense_1/Softmax\n"
     ]
    }
   ],
   "source": [
    "m.dump()"
   ]
  },
  {
   "cell_type": "code",
   "execution_count": 14,
   "metadata": {},
   "outputs": [
    {
     "name": "stdout",
     "output_type": "stream",
     "text": [
      "2019-08-08 00:34:57,674 DEBUG [src.meta.meta:190] (MainThread) basic Saving mode TensorApi.TF_LITE via mode TensorApi.KERAS...\n"
     ]
    },
    {
     "name": "stderr",
     "output_type": "stream",
     "text": [
      "W0808 00:34:57.965984 140620409094272 deprecation.py:323] From /home/cory/.pyenv/versions/dl-venv/lib/python3.6/site-packages/tensorflow/lite/python/util.py:238: convert_variables_to_constants (from tensorflow.python.framework.graph_util_impl) is deprecated and will be removed in a future version.\n",
      "Instructions for updating:\n",
      "Use `tf.compat.v1.graph_util.convert_variables_to_constants`\n",
      "W0808 00:34:57.966518 140620409094272 deprecation.py:323] From /home/cory/.pyenv/versions/dl-venv/lib/python3.6/site-packages/tensorflow/python/framework/graph_util_impl.py:270: extract_sub_graph (from tensorflow.python.framework.graph_util_impl) is deprecated and will be removed in a future version.\n",
      "Instructions for updating:\n",
      "Use `tf.compat.v1.graph_util.extract_sub_graph`\n"
     ]
    },
    {
     "name": "stdout",
     "output_type": "stream",
     "text": [
      "2019-08-08 00:34:57,980 DEBUG [src.meta.meta:111] (MainThread) basic Deleting existing delegate...\n",
      "2019-08-08 00:34:57,981 DEBUG [src.meta.keras:181] (MainThread) basic Loading keras model from /home/cory/dev/deep-learning/models/basic_003.h5...\n",
      "2019-08-08 00:34:58,264 INFO  [src.meta.meta:283] (MainThread) basic Converting to tflite INT8 model...\n",
      "2019-08-08 00:34:59,440 INFO  [src.meta.meta:286] (MainThread) basic Saving tflite model to /home/cory/dev/deep-learning/models/basic_003_int8.tflite...\n"
     ]
    },
    {
     "data": {
      "text/plain": [
       "0"
      ]
     },
     "execution_count": 14,
     "metadata": {},
     "output_type": "execute_result"
    }
   ],
   "source": [
    "m.save_to(TensorApi.TF_LITE, representative_data=train_images)"
   ]
  },
  {
   "cell_type": "code",
   "execution_count": 15,
   "metadata": {},
   "outputs": [
    {
     "name": "stdout",
     "output_type": "stream",
     "text": [
      "2019-08-08 00:34:59,448 INFO  [src.meta.keras:103] (MainThread) basic Saving keras model to /home/cory/dev/deep-learning/models/basic_003.h5...\n"
     ]
    },
    {
     "data": {
      "text/plain": [
       "0"
      ]
     },
     "execution_count": 15,
     "metadata": {},
     "output_type": "execute_result"
    }
   ],
   "source": [
    "m.save()"
   ]
  },
  {
   "cell_type": "code",
   "execution_count": 16,
   "metadata": {},
   "outputs": [
    {
     "name": "stderr",
     "output_type": "stream",
     "text": [
      "W0808 00:34:59.521091 140620409094272 deprecation_wrapper.py:119] From ../src/meta/keras.py:159: The name tf.keras.backend.get_session is deprecated. Please use tf.compat.v1.keras.backend.get_session instead.\n",
      "\n",
      "W0808 00:34:59.522006 140620409094272 deprecation_wrapper.py:119] From ../src/meta/keras.py:162: The name tf.global_variables is deprecated. Please use tf.compat.v1.global_variables instead.\n",
      "\n"
     ]
    },
    {
     "name": "stdout",
     "output_type": "stream",
     "text": [
      "2019-08-08 00:34:59,568 INFO  [src.meta.keras:174] (MainThread) basic Saving frozen graph to /home/cory/dev/deep-learning/models/basic_003.pb...\n"
     ]
    },
    {
     "name": "stderr",
     "output_type": "stream",
     "text": [
      "W0808 00:34:59.569377 140620409094272 deprecation_wrapper.py:119] From ../src/meta/keras.py:175: The name tf.train.write_graph is deprecated. Please use tf.io.write_graph instead.\n",
      "\n"
     ]
    },
    {
     "data": {
      "text/plain": [
       "0"
      ]
     },
     "execution_count": 16,
     "metadata": {},
     "output_type": "execute_result"
    }
   ],
   "source": [
    "m.freeze_session()"
   ]
  },
  {
   "cell_type": "code",
   "execution_count": 17,
   "metadata": {},
   "outputs": [
    {
     "name": "stdout",
     "output_type": "stream",
     "text": [
      "2019-08-08 00:34:59,603 INFO  [src.meta.keras:103] (MainThread) basic Saving keras model to /home/cory/dev/deep-learning/models/basic_003.h5...\n"
     ]
    },
    {
     "data": {
      "text/plain": [
       "0"
      ]
     },
     "execution_count": 17,
     "metadata": {},
     "output_type": "execute_result"
    }
   ],
   "source": [
    "m.save()"
   ]
  },
  {
   "cell_type": "code",
   "execution_count": 18,
   "metadata": {},
   "outputs": [
    {
     "name": "stdout",
     "output_type": "stream",
     "text": [
      "2019-08-08 00:34:59,631 INFO  [src.meta.keras:103] (MainThread) basic Saving keras model to /home/cory/dev/deep-learning/models/basic_003.h5...\n",
      "2019-08-08 00:34:59,649 DEBUG [src.meta.meta:190] (MainThread) basic Saving mode TensorApi.TENSOR_FLOW via mode TensorApi.KERAS...\n",
      "2019-08-08 00:34:59,664 INFO  [src.meta.keras:174] (MainThread) basic Saving frozen graph to /home/cory/dev/deep-learning/models/basic_003.pb...\n",
      "2019-08-08 00:34:59,689 DEBUG [src.meta.meta:190] (MainThread) basic Saving mode TensorApi.TF_LITE via mode TensorApi.KERAS...\n",
      "2019-08-08 00:35:00,038 DEBUG [src.meta.meta:111] (MainThread) basic Deleting existing delegate...\n",
      "2019-08-08 00:35:00,038 DEBUG [src.meta.keras:181] (MainThread) basic Loading keras model from /home/cory/dev/deep-learning/models/basic_003.h5...\n",
      "2019-08-08 00:35:00,326 INFO  [src.meta.meta:283] (MainThread) basic Converting to tflite INT8 model...\n",
      "2019-08-08 00:35:01,477 INFO  [src.meta.meta:286] (MainThread) basic Saving tflite model to /home/cory/dev/deep-learning/models/basic_003_int8.tflite...\n"
     ]
    },
    {
     "data": {
      "text/plain": [
       "0"
      ]
     },
     "execution_count": 18,
     "metadata": {},
     "output_type": "execute_result"
    }
   ],
   "source": [
    "m.save_all(representative_data=train_images)"
   ]
  },
  {
   "cell_type": "markdown",
   "metadata": {},
   "source": [
    "# Convert to `TF_LITE` mode"
   ]
  },
  {
   "cell_type": "code",
   "execution_count": 19,
   "metadata": {},
   "outputs": [
    {
     "name": "stdout",
     "output_type": "stream",
     "text": [
      "2019-08-08 00:35:01,484 DEBUG [src.meta.tflite:81] (MainThread) basic Loading tflite interpreter from /home/cory/dev/deep-learning/models/basic_003_int8.tflite...\n"
     ]
    },
    {
     "data": {
      "text/plain": [
       "0"
      ]
     },
     "execution_count": 19,
     "metadata": {},
     "output_type": "execute_result"
    }
   ],
   "source": [
    "m.change_mode(TensorApi.TF_LITE)"
   ]
  },
  {
   "cell_type": "code",
   "execution_count": 20,
   "metadata": {},
   "outputs": [
    {
     "data": {
      "text/plain": [
       "<TensorApi.TF_LITE: 'tf.lite'>"
      ]
     },
     "execution_count": 20,
     "metadata": {},
     "output_type": "execute_result"
    }
   ],
   "source": [
    "m.mode"
   ]
  },
  {
   "cell_type": "code",
   "execution_count": 21,
   "metadata": {},
   "outputs": [
    {
     "name": "stdout",
     "output_type": "stream",
     "text": [
      "2019-08-08 00:35:01,504 DEBUG [src.meta.meta:94] (MainThread) basic mode = TensorApi.TF_LITE\n",
      "2019-08-08 00:35:01,505 DEBUG [src.meta.meta:95] (MainThread) basic epoch = 3\n",
      "2019-08-08 00:35:01,505 DEBUG [src.meta.tflite:72] (MainThread) basic Input mean, std, index: 0, 0.003921568859368563, 8\n",
      "2019-08-08 00:35:01,506 DEBUG [src.meta.tflite:77] (MainThread) basic Output mean, std, index: 0, 0.00390625, 9\n"
     ]
    }
   ],
   "source": [
    "m.dump()"
   ]
  },
  {
   "cell_type": "code",
   "execution_count": 22,
   "metadata": {},
   "outputs": [
    {
     "data": {
      "text/plain": [
       "(0, array([[[0.        , 0.0078125 , 0.0078125 , ..., 0.01171875,\n",
       "          0.00390625, 0.015625  ]],\n",
       " \n",
       "        [[0.0078125 , 0.01171875, 0.01171875, ..., 0.015625  ,\n",
       "          0.01171875, 0.01171875]],\n",
       " \n",
       "        [[0.00390625, 0.0078125 , 0.0078125 , ..., 0.01171875,\n",
       "          0.0078125 , 0.01171875]],\n",
       " \n",
       "        ...,\n",
       " \n",
       "        [[0.01171875, 0.0078125 , 0.01171875, ..., 0.01171875,\n",
       "          0.01171875, 0.01171875]],\n",
       " \n",
       "        [[0.01953125, 0.015625  , 0.015625  , ..., 0.01171875,\n",
       "          0.015625  , 0.0078125 ]],\n",
       " \n",
       "        [[0.04296875, 0.02734375, 0.01953125, ..., 0.0078125 ,\n",
       "          0.01953125, 0.00390625]]], dtype=float32))"
      ]
     },
     "execution_count": 22,
     "metadata": {},
     "output_type": "execute_result"
    }
   ],
   "source": [
    "m.predict(test_images)"
   ]
  },
  {
   "cell_type": "markdown",
   "metadata": {},
   "source": [
    "# Convert back to `KERAS` mode"
   ]
  },
  {
   "cell_type": "code",
   "execution_count": 23,
   "metadata": {},
   "outputs": [
    {
     "name": "stdout",
     "output_type": "stream",
     "text": [
      "2019-08-08 00:35:03,883 DEBUG [src.meta.keras:181] (MainThread) basic Loading keras model from /home/cory/dev/deep-learning/models/basic_003.h5...\n"
     ]
    },
    {
     "data": {
      "text/plain": [
       "0"
      ]
     },
     "execution_count": 23,
     "metadata": {},
     "output_type": "execute_result"
    }
   ],
   "source": [
    "m.change_mode(TensorApi.KERAS)"
   ]
  },
  {
   "cell_type": "code",
   "execution_count": 24,
   "metadata": {},
   "outputs": [
    {
     "name": "stdout",
     "output_type": "stream",
     "text": [
      "Epoch 4/4\n",
      "50000/50000 [==============================] - 3s 61us/sample - loss: 4.2181 - acc: 0.0456\n"
     ]
    },
    {
     "data": {
      "text/plain": [
       "(0, <tensorflow.python.keras.callbacks.History at 0x7fe446260978>)"
      ]
     },
     "execution_count": 24,
     "metadata": {},
     "output_type": "execute_result"
    }
   ],
   "source": [
    "model.fit(train_images, train_labels, epochs=m.epoch+1, initial_epoch=m.epoch)"
   ]
  },
  {
   "cell_type": "code",
   "execution_count": 25,
   "metadata": {},
   "outputs": [
    {
     "data": {
      "text/plain": [
       "4"
      ]
     },
     "execution_count": 25,
     "metadata": {},
     "output_type": "execute_result"
    }
   ],
   "source": [
    "m.epoch"
   ]
  },
  {
   "cell_type": "code",
   "execution_count": 26,
   "metadata": {},
   "outputs": [
    {
     "name": "stdout",
     "output_type": "stream",
     "text": [
      "10000/10000 [==============================] - 0s 41us/sample - loss: 4.2001 - acc: 0.0440\n"
     ]
    },
    {
     "data": {
      "text/plain": [
       "(0, [4.200068932342529, 0.044])"
      ]
     },
     "execution_count": 26,
     "metadata": {},
     "output_type": "execute_result"
    }
   ],
   "source": [
    "m.evaluate(test_images, test_labels)"
   ]
  },
  {
   "cell_type": "code",
   "execution_count": 27,
   "metadata": {},
   "outputs": [
    {
     "data": {
      "text/plain": [
       "(0, array([[0.00015361, 0.00347376, 0.00595561, ..., 0.01012933, 0.00292496,\n",
       "         0.01552818],\n",
       "        [0.00476943, 0.01209895, 0.0149677 , ..., 0.01457121, 0.01381626,\n",
       "         0.01527305],\n",
       "        [0.0013073 , 0.00425511, 0.0056839 , ..., 0.00898092, 0.00522077,\n",
       "         0.01157938],\n",
       "        ...,\n",
       "        [0.00616902, 0.0074114 , 0.00847131, ..., 0.00961706, 0.01024721,\n",
       "         0.01012203],\n",
       "        [0.01220991, 0.01548081, 0.01705485, ..., 0.01218048, 0.01882679,\n",
       "         0.0107471 ],\n",
       "        [0.0354919 , 0.03165535, 0.03000005, ..., 0.00690225, 0.0310477 ,\n",
       "         0.0038173 ]], dtype=float32))"
      ]
     },
     "execution_count": 27,
     "metadata": {},
     "output_type": "execute_result"
    }
   ],
   "source": [
    "m.predict(test_images)"
   ]
  },
  {
   "cell_type": "code",
   "execution_count": 28,
   "metadata": {},
   "outputs": [
    {
     "name": "stdout",
     "output_type": "stream",
     "text": [
      "2019-08-08 00:35:08,106 INFO  [src.meta.keras:103] (MainThread) basic Saving keras model to /home/cory/dev/deep-learning/models/basic_004.h5...\n",
      "2019-08-08 00:35:08,179 DEBUG [src.meta.meta:190] (MainThread) basic Saving mode TensorApi.TENSOR_FLOW via mode TensorApi.KERAS...\n",
      "2019-08-08 00:35:08,238 INFO  [src.meta.keras:174] (MainThread) basic Saving frozen graph to /home/cory/dev/deep-learning/models/basic_004.pb...\n",
      "2019-08-08 00:35:08,273 DEBUG [src.meta.meta:190] (MainThread) basic Saving mode TensorApi.TF_LITE via mode TensorApi.KERAS...\n",
      "2019-08-08 00:35:08,629 DEBUG [src.meta.meta:111] (MainThread) basic Deleting existing delegate...\n",
      "2019-08-08 00:35:08,629 DEBUG [src.meta.keras:181] (MainThread) basic Loading keras model from /home/cory/dev/deep-learning/models/basic_004.h5...\n",
      "2019-08-08 00:35:08,917 INFO  [src.meta.meta:283] (MainThread) basic Converting to tflite INT8 model...\n",
      "2019-08-08 00:35:10,066 INFO  [src.meta.meta:286] (MainThread) basic Saving tflite model to /home/cory/dev/deep-learning/models/basic_004_int8.tflite...\n"
     ]
    },
    {
     "data": {
      "text/plain": [
       "0"
      ]
     },
     "execution_count": 28,
     "metadata": {},
     "output_type": "execute_result"
    }
   ],
   "source": [
    "m.save_all(representative_data=train_images)"
   ]
  },
  {
   "cell_type": "code",
   "execution_count": 29,
   "metadata": {},
   "outputs": [
    {
     "name": "stdout",
     "output_type": "stream",
     "text": [
      "basic_001.h5\n",
      "basic_001_int8.tflite\n",
      "basic_001.pb\n",
      "basic_002.h5\n",
      "basic_002_int8.tflite\n",
      "basic_002.pb\n",
      "basic_003.h5\n",
      "basic_003_int8.tflite\n",
      "basic_003.pb\n",
      "basic_004.h5\n",
      "basic_004_int8.tflite\n",
      "basic_004.pb\n"
     ]
    }
   ],
   "source": [
    "%%bash\n",
    "\n",
    "ls ../models"
   ]
  },
  {
   "cell_type": "markdown",
   "metadata": {},
   "source": [
    "# Load `.tflite` from scratch"
   ]
  },
  {
   "cell_type": "code",
   "execution_count": 30,
   "metadata": {},
   "outputs": [
    {
     "name": "stdout",
     "output_type": "stream",
     "text": [
      "2019-08-08 00:35:10,149 DEBUG [src.meta.tflite:81] (MainThread) basic Loading tflite interpreter from /home/cory/dev/deep-learning/models/basic_001_int8.tflite...\n"
     ]
    }
   ],
   "source": [
    "ret, m2 = MetaModelFactory.from_tflite(_NAME, _EPOCH)"
   ]
  },
  {
   "cell_type": "code",
   "execution_count": 31,
   "metadata": {},
   "outputs": [
    {
     "data": {
      "text/plain": [
       "src.meta.meta.MetaModel"
      ]
     },
     "execution_count": 31,
     "metadata": {},
     "output_type": "execute_result"
    }
   ],
   "source": [
    "type(m2)"
   ]
  },
  {
   "cell_type": "code",
   "execution_count": 32,
   "metadata": {},
   "outputs": [
    {
     "name": "stdout",
     "output_type": "stream",
     "text": [
      "2019-08-08 00:35:10,167 DEBUG [src.meta.meta:94] (MainThread) basic mode = TensorApi.TF_LITE\n",
      "2019-08-08 00:35:10,168 DEBUG [src.meta.meta:95] (MainThread) basic epoch = 1\n",
      "2019-08-08 00:35:10,169 DEBUG [src.meta.tflite:72] (MainThread) basic Input mean, std, index: 0, 0.003921568859368563, 8\n",
      "2019-08-08 00:35:10,169 DEBUG [src.meta.tflite:77] (MainThread) basic Output mean, std, index: 0, 0.00390625, 9\n"
     ]
    }
   ],
   "source": [
    "m2.dump()"
   ]
  },
  {
   "cell_type": "code",
   "execution_count": 33,
   "metadata": {},
   "outputs": [
    {
     "data": {
      "text/plain": [
       "(0, array([[[0.00390625, 0.015625  , 0.01171875, ..., 0.015625  ,\n",
       "          0.0078125 , 0.01171875]],\n",
       " \n",
       "        [[0.015625  , 0.015625  , 0.015625  , ..., 0.01171875,\n",
       "          0.015625  , 0.01171875]],\n",
       " \n",
       "        [[0.0078125 , 0.01171875, 0.01171875, ..., 0.01171875,\n",
       "          0.0078125 , 0.01171875]],\n",
       " \n",
       "        ...,\n",
       " \n",
       "        [[0.01953125, 0.0234375 , 0.01953125, ..., 0.01171875,\n",
       "          0.015625  , 0.01171875]],\n",
       " \n",
       "        [[0.0234375 , 0.015625  , 0.01171875, ..., 0.0078125 ,\n",
       "          0.015625  , 0.0078125 ]],\n",
       " \n",
       "        [[0.04296875, 0.0234375 , 0.01171875, ..., 0.00390625,\n",
       "          0.01171875, 0.00390625]]], dtype=float32))"
      ]
     },
     "execution_count": 33,
     "metadata": {},
     "output_type": "execute_result"
    }
   ],
   "source": [
    "m2.predict(test_images)"
   ]
  },
  {
   "cell_type": "code",
   "execution_count": 34,
   "metadata": {},
   "outputs": [],
   "source": [
    "del m2"
   ]
  },
  {
   "cell_type": "markdown",
   "metadata": {},
   "source": [
    "# Load `.pb` from scratch"
   ]
  },
  {
   "cell_type": "code",
   "execution_count": 35,
   "metadata": {},
   "outputs": [
    {
     "name": "stdout",
     "output_type": "stream",
     "text": [
      "2019-08-08 00:35:12,570 DEBUG [src.meta.tensorflow:54] (MainThread) basic Loading frozen graph model from /home/cory/dev/deep-learning/models/basic_001.pb...\n"
     ]
    },
    {
     "name": "stderr",
     "output_type": "stream",
     "text": [
      "W0808 00:35:12.571874 140620409094272 deprecation_wrapper.py:119] From ../src/meta/tensorflow.py:56: The name tf.Session is deprecated. Please use tf.compat.v1.Session instead.\n",
      "\n"
     ]
    },
    {
     "name": "stdout",
     "output_type": "stream",
     "text": [
      "2019-08-08 00:35:12,576 INFO  [src.meta.tensorflow:58] (MainThread) basic Loading frozen graph from /home/cory/dev/deep-learning/models/basic_001.pb...\n"
     ]
    },
    {
     "name": "stderr",
     "output_type": "stream",
     "text": [
      "W0808 00:35:12.577373 140620409094272 deprecation_wrapper.py:119] From ../src/meta/tensorflow.py:59: The name tf.gfile.GFile is deprecated. Please use tf.io.gfile.GFile instead.\n",
      "\n",
      "W0808 00:35:12.578094 140620409094272 deprecation_wrapper.py:119] From ../src/meta/tensorflow.py:60: The name tf.GraphDef is deprecated. Please use tf.compat.v1.GraphDef instead.\n",
      "\n"
     ]
    },
    {
     "ename": "AssertionError",
     "evalue": "Expected tf.GraphDef but got: <tensorflow.python.framework.ops.Graph object at 0x7fe38c4b5940>",
     "output_type": "error",
     "traceback": [
      "\u001b[0;31m---------------------------------------------------------------------------\u001b[0m",
      "\u001b[0;31mAssertionError\u001b[0m                            Traceback (most recent call last)",
      "\u001b[0;32m<ipython-input-35-f32a9f90b8bd>\u001b[0m in \u001b[0;36m<module>\u001b[0;34m\u001b[0m\n\u001b[0;32m----> 1\u001b[0;31m \u001b[0mret\u001b[0m\u001b[0;34m,\u001b[0m \u001b[0mm2\u001b[0m \u001b[0;34m=\u001b[0m \u001b[0mMetaModelFactory\u001b[0m\u001b[0;34m.\u001b[0m\u001b[0mfrom_pb\u001b[0m\u001b[0;34m(\u001b[0m\u001b[0m_NAME\u001b[0m\u001b[0;34m,\u001b[0m \u001b[0m_EPOCH\u001b[0m\u001b[0;34m)\u001b[0m\u001b[0;34m\u001b[0m\u001b[0;34m\u001b[0m\u001b[0m\n\u001b[0m",
      "\u001b[0;32m~/dev/deep-learning/src/meta/meta.py\u001b[0m in \u001b[0;36mfrom_pb\u001b[0;34m(name, epoch)\u001b[0m\n\u001b[1;32m    230\u001b[0m     \u001b[0;32mdef\u001b[0m \u001b[0mfrom_pb\u001b[0m\u001b[0;34m(\u001b[0m\u001b[0mname\u001b[0m\u001b[0;34m,\u001b[0m \u001b[0mepoch\u001b[0m\u001b[0;34m)\u001b[0m\u001b[0;34m:\u001b[0m\u001b[0;34m\u001b[0m\u001b[0;34m\u001b[0m\u001b[0m\n\u001b[1;32m    231\u001b[0m         \u001b[0mmodel\u001b[0m \u001b[0;34m=\u001b[0m \u001b[0mMetaModel\u001b[0m\u001b[0;34m(\u001b[0m\u001b[0mname\u001b[0m\u001b[0;34m,\u001b[0m \u001b[0mepoch\u001b[0m\u001b[0;34m=\u001b[0m\u001b[0mepoch\u001b[0m\u001b[0;34m)\u001b[0m\u001b[0;34m\u001b[0m\u001b[0;34m\u001b[0m\u001b[0m\n\u001b[0;32m--> 232\u001b[0;31m         \u001b[0mret\u001b[0m \u001b[0;34m=\u001b[0m \u001b[0mmodel\u001b[0m\u001b[0;34m.\u001b[0m\u001b[0minit_pb\u001b[0m\u001b[0;34m(\u001b[0m\u001b[0;34m)\u001b[0m\u001b[0;34m\u001b[0m\u001b[0;34m\u001b[0m\u001b[0m\n\u001b[0m\u001b[1;32m    233\u001b[0m         \u001b[0;32mif\u001b[0m \u001b[0mret\u001b[0m \u001b[0;34m!=\u001b[0m \u001b[0;36m0\u001b[0m\u001b[0;34m:\u001b[0m\u001b[0;34m\u001b[0m\u001b[0;34m\u001b[0m\u001b[0m\n\u001b[1;32m    234\u001b[0m             \u001b[0;32mreturn\u001b[0m \u001b[0mret\u001b[0m\u001b[0;34m,\u001b[0m \u001b[0;32mNone\u001b[0m\u001b[0;34m\u001b[0m\u001b[0;34m\u001b[0m\u001b[0m\n",
      "\u001b[0;32m~/dev/deep-learning/src/meta/meta.py\u001b[0m in \u001b[0;36minit_pb\u001b[0;34m(self)\u001b[0m\n\u001b[1;32m    143\u001b[0m \u001b[0;34m\u001b[0m\u001b[0m\n\u001b[1;32m    144\u001b[0m     \u001b[0;32mdef\u001b[0m \u001b[0minit_pb\u001b[0m\u001b[0;34m(\u001b[0m\u001b[0mself\u001b[0m\u001b[0;34m)\u001b[0m\u001b[0;34m:\u001b[0m\u001b[0;34m\u001b[0m\u001b[0;34m\u001b[0m\u001b[0m\n\u001b[0;32m--> 145\u001b[0;31m         \u001b[0mret\u001b[0m\u001b[0;34m,\u001b[0m \u001b[0mtf_model\u001b[0m \u001b[0;34m=\u001b[0m \u001b[0mTensorFlowModel\u001b[0m\u001b[0;34m.\u001b[0m\u001b[0mload\u001b[0m\u001b[0;34m(\u001b[0m\u001b[0mself\u001b[0m\u001b[0;34m.\u001b[0m\u001b[0mname\u001b[0m\u001b[0;34m,\u001b[0m \u001b[0mself\u001b[0m\u001b[0;34m.\u001b[0m\u001b[0mepoch\u001b[0m\u001b[0;34m,\u001b[0m \u001b[0mself\u001b[0m\u001b[0;34m.\u001b[0m\u001b[0mfilepath_pb\u001b[0m\u001b[0;34m(\u001b[0m\u001b[0mself\u001b[0m\u001b[0;34m.\u001b[0m\u001b[0mepoch\u001b[0m\u001b[0;34m)\u001b[0m\u001b[0;34m)\u001b[0m\u001b[0;34m\u001b[0m\u001b[0;34m\u001b[0m\u001b[0m\n\u001b[0m\u001b[1;32m    146\u001b[0m         \u001b[0;32mif\u001b[0m \u001b[0mret\u001b[0m \u001b[0;34m!=\u001b[0m \u001b[0;36m0\u001b[0m\u001b[0;34m:\u001b[0m\u001b[0;34m\u001b[0m\u001b[0;34m\u001b[0m\u001b[0m\n\u001b[1;32m    147\u001b[0m             \u001b[0;32mreturn\u001b[0m \u001b[0mret\u001b[0m\u001b[0;34m\u001b[0m\u001b[0;34m\u001b[0m\u001b[0m\n",
      "\u001b[0;32m~/dev/deep-learning/src/meta/tensorflow.py\u001b[0m in \u001b[0;36mload\u001b[0;34m(name, epoch, filepath)\u001b[0m\n\u001b[1;32m     67\u001b[0m                 \u001b[0mtf\u001b[0m\u001b[0;34m.\u001b[0m\u001b[0mimport_graph_def\u001b[0m\u001b[0;34m(\u001b[0m\u001b[0mfrozen_graph\u001b[0m\u001b[0;34m,\u001b[0m \u001b[0mname\u001b[0m\u001b[0;34m=\u001b[0m\u001b[0mname\u001b[0m\u001b[0;34m)\u001b[0m\u001b[0;34m\u001b[0m\u001b[0;34m\u001b[0m\u001b[0m\n\u001b[1;32m     68\u001b[0m \u001b[0;34m\u001b[0m\u001b[0m\n\u001b[0;32m---> 69\u001b[0;31m         \u001b[0mresult\u001b[0m \u001b[0;34m=\u001b[0m \u001b[0mTensorFlowModel\u001b[0m\u001b[0;34m(\u001b[0m\u001b[0mname\u001b[0m\u001b[0;34m,\u001b[0m \u001b[0mgraph\u001b[0m\u001b[0;34m,\u001b[0m \u001b[0mepoch\u001b[0m\u001b[0;34m=\u001b[0m\u001b[0mepoch\u001b[0m\u001b[0;34m)\u001b[0m\u001b[0;34m\u001b[0m\u001b[0;34m\u001b[0m\u001b[0m\n\u001b[0m\u001b[1;32m     70\u001b[0m \u001b[0;34m\u001b[0m\u001b[0m\n\u001b[1;32m     71\u001b[0m         \u001b[0;32mreturn\u001b[0m \u001b[0;36m0\u001b[0m\u001b[0;34m,\u001b[0m \u001b[0mresult\u001b[0m\u001b[0;34m\u001b[0m\u001b[0;34m\u001b[0m\u001b[0m\n",
      "\u001b[0;32m~/dev/deep-learning/src/meta/tensorflow.py\u001b[0m in \u001b[0;36m__init__\u001b[0;34m(self, name, graph_def, epoch)\u001b[0m\n\u001b[1;32m     27\u001b[0m         \u001b[0;31m# GraphDef Model\u001b[0m\u001b[0;34m\u001b[0m\u001b[0;34m\u001b[0m\u001b[0;34m\u001b[0m\u001b[0m\n\u001b[1;32m     28\u001b[0m         \u001b[0;32massert\u001b[0m \u001b[0mgraph_def\u001b[0m \u001b[0;32mis\u001b[0m \u001b[0;32mnot\u001b[0m \u001b[0;32mNone\u001b[0m \u001b[0;32mand\u001b[0m \u001b[0misinstance\u001b[0m\u001b[0;34m(\u001b[0m\u001b[0mgraph_def\u001b[0m\u001b[0;34m,\u001b[0m \u001b[0mtf\u001b[0m\u001b[0;34m.\u001b[0m\u001b[0mGraphDef\u001b[0m\u001b[0;34m)\u001b[0m\u001b[0;34m,\u001b[0m\u001b[0;31m\\\u001b[0m\u001b[0;34m\u001b[0m\u001b[0;34m\u001b[0m\u001b[0m\n\u001b[0;32m---> 29\u001b[0;31m             \u001b[0;34m'Expected tf.GraphDef but got: %s'\u001b[0m \u001b[0;34m%\u001b[0m \u001b[0mgraph_def\u001b[0m\u001b[0;34m\u001b[0m\u001b[0;34m\u001b[0m\u001b[0m\n\u001b[0m\u001b[1;32m     30\u001b[0m         \u001b[0mself\u001b[0m\u001b[0;34m.\u001b[0m\u001b[0mgraph_def\u001b[0m \u001b[0;34m=\u001b[0m \u001b[0mgraph_def\u001b[0m\u001b[0;34m\u001b[0m\u001b[0;34m\u001b[0m\u001b[0m\n\u001b[1;32m     31\u001b[0m \u001b[0;34m\u001b[0m\u001b[0m\n",
      "\u001b[0;31mAssertionError\u001b[0m: Expected tf.GraphDef but got: <tensorflow.python.framework.ops.Graph object at 0x7fe38c4b5940>"
     ]
    }
   ],
   "source": [
    "ret, m2 = MetaModelFactory.from_pb(_NAME, _EPOCH)"
   ]
  },
  {
   "cell_type": "code",
   "execution_count": null,
   "metadata": {},
   "outputs": [],
   "source": []
  }
 ],
 "metadata": {
  "kernelspec": {
   "display_name": "Python 3",
   "language": "python",
   "name": "python3"
  },
  "language_info": {
   "codemirror_mode": {
    "name": "ipython",
    "version": 3
   },
   "file_extension": ".py",
   "mimetype": "text/x-python",
   "name": "python",
   "nbconvert_exporter": "python",
   "pygments_lexer": "ipython3",
   "version": "3.6.8"
  }
 },
 "nbformat": 4,
 "nbformat_minor": 2
}
