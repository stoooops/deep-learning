{
 "cells": [
  {
   "cell_type": "markdown",
   "metadata": {},
   "source": [
    "This notebook is for timing TRT model inference vs non-TRT model inference"
   ]
  },
  {
   "cell_type": "code",
   "execution_count": 3,
   "metadata": {},
   "outputs": [
    {
     "name": "stdout",
     "output_type": "stream",
     "text": [
      "Convert (Frozen Graph):\n",
      "../../../tmp/trt_end_to_end/convert/tf/frozen/basic/001/basic_epoch001_2019-09-03T19:15_frozen.pb\n",
      "../../../tmp/trt_end_to_end/convert/tf/frozen/batchn/001/batchn_epoch001_2019-09-03T19:28_frozen.pb\n",
      "../../../tmp/trt_end_to_end/convert/tf/frozen/conv/001/conv_epoch001_2019-09-03T19:30_frozen.pb\n",
      "../../../tmp/trt_end_to_end/convert/tf/frozen/resnet50/001/resnet50_epoch001_2019-09-03T19:31_frozen.pb\n"
     ]
    }
   ],
   "source": [
    "%%bash\n",
    "\n",
    "echo 'Convert (Frozen Graph):'\n",
    "CONVERT_TF_FROZEN_GRAPH_DIR=../../../tmp/trt_end_to_end/convert/tf/frozen\n",
    "find ${CONVERT_TF_FROZEN_GRAPH_DIR} -type f | sort"
   ]
  },
  {
   "cell_type": "markdown",
   "metadata": {},
   "source": [
    "## Setup"
   ]
  },
  {
   "cell_type": "code",
   "execution_count": 4,
   "metadata": {},
   "outputs": [],
   "source": [
    "import sys\n",
    "sys.path.append('../../..')"
   ]
  },
  {
   "cell_type": "markdown",
   "metadata": {},
   "source": [
    "## Parameters"
   ]
  },
  {
   "cell_type": "code",
   "execution_count": 5,
   "metadata": {},
   "outputs": [],
   "source": [
    "_NAME = 'resnet50'\n",
    "_EPOCH = 1"
   ]
  },
  {
   "cell_type": "code",
   "execution_count": 6,
   "metadata": {},
   "outputs": [],
   "source": [
    "from src.utils.trt_end_to_end_constants import *\n",
    "_NAME, _EPOCH, _TIME = get_params(_NAME, _EPOCH)"
   ]
  },
  {
   "cell_type": "markdown",
   "metadata": {},
   "source": [
    "Metadata"
   ]
  },
  {
   "cell_type": "code",
   "execution_count": 7,
   "metadata": {},
   "outputs": [
    {
     "name": "stdout",
     "output_type": "stream",
     "text": [
      "{'epoch': 1,\n",
      " 'input_names': ['resnet50_input:0'],\n",
      " 'name': 'resnet50',\n",
      " 'output_names': ['fc100/Softmax:0']}\n"
     ]
    }
   ],
   "source": [
    "from src.utils.trt_end_to_end_constants import MD_FILE_FORMAT\n",
    "\n",
    "md_filename = MD_FILE_FORMAT % (_NAME, _EPOCH, _TIME)\n",
    "_train_dir = get_train_dir(_NAME, _EPOCH)\n",
    "md_filepath = os.path.join(_train_dir, md_filename)\n",
    "\n",
    "from src.meta.metadata import Metadata\n",
    "ret, metadata = Metadata.from_md(md_filepath)\n",
    "assert ret == 0\n",
    "\n",
    "from pprint import pprint\n",
    "pprint(vars(metadata))"
   ]
  },
  {
   "cell_type": "markdown",
   "metadata": {},
   "source": [
    "## Data"
   ]
  },
  {
   "cell_type": "code",
   "execution_count": 8,
   "metadata": {},
   "outputs": [
    {
     "name": "stderr",
     "output_type": "stream",
     "text": [
      "/usr/local/lib/python3.6/dist-packages/tensorflow/python/framework/dtypes.py:516: FutureWarning: Passing (type, 1) or '1type' as a synonym of type is deprecated; in a future version of numpy, it will be understood as (type, (1,)) / '(1,)type'.\n",
      "  _np_qint8 = np.dtype([(\"qint8\", np.int8, 1)])\n",
      "/usr/local/lib/python3.6/dist-packages/tensorflow/python/framework/dtypes.py:517: FutureWarning: Passing (type, 1) or '1type' as a synonym of type is deprecated; in a future version of numpy, it will be understood as (type, (1,)) / '(1,)type'.\n",
      "  _np_quint8 = np.dtype([(\"quint8\", np.uint8, 1)])\n",
      "/usr/local/lib/python3.6/dist-packages/tensorflow/python/framework/dtypes.py:518: FutureWarning: Passing (type, 1) or '1type' as a synonym of type is deprecated; in a future version of numpy, it will be understood as (type, (1,)) / '(1,)type'.\n",
      "  _np_qint16 = np.dtype([(\"qint16\", np.int16, 1)])\n",
      "/usr/local/lib/python3.6/dist-packages/tensorflow/python/framework/dtypes.py:519: FutureWarning: Passing (type, 1) or '1type' as a synonym of type is deprecated; in a future version of numpy, it will be understood as (type, (1,)) / '(1,)type'.\n",
      "  _np_quint16 = np.dtype([(\"quint16\", np.uint16, 1)])\n",
      "/usr/local/lib/python3.6/dist-packages/tensorflow/python/framework/dtypes.py:520: FutureWarning: Passing (type, 1) or '1type' as a synonym of type is deprecated; in a future version of numpy, it will be understood as (type, (1,)) / '(1,)type'.\n",
      "  _np_qint32 = np.dtype([(\"qint32\", np.int32, 1)])\n",
      "/usr/local/lib/python3.6/dist-packages/tensorflow/python/framework/dtypes.py:525: FutureWarning: Passing (type, 1) or '1type' as a synonym of type is deprecated; in a future version of numpy, it will be understood as (type, (1,)) / '(1,)type'.\n",
      "  np_resource = np.dtype([(\"resource\", np.ubyte, 1)])\n",
      "/usr/local/lib/python3.6/dist-packages/tensorboard/compat/tensorflow_stub/dtypes.py:541: FutureWarning: Passing (type, 1) or '1type' as a synonym of type is deprecated; in a future version of numpy, it will be understood as (type, (1,)) / '(1,)type'.\n",
      "  _np_qint8 = np.dtype([(\"qint8\", np.int8, 1)])\n",
      "/usr/local/lib/python3.6/dist-packages/tensorboard/compat/tensorflow_stub/dtypes.py:542: FutureWarning: Passing (type, 1) or '1type' as a synonym of type is deprecated; in a future version of numpy, it will be understood as (type, (1,)) / '(1,)type'.\n",
      "  _np_quint8 = np.dtype([(\"quint8\", np.uint8, 1)])\n",
      "/usr/local/lib/python3.6/dist-packages/tensorboard/compat/tensorflow_stub/dtypes.py:543: FutureWarning: Passing (type, 1) or '1type' as a synonym of type is deprecated; in a future version of numpy, it will be understood as (type, (1,)) / '(1,)type'.\n",
      "  _np_qint16 = np.dtype([(\"qint16\", np.int16, 1)])\n",
      "/usr/local/lib/python3.6/dist-packages/tensorboard/compat/tensorflow_stub/dtypes.py:544: FutureWarning: Passing (type, 1) or '1type' as a synonym of type is deprecated; in a future version of numpy, it will be understood as (type, (1,)) / '(1,)type'.\n",
      "  _np_quint16 = np.dtype([(\"quint16\", np.uint16, 1)])\n",
      "/usr/local/lib/python3.6/dist-packages/tensorboard/compat/tensorflow_stub/dtypes.py:545: FutureWarning: Passing (type, 1) or '1type' as a synonym of type is deprecated; in a future version of numpy, it will be understood as (type, (1,)) / '(1,)type'.\n",
      "  _np_qint32 = np.dtype([(\"qint32\", np.int32, 1)])\n",
      "/usr/local/lib/python3.6/dist-packages/tensorboard/compat/tensorflow_stub/dtypes.py:550: FutureWarning: Passing (type, 1) or '1type' as a synonym of type is deprecated; in a future version of numpy, it will be understood as (type, (1,)) / '(1,)type'.\n",
      "  np_resource = np.dtype([(\"resource\", np.ubyte, 1)])\n"
     ]
    }
   ],
   "source": [
    "from src.data.cifar100 import CLASSES, INPUT_SHAPE, load_data\n",
    "import numpy as np\n",
    "\n",
    "(train_images, train_labels), (test_images, test_labels) = load_data()\n",
    "input_img = np.array([train_images[0]])"
   ]
  },
  {
   "cell_type": "code",
   "execution_count": 9,
   "metadata": {},
   "outputs": [
    {
     "data": {
      "text/plain": [
       "(1, 32, 32, 3)"
      ]
     },
     "execution_count": 9,
     "metadata": {},
     "output_type": "execute_result"
    }
   ],
   "source": [
    "input_img.shape"
   ]
  },
  {
   "cell_type": "markdown",
   "metadata": {},
   "source": [
    "## Helper functions"
   ]
  },
  {
   "cell_type": "code",
   "execution_count": 10,
   "metadata": {},
   "outputs": [],
   "source": [
    "import tensorflow as tf\n",
    "from tensorflow.python.platform import gfile\n",
    "import time\n",
    "\n",
    "# function to read a \".pb\" model \n",
    "# (can be used to read frozen model or TensorRT model)\n",
    "def read_pb_graph(model):\n",
    "    with gfile.FastGFile(model,'rb') as f:\n",
    "        graph_def = tf.GraphDef()\n",
    "        graph_def.ParseFromString(f.read())\n",
    "    return graph_def"
   ]
  },
  {
   "cell_type": "markdown",
   "metadata": {},
   "source": [
    "## Test Params"
   ]
  },
  {
   "cell_type": "code",
   "execution_count": 32,
   "metadata": {},
   "outputs": [],
   "source": [
    "_WARM_UP_TRIALS = 1000\n",
    "_TRIALS = 1000"
   ]
  },
  {
   "cell_type": "markdown",
   "metadata": {},
   "source": [
    "## Frozen Graph"
   ]
  },
  {
   "cell_type": "code",
   "execution_count": 33,
   "metadata": {},
   "outputs": [
    {
     "name": "stdout",
     "output_type": "stream",
     "text": [
      "../../../tmp/trt_end_to_end/convert/tf/frozen/resnet50/001/resnet50_epoch001_2019-09-03T19:31_frozen.pb\n"
     ]
    }
   ],
   "source": [
    "frozen_graph_dir = get_frozen_graph_dir(_NAME, _EPOCH)\n",
    "\n",
    "frozen_graph_filename = FROZEN_GRAPH_FILE_FORMAT % (_NAME, _EPOCH, _TIME)\n",
    "frozen_graph_filepath = os.path.join(frozen_graph_dir, frozen_graph_filename)\n",
    "print(frozen_graph_filepath)"
   ]
  },
  {
   "cell_type": "code",
   "execution_count": 35,
   "metadata": {
    "scrolled": false
   },
   "outputs": [
    {
     "name": "stdout",
     "output_type": "stream",
     "text": [
      "Warming up for 1000 trials...\n",
      "[===================================================================================================>] ETA: 0.055s  \n",
      "Testing for 1000 trials...\n",
      "[===================================================================================================>] ETA: 0.050s  \n",
      "Old avg time: 0.005598349332809448\n"
     ]
    }
   ],
   "source": [
    "graph = tf.Graph()\n",
    "with graph.as_default():\n",
    "    with tf.Session() as sess:\n",
    "        # read TensorRT model\n",
    "        frozen_graph = read_pb_graph(frozen_graph_filepath)\n",
    "\n",
    "        # obtain the corresponding input-output tensor\n",
    "        tf.import_graph_def(frozen_graph, name='')\n",
    "        input = sess.graph.get_tensor_by_name(metadata.input_names[0])\n",
    "        output = sess.graph.get_tensor_by_name(metadata.output_names[0])\n",
    "        \n",
    "        # warmup\n",
    "        total_time = 0\n",
    "        start = time.time()\n",
    "        n = _WARM_UP_TRIALS\n",
    "        print(\"Warming up for %d trials...\" % n)\n",
    "        last = None\n",
    "        longest_line = 0\n",
    "        for i in range(n):\n",
    "            t1 = time.time()\n",
    "            # CALL\n",
    "            out_pred = sess.run(output, feed_dict={input: input_img})\n",
    "            delta_time = time.time() - t1\n",
    "            total_time += delta_time\n",
    "            running_avg = (time.time() - start) / (i + 1)\n",
    "            \n",
    "            pctg = int(100 * i / n)\n",
    "            if last is None or pctg > last:\n",
    "                log = '['\n",
    "                log += '=' * pctg\n",
    "                log += '>'\n",
    "                log += '.' * (100 - pctg - 1)\n",
    "                log += ']'\n",
    "                remaining_time = running_avg * (n - i - 1)\n",
    "                log += (' ETA: %.3fs' % remaining_time)\n",
    "                longest_line = max(len(log), longest_line)\n",
    "                if len(log) < longest_line:\n",
    "                    log += ' ' * (longest_line - len(log))\n",
    "                print('\\r', log, sep='', end='\\r')\n",
    "                last = pctg\n",
    "        print()\n",
    "\n",
    "        # test\n",
    "        start = time.time()\n",
    "        total_time = 0\n",
    "        n = _TRIALS\n",
    "        print(\"Testing for %d trials...\" % n)\n",
    "        last = None\n",
    "        for i in range(n):\n",
    "            t1 = time.time()\n",
    "            # CALL\n",
    "            out_pred = sess.run(output, feed_dict={input: input_img})\n",
    "            delta_time = time.time() - t1\n",
    "            total_time += delta_time\n",
    "            running_avg = total_time / (i + 1)\n",
    "            \n",
    "            pctg = int(100 * i / n)\n",
    "            if last is None or pctg > last:\n",
    "                log = '['\n",
    "                log += '=' * pctg\n",
    "                log += '>'\n",
    "                log += '.' * (100 - pctg - 1)\n",
    "                log += ']'\n",
    "                remaining_time = running_avg * (n - i - 1)\n",
    "                log += (' ETA: %.3fs' % remaining_time)\n",
    "                longest_line = max(len(log), longest_line)\n",
    "                if len(log) < longest_line:\n",
    "                    log += ' ' * (longest_line - len(log))\n",
    "                print('\\r', log, sep='', end='\\r')\n",
    "                last = pctg\n",
    "        print()\n",
    "            \n",
    "        avg_time_original_model = total_time / n\n",
    "        print(\"Old avg time: %s\" % avg_time_original_model)"
   ]
  },
  {
   "cell_type": "code",
   "execution_count": null,
   "metadata": {},
   "outputs": [],
   "source": []
  },
  {
   "cell_type": "code",
   "execution_count": null,
   "metadata": {},
   "outputs": [],
   "source": []
  }
 ],
 "metadata": {
  "kernelspec": {
   "display_name": "Python 3",
   "language": "python",
   "name": "python3"
  },
  "language_info": {
   "codemirror_mode": {
    "name": "ipython",
    "version": 3
   },
   "file_extension": ".py",
   "mimetype": "text/x-python",
   "name": "python",
   "nbconvert_exporter": "python",
   "pygments_lexer": "ipython3",
   "version": "3.6.8"
  }
 },
 "nbformat": 4,
 "nbformat_minor": 2
}
