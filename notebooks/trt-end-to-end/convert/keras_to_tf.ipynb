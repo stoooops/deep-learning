{
 "cells": [
  {
   "cell_type": "markdown",
   "metadata": {},
   "source": [
    "This notebook is for converting a Keras Model to a TensorFlow Model"
   ]
  },
  {
   "cell_type": "markdown",
   "metadata": {},
   "source": [
    "## Setup"
   ]
  },
  {
   "cell_type": "code",
   "execution_count": 1,
   "metadata": {},
   "outputs": [
    {
     "name": "stdout",
     "output_type": "stream",
     "text": [
      "Train:\n",
      "../../../tmp/trt_end_to_end/train/keras_model_basic_epoch001_2019-09-02T19:22.h5\n",
      "\n",
      "Convert:\n",
      "../../../tmp/trt_end_to_end/convert/tf/tf_model_basic_epoch001_2019-09-02T19:22.data-00000-of-00001\n",
      "../../../tmp/trt_end_to_end/convert/tf/tf_model_basic_epoch001_2019-09-02T19:22.meta\n",
      "../../../tmp/trt_end_to_end/convert/tf/tf_model_basic_epoch001_2019-09-02T19:22.index\n",
      "../../../tmp/trt_end_to_end/convert/tf/checkpoint\n"
     ]
    }
   ],
   "source": [
    "%%bash\n",
    "\n",
    "echo 'Train:'\n",
    "TRAIN_DIR=../../../tmp/trt_end_to_end/train\n",
    "find ${TRAIN_DIR} -type f\n",
    "echo\n",
    "echo 'Convert:'\n",
    "CONVERT_TF_DIR=../../../tmp/trt_end_to_end/convert/tf\n",
    "find ${CONVERT_TF_DIR} -type f"
   ]
  },
  {
   "cell_type": "code",
   "execution_count": 2,
   "metadata": {},
   "outputs": [],
   "source": [
    "import sys\n",
    "sys.path.append('../../..')"
   ]
  },
  {
   "cell_type": "markdown",
   "metadata": {},
   "source": [
    "## Parameters"
   ]
  },
  {
   "cell_type": "code",
   "execution_count": 3,
   "metadata": {},
   "outputs": [],
   "source": [
    "import os\n",
    "_TMP_DIR = '../../../tmp'\n",
    "_TRT_END_TO_END_DIR = os.path.join(_TMP_DIR, 'trt_end_to_end')\n",
    "_TRAIN_DIR = os.path.join(_TRT_END_TO_END_DIR, 'train')\n",
    "_CONVERT_TF_DIR = os.path.join(_TRT_END_TO_END_DIR, 'convert/tf')\n",
    "_NAME = 'basic'\n",
    "_EPOCH = 1\n",
    "_TIME = '2019-09-02T19:22'"
   ]
  },
  {
   "cell_type": "markdown",
   "metadata": {},
   "source": [
    "## Set learning phase 0"
   ]
  },
  {
   "cell_type": "code",
   "execution_count": 4,
   "metadata": {},
   "outputs": [
    {
     "name": "stderr",
     "output_type": "stream",
     "text": [
      "/usr/local/lib/python3.6/dist-packages/tensorflow/python/framework/dtypes.py:516: FutureWarning: Passing (type, 1) or '1type' as a synonym of type is deprecated; in a future version of numpy, it will be understood as (type, (1,)) / '(1,)type'.\n",
      "  _np_qint8 = np.dtype([(\"qint8\", np.int8, 1)])\n",
      "/usr/local/lib/python3.6/dist-packages/tensorflow/python/framework/dtypes.py:517: FutureWarning: Passing (type, 1) or '1type' as a synonym of type is deprecated; in a future version of numpy, it will be understood as (type, (1,)) / '(1,)type'.\n",
      "  _np_quint8 = np.dtype([(\"quint8\", np.uint8, 1)])\n",
      "/usr/local/lib/python3.6/dist-packages/tensorflow/python/framework/dtypes.py:518: FutureWarning: Passing (type, 1) or '1type' as a synonym of type is deprecated; in a future version of numpy, it will be understood as (type, (1,)) / '(1,)type'.\n",
      "  _np_qint16 = np.dtype([(\"qint16\", np.int16, 1)])\n",
      "/usr/local/lib/python3.6/dist-packages/tensorflow/python/framework/dtypes.py:519: FutureWarning: Passing (type, 1) or '1type' as a synonym of type is deprecated; in a future version of numpy, it will be understood as (type, (1,)) / '(1,)type'.\n",
      "  _np_quint16 = np.dtype([(\"quint16\", np.uint16, 1)])\n",
      "/usr/local/lib/python3.6/dist-packages/tensorflow/python/framework/dtypes.py:520: FutureWarning: Passing (type, 1) or '1type' as a synonym of type is deprecated; in a future version of numpy, it will be understood as (type, (1,)) / '(1,)type'.\n",
      "  _np_qint32 = np.dtype([(\"qint32\", np.int32, 1)])\n",
      "/usr/local/lib/python3.6/dist-packages/tensorflow/python/framework/dtypes.py:525: FutureWarning: Passing (type, 1) or '1type' as a synonym of type is deprecated; in a future version of numpy, it will be understood as (type, (1,)) / '(1,)type'.\n",
      "  np_resource = np.dtype([(\"resource\", np.ubyte, 1)])\n"
     ]
    },
    {
     "name": "stdout",
     "output_type": "stream",
     "text": [
      "tensorflow-1.14.0\n"
     ]
    },
    {
     "name": "stderr",
     "output_type": "stream",
     "text": [
      "/usr/local/lib/python3.6/dist-packages/tensorboard/compat/tensorflow_stub/dtypes.py:541: FutureWarning: Passing (type, 1) or '1type' as a synonym of type is deprecated; in a future version of numpy, it will be understood as (type, (1,)) / '(1,)type'.\n",
      "  _np_qint8 = np.dtype([(\"qint8\", np.int8, 1)])\n",
      "/usr/local/lib/python3.6/dist-packages/tensorboard/compat/tensorflow_stub/dtypes.py:542: FutureWarning: Passing (type, 1) or '1type' as a synonym of type is deprecated; in a future version of numpy, it will be understood as (type, (1,)) / '(1,)type'.\n",
      "  _np_quint8 = np.dtype([(\"quint8\", np.uint8, 1)])\n",
      "/usr/local/lib/python3.6/dist-packages/tensorboard/compat/tensorflow_stub/dtypes.py:543: FutureWarning: Passing (type, 1) or '1type' as a synonym of type is deprecated; in a future version of numpy, it will be understood as (type, (1,)) / '(1,)type'.\n",
      "  _np_qint16 = np.dtype([(\"qint16\", np.int16, 1)])\n",
      "/usr/local/lib/python3.6/dist-packages/tensorboard/compat/tensorflow_stub/dtypes.py:544: FutureWarning: Passing (type, 1) or '1type' as a synonym of type is deprecated; in a future version of numpy, it will be understood as (type, (1,)) / '(1,)type'.\n",
      "  _np_quint16 = np.dtype([(\"quint16\", np.uint16, 1)])\n",
      "/usr/local/lib/python3.6/dist-packages/tensorboard/compat/tensorflow_stub/dtypes.py:545: FutureWarning: Passing (type, 1) or '1type' as a synonym of type is deprecated; in a future version of numpy, it will be understood as (type, (1,)) / '(1,)type'.\n",
      "  _np_qint32 = np.dtype([(\"qint32\", np.int32, 1)])\n",
      "/usr/local/lib/python3.6/dist-packages/tensorboard/compat/tensorflow_stub/dtypes.py:550: FutureWarning: Passing (type, 1) or '1type' as a synonym of type is deprecated; in a future version of numpy, it will be understood as (type, (1,)) / '(1,)type'.\n",
      "  np_resource = np.dtype([(\"resource\", np.ubyte, 1)])\n"
     ]
    }
   ],
   "source": [
    "# import the needed libraries\n",
    "import tensorflow as tf\n",
    "print(tf.__name__, tf.__version__, sep='-')\n",
    "tf.keras.backend.set_learning_phase(0) #use this if we have batch norm layer in our network"
   ]
  },
  {
   "cell_type": "markdown",
   "metadata": {},
   "source": [
    "## Load keras model"
   ]
  },
  {
   "cell_type": "code",
   "execution_count": 5,
   "metadata": {},
   "outputs": [
    {
     "name": "stderr",
     "output_type": "stream",
     "text": [
      "WARNING: Logging before flag parsing goes to stderr.\n",
      "W0902 19:25:01.820852 140510579111744 deprecation.py:506] From /usr/local/lib/python3.6/dist-packages/tensorflow/python/ops/init_ops.py:97: calling GlorotUniform.__init__ (from tensorflow.python.ops.init_ops) with dtype is deprecated and will be removed in a future version.\n",
      "Instructions for updating:\n",
      "Call initializer instance with the dtype argument instead of passing it to the constructor\n",
      "W0902 19:25:01.821735 140510579111744 deprecation.py:506] From /usr/local/lib/python3.6/dist-packages/tensorflow/python/ops/init_ops.py:1251: calling VarianceScaling.__init__ (from tensorflow.python.ops.init_ops) with dtype is deprecated and will be removed in a future version.\n",
      "Instructions for updating:\n",
      "Call initializer instance with the dtype argument instead of passing it to the constructor\n",
      "W0902 19:25:01.822882 140510579111744 deprecation.py:506] From /usr/local/lib/python3.6/dist-packages/tensorflow/python/ops/init_ops.py:97: calling Zeros.__init__ (from tensorflow.python.ops.init_ops) with dtype is deprecated and will be removed in a future version.\n",
      "Instructions for updating:\n",
      "Call initializer instance with the dtype argument instead of passing it to the constructor\n"
     ]
    }
   ],
   "source": [
    "from src.utils.trt_end_to_end_constants import TRAIN_FILE_FORMAT\n",
    "import os\n",
    "\n",
    "model_filename = TRAIN_FILE_FORMAT % (_NAME, _EPOCH, _TIME)\n",
    "\n",
    "keras_model = tf.keras.models.load_model(os.path.join(_TRAIN_DIR, model_filename))"
   ]
  },
  {
   "cell_type": "markdown",
   "metadata": {},
   "source": [
    "## Save tensorflow model"
   ]
  },
  {
   "cell_type": "code",
   "execution_count": 6,
   "metadata": {},
   "outputs": [],
   "source": [
    "%%bash\n",
    "\n",
    "CONVERT_TF_DIR=../../../tmp/trt_end_to_end/convert/tf\n",
    "mkdir -p ${CONVERT_TF_DIR} && rm -f ./${CONVERT_TF_DIR}/*\n",
    "find ${CONVERT_TF_DIR} -type f"
   ]
  },
  {
   "cell_type": "code",
   "execution_count": 7,
   "metadata": {},
   "outputs": [
    {
     "name": "stdout",
     "output_type": "stream",
     "text": [
      "Keras model is successfully converted to TF model in ../../../tmp/trt_end_to_end/convert/tf\n"
     ]
    }
   ],
   "source": [
    "from src.utils.trt_end_to_end_constants import CONVERT_TF_FILE_FORMAT\n",
    "\n",
    "file_prefix = CONVERT_TF_FILE_FORMAT % (_NAME, _EPOCH ,_TIME)\n",
    "save_to = os.path.join(_CONVERT_TF_DIR, file_prefix)\n",
    "\n",
    "# save the model to Tensorflow model\n",
    "saver = tf.train.Saver()\n",
    "sess = tf.keras.backend.get_session()\n",
    "save_path = saver.save(sess, save_to)\n",
    "\n",
    "print(\"Keras model is successfully converted to TF model in \"+_CONVERT_TF_DIR)"
   ]
  },
  {
   "cell_type": "code",
   "execution_count": 8,
   "metadata": {},
   "outputs": [
    {
     "name": "stdout",
     "output_type": "stream",
     "text": [
      "../../../tmp/trt_end_to_end/convert/tf/tf_model_basic_epoch001_2019-09-02T19:22.data-00000-of-00001\n",
      "../../../tmp/trt_end_to_end/convert/tf/tf_model_basic_epoch001_2019-09-02T19:22.meta\n",
      "../../../tmp/trt_end_to_end/convert/tf/tf_model_basic_epoch001_2019-09-02T19:22.index\n",
      "../../../tmp/trt_end_to_end/convert/tf/checkpoint\n"
     ]
    }
   ],
   "source": [
    "%%bash\n",
    "\n",
    "CONVERT_TF_DIR=../../../tmp/trt_end_to_end/convert/tf\n",
    "find ${CONVERT_TF_DIR} -type f"
   ]
  },
  {
   "cell_type": "code",
   "execution_count": null,
   "metadata": {},
   "outputs": [],
   "source": []
  }
 ],
 "metadata": {
  "kernelspec": {
   "display_name": "Python 3",
   "language": "python",
   "name": "python3"
  },
  "language_info": {
   "codemirror_mode": {
    "name": "ipython",
    "version": 3
   },
   "file_extension": ".py",
   "mimetype": "text/x-python",
   "name": "python",
   "nbconvert_exporter": "python",
   "pygments_lexer": "ipython3",
   "version": "3.6.8"
  }
 },
 "nbformat": 4,
 "nbformat_minor": 2
}
