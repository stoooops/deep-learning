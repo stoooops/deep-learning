{
 "cells": [
  {
   "cell_type": "markdown",
   "metadata": {},
   "source": [
    "This notebook is for converting a TF Saved Graph (saved using a `Saver`) to TF Frozen Graph"
   ]
  },
  {
   "cell_type": "markdown",
   "metadata": {},
   "source": [
    "## Setup"
   ]
  },
  {
   "cell_type": "code",
   "execution_count": 1,
   "metadata": {},
   "outputs": [
    {
     "name": "stdout",
     "output_type": "stream",
     "text": [
      "Train:\n",
      "../../../tmp/trt_end_to_end/train/conv/001/conv_epoch001_2019-09-03T19:30.h5\n",
      "../../../tmp/trt_end_to_end/train/conv/001/conv_epoch001_2019-09-03T19:30.md\n",
      "../../../tmp/trt_end_to_end/train/conv/001/params.json\n",
      "../../../tmp/trt_end_to_end/train/basic/001/params.json\n",
      "../../../tmp/trt_end_to_end/train/basic/001/basic_epoch001_2019-09-03T19:15.md\n",
      "../../../tmp/trt_end_to_end/train/basic/001/basic_epoch001_2019-09-03T19:15.h5\n",
      "../../../tmp/trt_end_to_end/train/batchn/001/batchn_epoch001_2019-09-03T19:28.md\n",
      "../../../tmp/trt_end_to_end/train/batchn/001/params.json\n",
      "../../../tmp/trt_end_to_end/train/batchn/001/batchn_epoch001_2019-09-03T19:28.h5\n",
      "../../../tmp/trt_end_to_end/train/resnet50/001/params.json\n",
      "../../../tmp/trt_end_to_end/train/resnet50/001/resnet50_epoch001_2019-09-03T19:31.h5\n",
      "../../../tmp/trt_end_to_end/train/resnet50/001/resnet50_epoch001_2019-09-03T19:31.md\n",
      "\n",
      "Convert (Saver):\n",
      "../../../tmp/trt_end_to_end/convert/tf/saver/basic/001/checkpoint\n",
      "../../../tmp/trt_end_to_end/convert/tf/saver/basic/001/tf_model_basic_epoch001_2019-09-03T19:15.data-00000-of-00001\n",
      "../../../tmp/trt_end_to_end/convert/tf/saver/basic/001/tf_model_basic_epoch001_2019-09-03T19:15.index\n",
      "../../../tmp/trt_end_to_end/convert/tf/saver/basic/001/tf_model_basic_epoch001_2019-09-03T19:15.meta\n",
      "../../../tmp/trt_end_to_end/convert/tf/saver/batchn/001/checkpoint\n",
      "../../../tmp/trt_end_to_end/convert/tf/saver/batchn/001/tf_model_batchn_epoch001_2019-09-03T19:28.data-00000-of-00001\n",
      "../../../tmp/trt_end_to_end/convert/tf/saver/batchn/001/tf_model_batchn_epoch001_2019-09-03T19:28.index\n",
      "../../../tmp/trt_end_to_end/convert/tf/saver/batchn/001/tf_model_batchn_epoch001_2019-09-03T19:28.meta\n",
      "../../../tmp/trt_end_to_end/convert/tf/saver/conv/001/checkpoint\n",
      "../../../tmp/trt_end_to_end/convert/tf/saver/conv/001/tf_model_conv_epoch001_2019-09-03T19:30.data-00000-of-00001\n",
      "../../../tmp/trt_end_to_end/convert/tf/saver/conv/001/tf_model_conv_epoch001_2019-09-03T19:30.index\n",
      "../../../tmp/trt_end_to_end/convert/tf/saver/conv/001/tf_model_conv_epoch001_2019-09-03T19:30.meta\n",
      "../../../tmp/trt_end_to_end/convert/tf/saver/resnet50/001/checkpoint\n",
      "../../../tmp/trt_end_to_end/convert/tf/saver/resnet50/001/tf_model_resnet50_epoch001_2019-09-03T19:31.data-00000-of-00001\n",
      "../../../tmp/trt_end_to_end/convert/tf/saver/resnet50/001/tf_model_resnet50_epoch001_2019-09-03T19:31.index\n",
      "../../../tmp/trt_end_to_end/convert/tf/saver/resnet50/001/tf_model_resnet50_epoch001_2019-09-03T19:31.meta\n",
      "\n",
      "Convert (Frozen Graph):\n",
      "../../../tmp/trt_end_to_end/convert/tf/frozen/basic/001/basic_epoch001_2019-09-03T19:15_frozen.pb\n",
      "../../../tmp/trt_end_to_end/convert/tf/frozen/batchn/001/batchn_epoch001_2019-09-03T19:28_frozen.pb\n",
      "../../../tmp/trt_end_to_end/convert/tf/frozen/conv/001/conv_epoch001_2019-09-03T19:30_frozen.pb\n",
      "../../../tmp/trt_end_to_end/convert/tf/frozen/resnet50/001/resnet50_epoch001_2019-09-03T19:31_frozen.pb\n"
     ]
    }
   ],
   "source": [
    "%%bash\n",
    "\n",
    "echo 'Train:'\n",
    "export TRAIN_DIR=../../../tmp/trt_end_to_end/train\n",
    "find ${TRAIN_DIR} -type f\n",
    "echo\n",
    "echo 'Convert (Saver):'\n",
    "export CONVERT_TF_SAVER_DIR=../../../tmp/trt_end_to_end/convert/tf/saver\n",
    "find ${CONVERT_TF_SAVER_DIR} -type f | sort\n",
    "echo\n",
    "echo 'Convert (Frozen Graph):'\n",
    "export CONVERT_TF_FROZEN_GRAPH_DIR=../../../tmp/trt_end_to_end/convert/tf/frozen\n",
    "find ${CONVERT_TF_FROZEN_GRAPH_DIR} -type f | sort"
   ]
  },
  {
   "cell_type": "code",
   "execution_count": 2,
   "metadata": {},
   "outputs": [],
   "source": [
    "import sys\n",
    "sys.path.append('../../..')"
   ]
  },
  {
   "cell_type": "markdown",
   "metadata": {},
   "source": [
    "## Parameters"
   ]
  },
  {
   "cell_type": "code",
   "execution_count": 3,
   "metadata": {},
   "outputs": [],
   "source": [
    "_NAME = 'resnet50'\n",
    "_EPOCH = 1"
   ]
  },
  {
   "cell_type": "code",
   "execution_count": 4,
   "metadata": {},
   "outputs": [],
   "source": [
    "from src.utils.trt_end_to_end_constants import *\n",
    "_NAME, _EPOCH, _TIME = get_params(_NAME, _EPOCH)"
   ]
  },
  {
   "cell_type": "markdown",
   "metadata": {},
   "source": [
    "## Import"
   ]
  },
  {
   "cell_type": "code",
   "execution_count": 5,
   "metadata": {},
   "outputs": [
    {
     "name": "stderr",
     "output_type": "stream",
     "text": [
      "/usr/local/lib/python3.6/dist-packages/tensorflow/python/framework/dtypes.py:516: FutureWarning: Passing (type, 1) or '1type' as a synonym of type is deprecated; in a future version of numpy, it will be understood as (type, (1,)) / '(1,)type'.\n",
      "  _np_qint8 = np.dtype([(\"qint8\", np.int8, 1)])\n",
      "/usr/local/lib/python3.6/dist-packages/tensorflow/python/framework/dtypes.py:517: FutureWarning: Passing (type, 1) or '1type' as a synonym of type is deprecated; in a future version of numpy, it will be understood as (type, (1,)) / '(1,)type'.\n",
      "  _np_quint8 = np.dtype([(\"quint8\", np.uint8, 1)])\n",
      "/usr/local/lib/python3.6/dist-packages/tensorflow/python/framework/dtypes.py:518: FutureWarning: Passing (type, 1) or '1type' as a synonym of type is deprecated; in a future version of numpy, it will be understood as (type, (1,)) / '(1,)type'.\n",
      "  _np_qint16 = np.dtype([(\"qint16\", np.int16, 1)])\n",
      "/usr/local/lib/python3.6/dist-packages/tensorflow/python/framework/dtypes.py:519: FutureWarning: Passing (type, 1) or '1type' as a synonym of type is deprecated; in a future version of numpy, it will be understood as (type, (1,)) / '(1,)type'.\n",
      "  _np_quint16 = np.dtype([(\"quint16\", np.uint16, 1)])\n",
      "/usr/local/lib/python3.6/dist-packages/tensorflow/python/framework/dtypes.py:520: FutureWarning: Passing (type, 1) or '1type' as a synonym of type is deprecated; in a future version of numpy, it will be understood as (type, (1,)) / '(1,)type'.\n",
      "  _np_qint32 = np.dtype([(\"qint32\", np.int32, 1)])\n",
      "/usr/local/lib/python3.6/dist-packages/tensorflow/python/framework/dtypes.py:525: FutureWarning: Passing (type, 1) or '1type' as a synonym of type is deprecated; in a future version of numpy, it will be understood as (type, (1,)) / '(1,)type'.\n",
      "  np_resource = np.dtype([(\"resource\", np.ubyte, 1)])\n",
      "/usr/local/lib/python3.6/dist-packages/tensorboard/compat/tensorflow_stub/dtypes.py:541: FutureWarning: Passing (type, 1) or '1type' as a synonym of type is deprecated; in a future version of numpy, it will be understood as (type, (1,)) / '(1,)type'.\n",
      "  _np_qint8 = np.dtype([(\"qint8\", np.int8, 1)])\n",
      "/usr/local/lib/python3.6/dist-packages/tensorboard/compat/tensorflow_stub/dtypes.py:542: FutureWarning: Passing (type, 1) or '1type' as a synonym of type is deprecated; in a future version of numpy, it will be understood as (type, (1,)) / '(1,)type'.\n",
      "  _np_quint8 = np.dtype([(\"quint8\", np.uint8, 1)])\n",
      "/usr/local/lib/python3.6/dist-packages/tensorboard/compat/tensorflow_stub/dtypes.py:543: FutureWarning: Passing (type, 1) or '1type' as a synonym of type is deprecated; in a future version of numpy, it will be understood as (type, (1,)) / '(1,)type'.\n",
      "  _np_qint16 = np.dtype([(\"qint16\", np.int16, 1)])\n",
      "/usr/local/lib/python3.6/dist-packages/tensorboard/compat/tensorflow_stub/dtypes.py:544: FutureWarning: Passing (type, 1) or '1type' as a synonym of type is deprecated; in a future version of numpy, it will be understood as (type, (1,)) / '(1,)type'.\n",
      "  _np_quint16 = np.dtype([(\"quint16\", np.uint16, 1)])\n",
      "/usr/local/lib/python3.6/dist-packages/tensorboard/compat/tensorflow_stub/dtypes.py:545: FutureWarning: Passing (type, 1) or '1type' as a synonym of type is deprecated; in a future version of numpy, it will be understood as (type, (1,)) / '(1,)type'.\n",
      "  _np_qint32 = np.dtype([(\"qint32\", np.int32, 1)])\n",
      "/usr/local/lib/python3.6/dist-packages/tensorboard/compat/tensorflow_stub/dtypes.py:550: FutureWarning: Passing (type, 1) or '1type' as a synonym of type is deprecated; in a future version of numpy, it will be understood as (type, (1,)) / '(1,)type'.\n",
      "  np_resource = np.dtype([(\"resource\", np.ubyte, 1)])\n"
     ]
    },
    {
     "name": "stdout",
     "output_type": "stream",
     "text": [
      "tensorflow-1.14.0\n"
     ]
    }
   ],
   "source": [
    "# import the needed libraries\n",
    "import tensorflow as tf\n",
    "import tensorflow.contrib.tensorrt as trt\n",
    "from tensorflow.python.platform import gfile\n",
    "print(tf.__name__, tf.__version__, sep='-')"
   ]
  },
  {
   "cell_type": "code",
   "execution_count": 6,
   "metadata": {},
   "outputs": [
    {
     "name": "stdout",
     "output_type": "stream",
     "text": [
      "../../../tmp/trt_end_to_end/train/resnet50/001/resnet50_epoch001_2019-09-03T19:31.md\n"
     ]
    }
   ],
   "source": [
    "from src.utils.trt_end_to_end_constants import *\n",
    "\n",
    "md_filename = MD_FILE_FORMAT % (_NAME, _EPOCH, _TIME)\n",
    "_train_dir = get_train_dir(_NAME, _EPOCH)\n",
    "md_filepath = os.path.join(_train_dir, md_filename)\n",
    "print(md_filepath)"
   ]
  },
  {
   "cell_type": "code",
   "execution_count": 7,
   "metadata": {},
   "outputs": [
    {
     "name": "stdout",
     "output_type": "stream",
     "text": [
      "{'epoch': 1,\n",
      " 'input_names': ['resnet50_input:0'],\n",
      " 'name': 'resnet50',\n",
      " 'output_names': ['fc100/Softmax:0']}\n"
     ]
    }
   ],
   "source": [
    "from src.meta.metadata import Metadata\n",
    "ret, metadata = Metadata.from_md(md_filepath)\n",
    "assert ret == 0\n",
    "\n",
    "from pprint import pprint\n",
    "pprint(vars(metadata))"
   ]
  },
  {
   "cell_type": "markdown",
   "metadata": {},
   "source": [
    "## Freeze Graph"
   ]
  },
  {
   "cell_type": "markdown",
   "metadata": {},
   "source": [
    "Input: Saved Graph"
   ]
  },
  {
   "cell_type": "code",
   "execution_count": 8,
   "metadata": {},
   "outputs": [
    {
     "name": "stdout",
     "output_type": "stream",
     "text": [
      "../../../tmp/trt_end_to_end/convert/tf/saver/resnet50/001/tf_model_resnet50_epoch001_2019-09-03T19:31\n",
      "../../../tmp/trt_end_to_end/convert/tf/saver/resnet50/001/tf_model_resnet50_epoch001_2019-09-03T19:31.meta\n"
     ]
    }
   ],
   "source": [
    "saved_graph_dir = get_saver_dir(_NAME, _EPOCH)\n",
    "\n",
    "saver_filename = SAVED_GRAPH_FILE_FORMAT % (_NAME, _EPOCH, _TIME)\n",
    "saver_filepath = os.path.join(saved_graph_dir, saver_filename)\n",
    "print(saver_filepath)\n",
    "\n",
    "meta_filename = SAVED_GRAPH_META_FILE_FORMAT % (_NAME, _EPOCH, _TIME)\n",
    "meta_filepath = os.path.join(saved_graph_dir, meta_filename)\n",
    "print(meta_filepath)"
   ]
  },
  {
   "cell_type": "markdown",
   "metadata": {},
   "source": [
    "Output: Frozen Graph"
   ]
  },
  {
   "cell_type": "code",
   "execution_count": 9,
   "metadata": {},
   "outputs": [
    {
     "name": "stdout",
     "output_type": "stream",
     "text": [
      "../../../tmp/trt_end_to_end/convert/tf/frozen/resnet50/001/resnet50_epoch001_2019-09-03T19:31_frozen.pb\n"
     ]
    }
   ],
   "source": [
    "frozen_graph_dir = get_frozen_graph_dir(_NAME, _EPOCH)\n",
    "\n",
    "frozen_graph_filename = FROZEN_GRAPH_FILE_FORMAT % (_NAME, _EPOCH, _TIME)\n",
    "frozen_graph_filepath = os.path.join(frozen_graph_dir, frozen_graph_filename)\n",
    "print(frozen_graph_filepath)"
   ]
  },
  {
   "cell_type": "code",
   "execution_count": 10,
   "metadata": {
    "scrolled": false
   },
   "outputs": [
    {
     "name": "stderr",
     "output_type": "stream",
     "text": [
      "WARNING: Logging before flag parsing goes to stderr.\n",
      "W0904 00:10:01.614046 140372402968384 deprecation.py:323] From /usr/local/lib/python3.6/dist-packages/tensorflow/python/training/saver.py:1276: checkpoint_exists (from tensorflow.python.training.checkpoint_management) is deprecated and will be removed in a future version.\n",
      "Instructions for updating:\n",
      "Use standard file APIs to check for files with this prefix.\n",
      "W0904 00:10:02.934310 140372402968384 deprecation.py:323] From <ipython-input-10-a7d3bf5bdac7>:15: convert_variables_to_constants (from tensorflow.python.framework.graph_util_impl) is deprecated and will be removed in a future version.\n",
      "Instructions for updating:\n",
      "Use `tf.compat.v1.graph_util.convert_variables_to_constants`\n",
      "W0904 00:10:02.935462 140372402968384 deprecation.py:323] From /usr/local/lib/python3.6/dist-packages/tensorflow/python/framework/graph_util_impl.py:270: extract_sub_graph (from tensorflow.python.framework.graph_util_impl) is deprecated and will be removed in a future version.\n",
      "Instructions for updating:\n",
      "Use `tf.compat.v1.graph_util.extract_sub_graph`\n",
      "W0904 00:10:03.392096 140372402968384 deprecation.py:323] From <ipython-input-10-a7d3bf5bdac7>:17: FastGFile.__init__ (from tensorflow.python.platform.gfile) is deprecated and will be removed in a future version.\n",
      "Instructions for updating:\n",
      "Use tf.gfile.GFile.\n"
     ]
    },
    {
     "name": "stdout",
     "output_type": "stream",
     "text": [
      "Frozen model is successfully stored to ../../../tmp/trt_end_to_end/convert/tf/frozen/resnet50/001/resnet50_epoch001_2019-09-03T19:31_frozen.pb\n"
     ]
    }
   ],
   "source": [
    "# has to be use this setting to make a session for TensorRT optimization\n",
    "with tf.Session(config=tf.ConfigProto(gpu_options=tf.GPUOptions(per_process_gpu_memory_fraction=0.50))) as sess:\n",
    "    # import the meta graph of the tensorflow model\n",
    "    saver = tf.train.import_meta_graph(meta_filepath)\n",
    "    # then, restore the weights to the meta graph\n",
    "    saver.restore(sess, saver_filepath)\n",
    "    \n",
    "    # specify which tensor output you want to obtain \n",
    "    your_outputs = [output.split(':')[0] for output in metadata.output_names]\n",
    "    \n",
    "    # convert to frozen model\n",
    "    frozen_graph = tf.graph_util.convert_variables_to_constants(\n",
    "        sess, # session\n",
    "        tf.get_default_graph().as_graph_def(),# graph+weight from the session\n",
    "        output_node_names=your_outputs)\n",
    "    #write the TensorRT model to be used later for inference\n",
    "    with gfile.FastGFile(frozen_graph_filepath, 'wb') as f:\n",
    "        f.write(frozen_graph.SerializeToString())\n",
    "    print(\"Frozen model is successfully stored to %s\" % frozen_graph_filepath)"
   ]
  }
 ],
 "metadata": {
  "kernelspec": {
   "display_name": "Python 3",
   "language": "python",
   "name": "python3"
  },
  "language_info": {
   "codemirror_mode": {
    "name": "ipython",
    "version": 3
   },
   "file_extension": ".py",
   "mimetype": "text/x-python",
   "name": "python",
   "nbconvert_exporter": "python",
   "pygments_lexer": "ipython3",
   "version": "3.6.8"
  }
 },
 "nbformat": 4,
 "nbformat_minor": 2
}
