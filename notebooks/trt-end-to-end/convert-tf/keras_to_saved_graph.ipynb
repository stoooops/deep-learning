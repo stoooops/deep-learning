{
 "cells": [
  {
   "cell_type": "markdown",
   "metadata": {},
   "source": [
    "This notebook is for converting a Keras Model to a saved model using a `Saver`\n",
    "\n",
    "Saving a model usually means saving its variable values to disk.\n",
    "\n",
    "If you use `Saver`, it will *only* save the variable values in a checkpoint.\n",
    "\n",
    "If you use `SavedModel`, it also saves the graph and \"signatures\" which tell consumers of the `SavedModel` (such as tensorflow/serving) how it can be used (which inputs/outputs to apply), and any other files you need to use the model (assets, e.g., vocabulary files).\n",
    "\n",
    "A model saved in either of these ways can still be trained (with `Saver`, you have to have the original python code. It is possible to train a `SavedModel` directly, although most users I have seen still use the original python code to continue training).\n",
    "\n",
    "Freezing a model means to replace variables in the graph with constants."
   ]
  },
  {
   "cell_type": "markdown",
   "metadata": {},
   "source": [
    "## Setup"
   ]
  },
  {
   "cell_type": "code",
   "execution_count": 1,
   "metadata": {},
   "outputs": [
    {
     "name": "stdout",
     "output_type": "stream",
     "text": [
      "Train:\n",
      "../../../tmp/trt_end_to_end/train/basic/001/basic_epoch001_2019-09-03T19:15.h5\n",
      "../../../tmp/trt_end_to_end/train/basic/001/basic_epoch001_2019-09-03T19:15.md\n",
      "../../../tmp/trt_end_to_end/train/basic/001/params.json\n",
      "../../../tmp/trt_end_to_end/train/batchn/001/batchn_epoch001_2019-09-03T19:28.h5\n",
      "../../../tmp/trt_end_to_end/train/batchn/001/batchn_epoch001_2019-09-03T19:28.md\n",
      "../../../tmp/trt_end_to_end/train/batchn/001/params.json\n",
      "../../../tmp/trt_end_to_end/train/conv/001/conv_epoch001_2019-09-03T19:30.h5\n",
      "../../../tmp/trt_end_to_end/train/conv/001/conv_epoch001_2019-09-03T19:30.md\n",
      "../../../tmp/trt_end_to_end/train/conv/001/params.json\n",
      "../../../tmp/trt_end_to_end/train/resnet50/001/params.json\n",
      "../../../tmp/trt_end_to_end/train/resnet50/001/resnet50_epoch001_2019-09-03T19:31.h5\n",
      "../../../tmp/trt_end_to_end/train/resnet50/001/resnet50_epoch001_2019-09-03T19:31.md\n",
      "\n",
      "Convert (Saver):\n",
      "../../../tmp/trt_end_to_end/convert/tf/saver/resnet50/001/checkpoint\n",
      "../../../tmp/trt_end_to_end/convert/tf/saver/resnet50/001/tf_model_resnet50_epoch001_2019-09-03T19:31.data-00000-of-00001\n",
      "../../../tmp/trt_end_to_end/convert/tf/saver/resnet50/001/tf_model_resnet50_epoch001_2019-09-03T19:31.index\n",
      "../../../tmp/trt_end_to_end/convert/tf/saver/resnet50/001/tf_model_resnet50_epoch001_2019-09-03T19:31.meta\n",
      "\n",
      "Convert (Saved Graph):\n",
      "../../../tmp/trt_end_to_end/convert/tf/saved_graph/resnet50/001/saved_model.pb\n",
      "../../../tmp/trt_end_to_end/convert/tf/saved_graph/resnet50/001/variables/variables.data-00000-of-00001\n",
      "../../../tmp/trt_end_to_end/convert/tf/saved_graph/resnet50/001/variables/variables.index\n"
     ]
    }
   ],
   "source": [
    "%%bash\n",
    "\n",
    "echo 'Train:'\n",
    "TRAIN_DIR=../../../tmp/trt_end_to_end/train\n",
    "find ${TRAIN_DIR} -type f | sort\n",
    "echo\n",
    "echo 'Convert (Saver):'\n",
    "CONVERT_TF_SAVER_DIR=../../../tmp/trt_end_to_end/convert/tf/saver\n",
    "find ${CONVERT_TF_SAVER_DIR} -type f | sort\n",
    "echo\n",
    "echo 'Convert (Saved Graph):'\n",
    "CONVERT_TF_SAVED_GRAPH_DIR=../../../tmp/trt_end_to_end/convert/tf/saved_graph\n",
    "find ${CONVERT_TF_SAVED_GRAPH_DIR} -type f | sort"
   ]
  },
  {
   "cell_type": "code",
   "execution_count": 2,
   "metadata": {},
   "outputs": [],
   "source": [
    "import sys\n",
    "sys.path.append('../../..')"
   ]
  },
  {
   "cell_type": "markdown",
   "metadata": {},
   "source": [
    "## Parameters"
   ]
  },
  {
   "cell_type": "code",
   "execution_count": 3,
   "metadata": {},
   "outputs": [],
   "source": [
    "_NAME = 'resnet50'\n",
    "_EPOCH = 1"
   ]
  },
  {
   "cell_type": "code",
   "execution_count": 4,
   "metadata": {},
   "outputs": [],
   "source": [
    "from src.utils.trt_end_to_end_constants import *\n",
    "_NAME, _EPOCH, _TIME = get_params(_NAME, _EPOCH)"
   ]
  },
  {
   "cell_type": "code",
   "execution_count": 5,
   "metadata": {},
   "outputs": [],
   "source": [
    "_train_filename = H5_FILE_FORMAT % (_NAME, _EPOCH, _TIME)\n",
    "_train_save_to_dir = get_train_dir(_NAME, _EPOCH)\n",
    "_train_filepath = os.path.join(_train_save_to_dir, _train_filename)\n",
    "assert os.path.exists(_train_filepath), \"Not exists: %s\" % _train_filepath"
   ]
  },
  {
   "cell_type": "markdown",
   "metadata": {},
   "source": [
    "## Set learning phase 0"
   ]
  },
  {
   "cell_type": "code",
   "execution_count": 6,
   "metadata": {},
   "outputs": [
    {
     "name": "stderr",
     "output_type": "stream",
     "text": [
      "/usr/local/lib/python3.6/dist-packages/tensorflow/python/framework/dtypes.py:516: FutureWarning: Passing (type, 1) or '1type' as a synonym of type is deprecated; in a future version of numpy, it will be understood as (type, (1,)) / '(1,)type'.\n",
      "  _np_qint8 = np.dtype([(\"qint8\", np.int8, 1)])\n",
      "/usr/local/lib/python3.6/dist-packages/tensorflow/python/framework/dtypes.py:517: FutureWarning: Passing (type, 1) or '1type' as a synonym of type is deprecated; in a future version of numpy, it will be understood as (type, (1,)) / '(1,)type'.\n",
      "  _np_quint8 = np.dtype([(\"quint8\", np.uint8, 1)])\n",
      "/usr/local/lib/python3.6/dist-packages/tensorflow/python/framework/dtypes.py:518: FutureWarning: Passing (type, 1) or '1type' as a synonym of type is deprecated; in a future version of numpy, it will be understood as (type, (1,)) / '(1,)type'.\n",
      "  _np_qint16 = np.dtype([(\"qint16\", np.int16, 1)])\n",
      "/usr/local/lib/python3.6/dist-packages/tensorflow/python/framework/dtypes.py:519: FutureWarning: Passing (type, 1) or '1type' as a synonym of type is deprecated; in a future version of numpy, it will be understood as (type, (1,)) / '(1,)type'.\n",
      "  _np_quint16 = np.dtype([(\"quint16\", np.uint16, 1)])\n",
      "/usr/local/lib/python3.6/dist-packages/tensorflow/python/framework/dtypes.py:520: FutureWarning: Passing (type, 1) or '1type' as a synonym of type is deprecated; in a future version of numpy, it will be understood as (type, (1,)) / '(1,)type'.\n",
      "  _np_qint32 = np.dtype([(\"qint32\", np.int32, 1)])\n",
      "/usr/local/lib/python3.6/dist-packages/tensorflow/python/framework/dtypes.py:525: FutureWarning: Passing (type, 1) or '1type' as a synonym of type is deprecated; in a future version of numpy, it will be understood as (type, (1,)) / '(1,)type'.\n",
      "  np_resource = np.dtype([(\"resource\", np.ubyte, 1)])\n"
     ]
    },
    {
     "name": "stdout",
     "output_type": "stream",
     "text": [
      "tensorflow-1.14.0\n"
     ]
    },
    {
     "name": "stderr",
     "output_type": "stream",
     "text": [
      "/usr/local/lib/python3.6/dist-packages/tensorboard/compat/tensorflow_stub/dtypes.py:541: FutureWarning: Passing (type, 1) or '1type' as a synonym of type is deprecated; in a future version of numpy, it will be understood as (type, (1,)) / '(1,)type'.\n",
      "  _np_qint8 = np.dtype([(\"qint8\", np.int8, 1)])\n",
      "/usr/local/lib/python3.6/dist-packages/tensorboard/compat/tensorflow_stub/dtypes.py:542: FutureWarning: Passing (type, 1) or '1type' as a synonym of type is deprecated; in a future version of numpy, it will be understood as (type, (1,)) / '(1,)type'.\n",
      "  _np_quint8 = np.dtype([(\"quint8\", np.uint8, 1)])\n",
      "/usr/local/lib/python3.6/dist-packages/tensorboard/compat/tensorflow_stub/dtypes.py:543: FutureWarning: Passing (type, 1) or '1type' as a synonym of type is deprecated; in a future version of numpy, it will be understood as (type, (1,)) / '(1,)type'.\n",
      "  _np_qint16 = np.dtype([(\"qint16\", np.int16, 1)])\n",
      "/usr/local/lib/python3.6/dist-packages/tensorboard/compat/tensorflow_stub/dtypes.py:544: FutureWarning: Passing (type, 1) or '1type' as a synonym of type is deprecated; in a future version of numpy, it will be understood as (type, (1,)) / '(1,)type'.\n",
      "  _np_quint16 = np.dtype([(\"quint16\", np.uint16, 1)])\n",
      "/usr/local/lib/python3.6/dist-packages/tensorboard/compat/tensorflow_stub/dtypes.py:545: FutureWarning: Passing (type, 1) or '1type' as a synonym of type is deprecated; in a future version of numpy, it will be understood as (type, (1,)) / '(1,)type'.\n",
      "  _np_qint32 = np.dtype([(\"qint32\", np.int32, 1)])\n",
      "/usr/local/lib/python3.6/dist-packages/tensorboard/compat/tensorflow_stub/dtypes.py:550: FutureWarning: Passing (type, 1) or '1type' as a synonym of type is deprecated; in a future version of numpy, it will be understood as (type, (1,)) / '(1,)type'.\n",
      "  np_resource = np.dtype([(\"resource\", np.ubyte, 1)])\n"
     ]
    }
   ],
   "source": [
    "# import the needed libraries\n",
    "import tensorflow as tf\n",
    "print(tf.__name__, tf.__version__, sep='-')\n",
    "\n",
    "tf.keras.backend.set_learning_phase(0) # use this if we have batch norm layer in our network"
   ]
  },
  {
   "cell_type": "markdown",
   "metadata": {},
   "source": [
    "## Load keras model"
   ]
  },
  {
   "cell_type": "code",
   "execution_count": 7,
   "metadata": {
    "scrolled": false
   },
   "outputs": [
    {
     "name": "stderr",
     "output_type": "stream",
     "text": [
      "WARNING: Logging before flag parsing goes to stderr.\n",
      "W0903 23:51:20.814502 140542846830400 deprecation.py:506] From /usr/local/lib/python3.6/dist-packages/tensorflow/python/ops/init_ops.py:97: calling VarianceScaling.__init__ (from tensorflow.python.ops.init_ops) with dtype is deprecated and will be removed in a future version.\n",
      "Instructions for updating:\n",
      "Call initializer instance with the dtype argument instead of passing it to the constructor\n",
      "W0903 23:51:20.815482 140542846830400 deprecation.py:506] From /usr/local/lib/python3.6/dist-packages/tensorflow/python/ops/init_ops.py:97: calling Zeros.__init__ (from tensorflow.python.ops.init_ops) with dtype is deprecated and will be removed in a future version.\n",
      "Instructions for updating:\n",
      "Call initializer instance with the dtype argument instead of passing it to the constructor\n",
      "W0903 23:51:20.818374 140542846830400 deprecation.py:506] From /usr/local/lib/python3.6/dist-packages/tensorflow/python/ops/init_ops.py:97: calling Ones.__init__ (from tensorflow.python.ops.init_ops) with dtype is deprecated and will be removed in a future version.\n",
      "Instructions for updating:\n",
      "Call initializer instance with the dtype argument instead of passing it to the constructor\n"
     ]
    },
    {
     "name": "stdout",
     "output_type": "stream",
     "text": [
      "../../../tmp/trt_end_to_end/train/resnet50/001/resnet50_epoch001_2019-09-03T19:31.h5\n"
     ]
    },
    {
     "name": "stderr",
     "output_type": "stream",
     "text": [
      "W0903 23:51:22.833275 140542846830400 deprecation.py:506] From /usr/local/lib/python3.6/dist-packages/tensorflow/python/ops/init_ops.py:97: calling GlorotUniform.__init__ (from tensorflow.python.ops.init_ops) with dtype is deprecated and will be removed in a future version.\n",
      "Instructions for updating:\n",
      "Call initializer instance with the dtype argument instead of passing it to the constructor\n"
     ]
    }
   ],
   "source": [
    "model_filename = H5_FILE_FORMAT % (_NAME, _EPOCH, _TIME)\n",
    "model_filepath = os.path.join(_train_save_to_dir, model_filename)\n",
    "print(model_filepath)\n",
    "\n",
    "keras_model = tf.keras.models.load_model(model_filepath)"
   ]
  },
  {
   "cell_type": "markdown",
   "metadata": {},
   "source": [
    "## Save tensorflow model using `SavedGraphBuilder`"
   ]
  },
  {
   "cell_type": "code",
   "execution_count": 10,
   "metadata": {},
   "outputs": [],
   "source": [
    "saved_graph_dir = get_saved_graph_dir(_NAME, _EPOCH)"
   ]
  },
  {
   "cell_type": "code",
   "execution_count": 11,
   "metadata": {},
   "outputs": [
    {
     "name": "stdout",
     "output_type": "stream",
     "text": [
      "../../../tmp/trt_end_to_end/convert/tf/saved_graph/resnet50/001/saved_model.pb\n",
      "../../../tmp/trt_end_to_end/convert/tf/saved_graph/resnet50/001/variables/variables.data-00000-of-00001\n",
      "../../../tmp/trt_end_to_end/convert/tf/saved_graph/resnet50/001/variables/variables.index\n"
     ]
    }
   ],
   "source": [
    "%%bash\n",
    "\n",
    "CONVERT_TF_SAVED_GRAPH_DIR=../../../tmp/trt_end_to_end/convert/tf/saved_graph\n",
    "mkdir -p ${CONVERT_TF_SAVED_GRAPH_DIR}\n",
    "#rm -f ./${CONVERT_TF_SAVER_DIR}/*\n",
    "find ${CONVERT_TF_SAVED_GRAPH_DIR} -type f | sort"
   ]
  },
  {
   "cell_type": "code",
   "execution_count": 12,
   "metadata": {},
   "outputs": [
    {
     "name": "stderr",
     "output_type": "stream",
     "text": [
      "W0903 23:51:31.835143 140542846830400 deprecation.py:323] From /usr/local/lib/python3.6/dist-packages/tensorflow/python/saved_model/signature_def_utils_impl.py:201: build_tensor_info (from tensorflow.python.saved_model.utils_impl) is deprecated and will be removed in a future version.\n",
      "Instructions for updating:\n",
      "This function will only be available through the v1 compatibility library as tf.compat.v1.saved_model.utils.build_tensor_info or tf.compat.v1.saved_model.build_tensor_info.\n"
     ]
    },
    {
     "name": "stdout",
     "output_type": "stream",
     "text": [
      "Keras model is successfully converted using SavedGraphBuilder to ../../../tmp/trt_end_to_end/convert/tf/saved_graph/resnet50/001\n"
     ]
    }
   ],
   "source": [
    "shutil.rmtree(saved_graph_dir)\n",
    "os.makedirs(saved_graph_dir)\n",
    "\n",
    "builder = tf.saved_model.builder.SavedModelBuilder(saved_graph_dir)\n",
    "\n",
    "# signature = predict_signature_def(inputs = {'input1': model.input[0],\n",
    "#                                         'input2': model.input[1]},\n",
    "#                               outputs = {'output':model.output})\n",
    "signature = tf.saved_model.predict_signature_def(inputs={'input': keras_model.input},\n",
    "                                                 outputs={'output': keras_model.output})\n",
    "\n",
    "with tf.keras.backend.get_session() as sess:\n",
    "    builder.add_meta_graph_and_variables(sess=sess,\n",
    "                                         tags=[tf.saved_model.tag_constants.SERVING],\n",
    "                                         signature_def_map={'predict': signature})\n",
    "    builder.save()\n",
    "    \n",
    "print(\"Keras model is successfully converted using SavedGraphBuilder to\", saved_graph_dir)"
   ]
  },
  {
   "cell_type": "code",
   "execution_count": 13,
   "metadata": {},
   "outputs": [
    {
     "name": "stdout",
     "output_type": "stream",
     "text": [
      "../../../tmp/trt_end_to_end/convert/tf/saved_graph/resnet50/001/saved_model.pb\n",
      "../../../tmp/trt_end_to_end/convert/tf/saved_graph/resnet50/001/variables/variables.data-00000-of-00001\n",
      "../../../tmp/trt_end_to_end/convert/tf/saved_graph/resnet50/001/variables/variables.index\n"
     ]
    }
   ],
   "source": [
    "%%bash\n",
    "\n",
    "CONVERT_TF_SAVED_GRAPH_DIR=../../../tmp/trt_end_to_end/convert/tf/saved_graph\n",
    "find ${CONVERT_TF_SAVED_GRAPH_DIR} -type f | sort"
   ]
  },
  {
   "cell_type": "code",
   "execution_count": null,
   "metadata": {},
   "outputs": [],
   "source": []
  },
  {
   "cell_type": "code",
   "execution_count": null,
   "metadata": {},
   "outputs": [],
   "source": []
  },
  {
   "cell_type": "code",
   "execution_count": null,
   "metadata": {},
   "outputs": [],
   "source": []
  }
 ],
 "metadata": {
  "kernelspec": {
   "display_name": "Python 3",
   "language": "python",
   "name": "python3"
  },
  "language_info": {
   "codemirror_mode": {
    "name": "ipython",
    "version": 3
   },
   "file_extension": ".py",
   "mimetype": "text/x-python",
   "name": "python",
   "nbconvert_exporter": "python",
   "pygments_lexer": "ipython3",
   "version": "3.6.8"
  }
 },
 "nbformat": 4,
 "nbformat_minor": 2
}
