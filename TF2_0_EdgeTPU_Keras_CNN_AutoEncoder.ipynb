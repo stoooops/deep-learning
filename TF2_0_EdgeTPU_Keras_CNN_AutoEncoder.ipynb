{
  "nbformat": 4,
  "nbformat_minor": 0,
  "metadata": {
    "colab": {
      "name": "TF2.0 EdgeTPU Keras CNN AutoEncoder",
      "version": "0.3.2",
      "provenance": [],
      "collapsed_sections": []
    },
    "kernelspec": {
      "name": "python3",
      "display_name": "Python 3"
    },
    "accelerator": "GPU"
  },
  "cells": [
    {
      "cell_type": "code",
      "metadata": {
        "id": "qLXmBB9bQoT7",
        "colab_type": "code",
        "outputId": "f1372a05-94df-4026-d49f-283cd8c3a14e",
        "colab": {
          "base_uri": "https://localhost:8080/",
          "height": 581
        }
      },
      "source": [
        "%%bash\n",
        "\n",
        "# install edgetpu_compiler\n",
        "echo \"deb https://packages.cloud.google.com/apt coral-edgetpu-stable main\" | sudo tee /etc/apt/sources.list.d/coral-edgetpu.list\n",
        "sudo apt-key adv --keyserver keyserver.ubuntu.com --recv-keys 6A030B21BA07F4FB\n",
        "\n",
        "sudo apt update > /dev/null\n",
        "sudo apt install edgetpu > /dev/null\n",
        "\n",
        "# install tensorflow 2.0\n",
        "pip install tensorflow-gpu==2.0-beta1"
      ],
      "execution_count": 0,
      "outputs": [
        {
          "output_type": "stream",
          "text": [
            "deb https://packages.cloud.google.com/apt coral-edgetpu-stable main\n",
            "Executing: /tmp/apt-key-gpghome.xLwbjpgTJz/gpg.1.sh --keyserver keyserver.ubuntu.com --recv-keys 6A030B21BA07F4FB\n",
            "Requirement already satisfied: tensorflow-gpu==2.0-beta1 in /usr/local/lib/python3.6/dist-packages (2.0.0b1)\n",
            "Requirement already satisfied: tf-estimator-nightly<1.14.0.dev2019060502,>=1.14.0.dev2019060501 in /usr/local/lib/python3.6/dist-packages (from tensorflow-gpu==2.0-beta1) (1.14.0.dev2019060501)\n",
            "Requirement already satisfied: wrapt>=1.11.1 in /usr/local/lib/python3.6/dist-packages (from tensorflow-gpu==2.0-beta1) (1.11.1)\n",
            "Requirement already satisfied: protobuf>=3.6.1 in /usr/local/lib/python3.6/dist-packages (from tensorflow-gpu==2.0-beta1) (3.7.1)\n",
            "Requirement already satisfied: six>=1.10.0 in /usr/local/lib/python3.6/dist-packages (from tensorflow-gpu==2.0-beta1) (1.12.0)\n",
            "Requirement already satisfied: keras-applications>=1.0.6 in /usr/local/lib/python3.6/dist-packages (from tensorflow-gpu==2.0-beta1) (1.0.8)\n",
            "Requirement already satisfied: tb-nightly<1.14.0a20190604,>=1.14.0a20190603 in /usr/local/lib/python3.6/dist-packages (from tensorflow-gpu==2.0-beta1) (1.14.0a20190603)\n",
            "Requirement already satisfied: numpy<2.0,>=1.14.5 in /usr/local/lib/python3.6/dist-packages (from tensorflow-gpu==2.0-beta1) (1.16.4)\n",
            "Requirement already satisfied: wheel>=0.26 in /usr/local/lib/python3.6/dist-packages (from tensorflow-gpu==2.0-beta1) (0.33.4)\n",
            "Requirement already satisfied: grpcio>=1.8.6 in /usr/local/lib/python3.6/dist-packages (from tensorflow-gpu==2.0-beta1) (1.15.0)\n",
            "Requirement already satisfied: termcolor>=1.1.0 in /usr/local/lib/python3.6/dist-packages (from tensorflow-gpu==2.0-beta1) (1.1.0)\n",
            "Requirement already satisfied: gast>=0.2.0 in /usr/local/lib/python3.6/dist-packages (from tensorflow-gpu==2.0-beta1) (0.2.2)\n",
            "Requirement already satisfied: absl-py>=0.7.0 in /usr/local/lib/python3.6/dist-packages (from tensorflow-gpu==2.0-beta1) (0.7.1)\n",
            "Requirement already satisfied: keras-preprocessing>=1.0.5 in /usr/local/lib/python3.6/dist-packages (from tensorflow-gpu==2.0-beta1) (1.1.0)\n",
            "Requirement already satisfied: google-pasta>=0.1.6 in /usr/local/lib/python3.6/dist-packages (from tensorflow-gpu==2.0-beta1) (0.1.7)\n",
            "Requirement already satisfied: astor>=0.6.0 in /usr/local/lib/python3.6/dist-packages (from tensorflow-gpu==2.0-beta1) (0.8.0)\n",
            "Requirement already satisfied: setuptools in /usr/local/lib/python3.6/dist-packages (from protobuf>=3.6.1->tensorflow-gpu==2.0-beta1) (41.0.1)\n",
            "Requirement already satisfied: h5py in /usr/local/lib/python3.6/dist-packages (from keras-applications>=1.0.6->tensorflow-gpu==2.0-beta1) (2.8.0)\n",
            "Requirement already satisfied: markdown>=2.6.8 in /usr/local/lib/python3.6/dist-packages (from tb-nightly<1.14.0a20190604,>=1.14.0a20190603->tensorflow-gpu==2.0-beta1) (3.1.1)\n",
            "Requirement already satisfied: werkzeug>=0.11.15 in /usr/local/lib/python3.6/dist-packages (from tb-nightly<1.14.0a20190604,>=1.14.0a20190603->tensorflow-gpu==2.0-beta1) (0.15.4)\n"
          ],
          "name": "stdout"
        },
        {
          "output_type": "stream",
          "text": [
            "Warning: apt-key output should not be parsed (stdout is not a terminal)\n",
            "gpg: key 6A030B21BA07F4FB: \"Google Cloud Packages Automatic Signing Key <gc-team@google.com>\" not changed\n",
            "gpg: Total number processed: 1\n",
            "gpg:              unchanged: 1\n",
            "\n",
            "WARNING: apt does not have a stable CLI interface. Use with caution in scripts.\n",
            "\n",
            "\n",
            "WARNING: apt does not have a stable CLI interface. Use with caution in scripts.\n",
            "\n"
          ],
          "name": "stderr"
        }
      ]
    },
    {
      "cell_type": "markdown",
      "metadata": {
        "id": "NDYJKuhfRoyo",
        "colab_type": "text"
      },
      "source": [
        "## Build CNN AutoEncoder with Keras"
      ]
    },
    {
      "cell_type": "code",
      "metadata": {
        "id": "3aluRnFKRN9y",
        "colab_type": "code",
        "outputId": "d31e52f3-8fd2-452f-cd5a-67a568c3c2fd",
        "colab": {
          "base_uri": "https://localhost:8080/",
          "height": 34
        }
      },
      "source": [
        "%matplotlib inline\n",
        "\n",
        "import logging\n",
        "logging.basicConfig(level=logging.INFO)\n",
        "\n",
        "import tensorflow as tf\n",
        "from tensorflow import keras\n",
        "from tensorflow.keras import models\n",
        "from tensorflow.keras import layers\n",
        "\n",
        "import numpy as np\n",
        "import matplotlib.pyplot as plt\n",
        "\n",
        "\n",
        "print(f'TensorFlow\\'s version: {tf.__version__}')"
      ],
      "execution_count": 0,
      "outputs": [
        {
          "output_type": "stream",
          "text": [
            "TensorFlow's version: 2.0.0-beta1\n"
          ],
          "name": "stdout"
        }
      ]
    },
    {
      "cell_type": "markdown",
      "metadata": {
        "id": "z1TSe-d1m9o4",
        "colab_type": "text"
      },
      "source": [
        "In this notebook we use Fashion MNIST"
      ]
    },
    {
      "cell_type": "code",
      "metadata": {
        "id": "p40JjhzMSU92",
        "colab_type": "code",
        "colab": {}
      },
      "source": [
        "fashion_mnist = keras.datasets.fashion_mnist\n",
        "(train_images, train_labels), (test_images, test_labels) = fashion_mnist.load_data()\n",
        "\n",
        "train_images = train_images / 255.0\n",
        "test_images = test_images / 255.0\n",
        "\n",
        "train_images = train_images[:, :, :, np.newaxis].astype(np.float32)\n",
        "test_images = test_images[:, :, :, np.newaxis].astype(np.float32)"
      ],
      "execution_count": 0,
      "outputs": []
    },
    {
      "cell_type": "markdown",
      "metadata": {
        "id": "vhC7xCG6S-yD",
        "colab_type": "text"
      },
      "source": [
        "Build Model"
      ]
    },
    {
      "cell_type": "code",
      "metadata": {
        "id": "6pIowyx-yB8J",
        "colab_type": "code",
        "colab": {}
      },
      "source": [
        "# UpSampling2D (using nearest neighber) is not supported yet.\n",
        "# We should implement it by myself.\n",
        "def UpSampling2D(scale=(2, 2)):\n",
        "    if isinstance(scale, int):\n",
        "        scale = (scale, scale)\n",
        "\n",
        "    def upsampling(x):\n",
        "        shape = x.shape\n",
        "        x = keras.layers.Concatenate(-2)([x]*scale[0])\n",
        "        x = keras.layers.Reshape([shape[1]*scale[0], shape[2], shape[3]])(x)\n",
        "        x = keras.layers.Concatenate(-1)([x]*scale[1])\n",
        "        x = keras.layers.Reshape([shape[1]*scale[0], shape[2]*scale[1], shape[3]])(x)\n",
        "        return x\n",
        "    \n",
        "    return upsampling"
      ],
      "execution_count": 0,
      "outputs": []
    },
    {
      "cell_type": "code",
      "metadata": {
        "id": "dNuqMwp5f_GX",
        "colab_type": "code",
        "colab": {}
      },
      "source": [
        "def build_keras_model(hidden_size=2):\n",
        "    inputs = layers.Input(shape=(28, 28, 1))\n",
        "    x = layers.Conv2D(16, (3, 3), padding='same')(inputs)\n",
        "    x = layers.BatchNormalization()(x)\n",
        "    x = layers.Activation('relu')(x)\n",
        "    x = layers.MaxPooling2D((2, 2), padding='same')(x)\n",
        "    x = layers.Conv2D(8, (3, 3), padding='same')(x)\n",
        "    x = layers.BatchNormalization()(x)\n",
        "    x = layers.Activation('relu')(x)\n",
        "    x = layers.MaxPooling2D((2, 2), padding='same')(x)\n",
        "    x = layers.Conv2D(8, (3, 3), padding='same')(x)\n",
        "    x = layers.BatchNormalization()(x)\n",
        "    x = layers.Activation('relu')(x)\n",
        "    x = layers.Flatten()(x)\n",
        "    encoded = layers.Dense(hidden_size)(x)\n",
        "    \n",
        "    x = layers.Dense(7*7*8)(encoded)\n",
        "    x = layers.BatchNormalization()(x)\n",
        "    x = layers.Activation('relu')(x)\n",
        "    x = layers.Reshape((7, 7, 8))(x)\n",
        "    x = UpSampling2D()(x)\n",
        "    # x = layers.UpSampling2D(2, interpolation='bilinear')(x)\n",
        "    x = layers.Conv2D(8, (3, 3), padding='same')(x)\n",
        "    x = layers.BatchNormalization()(x)\n",
        "    x = layers.Activation('relu')(x)\n",
        "    x = UpSampling2D()(x)\n",
        "    # x = layers.UpSampling2D(2, interpolation='bilinear')(x)\n",
        "    x = layers.Conv2D(16, (3, 3), padding='same')(x)\n",
        "    x = layers.BatchNormalization()(x)\n",
        "    x = layers.Activation('relu')(x)\n",
        "    decoded = layers.Conv2D(1, (3, 3), activation='sigmoid', padding='same')(x)\n",
        "\n",
        "    model = models.Model(inputs, decoded)\n",
        "    model.compile(optimizer='adam', loss='binary_crossentropy')\n",
        "    \n",
        "    return model"
      ],
      "execution_count": 0,
      "outputs": []
    },
    {
      "cell_type": "code",
      "metadata": {
        "id": "jUuyAcC8ypv6",
        "colab_type": "code",
        "outputId": "11683d0d-1812-4006-8d15-b258287103bb",
        "colab": {
          "base_uri": "https://localhost:8080/",
          "height": 1465
        }
      },
      "source": [
        "model = build_keras_model()\n",
        "model.summary()\n",
        "model.fit(train_images, train_images, epochs=1)\n",
        "model.save('model.h5')"
      ],
      "execution_count": 0,
      "outputs": [
        {
          "output_type": "stream",
          "text": [
            "WARNING: Logging before flag parsing goes to stderr.\n",
            "W0619 03:01:46.640446 140399009306496 deprecation.py:323] From /usr/local/lib/python3.6/dist-packages/tensorflow/python/ops/math_grad.py:1250: add_dispatch_support.<locals>.wrapper (from tensorflow.python.ops.array_ops) is deprecated and will be removed in a future version.\n",
            "Instructions for updating:\n",
            "Use tf.where in 2.0, which has the same broadcast rule as np.where\n"
          ],
          "name": "stderr"
        },
        {
          "output_type": "stream",
          "text": [
            "Model: \"model\"\n",
            "__________________________________________________________________________________________________\n",
            "Layer (type)                    Output Shape         Param #     Connected to                     \n",
            "==================================================================================================\n",
            "input_1 (InputLayer)            [(None, 28, 28, 1)]  0                                            \n",
            "__________________________________________________________________________________________________\n",
            "conv2d (Conv2D)                 (None, 28, 28, 16)   160         input_1[0][0]                    \n",
            "__________________________________________________________________________________________________\n",
            "batch_normalization (BatchNorma (None, 28, 28, 16)   64          conv2d[0][0]                     \n",
            "__________________________________________________________________________________________________\n",
            "activation (Activation)         (None, 28, 28, 16)   0           batch_normalization[0][0]        \n",
            "__________________________________________________________________________________________________\n",
            "max_pooling2d (MaxPooling2D)    (None, 14, 14, 16)   0           activation[0][0]                 \n",
            "__________________________________________________________________________________________________\n",
            "conv2d_1 (Conv2D)               (None, 14, 14, 8)    1160        max_pooling2d[0][0]              \n",
            "__________________________________________________________________________________________________\n",
            "batch_normalization_1 (BatchNor (None, 14, 14, 8)    32          conv2d_1[0][0]                   \n",
            "__________________________________________________________________________________________________\n",
            "activation_1 (Activation)       (None, 14, 14, 8)    0           batch_normalization_1[0][0]      \n",
            "__________________________________________________________________________________________________\n",
            "max_pooling2d_1 (MaxPooling2D)  (None, 7, 7, 8)      0           activation_1[0][0]               \n",
            "__________________________________________________________________________________________________\n",
            "conv2d_2 (Conv2D)               (None, 7, 7, 8)      584         max_pooling2d_1[0][0]            \n",
            "__________________________________________________________________________________________________\n",
            "batch_normalization_2 (BatchNor (None, 7, 7, 8)      32          conv2d_2[0][0]                   \n",
            "__________________________________________________________________________________________________\n",
            "activation_2 (Activation)       (None, 7, 7, 8)      0           batch_normalization_2[0][0]      \n",
            "__________________________________________________________________________________________________\n",
            "flatten (Flatten)               (None, 392)          0           activation_2[0][0]               \n",
            "__________________________________________________________________________________________________\n",
            "dense (Dense)                   (None, 2)            786         flatten[0][0]                    \n",
            "__________________________________________________________________________________________________\n",
            "dense_1 (Dense)                 (None, 392)          1176        dense[0][0]                      \n",
            "__________________________________________________________________________________________________\n",
            "batch_normalization_3 (BatchNor (None, 392)          1568        dense_1[0][0]                    \n",
            "__________________________________________________________________________________________________\n",
            "activation_3 (Activation)       (None, 392)          0           batch_normalization_3[0][0]      \n",
            "__________________________________________________________________________________________________\n",
            "reshape (Reshape)               (None, 7, 7, 8)      0           activation_3[0][0]               \n",
            "__________________________________________________________________________________________________\n",
            "concatenate (Concatenate)       (None, 7, 14, 8)     0           reshape[0][0]                    \n",
            "                                                                 reshape[0][0]                    \n",
            "__________________________________________________________________________________________________\n",
            "reshape_1 (Reshape)             (None, 14, 7, 8)     0           concatenate[0][0]                \n",
            "__________________________________________________________________________________________________\n",
            "concatenate_1 (Concatenate)     (None, 14, 7, 16)    0           reshape_1[0][0]                  \n",
            "                                                                 reshape_1[0][0]                  \n",
            "__________________________________________________________________________________________________\n",
            "reshape_2 (Reshape)             (None, 14, 14, 8)    0           concatenate_1[0][0]              \n",
            "__________________________________________________________________________________________________\n",
            "conv2d_3 (Conv2D)               (None, 14, 14, 8)    584         reshape_2[0][0]                  \n",
            "__________________________________________________________________________________________________\n",
            "batch_normalization_4 (BatchNor (None, 14, 14, 8)    32          conv2d_3[0][0]                   \n",
            "__________________________________________________________________________________________________\n",
            "activation_4 (Activation)       (None, 14, 14, 8)    0           batch_normalization_4[0][0]      \n",
            "__________________________________________________________________________________________________\n",
            "concatenate_2 (Concatenate)     (None, 14, 28, 8)    0           activation_4[0][0]               \n",
            "                                                                 activation_4[0][0]               \n",
            "__________________________________________________________________________________________________\n",
            "reshape_3 (Reshape)             (None, 28, 14, 8)    0           concatenate_2[0][0]              \n",
            "__________________________________________________________________________________________________\n",
            "concatenate_3 (Concatenate)     (None, 28, 14, 16)   0           reshape_3[0][0]                  \n",
            "                                                                 reshape_3[0][0]                  \n",
            "__________________________________________________________________________________________________\n",
            "reshape_4 (Reshape)             (None, 28, 28, 8)    0           concatenate_3[0][0]              \n",
            "__________________________________________________________________________________________________\n",
            "conv2d_4 (Conv2D)               (None, 28, 28, 16)   1168        reshape_4[0][0]                  \n",
            "__________________________________________________________________________________________________\n",
            "batch_normalization_5 (BatchNor (None, 28, 28, 16)   64          conv2d_4[0][0]                   \n",
            "__________________________________________________________________________________________________\n",
            "activation_5 (Activation)       (None, 28, 28, 16)   0           batch_normalization_5[0][0]      \n",
            "__________________________________________________________________________________________________\n",
            "conv2d_5 (Conv2D)               (None, 28, 28, 1)    145         activation_5[0][0]               \n",
            "==================================================================================================\n",
            "Total params: 7,555\n",
            "Trainable params: 6,659\n",
            "Non-trainable params: 896\n",
            "__________________________________________________________________________________________________\n",
            "Train on 60000 samples\n",
            "60000/60000 [==============================] - 25s 421us/sample - loss: 0.3669\n"
          ],
          "name": "stdout"
        }
      ]
    },
    {
      "cell_type": "markdown",
      "metadata": {
        "id": "vTkI6OXfnYxy",
        "colab_type": "text"
      },
      "source": [
        "We need small dataset to calibrate quantization parameters."
      ]
    },
    {
      "cell_type": "code",
      "metadata": {
        "id": "BaalYeDaaPm8",
        "colab_type": "code",
        "outputId": "0eb6fa8a-3a06-4e8e-9899-053ab19e2c30",
        "colab": {
          "base_uri": "https://localhost:8080/",
          "height": 34
        }
      },
      "source": [
        "def representative_dataset_gen():\n",
        "    for i in range(1000):\n",
        "        yield [train_images[i: i + 1]]\n",
        "        \n",
        "\n",
        "# Currentry, it seems that tf.lite.TFLiteConverter does not suppert inference_input/output_type yet.\n",
        "# So we have to use tf.compat.v1.lite.TFLiteConverter.\n",
        "converter = tf.compat.v1.lite.TFLiteConverter.from_keras_model_file('model.h5')\n",
        "converter.representative_dataset = representative_dataset_gen\n",
        "converter.target_spec.supported_ops = [tf.lite.OpsSet.TFLITE_BUILTINS_INT8]\n",
        "converter.inference_input_type = tf.uint8\n",
        "converter.inference_output_type = tf.uint8\n",
        "converter.optimizations = [tf.lite.Optimize.DEFAULT]\n",
        "\n",
        "tflite_model = converter.convert()\n",
        "with open('model.tflite', 'wb') as o_:\n",
        "    o_.write(tflite_model)\n",
        "    \n",
        "    \n",
        "# converter = tf.lite.TFLiteConverter.from_keras_model(model)\n",
        "# converter.optimizations = [tf.lite.Optimize.DEFAULT]\n",
        "# converter.representative_dataset = representative_dataset_gen\n",
        "# converter.target_spec.supported_ops = [tf.lite.OpsSet.TFLITE_BUILTINS_INT8]\n",
        "\n",
        "# tflite_model = converter.convert()\n",
        "\n",
        "# with open('model.tflite', 'wb') as o_:\n",
        "#     o_.write(tflite_model)"
      ],
      "execution_count": 0,
      "outputs": [
        {
          "output_type": "stream",
          "text": [
            "I0619 03:02:16.462525 140399009306496 convert_to_constants.py:238] Converted 40 variables to const ops.\n"
          ],
          "name": "stderr"
        }
      ]
    },
    {
      "cell_type": "markdown",
      "metadata": {
        "id": "56tpcmlBoLNY",
        "colab_type": "text"
      },
      "source": [
        "We can validate the tflite model using tf.lite.Interpreter."
      ]
    },
    {
      "cell_type": "code",
      "metadata": {
        "id": "KRn3RZZLiYMw",
        "colab_type": "code",
        "outputId": "dcd1f738-7ea6-4924-aabd-0fadc831b0b2",
        "colab": {
          "base_uri": "https://localhost:8080/",
          "height": 824
        }
      },
      "source": [
        "interpreter = tf.lite.Interpreter(model_path='model.tflite')\n",
        "interpreter.allocate_tensors()\n",
        "\n",
        "input_detail = interpreter.get_input_details()[0]\n",
        "output_detail = interpreter.get_output_details()[0]\n",
        "\n",
        "def quantize(real_value):\n",
        "    std, mean = input_detail['quantization']\n",
        "    return (real_value/std + mean).astype(np.uint8)\n",
        "\n",
        "sample_input = quantize(test_images[0]).reshape(input_detail['shape'])\n",
        "\n",
        "interpreter.set_tensor(input_detail['index'], sample_input)\n",
        "interpreter.invoke()\n",
        "\n",
        "original_image = test_images[0].reshape((28, 28))\n",
        "pred_original_model = model.predict(test_images[:1]).reshape((28, 28))\n",
        "pred_quantized_model =  interpreter.get_tensor(output_detail['index']).reshape((28, 28))\n",
        "\n",
        "print('original_image:')\n",
        "plt.imshow(original_image)\n",
        "plt.show()\n",
        "print('prediced by original model: ')\n",
        "plt.imshow(model.predict(test_images[:1]).reshape((28, 28)))\n",
        "plt.show()\n",
        "print('predicted by quantized_model')\n",
        "plt.imshow(pred_quantized_model.reshape((28, 28)))\n",
        "plt.show()"
      ],
      "execution_count": 0,
      "outputs": [
        {
          "output_type": "stream",
          "text": [
            "original_image:\n"
          ],
          "name": "stdout"
        },
        {
          "output_type": "display_data",
          "data": {
            "image/png": "[encoded data removed]",
            "text/plain": [
              "<Figure size 432x288 with 1 Axes>"
            ]
          },
          "metadata": {
            "tags": []
          }
        },
        {
          "output_type": "stream",
          "text": [
            "prediced by original model: \n"
          ],
          "name": "stdout"
        },
        {
          "output_type": "display_data",
          "data": {
            "image/png": "[encoded data removed]",
            "text/plain": [
              "<Figure size 432x288 with 1 Axes>"
            ]
          },
          "metadata": {
            "tags": []
          }
        },
        {
          "output_type": "stream",
          "text": [
            "predicted by quantized_model\n"
          ],
          "name": "stdout"
        },
        {
          "output_type": "display_data",
          "data": {
            "image/png": "[encoded data removed]",
            "text/plain": [
              "<Figure size 432x288 with 1 Axes>"
            ]
          },
          "metadata": {
            "tags": []
          }
        }
      ]
    },
    {
      "cell_type": "code",
      "metadata": {
        "id": "GmSX6C6RxAZh",
        "colab_type": "code",
        "outputId": "0db157eb-19f9-48b5-eaa4-88cae4d3ed62",
        "colab": {
          "base_uri": "https://localhost:8080/",
          "height": 459
        }
      },
      "source": [
        "%%bash\n",
        "\n",
        "edgetpu_compiler --show_operations 'model.tflite'"
      ],
      "execution_count": 0,
      "outputs": [
        {
          "output_type": "stream",
          "text": [
            "Edge TPU Compiler version 1.0.249710469\n",
            "\n",
            "Model compiled successfully in 89 ms.\n",
            "\n",
            "Input model: model.tflite\n",
            "Input size: 15.63KiB\n",
            "Output model: model_edgetpu.tflite\n",
            "Output size: 132.55KiB\n",
            "On-chip memory available for caching model parameters: 7.82MiB\n",
            "On-chip memory used for caching model parameters: 57.50KiB\n",
            "Off-chip memory used for streaming uncached model parameters: 0.00B\n",
            "Number of Edge TPU subgraphs: 1\n",
            "Total number of operations: 22\n",
            "Operation log: model_edgetpu.log\n",
            "\n",
            "Operator                       Count      Status\n",
            "\n",
            "CONCATENATION                  4          Mapped to Edge TPU\n",
            "QUANTIZE                       2          Mapped to Edge TPU\n",
            "CONV_2D                        5          Mapped to Edge TPU\n",
            "DEPTHWISE_CONV_2D              1          Mapped to Edge TPU\n",
            "RESHAPE                        5          Mapped to Edge TPU\n",
            "FULLY_CONNECTED                2          Mapped to Edge TPU\n",
            "LOGISTIC                       1          Mapped to Edge TPU\n",
            "MAX_POOL_2D                    2          Mapped to Edge TPU\n"
          ],
          "name": "stdout"
        },
        {
          "output_type": "stream",
          "text": [
            "INFO: Initialized TensorFlow Lite runtime.\n"
          ],
          "name": "stderr"
        }
      ]
    },
    {
      "cell_type": "code",
      "metadata": {
        "id": "ygUHjCLOz41Q",
        "colab_type": "code",
        "colab": {}
      },
      "source": [
        "from google.colab import files\n",
        "\n",
        "files.download('model_edgetpu.tflite')"
      ],
      "execution_count": 0,
      "outputs": []
    },
    {
      "cell_type": "code",
      "metadata": {
        "id": "Nlq_cUMJkuSC",
        "colab_type": "code",
        "colab": {}
      },
      "source": [
        ""
      ],
      "execution_count": 0,
      "outputs": []
    }
  ]
}